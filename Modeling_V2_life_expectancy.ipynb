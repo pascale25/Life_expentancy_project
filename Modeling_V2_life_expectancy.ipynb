{
 "cells": [
  {
   "cell_type": "markdown",
   "id": "8a3264bb",
   "metadata": {},
   "source": [
    "### Factors Driving Life Expectancy : Do immunization matters?"
   ]
  },
  {
   "cell_type": "code",
   "execution_count": null,
   "id": "bb2397b6",
   "metadata": {},
   "outputs": [],
   "source": []
  },
  {
   "cell_type": "code",
   "execution_count": 2,
   "id": "f8f5375e",
   "metadata": {},
   "outputs": [],
   "source": [
    "import pandas as pd\n",
    "import numpy as np\n",
    "import matplotlib.pyplot as plt\n",
    "import seaborn as sns\n",
    "\n",
    "from sklearn.decomposition import PCA\n",
    "from sklearn.preprocessing import StandardScaler\n",
    "from sklearn.impute import SimpleImputer\n",
    "#MICE performe multiple regression for imputing / it is a very robost model for imputation\n",
    "from fancyimpute import IterativeImputer\n",
    "from sklearn.pipeline import make_pipeline\n",
    "from sklearn.feature_selection import SelectKBest,  f_regression\n",
    "from sklearn.model_selection import cross_val_score\n",
    "from sklearn.model_selection import train_test_split, cross_validate, GridSearchCV, learning_curve\n",
    "from sklearn.linear_model import LinearRegression\n",
    "from sklearn.linear_model import Lasso\n",
    "from sklearn.linear_model import Ridge\n",
    "from sklearn.linear_model import ElasticNet\n",
    "from sklearn.linear_model import LassoCV\n",
    "from sklearn.model_selection import GridSearchCV\n",
    "from sklearn.model_selection import RandomizedSearchCV\n",
    "from sklearn import metrics\n",
    "from sklearn.metrics import mean_squared_error\n",
    "from sklearn.tree import DecisionTreeRegressor\n",
    "from sklearn.ensemble import GradientBoostingRegressor\n",
    "from sklearn.ensemble import RandomForestRegressor\n",
    "from sklearn.ensemble import AdaBoostRegressor\n",
    "from sklearn.ensemble import VotingRegressor\n",
    "from sklearn.svm import SVR\n",
    "import xgboost as xgb\n",
    "\n",
    "import os\n",
    "\n",
    "from library.sb_utils import save_file"
   ]
  },
  {
   "cell_type": "code",
   "execution_count": 3,
   "id": "20e277e6",
   "metadata": {},
   "outputs": [],
   "source": [
    "sns.set()\n",
    "sns.set_context(\"notebook\")"
   ]
  },
  {
   "cell_type": "markdown",
   "id": "c6f5c500",
   "metadata": {},
   "source": [
    "### Import dataset "
   ]
  },
  {
   "cell_type": "code",
   "execution_count": 4,
   "id": "dc057299",
   "metadata": {},
   "outputs": [],
   "source": [
    "df1 = pd.read_csv(\"../data/life_exp_clean.csv\")"
   ]
  },
  {
   "cell_type": "code",
   "execution_count": 5,
   "id": "0ffe5d6a",
   "metadata": {},
   "outputs": [],
   "source": [
    "# convert Year to datetime object \n",
    "df1.Year = pd.to_datetime(df1.Year, format='%Y-%d-%m')\n",
    "df1['year']=df1['Year'].dt.year"
   ]
  },
  {
   "cell_type": "markdown",
   "id": "65485e62",
   "metadata": {},
   "source": [
    "### Label Encoder categerical variable"
   ]
  },
  {
   "cell_type": "code",
   "execution_count": 6,
   "id": "a8af005d",
   "metadata": {},
   "outputs": [],
   "source": [
    "# copy the data\n",
    "df = df1.copy(deep=True)"
   ]
  },
  {
   "cell_type": "code",
   "execution_count": 7,
   "id": "d45116e0",
   "metadata": {},
   "outputs": [],
   "source": [
    "df = df.drop(columns='Country')"
   ]
  },
  {
   "cell_type": "code",
   "execution_count": 8,
   "id": "ca1c9871",
   "metadata": {},
   "outputs": [],
   "source": [
    "# one hot_encoder\n",
    "df = pd.get_dummies(df)\n",
    "df.insert(0,'Country', df1['Country'], allow_duplicates=True)"
   ]
  },
  {
   "cell_type": "code",
   "execution_count": 9,
   "id": "19088c5c",
   "metadata": {},
   "outputs": [
    {
     "data": {
      "text/plain": [
       "Index(['Country', 'Year', 'Life_expectancy', 'Adult_Mortality',\n",
       "       'infant_deaths', 'Alcohol', 'percentage_expenditure', 'Hepatitis_B',\n",
       "       'Measles', 'BMI', 'under_five_deaths', 'Polio', 'Total_expenditure',\n",
       "       'Diphtheria', 'HIV/AIDS', 'GDP', 'Population', 'thinness__1_19_years',\n",
       "       'thinness_5_9_years', 'Income_composition_of_resources', 'Schooling',\n",
       "       'year', 'population', 'Status_Developed', 'Status_Developing'],\n",
       "      dtype='object')"
      ]
     },
     "execution_count": 9,
     "metadata": {},
     "output_type": "execute_result"
    }
   ],
   "source": [
    "df.columns"
   ]
  },
  {
   "cell_type": "code",
   "execution_count": 10,
   "id": "f2485243",
   "metadata": {},
   "outputs": [],
   "source": [
    "columns = ['Country', 'Year', 'Adult_Mortality',\n",
    "       'infant_deaths', 'Alcohol', 'percentage_expenditure', 'Hepatitis_B',\n",
    "       'Measles', 'BMI', 'under_five_deaths', 'Polio', 'Total_expenditure',\n",
    "       'Diphtheria', 'HIV/AIDS', 'GDP', 'Population', 'thinness__1_19_years',\n",
    "       'thinness_5_9_years', 'Income_composition_of_resources', 'Schooling',\n",
    "       'year', 'Status_Developed', 'Status_Developing']\n",
    "# define X and y\n",
    "X = df[columns]\n",
    "y = df[['Life_expectancy']]"
   ]
  },
  {
   "cell_type": "code",
   "execution_count": 11,
   "id": "b70945d7",
   "metadata": {},
   "outputs": [],
   "source": [
    "# split the dataset     \n",
    "X_train, X_test, y_train, y_test = train_test_split(X, y, test_size=0.2, random_state=47)"
   ]
  },
  {
   "cell_type": "code",
   "execution_count": 12,
   "id": "4598d8d4",
   "metadata": {},
   "outputs": [
    {
     "name": "stderr",
     "output_type": "stream",
     "text": [
      "C:\\Users\\HP\\anaconda3\\lib\\site-packages\\pandas\\core\\frame.py:4906: SettingWithCopyWarning: \n",
      "A value is trying to be set on a copy of a slice from a DataFrame\n",
      "\n",
      "See the caveats in the documentation: https://pandas.pydata.org/pandas-docs/stable/user_guide/indexing.html#returning-a-view-versus-a-copy\n",
      "  return super().drop(\n"
     ]
    },
    {
     "data": {
      "text/plain": [
       "((2342, 20), (586, 20))"
      ]
     },
     "execution_count": 12,
     "metadata": {},
     "output_type": "execute_result"
    }
   ],
   "source": [
    "# save name\n",
    "names_list = ['Country','Year', 'year']\n",
    "names_train = X_train[names_list]\n",
    "names_test = X_test[names_list]\n",
    "X_train.drop(columns=names_list, inplace=True)\n",
    "X_test.drop(columns=names_list, inplace=True)\n",
    "X_train.shape, X_test.shape"
   ]
  },
  {
   "cell_type": "code",
   "execution_count": 13,
   "id": "d3f221b2",
   "metadata": {},
   "outputs": [],
   "source": [
    "# traitement of missing data with MICE Imputation\n",
    "mice_imputer = IterativeImputer()\n",
    "X_train_imput = mice_imputer.fit_transform(X_train)\n",
    "X_test_imput = mice_imputer.fit_transform(X_test)"
   ]
  },
  {
   "cell_type": "code",
   "execution_count": 14,
   "id": "f2a9aca0",
   "metadata": {},
   "outputs": [],
   "source": [
    "# scale the date\n",
    "scaler = StandardScaler()\n",
    "X_train_imput_scale = scaler.fit_transform(X_train_imput)\n",
    "X_test_imput_scale = scaler.fit_transform(X_test_imput)"
   ]
  },
  {
   "cell_type": "code",
   "execution_count": 15,
   "id": "d5595d77",
   "metadata": {},
   "outputs": [],
   "source": [
    "# dimentionnality reduction\n",
    "pca = PCA()\n",
    "X_train_pca = pca.fit(X_train_imput_scale)"
   ]
  },
  {
   "cell_type": "code",
   "execution_count": 16,
   "id": "591ec073",
   "metadata": {},
   "outputs": [],
   "source": [
    "X_train_pcat = pca.transform(X_train_imput_scale)"
   ]
  },
  {
   "cell_type": "code",
   "execution_count": null,
   "id": "559ff9b0",
   "metadata": {},
   "outputs": [],
   "source": []
  },
  {
   "cell_type": "markdown",
   "id": "1a10ed64",
   "metadata": {},
   "source": [
    "###  Modeling\n"
   ]
  },
  {
   "cell_type": "markdown",
   "id": "bcc460c6-6ed1-496c-943b-3e75051fb5f8",
   "metadata": {},
   "source": [
    "##### Function to evaluate the model"
   ]
  },
  {
   "cell_type": "code",
   "execution_count": 17,
   "id": "992a4677",
   "metadata": {},
   "outputs": [],
   "source": [
    "def model_eval(true, predicted):  \n",
    "    mae = metrics.mean_absolute_error(true, predicted)\n",
    "    mse = metrics.mean_squared_error(true, predicted)\n",
    "    rmse = np.sqrt(metrics.mean_squared_error(true, predicted))\n",
    "    r2_square = metrics.r2_score(true, predicted)\n",
    "    print('MAE:', mae)\n",
    "    print('MSE:', mse)\n",
    "    print('RMSE:', rmse)\n",
    "    print('R2 Square', r2_square)\n",
    "    print('__________________________________')"
   ]
  },
  {
   "cell_type": "markdown",
   "id": "a45d6a01",
   "metadata": {},
   "source": [
    "### 1. Model linear_regression "
   ]
  },
  {
   "cell_type": "code",
   "execution_count": 18,
   "id": "7ea801c0",
   "metadata": {},
   "outputs": [],
   "source": [
    "pipe = make_pipeline(\n",
    "    IterativeImputer(), \n",
    "    StandardScaler(),\n",
    "    SelectKBest(f_regression),\n",
    "    LinearRegression()\n",
    ")"
   ]
  },
  {
   "cell_type": "code",
   "execution_count": 19,
   "id": "9bc09f2e",
   "metadata": {},
   "outputs": [],
   "source": [
    "# define the k range to investigate\n",
    "k = [k+1 for k in range(len(X_train.columns))]\n",
    "grid_params = {'selectkbest__k': k}"
   ]
  },
  {
   "cell_type": "code",
   "execution_count": 20,
   "id": "c14162b6",
   "metadata": {},
   "outputs": [],
   "source": [
    "reg_grid_cv = GridSearchCV(pipe, param_grid=grid_params, cv=10, n_jobs=-1)"
   ]
  },
  {
   "cell_type": "code",
   "execution_count": 21,
   "id": "f83a019e",
   "metadata": {},
   "outputs": [
    {
     "name": "stderr",
     "output_type": "stream",
     "text": [
      "C:\\Users\\HP\\anaconda3\\lib\\site-packages\\sklearn\\utils\\validation.py:63: DataConversionWarning: A column-vector y was passed when a 1d array was expected. Please change the shape of y to (n_samples, ), for example using ravel().\n",
      "  return f(*args, **kwargs)\n"
     ]
    },
    {
     "data": {
      "text/plain": [
       "GridSearchCV(cv=10,\n",
       "             estimator=Pipeline(steps=[('iterativeimputer', IterativeImputer()),\n",
       "                                       ('standardscaler', StandardScaler()),\n",
       "                                       ('selectkbest',\n",
       "                                        SelectKBest(score_func=<function f_regression at 0x000001CF362A1550>)),\n",
       "                                       ('linearregression',\n",
       "                                        LinearRegression())]),\n",
       "             n_jobs=-1,\n",
       "             param_grid={'selectkbest__k': [1, 2, 3, 4, 5, 6, 7, 8, 9, 10, 11,\n",
       "                                            12, 13, 14, 15, 16, 17, 18, 19,\n",
       "                                            20]})"
      ]
     },
     "execution_count": 21,
     "metadata": {},
     "output_type": "execute_result"
    }
   ],
   "source": [
    "reg_grid_cv.fit(X_train, y_train)"
   ]
  },
  {
   "cell_type": "code",
   "execution_count": 22,
   "id": "35c0531f",
   "metadata": {},
   "outputs": [
    {
     "data": {
      "text/plain": [
       "{'selectkbest__k': 19}"
      ]
     },
     "execution_count": 22,
     "metadata": {},
     "output_type": "execute_result"
    }
   ],
   "source": [
    "#Print the `best_params_` attribute of 'red_grid_cv`\n",
    "reg_grid_cv.best_params_"
   ]
  },
  {
   "cell_type": "code",
   "execution_count": 23,
   "id": "863aa4eb",
   "metadata": {},
   "outputs": [],
   "source": [
    "score_mean = reg_grid_cv.cv_results_['mean_test_score']\n",
    "score_std = reg_grid_cv.cv_results_['std_test_score']\n",
    "cv_k = [k for k in reg_grid_cv.cv_results_['param_selectkbest__k']]\n",
    "best_k = reg_grid_cv.best_params_['selectkbest__k']"
   ]
  },
  {
   "cell_type": "code",
   "execution_count": 24,
   "id": "fde74549",
   "metadata": {},
   "outputs": [
    {
     "data": {
      "image/png": "[encoded data removed]",
      "text/plain": [
       "<Figure size 720x360 with 1 Axes>"
      ]
     },
     "metadata": {},
     "output_type": "display_data"
    }
   ],
   "source": [
    "best_k = reg_grid_cv.best_params_['selectkbest__k']\n",
    "plt.subplots(figsize=(10, 5))\n",
    "plt.errorbar(cv_k, score_mean, yerr=score_std)\n",
    "plt.axvline(x=best_k, c='r', ls='--', alpha=.5)\n",
    "plt.xlabel('k')\n",
    "plt.ylabel('CV score (r-squared)')\n",
    "plt.title('Pipeline mean CV score (error bars +/- 1sd)');"
   ]
  },
  {
   "cell_type": "markdown",
   "id": "348ae2e3",
   "metadata": {},
   "source": [
    "The above suggests a good value for k is 19"
   ]
  },
  {
   "cell_type": "code",
   "execution_count": 25,
   "id": "e5aaf2b1",
   "metadata": {},
   "outputs": [
    {
     "data": {
      "text/plain": [
       "array([ True,  True,  True,  True,  True,  True,  True,  True,  True,\n",
       "        True,  True,  True,  True, False,  True,  True,  True,  True,\n",
       "        True,  True])"
      ]
     },
     "execution_count": 25,
     "metadata": {},
     "output_type": "execute_result"
    }
   ],
   "source": [
    "# mask to select the most useful features \n",
    "selected_features= reg_grid_cv.best_estimator_.named_steps.selectkbest.get_support()\n",
    "selected_features"
   ]
  },
  {
   "cell_type": "code",
   "execution_count": 26,
   "id": "52877e38",
   "metadata": {},
   "outputs": [
    {
     "data": {
      "text/plain": [
       "Income_composition_of_resources    7.494087\n",
       "infant_deaths                      5.843963\n",
       "percentage_expenditure             1.098906\n",
       "Total_expenditure                  0.581314\n",
       "Diphtheria                         0.294017\n",
       "Polio                              0.271401\n",
       "Status_Developed                   0.097650\n",
       "Hepatitis_B                        0.077650\n",
       "thinness__1_19_years               0.048061\n",
       "Measles                           -0.050839\n",
       "BMI                               -0.090439\n",
       "thinness_5_9_years                -0.090793\n",
       "Status_Developing                 -0.097650\n",
       "Alcohol                           -0.585913\n",
       "Schooling                         -1.045386\n",
       "GDP                               -1.083616\n",
       "Adult_Mortality                   -1.566916\n",
       "HIV/AIDS                          -1.899545\n",
       "under_five_deaths                 -6.034938\n",
       "dtype: float64"
      ]
     },
     "execution_count": 26,
     "metadata": {},
     "output_type": "execute_result"
    }
   ],
   "source": [
    "coefs = reg_grid_cv.best_estimator_.named_steps.linearregression.coef_[0]\n",
    "features = X_train.columns[selected_features]\n",
    "pd.Series(coefs, index=features).sort_values(ascending=False)"
   ]
  },
  {
   "cell_type": "markdown",
   "id": "9a603f78",
   "metadata": {},
   "source": [
    "#### Note:\n",
    "From this result, the best positive features here are Income_composition_of_resources , followed by infant_deaths. \n",
    "\n",
    "Features which negatively influence life expectancy are under_five_deaths of children (the most important) , next it is HIV/AIDS and Adult_Mortality.\n",
    "\n",
    "We realise that immunization factors are also present among the positive features (come in 6th , 7th and 8th positions) even if their strength is not high as compared to the first features. \n",
    "\n",
    "It is also important to highlight the fact that the feature: status of the country (either developed or developing) has an impact on the model. \n",
    "May, it would be great to expect if a dataset with only developing countries would highlight the importance of immunization as we explore in the EDA.\n"
   ]
  },
  {
   "cell_type": "code",
   "execution_count": 27,
   "id": "f486bf48",
   "metadata": {},
   "outputs": [
    {
     "data": {
      "text/plain": [
       "Pipeline(steps=[('iterativeimputer', IterativeImputer()),\n",
       "                ('standardscaler', StandardScaler()),\n",
       "                ('selectkbest',\n",
       "                 SelectKBest(k=19,\n",
       "                             score_func=<function f_regression at 0x000001CF362A1550>)),\n",
       "                ('linearregression', LinearRegression())])"
      ]
     },
     "execution_count": 27,
     "metadata": {},
     "output_type": "execute_result"
    }
   ],
   "source": [
    "reg_grid_cv.best_estimator_"
   ]
  },
  {
   "cell_type": "code",
   "execution_count": 28,
   "id": "54955d13-35d4-48d8-b90e-70ac78e2b56c",
   "metadata": {},
   "outputs": [],
   "source": [
    "lin_reg = reg_grid_cv.best_estimator_"
   ]
  },
  {
   "cell_type": "code",
   "execution_count": 29,
   "id": "10d64c80-096d-4949-be0c-12ebc8517684",
   "metadata": {},
   "outputs": [],
   "source": [
    "#lin_reg.get_params()"
   ]
  },
  {
   "cell_type": "code",
   "execution_count": 30,
   "id": "ae07fa56",
   "metadata": {},
   "outputs": [],
   "source": [
    "#### a suprimer \n",
    "pipe2 = make_pipeline(\n",
    "    IterativeImputer(), \n",
    "    StandardScaler(),\n",
    "    SelectKBest(f_regression, k=19),\n",
    "    LinearRegression())"
   ]
  },
  {
   "cell_type": "markdown",
   "id": "a41a65e6",
   "metadata": {},
   "source": [
    "#### Assess performance on train and test data"
   ]
  },
  {
   "cell_type": "code",
   "execution_count": 31,
   "id": "25535729",
   "metadata": {},
   "outputs": [
    {
     "name": "stdout",
     "output_type": "stream",
     "text": [
      "MAE: 2.465613032612806\n",
      "MSE: 11.791841090808283\n",
      "RMSE: 3.4339250269637924\n",
      "R2 Square 0.8681868881712305\n",
      "__________________________________\n",
      "MAE: 2.422440641833822\n",
      "MSE: 10.751017484476902\n",
      "RMSE: 3.278874423407658\n",
      "R2 Square 0.8817694049560904\n",
      "__________________________________\n"
     ]
    }
   ],
   "source": [
    "predicted_train = lin_reg.predict(X_train)\n",
    "predicted_test = lin_reg.predict(X_test)\n",
    "model_eval(y_test, predicted_test)\n",
    "model_eval(y_train, predicted_train)"
   ]
  },
  {
   "cell_type": "markdown",
   "id": "d990dd98",
   "metadata": {},
   "source": [
    "#### Assessing performance using cross-validation"
   ]
  },
  {
   "cell_type": "code",
   "execution_count": 32,
   "id": "f36165f9",
   "metadata": {},
   "outputs": [
    {
     "name": "stderr",
     "output_type": "stream",
     "text": [
      "C:\\Users\\HP\\anaconda3\\lib\\site-packages\\sklearn\\utils\\validation.py:63: DataConversionWarning: A column-vector y was passed when a 1d array was expected. Please change the shape of y to (n_samples, ), for example using ravel().\n",
      "  return f(*args, **kwargs)\n",
      "C:\\Users\\HP\\anaconda3\\lib\\site-packages\\sklearn\\utils\\validation.py:63: DataConversionWarning: A column-vector y was passed when a 1d array was expected. Please change the shape of y to (n_samples, ), for example using ravel().\n",
      "  return f(*args, **kwargs)\n",
      "C:\\Users\\HP\\anaconda3\\lib\\site-packages\\sklearn\\utils\\validation.py:63: DataConversionWarning: A column-vector y was passed when a 1d array was expected. Please change the shape of y to (n_samples, ), for example using ravel().\n",
      "  return f(*args, **kwargs)\n",
      "C:\\Users\\HP\\anaconda3\\lib\\site-packages\\sklearn\\utils\\validation.py:63: DataConversionWarning: A column-vector y was passed when a 1d array was expected. Please change the shape of y to (n_samples, ), for example using ravel().\n",
      "  return f(*args, **kwargs)\n",
      "C:\\Users\\HP\\anaconda3\\lib\\site-packages\\sklearn\\utils\\validation.py:63: DataConversionWarning: A column-vector y was passed when a 1d array was expected. Please change the shape of y to (n_samples, ), for example using ravel().\n",
      "  return f(*args, **kwargs)\n"
     ]
    }
   ],
   "source": [
    "cv_results = cross_validate(reg_grid_cv.best_estimator_, X_train, y_train, cv=5)"
   ]
  },
  {
   "cell_type": "code",
   "execution_count": 33,
   "id": "7a9aaafe",
   "metadata": {},
   "outputs": [
    {
     "data": {
      "text/plain": [
       "(0.8796441263228804, 0.012124405235131887)"
      ]
     },
     "execution_count": 33,
     "metadata": {},
     "output_type": "execute_result"
    }
   ],
   "source": [
    "cv_scores = cv_results['test_score']\n",
    "np.mean(cv_scores), np.std(cv_scores)"
   ]
  },
  {
   "cell_type": "code",
   "execution_count": null,
   "id": "ce70deef",
   "metadata": {},
   "outputs": [],
   "source": []
  },
  {
   "cell_type": "markdown",
   "id": "28dec8ae",
   "metadata": {},
   "source": [
    "### 2. Model linear regression with PCA"
   ]
  },
  {
   "cell_type": "code",
   "execution_count": 34,
   "id": "21ec9d8b",
   "metadata": {},
   "outputs": [],
   "source": [
    "pipe3 = make_pipeline(\n",
    "    IterativeImputer(), \n",
    "    StandardScaler(),\n",
    "    PCA(n_components=19),\n",
    "    LinearRegression())"
   ]
  },
  {
   "cell_type": "code",
   "execution_count": 35,
   "id": "526910d2",
   "metadata": {},
   "outputs": [],
   "source": [
    "lin_reg2 = pipe3.fit(X_train, y_train)"
   ]
  },
  {
   "cell_type": "code",
   "execution_count": 36,
   "id": "5a9fb376-5636-4c4f-83d8-efd62591b8c3",
   "metadata": {},
   "outputs": [],
   "source": [
    "#lin_reg2.get_params()"
   ]
  },
  {
   "cell_type": "markdown",
   "id": "91d8a408",
   "metadata": {},
   "source": [
    "#### Model Evaluation"
   ]
  },
  {
   "cell_type": "code",
   "execution_count": 37,
   "id": "042c5241",
   "metadata": {},
   "outputs": [
    {
     "name": "stdout",
     "output_type": "stream",
     "text": [
      "MAE: 2.4646197667876497\n",
      "MSE: 11.782041384887318\n",
      "RMSE: 3.432497834651512\n",
      "R2 Square 0.8682964325352108\n",
      "__________________________________\n",
      "MAE: 2.42219185750846\n",
      "MSE: 10.749188467196356\n",
      "RMSE: 3.2785955022229194\n",
      "R2 Square 0.881789518940812\n",
      "__________________________________\n"
     ]
    }
   ],
   "source": [
    "predicted_train = lin_reg2.predict(X_train)\n",
    "predicted_test = lin_reg2.predict(X_test)\n",
    "model_eval(y_test, predicted_test)\n",
    "model_eval(y_train, predicted_train)"
   ]
  },
  {
   "cell_type": "code",
   "execution_count": null,
   "id": "3d78b457-2637-449f-9e86-8095a7c411f2",
   "metadata": {},
   "outputs": [],
   "source": []
  },
  {
   "cell_type": "markdown",
   "id": "9ffba60c",
   "metadata": {},
   "source": [
    "### 3. Model: Ridge regression "
   ]
  },
  {
   "cell_type": "code",
   "execution_count": 38,
   "id": "86a4d173",
   "metadata": {},
   "outputs": [],
   "source": [
    "###select the best value of alpha"
   ]
  },
  {
   "cell_type": "code",
   "execution_count": 39,
   "id": "b8ece706",
   "metadata": {
    "scrolled": true
   },
   "outputs": [
    {
     "name": "stdout",
     "output_type": "stream",
     "text": [
      "cross-validated scores of ridge regression for alpha 1e-05 is : 0.8783486661081282\n",
      "cross-validated scores of ridge regression for alpha 0.0001 is : 0.8783486661081282\n",
      "cross-validated scores of ridge regression for alpha 0.001 is : 0.8783486661081282\n",
      "cross-validated scores of ridge regression for alpha 0.01 is : 0.8783486661081282\n",
      "cross-validated scores of ridge regression for alpha 0.1 is : 0.8783486661081282\n",
      "cross-validated scores of ridge regression for alpha 0.0 is : 0.8783486661081282\n",
      "cross-validated scores of ridge regression for alpha 1.0 is : 0.8783486661081282\n",
      "cross-validated scores of ridge regression for alpha 10.0 is : 0.8783486661081282\n",
      "cross-validated scores of ridge regression for alpha 20.0 is : 0.8783486661081282\n",
      "cross-validated scores of ridge regression for alpha 40.0 is : 0.8783486661081282\n",
      "cross-validated scores of ridge regression for alpha 60.0 is : 0.8783486661081282\n",
      "cross-validated scores of ridge regression for alpha 80.0 is : 0.8783486661081282\n",
      "cross-validated scores of ridge regression for alpha 100.0 is : 0.8783486661081282\n"
     ]
    }
   ],
   "source": [
    "# Perform 5-fold cross-validation: ridge_cv\n",
    "alpha = [1e-5, 1e-4, 1e-3, 1e-2, 1e-1, 0.0, 1.0, 10.0, 20.0, 40.0, 60.0, 80.0 ,100.0]\n",
    "for x in alpha:\n",
    "    ridge = Ridge(alpha=10)\n",
    "    ridge_cv = cross_val_score(ridge, X_train_imput_scale, y_train, cv=10, n_jobs=-1)\n",
    "    print( 'cross-validated scores of ridge regression for alpha', x ,'is :', np.mean(ridge_cv))"
   ]
  },
  {
   "cell_type": "markdown",
   "id": "8f2e3f61",
   "metadata": {},
   "source": [
    "##### use of GridSearchCV (it doesn't work ????)"
   ]
  },
  {
   "cell_type": "code",
   "execution_count": 40,
   "id": "f16111ce",
   "metadata": {},
   "outputs": [
    {
     "data": {
      "text/plain": [
       "{'alpha': [1e-05,\n",
       "  0.0001,\n",
       "  0.001,\n",
       "  0.01,\n",
       "  0.1,\n",
       "  0.0,\n",
       "  1.0,\n",
       "  10.0,\n",
       "  20.0,\n",
       "  40.0,\n",
       "  60.0,\n",
       "  80.0,\n",
       "  100.0]}"
      ]
     },
     "execution_count": 40,
     "metadata": {},
     "output_type": "execute_result"
    }
   ],
   "source": [
    "grid = dict()\n",
    "grid['alpha'] = [1e-5, 1e-4, 1e-3, 1e-2, 1e-1, 0.0, 1.0, 10.0, 20.0, 40.0, 60.0, 80.0 ,100.0]\n",
    "grid"
   ]
  },
  {
   "cell_type": "code",
   "execution_count": 41,
   "id": "3d93d037",
   "metadata": {},
   "outputs": [],
   "source": [
    "pipe4 = make_pipeline(\n",
    "    IterativeImputer(), \n",
    "    StandardScaler(),\n",
    "    Ridge())"
   ]
  },
  {
   "cell_type": "code",
   "execution_count": 42,
   "id": "4a16a794",
   "metadata": {},
   "outputs": [],
   "source": [
    "ridge_grid_cv = GridSearchCV(pipe4, grid, cv=10, n_jobs=-1)"
   ]
  },
  {
   "cell_type": "code",
   "execution_count": 43,
   "id": "ce814c65",
   "metadata": {},
   "outputs": [],
   "source": [
    "# not working , why?????\n",
    "#ridge_grid_cv.fit(X_train, y_train)"
   ]
  },
  {
   "cell_type": "code",
   "execution_count": 44,
   "id": "a0f29715",
   "metadata": {},
   "outputs": [],
   "source": [
    "#ridge_grid_cv.best_params_"
   ]
  },
  {
   "cell_type": "markdown",
   "id": "a6d00724",
   "metadata": {},
   "source": [
    "#####  Model: Ridge regression "
   ]
  },
  {
   "cell_type": "code",
   "execution_count": 45,
   "id": "45b04970",
   "metadata": {},
   "outputs": [],
   "source": [
    "pipe5 = make_pipeline(\n",
    "    IterativeImputer(), \n",
    "    StandardScaler(),\n",
    "    Ridge(alpha=0.5))"
   ]
  },
  {
   "cell_type": "code",
   "execution_count": 46,
   "id": "b52b5767",
   "metadata": {},
   "outputs": [],
   "source": [
    "ridge_reg = pipe5.fit(X_train, y_train)"
   ]
  },
  {
   "cell_type": "code",
   "execution_count": 47,
   "id": "b5aaeac2",
   "metadata": {},
   "outputs": [
    {
     "name": "stdout",
     "output_type": "stream",
     "text": [
      "MAE: 2.4665076458596196\n",
      "MSE: 11.789201581196023\n",
      "RMSE: 3.433540677084811\n",
      "R2 Square 0.8682163934853723\n",
      "__________________________________\n",
      "MAE: 2.4230317672145\n",
      "MSE: 10.750125309298998\n",
      "RMSE: 3.278738371584259\n",
      "R2 Square 0.881779216343926\n",
      "__________________________________\n"
     ]
    }
   ],
   "source": [
    "predicted_train = ridge_reg.predict(X_train)\n",
    "predicted_test = ridge_reg.predict(X_test)\n",
    "model_eval(y_test, predicted_test)\n",
    "model_eval(y_train, predicted_train)"
   ]
  },
  {
   "cell_type": "code",
   "execution_count": 48,
   "id": "25a15563-5b6f-4a74-b9a1-a6357bc85d33",
   "metadata": {},
   "outputs": [],
   "source": [
    "#ridge_reg.get_params()"
   ]
  },
  {
   "cell_type": "markdown",
   "id": "4f10137e",
   "metadata": {},
   "source": [
    "### 4.ElasticNet regression"
   ]
  },
  {
   "cell_type": "code",
   "execution_count": 49,
   "id": "c0ca17ba",
   "metadata": {},
   "outputs": [],
   "source": [
    "#  hyperparameter grid\n",
    "grid = dict()\n",
    "grid['alpha'] = [1e-5, 1e-4, 1e-3, 1e-2, 1e-1, 0.0, 1.0, 10.0, 100.0]\n",
    "grid['l1_ratio'] = np.arange(0, 1.1, 0.1)"
   ]
  },
  {
   "cell_type": "code",
   "execution_count": 50,
   "id": "d1ff073a",
   "metadata": {},
   "outputs": [
    {
     "data": {
      "text/plain": [
       "{'alpha': [1e-05, 0.0001, 0.001, 0.01, 0.1, 0.0, 1.0, 10.0, 100.0],\n",
       " 'l1_ratio': array([0. , 0.1, 0.2, 0.3, 0.4, 0.5, 0.6, 0.7, 0.8, 0.9, 1. ])}"
      ]
     },
     "execution_count": 50,
     "metadata": {},
     "output_type": "execute_result"
    }
   ],
   "source": [
    "grid"
   ]
  },
  {
   "cell_type": "markdown",
   "id": "7428fefc",
   "metadata": {},
   "source": [
    "###### identify the best parameters"
   ]
  },
  {
   "cell_type": "code",
   "execution_count": 51,
   "id": "573be7f2",
   "metadata": {},
   "outputs": [
    {
     "name": "stderr",
     "output_type": "stream",
     "text": [
      "C:\\Users\\HP\\anaconda3\\lib\\site-packages\\sklearn\\linear_model\\_coordinate_descent.py:530: ConvergenceWarning: Objective did not converge. You might want to increase the number of iterations. Duality gap: 5057.171233473611, tolerance: 21.296419035439794\n",
      "  model = cd_fast.enet_coordinate_descent(\n"
     ]
    },
    {
     "data": {
      "text/plain": [
       "GridSearchCV(cv=5, estimator=ElasticNet(), n_jobs=-1,\n",
       "             param_grid={'alpha': [1e-05, 0.0001, 0.001, 0.01, 0.1, 0.0, 1.0,\n",
       "                                   10.0, 100.0],\n",
       "                         'l1_ratio': array([0. , 0.1, 0.2, 0.3, 0.4, 0.5, 0.6, 0.7, 0.8, 0.9, 1. ])})"
      ]
     },
     "execution_count": 51,
     "metadata": {},
     "output_type": "execute_result"
    }
   ],
   "source": [
    "elastic_net = ElasticNet()\n",
    "\n",
    "EL_grid_cv0 = GridSearchCV(elastic_net, grid, cv=5, n_jobs=-1)\n",
    "\n",
    "EL_grid_cv0 .fit(X_train_imput_scale, y_train)"
   ]
  },
  {
   "cell_type": "code",
   "execution_count": 52,
   "id": "7ed6a4bc",
   "metadata": {},
   "outputs": [
    {
     "name": "stdout",
     "output_type": "stream",
     "text": [
      "Tuned ElasticNet l1 ratio: {'alpha': 0.0001, 'l1_ratio': 0.4}\n"
     ]
    }
   ],
   "source": [
    "print(\"Tuned ElasticNet l1 ratio: {}\".format(EL_grid_cv0.best_params_))"
   ]
  },
  {
   "cell_type": "markdown",
   "id": "c5ea22ad",
   "metadata": {},
   "source": [
    "##### Run the model with the best paramters and assessing the performance"
   ]
  },
  {
   "cell_type": "code",
   "execution_count": 53,
   "id": "83a698c4",
   "metadata": {},
   "outputs": [
    {
     "name": "stdout",
     "output_type": "stream",
     "text": [
      "cross-validation scores of elastic_net regression is  0.8794156394145368\n"
     ]
    }
   ],
   "source": [
    "elastic_net = ElasticNet(alpha = 0.0001, l1_ratio = 0.4)\n",
    "\n",
    "elastic_net_CV = cross_val_score(elastic_net, X_train_imput_scale, y_train, cv=10, n_jobs=-1)\n",
    "\n",
    "print( 'cross-validation scores of elastic_net regression is ', np.mean(elastic_net_CV))"
   ]
  },
  {
   "cell_type": "code",
   "execution_count": 54,
   "id": "1073e6f3",
   "metadata": {},
   "outputs": [
    {
     "name": "stderr",
     "output_type": "stream",
     "text": [
      "C:\\Users\\HP\\anaconda3\\lib\\site-packages\\sklearn\\linear_model\\_coordinate_descent.py:530: ConvergenceWarning: Objective did not converge. You might want to increase the number of iterations. Duality gap: 5057.171233473611, tolerance: 21.296419035439794\n",
      "  model = cd_fast.enet_coordinate_descent(\n"
     ]
    }
   ],
   "source": [
    "Elastic_net = elastic_net.fit( X_train_imput_scale, y_train)"
   ]
  },
  {
   "cell_type": "code",
   "execution_count": 55,
   "id": "9b9d64db",
   "metadata": {
    "scrolled": true
   },
   "outputs": [
    {
     "name": "stdout",
     "output_type": "stream",
     "text": [
      "MAE: 2.527914693963443\n",
      "MSE: 12.300043713472308\n",
      "RMSE: 3.5071418154206864\n",
      "R2 Square 0.8625060306514405\n",
      "__________________________________\n",
      "MAE: 2.422465123600006\n",
      "MSE: 10.74930620707784\n",
      "RMSE: 3.2786134580151165\n",
      "R2 Square 0.8817882241372021\n",
      "__________________________________\n"
     ]
    }
   ],
   "source": [
    "predicted_train = Elastic_net.predict(X_train_imput_scale)\n",
    "predicted_test = Elastic_net.predict(X_test_imput_scale)\n",
    "model_eval(y_test, predicted_test)\n",
    "model_eval(y_train, predicted_train)"
   ]
  },
  {
   "cell_type": "code",
   "execution_count": null,
   "id": "27555ed1",
   "metadata": {},
   "outputs": [],
   "source": []
  },
  {
   "cell_type": "markdown",
   "id": "42dbea67",
   "metadata": {},
   "source": [
    "### 5.  Decision tree for regression"
   ]
  },
  {
   "cell_type": "code",
   "execution_count": 56,
   "id": "fdf40d96",
   "metadata": {},
   "outputs": [],
   "source": [
    "param_rf={'max_depth':[4,6,8, 10, 12, 14, 16], 'min_samples_leaf': [0.1, 0.2, 0.5, 1, 1.5, 2], \n",
    "          'max_features': [0.2,0.4, 0.6, 0.8, 1.0]}"
   ]
  },
  {
   "cell_type": "code",
   "execution_count": 57,
   "id": "146d962f",
   "metadata": {},
   "outputs": [
    {
     "name": "stderr",
     "output_type": "stream",
     "text": [
      "C:\\Users\\HP\\anaconda3\\lib\\site-packages\\sklearn\\model_selection\\_search.py:922: UserWarning: One or more of the test scores are non-finite: [nan nan nan nan nan nan nan nan nan nan nan nan nan nan nan nan nan nan\n",
      " nan nan nan nan nan nan nan nan nan nan nan nan nan nan nan nan nan nan\n",
      " nan nan nan nan nan nan nan nan nan nan nan nan nan nan nan nan nan nan\n",
      " nan nan nan nan nan nan nan nan nan nan nan nan nan nan nan nan nan nan\n",
      " nan nan nan nan nan nan nan nan nan nan nan nan nan nan nan nan nan nan\n",
      " nan nan nan nan nan nan nan nan nan nan nan nan nan nan nan nan nan nan\n",
      " nan nan nan nan nan nan nan nan nan nan nan nan nan nan nan nan nan nan\n",
      " nan nan nan nan nan nan nan nan nan nan nan nan nan nan nan nan nan nan\n",
      " nan nan nan nan nan nan nan nan nan nan nan nan nan nan nan nan nan nan\n",
      " nan nan nan nan nan nan nan nan nan nan nan nan nan nan nan nan nan nan\n",
      " nan nan nan nan nan nan nan nan nan nan nan nan nan nan nan nan nan nan\n",
      " nan nan nan nan nan nan nan nan nan nan nan nan]\n",
      "  warnings.warn(\n"
     ]
    }
   ],
   "source": [
    "dt = DecisionTreeRegressor(random_state=1)\n",
    "dt_grid_CV= GridSearchCV(estimator= dt ,param_grid=param_rf, cv=10,\n",
    "                          scoring='accuracy',  n_jobs=-1)\n",
    "# Fit dt to the training set\n",
    "dt_grid_CV=dt_grid_CV.fit(X_train_imput_scale, y_train)"
   ]
  },
  {
   "cell_type": "code",
   "execution_count": 58,
   "id": "8aa0e60b",
   "metadata": {},
   "outputs": [
    {
     "data": {
      "text/plain": [
       "{'max_depth': 4, 'max_features': 0.2, 'min_samples_leaf': 0.1}"
      ]
     },
     "execution_count": 58,
     "metadata": {},
     "output_type": "execute_result"
    }
   ],
   "source": [
    "best_dt_param = dt_grid_CV.best_params_\n",
    "best_dt_param"
   ]
  },
  {
   "cell_type": "code",
   "execution_count": 59,
   "id": "33aec9c9",
   "metadata": {},
   "outputs": [],
   "source": [
    "model_dt = dt_grid_CV.best_estimator_"
   ]
  },
  {
   "cell_type": "code",
   "execution_count": 60,
   "id": "860c96f9",
   "metadata": {},
   "outputs": [
    {
     "name": "stdout",
     "output_type": "stream",
     "text": [
      "MAE: 3.8712166019486913\n",
      "MSE: 28.4318375579228\n",
      "RMSE: 5.33215130673566\n",
      "R2 Square 0.682179487099669\n",
      "__________________________________\n",
      "MAE: 3.553711820842639\n",
      "MSE: 23.35047910088829\n",
      "RMSE: 4.832233345037085\n",
      "R2 Square 0.7432111851139154\n",
      "__________________________________\n"
     ]
    }
   ],
   "source": [
    "predicted_train = dt_grid_CV.predict(X_train_imput_scale)\n",
    "predicted_test = dt_grid_CV.predict(X_test_imput_scale)\n",
    "model_eval(y_test, predicted_test)\n",
    "model_eval(y_train, predicted_train)"
   ]
  },
  {
   "cell_type": "code",
   "execution_count": 61,
   "id": "239e5b6b",
   "metadata": {},
   "outputs": [],
   "source": [
    "#### experimentation, Use of X_train and X_test (just the missing data imputation, no_scaling)"
   ]
  },
  {
   "cell_type": "code",
   "execution_count": 62,
   "id": "ddf7a081",
   "metadata": {},
   "outputs": [],
   "source": [
    "#model_dt.fit(X_train_imput, y_train)"
   ]
  },
  {
   "cell_type": "code",
   "execution_count": 63,
   "id": "4afa7fde",
   "metadata": {
    "scrolled": true
   },
   "outputs": [],
   "source": [
    "#predicted_train = model_dt.predict(X_train_imput_scale)\n",
    "#predicted_test = model_dt.predict(X_test_imput_scale)\n",
    "#model_eval(y_test, predicted_test)\n",
    "#model_eval(y_train, predicted_train)"
   ]
  },
  {
   "cell_type": "code",
   "execution_count": null,
   "id": "cb432b13",
   "metadata": {},
   "outputs": [],
   "source": []
  },
  {
   "cell_type": "markdown",
   "id": "c59261e5",
   "metadata": {},
   "source": [
    "### 6.Random Forest Model"
   ]
  },
  {
   "cell_type": "markdown",
   "id": "fc5966ba",
   "metadata": {},
   "source": [
    "https://medium.datadriveninvestor.com/random-forest-regression-9871bc9a25eb"
   ]
  },
  {
   "cell_type": "markdown",
   "id": "caa5b59b-e9f9-49e4-8122-39d70ac2744d",
   "metadata": {},
   "source": [
    "#### Simple model of random forest "
   ]
  },
  {
   "cell_type": "code",
   "execution_count": 64,
   "id": "ae0ab9a5",
   "metadata": {},
   "outputs": [
    {
     "name": "stderr",
     "output_type": "stream",
     "text": [
      "C:\\Users\\HP\\AppData\\Local\\Temp/ipykernel_49832/1361632199.py:2: DataConversionWarning: A column-vector y was passed when a 1d array was expected. Please change the shape of y to (n_samples,), for example using ravel().\n",
      "  rf_reg1.fit(X_train_imput_scale, y_train)\n"
     ]
    },
    {
     "data": {
      "text/plain": [
       "RandomForestRegressor(max_depth=4, max_features=0.4, n_estimators=200,\n",
       "                      n_jobs=-1, random_state=1)"
      ]
     },
     "execution_count": 64,
     "metadata": {},
     "output_type": "execute_result"
    }
   ],
   "source": [
    "rf_reg1 = RandomForestRegressor(n_estimators = 200, max_depth= 4, max_features=0.4, n_jobs=-1, random_state=1)\n",
    "rf_reg1.fit(X_train_imput_scale, y_train)"
   ]
  },
  {
   "cell_type": "code",
   "execution_count": 65,
   "id": "ec41bc88",
   "metadata": {},
   "outputs": [],
   "source": [
    "#### evaluate the model"
   ]
  },
  {
   "cell_type": "code",
   "execution_count": 66,
   "id": "1754dd43",
   "metadata": {
    "scrolled": true
   },
   "outputs": [
    {
     "name": "stdout",
     "output_type": "stream",
     "text": [
      "MAE: 2.101229272755366\n",
      "MSE: 8.956320005695064\n",
      "RMSE: 2.992711146384673\n",
      "R2 Square 0.8998832835862101\n",
      "__________________________________\n",
      "MAE: 1.955380700864789\n",
      "MSE: 7.327613677992686\n",
      "RMSE: 2.7069565341897692\n",
      "R2 Square 0.9194171038553456\n",
      "__________________________________\n"
     ]
    }
   ],
   "source": [
    "predicted_train = rf_reg1.predict(X_train_imput_scale)\n",
    "predicted_test = rf_reg1.predict(X_test_imput_scale)\n",
    "model_eval(y_test, predicted_test)\n",
    "model_eval(y_train, predicted_train)"
   ]
  },
  {
   "cell_type": "code",
   "execution_count": null,
   "id": "0619b05c",
   "metadata": {},
   "outputs": [],
   "source": []
  },
  {
   "cell_type": "markdown",
   "id": "b518e84d-9303-4804-8463-41a0c8726006",
   "metadata": {},
   "source": [
    "#### 2nd model of random forest "
   ]
  },
  {
   "cell_type": "code",
   "execution_count": 67,
   "id": "e3cc4be9",
   "metadata": {},
   "outputs": [
    {
     "name": "stderr",
     "output_type": "stream",
     "text": [
      "C:\\Users\\HP\\AppData\\Local\\Temp/ipykernel_49832/3700214051.py:2: DataConversionWarning: A column-vector y was passed when a 1d array was expected. Please change the shape of y to (n_samples,), for example using ravel().\n",
      "  rf_reg2.fit(X_train_imput_scale, y_train)\n"
     ]
    },
    {
     "data": {
      "text/plain": [
       "RandomForestRegressor(max_depth=10, max_features=0.4, n_estimators=200,\n",
       "                      n_jobs=-1, random_state=1)"
      ]
     },
     "execution_count": 67,
     "metadata": {},
     "output_type": "execute_result"
    }
   ],
   "source": [
    "rf_reg2 = RandomForestRegressor(n_estimators = 200, max_depth= 10, max_features=0.4, n_jobs=-1, random_state=1)\n",
    "rf_reg2.fit(X_train_imput_scale, y_train)"
   ]
  },
  {
   "cell_type": "code",
   "execution_count": 68,
   "id": "ee92c5ad",
   "metadata": {},
   "outputs": [
    {
     "name": "stdout",
     "output_type": "stream",
     "text": [
      "MAE: 1.4623943547759195\n",
      "MSE: 4.9299161061599115\n",
      "RMSE: 2.220341439094427\n",
      "R2 Square 0.944891762193586\n",
      "__________________________________\n",
      "MAE: 0.7774994798119907\n",
      "MSE: 1.267010192663802\n",
      "RMSE: 1.1256154728253347\n",
      "R2 Square 0.9860664937786929\n",
      "__________________________________\n"
     ]
    }
   ],
   "source": [
    "# evaluate the model\n",
    "predicted_train = rf_reg2.predict(X_train_imput_scale)\n",
    "predicted_test = rf_reg2.predict(X_test_imput_scale)\n",
    "model_eval(y_test, predicted_test)\n",
    "model_eval(y_train, predicted_train)"
   ]
  },
  {
   "cell_type": "code",
   "execution_count": 69,
   "id": "9b6c3726-96bc-42aa-a397-bc636fe50cb9",
   "metadata": {},
   "outputs": [],
   "source": [
    "##### random forest model"
   ]
  },
  {
   "cell_type": "code",
   "execution_count": 70,
   "id": "9e23fa7c-0e22-457e-9b3e-501744e1b481",
   "metadata": {},
   "outputs": [
    {
     "name": "stderr",
     "output_type": "stream",
     "text": [
      "C:\\Users\\HP\\AppData\\Local\\Temp/ipykernel_49832/698106051.py:2: DataConversionWarning: A column-vector y was passed when a 1d array was expected. Please change the shape of y to (n_samples,), for example using ravel().\n",
      "  rf_reg3.fit(X_train_imput_scale, y_train)\n"
     ]
    },
    {
     "data": {
      "text/plain": [
       "RandomForestRegressor(max_depth=7, max_features=0.3, n_jobs=-1, random_state=1)"
      ]
     },
     "execution_count": 70,
     "metadata": {},
     "output_type": "execute_result"
    }
   ],
   "source": [
    "rf_reg3 = RandomForestRegressor(n_estimators = 100, max_depth=7, max_features=0.3, n_jobs=-1, random_state=1)\n",
    "rf_reg3.fit(X_train_imput_scale, y_train)"
   ]
  },
  {
   "cell_type": "code",
   "execution_count": 71,
   "id": "9b5c6117-6c00-43a7-9dfa-6dea6777b70c",
   "metadata": {},
   "outputs": [
    {
     "name": "stdout",
     "output_type": "stream",
     "text": [
      "MAE: 1.6981721871584778\n",
      "MSE: 6.205929568166911\n",
      "RMSE: 2.491170320987088\n",
      "R2 Square 0.9306280603791465\n",
      "__________________________________\n",
      "MAE: 1.3318307018113518\n",
      "MSE: 3.436163647142953\n",
      "RMSE: 1.8536891991763218\n",
      "R2 Square 0.9622119791678742\n",
      "__________________________________\n"
     ]
    }
   ],
   "source": [
    "# evaluate the model\n",
    "predicted_train = rf_reg3.predict(X_train_imput_scale)\n",
    "predicted_test = rf_reg3.predict(X_test_imput_scale)\n",
    "model_eval(y_test, predicted_test)\n",
    "model_eval(y_train, predicted_train)"
   ]
  },
  {
   "cell_type": "code",
   "execution_count": null,
   "id": "d0fd1e2a",
   "metadata": {},
   "outputs": [],
   "source": []
  },
  {
   "cell_type": "markdown",
   "id": "9107668e-ca95-4898-b0e6-da2f5a78521b",
   "metadata": {},
   "source": [
    "#### 4th model of random forest with GridSearchCV"
   ]
  },
  {
   "cell_type": "code",
   "execution_count": 72,
   "id": "e9b4c675",
   "metadata": {},
   "outputs": [],
   "source": [
    "param_rf={'max_depth':[4, 5, 6, 7, 8],'n_estimators':[50, 75, 100, 150, 175, 200], \n",
    "          'min_samples_leaf': [0.1, 0.2, 0.5, 0.7, 0.9, 1], 'max_features': [0.3, 0.4, 0.5, 0.6]},"
   ]
  },
  {
   "cell_type": "code",
   "execution_count": 73,
   "id": "eff2a34d",
   "metadata": {},
   "outputs": [],
   "source": [
    "# Perform Grid-Search\n",
    "RF_grid_CV= GridSearchCV(estimator= RandomForestRegressor(random_state=1) ,param_grid=param_rf, cv=5, \n",
    "                          scoring='neg_mean_squared_error', verbose=1, n_jobs=-1)"
   ]
  },
  {
   "cell_type": "code",
   "execution_count": 74,
   "id": "7d6742f6",
   "metadata": {
    "scrolled": true
   },
   "outputs": [
    {
     "name": "stdout",
     "output_type": "stream",
     "text": [
      "Fitting 5 folds for each of 720 candidates, totalling 3600 fits\n"
     ]
    },
    {
     "name": "stderr",
     "output_type": "stream",
     "text": [
      "C:\\Users\\HP\\anaconda3\\lib\\site-packages\\sklearn\\model_selection\\_search.py:922: UserWarning: One or more of the test scores are non-finite: [-16.46567681 -16.14806641 -16.24551544 -16.23008279 -16.36374627\n",
      " -16.21500979 -25.92151165 -25.75779425 -26.08407651 -25.80385491\n",
      " -25.95426132 -25.8295139  -90.96085157 -90.9647589  -90.96819255\n",
      " -90.97108215 -90.96998753 -90.97150866          nan          nan\n",
      "          nan          nan          nan          nan          nan\n",
      "          nan          nan          nan          nan          nan\n",
      "  -8.76778695  -8.65405795  -8.68811647  -8.71038695  -8.6967627\n",
      "  -8.64936681 -15.35127237 -15.2068676  -15.27169714 -15.25163269\n",
      " -15.25907701 -15.17265097 -24.8954902  -24.48201041 -24.62413834\n",
      " -24.5550114  -24.46547393 -24.39902257 -90.96085157 -90.9647589\n",
      " -90.96819255 -90.97108215 -90.96998753 -90.97150866          nan\n",
      "          nan          nan          nan          nan          nan\n",
      "          nan          nan          nan          nan          nan\n",
      "          nan  -8.26411668  -8.19869098  -8.22037572  -8.15526203\n",
      "  -8.13698021  -8.12098762 -15.79048728 -15.53069621 -15.39129712\n",
      " -15.20382219 -15.18437954 -15.18415407 -24.64640831 -24.17564415\n",
      " -24.41960072 -24.54628034 -24.39430767 -24.33318536 -90.96085157\n",
      " -90.9647589  -90.96819255 -90.97108215 -90.96998753 -90.97150866\n",
      "          nan          nan          nan          nan          nan\n",
      "          nan          nan          nan          nan          nan\n",
      "          nan          nan  -8.15025083  -8.0984352   -8.10360316\n",
      "  -8.03311308  -8.03349791  -8.05430877 -15.44634778 -15.31588035\n",
      " -15.35655334 -15.21213793 -15.20055473 -15.12312579 -24.73424072\n",
      " -24.57473924 -24.53040404 -24.32672454 -24.31493931 -24.22319233\n",
      " -90.96085157 -90.9647589  -90.96819255 -90.97108215 -90.96998753\n",
      " -90.97150866          nan          nan          nan          nan\n",
      "          nan          nan          nan          nan          nan\n",
      "          nan          nan          nan  -8.04545134  -8.02072647\n",
      "  -8.01639546  -7.96980159  -7.96376803  -7.96899886 -16.46567681\n",
      " -16.14806641 -16.24551544 -16.23008279 -16.36374627 -16.21500979\n",
      " -25.92151165 -25.75779425 -26.08407651 -25.80385491 -25.95426132\n",
      " -25.8295139  -90.96085157 -90.9647589  -90.96819255 -90.97108215\n",
      " -90.96998753 -90.97150866          nan          nan          nan\n",
      "          nan          nan          nan          nan          nan\n",
      "          nan          nan          nan          nan  -7.34440091\n",
      "  -7.28041969  -7.27620579  -7.24019808  -7.20245135  -7.17570402\n",
      " -15.35127237 -15.2068676  -15.27169714 -15.25163269 -15.25907701\n",
      " -15.17265097 -24.8954902  -24.48201041 -24.62413834 -24.5550114\n",
      " -24.46547393 -24.39902257 -90.96085157 -90.9647589  -90.96819255\n",
      " -90.97108215 -90.96998753 -90.97150866          nan          nan\n",
      "          nan          nan          nan          nan          nan\n",
      "          nan          nan          nan          nan          nan\n",
      "  -6.76334878  -6.74751195  -6.78775076  -6.76225109  -6.75947651\n",
      "  -6.72363268 -15.79048728 -15.53069621 -15.39129712 -15.20382219\n",
      " -15.18437954 -15.18415407 -24.64640831 -24.17564415 -24.41960072\n",
      " -24.54628034 -24.39430767 -24.33318536 -90.96085157 -90.9647589\n",
      " -90.96819255 -90.97108215 -90.96998753 -90.97150866          nan\n",
      "          nan          nan          nan          nan          nan\n",
      "          nan          nan          nan          nan          nan\n",
      "          nan  -6.59508034  -6.58308281  -6.60525858  -6.60148697\n",
      "  -6.60569486  -6.61260048 -15.44634778 -15.31588035 -15.35655334\n",
      " -15.21213793 -15.20055473 -15.12312579 -24.73424072 -24.57473924\n",
      " -24.53040404 -24.32672454 -24.31493931 -24.22319233 -90.96085157\n",
      " -90.9647589  -90.96819255 -90.97108215 -90.96998753 -90.97150866\n",
      "          nan          nan          nan          nan          nan\n",
      "          nan          nan          nan          nan          nan\n",
      "          nan          nan  -6.5054208   -6.56784542  -6.55734254\n",
      "  -6.55095014  -6.54491587  -6.53744592 -16.46567681 -16.14806641\n",
      " -16.24551544 -16.23008279 -16.36374627 -16.21500979 -25.92151165\n",
      " -25.75779425 -26.08407651 -25.80385491 -25.95426132 -25.8295139\n",
      " -90.96085157 -90.9647589  -90.96819255 -90.97108215 -90.96998753\n",
      " -90.97150866          nan          nan          nan          nan\n",
      "          nan          nan          nan          nan          nan\n",
      "          nan          nan          nan  -6.32942946  -6.30344365\n",
      "  -6.30121308  -6.21935398  -6.20599759  -6.17798028 -15.35127237\n",
      " -15.2068676  -15.27169714 -15.25163269 -15.25907701 -15.17265097\n",
      " -24.8954902  -24.48201041 -24.62413834 -24.5550114  -24.46547393\n",
      " -24.39902257 -90.96085157 -90.9647589  -90.96819255 -90.97108215\n",
      " -90.96998753 -90.97150866          nan          nan          nan\n",
      "          nan          nan          nan          nan          nan\n",
      "          nan          nan          nan          nan  -5.75995561\n",
      "  -5.76260303  -5.78600147  -5.80275554  -5.79860612  -5.78359805\n",
      " -15.79048728 -15.53069621 -15.39129712 -15.20382219 -15.18437954\n",
      " -15.18415407 -24.64640831 -24.17564415 -24.41960072 -24.54628034\n",
      " -24.39430767 -24.33318536 -90.96085157 -90.9647589  -90.96819255\n",
      " -90.97108215 -90.96998753 -90.97150866          nan          nan\n",
      "          nan          nan          nan          nan          nan\n",
      "          nan          nan          nan          nan          nan\n",
      "  -5.67560851  -5.64708203  -5.64479716  -5.63568762  -5.6287911\n",
      "  -5.6330767  -15.44634778 -15.31588035 -15.35655334 -15.21213793\n",
      " -15.20055473 -15.12312579 -24.73424072 -24.57473924 -24.53040404\n",
      " -24.32672454 -24.31493931 -24.22319233 -90.96085157 -90.9647589\n",
      " -90.96819255 -90.97108215 -90.96998753 -90.97150866          nan\n",
      "          nan          nan          nan          nan          nan\n",
      "          nan          nan          nan          nan          nan\n",
      "          nan  -5.58756092  -5.58318616  -5.57503363  -5.5856507\n",
      "  -5.60050239  -5.59797794 -16.46567681 -16.14806641 -16.24551544\n",
      " -16.23008279 -16.36374627 -16.21500979 -25.92151165 -25.75779425\n",
      " -26.08407651 -25.80385491 -25.95426132 -25.8295139  -90.96085157\n",
      " -90.9647589  -90.96819255 -90.97108215 -90.96998753 -90.97150866\n",
      "          nan          nan          nan          nan          nan\n",
      "          nan          nan          nan          nan          nan\n",
      "          nan          nan  -5.48424061  -5.46965599  -5.42672861\n",
      "  -5.42138294  -5.39905362  -5.38979363 -15.35127237 -15.2068676\n",
      " -15.27169714 -15.25163269 -15.25907701 -15.17265097 -24.8954902\n",
      " -24.48201041 -24.62413834 -24.5550114  -24.46547393 -24.39902257\n",
      " -90.96085157 -90.9647589  -90.96819255 -90.97108215 -90.96998753\n",
      " -90.97150866          nan          nan          nan          nan\n",
      "          nan          nan          nan          nan          nan\n",
      "          nan          nan          nan  -5.12373032  -5.09279354\n",
      "  -5.12535703  -5.14948647  -5.14670238  -5.1382741  -15.79048728\n",
      " -15.53069621 -15.39129712 -15.20382219 -15.18437954 -15.18415407\n",
      " -24.64640831 -24.17564415 -24.41960072 -24.54628034 -24.39430767\n",
      " -24.33318536 -90.96085157 -90.9647589  -90.96819255 -90.97108215\n",
      " -90.96998753 -90.97150866          nan          nan          nan\n",
      "          nan          nan          nan          nan          nan\n",
      "          nan          nan          nan          nan  -5.06266564\n",
      "  -5.03618283  -5.04220793  -5.04038341  -5.03957563  -5.0293421\n",
      " -15.44634778 -15.31588035 -15.35655334 -15.21213793 -15.20055473\n",
      " -15.12312579 -24.73424072 -24.57473924 -24.53040404 -24.32672454\n",
      " -24.31493931 -24.22319233 -90.96085157 -90.9647589  -90.96819255\n",
      " -90.97108215 -90.96998753 -90.97150866          nan          nan\n",
      "          nan          nan          nan          nan          nan\n",
      "          nan          nan          nan          nan          nan\n",
      "  -4.93063353  -4.93886257  -4.92921263  -4.9350735   -4.94173638\n",
      "  -4.91961357 -16.46567681 -16.14806641 -16.24551544 -16.23008279\n",
      " -16.36374627 -16.21500979 -25.92151165 -25.75779425 -26.08407651\n",
      " -25.80385491 -25.95426132 -25.8295139  -90.96085157 -90.9647589\n",
      " -90.96819255 -90.97108215 -90.96998753 -90.97150866          nan\n",
      "          nan          nan          nan          nan          nan\n",
      "          nan          nan          nan          nan          nan\n",
      "          nan  -5.03098815  -4.95849486  -4.92072494  -4.90623747\n",
      "  -4.89666112  -4.87498489 -15.35127237 -15.2068676  -15.27169714\n",
      " -15.25163269 -15.25907701 -15.17265097 -24.8954902  -24.48201041\n",
      " -24.62413834 -24.5550114  -24.46547393 -24.39902257 -90.96085157\n",
      " -90.9647589  -90.96819255 -90.97108215 -90.96998753 -90.97150866\n",
      "          nan          nan          nan          nan          nan\n",
      "          nan          nan          nan          nan          nan\n",
      "          nan          nan  -4.71594218  -4.70390817  -4.70889381\n",
      "  -4.69910137  -4.67971606  -4.67074292 -15.79048728 -15.53069621\n",
      " -15.39129712 -15.20382219 -15.18437954 -15.18415407 -24.64640831\n",
      " -24.17564415 -24.41960072 -24.54628034 -24.39430767 -24.33318536\n",
      " -90.96085157 -90.9647589  -90.96819255 -90.97108215 -90.96998753\n",
      " -90.97150866          nan          nan          nan          nan\n",
      "          nan          nan          nan          nan          nan\n",
      "          nan          nan          nan  -4.65891239  -4.64634829\n",
      "  -4.63090092  -4.60849403  -4.59284702  -4.59230841 -15.44634778\n",
      " -15.31588035 -15.35655334 -15.21213793 -15.20055473 -15.12312579\n",
      " -24.73424072 -24.57473924 -24.53040404 -24.32672454 -24.31493931\n",
      " -24.22319233 -90.96085157 -90.9647589  -90.96819255 -90.97108215\n",
      " -90.96998753 -90.97150866          nan          nan          nan\n",
      "          nan          nan          nan          nan          nan\n",
      "          nan          nan          nan          nan  -4.60062587\n",
      "  -4.58034557  -4.55934867  -4.53639774  -4.52674102  -4.51943225]\n",
      "  warnings.warn(\n",
      "C:\\Users\\HP\\anaconda3\\lib\\site-packages\\sklearn\\model_selection\\_search.py:880: DataConversionWarning: A column-vector y was passed when a 1d array was expected. Please change the shape of y to (n_samples,), for example using ravel().\n",
      "  self.best_estimator_.fit(X, y, **fit_params)\n"
     ]
    },
    {
     "data": {
      "text/plain": [
       "GridSearchCV(cv=5, estimator=RandomForestRegressor(random_state=1), n_jobs=-1,\n",
       "             param_grid=({'max_depth': [4, 5, 6, 7, 8],\n",
       "                          'max_features': [0.3, 0.4, 0.5, 0.6],\n",
       "                          'min_samples_leaf': [0.1, 0.2, 0.5, 0.7, 0.9, 1],\n",
       "                          'n_estimators': [50, 75, 100, 150, 175, 200]},),\n",
       "             scoring='neg_mean_squared_error', verbose=1)"
      ]
     },
     "execution_count": 74,
     "metadata": {},
     "output_type": "execute_result"
    }
   ],
   "source": [
    "RF_grid_CV.fit(X_train_imput_scale, y_train)"
   ]
  },
  {
   "cell_type": "code",
   "execution_count": 75,
   "id": "163f9773",
   "metadata": {},
   "outputs": [
    {
     "data": {
      "text/plain": [
       "{'max_depth': 8,\n",
       " 'max_features': 0.6,\n",
       " 'min_samples_leaf': 1,\n",
       " 'n_estimators': 200}"
      ]
     },
     "execution_count": 75,
     "metadata": {},
     "output_type": "execute_result"
    }
   ],
   "source": [
    "best_rf_param = RF_grid_CV.best_params_\n",
    "best_rf_param"
   ]
  },
  {
   "cell_type": "code",
   "execution_count": 76,
   "id": "43005e9b",
   "metadata": {},
   "outputs": [],
   "source": [
    "rf_reg4 = RF_grid_CV.best_estimator_"
   ]
  },
  {
   "cell_type": "code",
   "execution_count": 77,
   "id": "08b60dc2",
   "metadata": {},
   "outputs": [
    {
     "name": "stdout",
     "output_type": "stream",
     "text": [
      "MAE: 1.5166324754404246\n",
      "MSE: 5.2092688606991455\n",
      "RMSE: 2.2823822775116236\n",
      "R2 Square 0.941769064423985\n",
      "__________________________________\n",
      "MAE: 1.0274587227469514\n",
      "MSE: 2.1669098126828152\n",
      "RMSE: 1.4720427346659524\n",
      "R2 Square 0.9761701590635594\n",
      "__________________________________\n"
     ]
    }
   ],
   "source": [
    "predicted_train = rf_reg4.predict(X_train_imput_scale)\n",
    "predicted_test = rf_reg4.predict(X_test_imput_scale)\n",
    "model_eval(y_test, predicted_test)\n",
    "model_eval(y_train, predicted_train)"
   ]
  },
  {
   "cell_type": "code",
   "execution_count": 78,
   "id": "d6f923ac",
   "metadata": {},
   "outputs": [
    {
     "data": {
      "image/png": "[encoded data removed]",
      "text/plain": [
       "<Figure size 720x504 with 1 Axes>"
      ]
     },
     "metadata": {},
     "output_type": "display_data"
    }
   ],
   "source": [
    "Important_features =  pd.Series(rf_reg4.feature_importances_, index = X_train.columns).sort_values()\n",
    "Important_features.plot(kind='barh', figsize=(10,7) , fontsize=10)\n",
    "plt.title('Random Forest regressor Features of importance')\n",
    "plt.show()"
   ]
  },
  {
   "cell_type": "code",
   "execution_count": 79,
   "id": "332da37e",
   "metadata": {},
   "outputs": [
    {
     "name": "stderr",
     "output_type": "stream",
     "text": [
      "C:\\Users\\HP\\anaconda3\\lib\\site-packages\\sklearn\\model_selection\\_validation.py:598: DataConversionWarning: A column-vector y was passed when a 1d array was expected. Please change the shape of y to (n_samples,), for example using ravel().\n",
      "  estimator.fit(X_train, y_train, **fit_params)\n",
      "C:\\Users\\HP\\anaconda3\\lib\\site-packages\\sklearn\\model_selection\\_validation.py:598: DataConversionWarning: A column-vector y was passed when a 1d array was expected. Please change the shape of y to (n_samples,), for example using ravel().\n",
      "  estimator.fit(X_train, y_train, **fit_params)\n",
      "C:\\Users\\HP\\anaconda3\\lib\\site-packages\\sklearn\\model_selection\\_validation.py:598: DataConversionWarning: A column-vector y was passed when a 1d array was expected. Please change the shape of y to (n_samples,), for example using ravel().\n",
      "  estimator.fit(X_train, y_train, **fit_params)\n",
      "C:\\Users\\HP\\anaconda3\\lib\\site-packages\\sklearn\\model_selection\\_validation.py:598: DataConversionWarning: A column-vector y was passed when a 1d array was expected. Please change the shape of y to (n_samples,), for example using ravel().\n",
      "  estimator.fit(X_train, y_train, **fit_params)\n",
      "C:\\Users\\HP\\anaconda3\\lib\\site-packages\\sklearn\\model_selection\\_validation.py:598: DataConversionWarning: A column-vector y was passed when a 1d array was expected. Please change the shape of y to (n_samples,), for example using ravel().\n",
      "  estimator.fit(X_train, y_train, **fit_params)\n"
     ]
    }
   ],
   "source": [
    "# Perform K-Fold CV for Random forest regressor \n",
    "scores = cross_val_score(rf_reg4, X_train_imput_scale, y_train, cv= 5)"
   ]
  },
  {
   "cell_type": "code",
   "execution_count": 80,
   "id": "df4cc1a9",
   "metadata": {},
   "outputs": [
    {
     "data": {
      "text/plain": [
       "0.9502484877866484"
      ]
     },
     "execution_count": 80,
     "metadata": {},
     "output_type": "execute_result"
    }
   ],
   "source": [
    "np.mean(scores)"
   ]
  },
  {
   "cell_type": "code",
   "execution_count": 81,
   "id": "84c35cd4",
   "metadata": {},
   "outputs": [
    {
     "name": "stderr",
     "output_type": "stream",
     "text": [
      "C:\\Users\\HP\\anaconda3\\lib\\site-packages\\sklearn\\model_selection\\_validation.py:598: DataConversionWarning: A column-vector y was passed when a 1d array was expected. Please change the shape of y to (n_samples,), for example using ravel().\n",
      "  estimator.fit(X_train, y_train, **fit_params)\n",
      "C:\\Users\\HP\\anaconda3\\lib\\site-packages\\sklearn\\model_selection\\_validation.py:598: DataConversionWarning: A column-vector y was passed when a 1d array was expected. Please change the shape of y to (n_samples,), for example using ravel().\n",
      "  estimator.fit(X_train, y_train, **fit_params)\n",
      "C:\\Users\\HP\\anaconda3\\lib\\site-packages\\sklearn\\model_selection\\_validation.py:598: DataConversionWarning: A column-vector y was passed when a 1d array was expected. Please change the shape of y to (n_samples,), for example using ravel().\n",
      "  estimator.fit(X_train, y_train, **fit_params)\n",
      "C:\\Users\\HP\\anaconda3\\lib\\site-packages\\sklearn\\model_selection\\_validation.py:598: DataConversionWarning: A column-vector y was passed when a 1d array was expected. Please change the shape of y to (n_samples,), for example using ravel().\n",
      "  estimator.fit(X_train, y_train, **fit_params)\n",
      "C:\\Users\\HP\\anaconda3\\lib\\site-packages\\sklearn\\model_selection\\_validation.py:598: DataConversionWarning: A column-vector y was passed when a 1d array was expected. Please change the shape of y to (n_samples,), for example using ravel().\n",
      "  estimator.fit(X_train, y_train, **fit_params)\n"
     ]
    }
   ],
   "source": [
    "scores2 = cross_validate(rf_reg4, X_train_imput_scale, y_train, cv=5)"
   ]
  },
  {
   "cell_type": "code",
   "execution_count": 82,
   "id": "942d3537",
   "metadata": {},
   "outputs": [
    {
     "data": {
      "text/plain": [
       "(0.8796441263228804, 0.012124405235131887)"
      ]
     },
     "execution_count": 82,
     "metadata": {},
     "output_type": "execute_result"
    }
   ],
   "source": [
    "scores2 = cv_results['test_score']\n",
    "np.mean(scores2), np.std(scores2)"
   ]
  },
  {
   "cell_type": "code",
   "execution_count": null,
   "id": "c507c43e",
   "metadata": {},
   "outputs": [],
   "source": []
  },
  {
   "cell_type": "code",
   "execution_count": 85,
   "id": "35fcaf55",
   "metadata": {
    "scrolled": true
   },
   "outputs": [
    {
     "name": "stdout",
     "output_type": "stream",
     "text": [
      "{'n_estimators': [200, 344, 488, 633, 777, 922, 1066, 1211, 1355, 1500], 'max_features': [0.2, 0.4, 0.6000000000000001, 0.8, 1.0], 'max_depth': [10, 20, 30, 40, 50, 60, 70, 80, 90, 100, 110], 'min_samples_split': [2, 5, 7, 10], 'min_samples_leaf': [1, 2, 4, 6], 'bootstrap': [True, False]}\n"
     ]
    }
   ],
   "source": [
    "n_estimators = [int(x) for x in np.linspace(start = 200, stop = 1500, num = 10)]\n",
    "max_features =  [x for x in np.linspace(start = 0.2, stop = 1.0, num = 5)]\n",
    "max_depth = [int(x) for x in np.linspace(10, 110, num = 11)]\n",
    "min_samples_split = [2, 5, 7, 10]\n",
    "min_samples_leaf = [1, 2, 4, 6]\n",
    "bootstrap = [True, False]\n",
    "# Create the random grid\n",
    "random_grid = {'n_estimators': n_estimators,\n",
    "               'max_features': max_features,\n",
    "               'max_depth': max_depth,\n",
    "               'min_samples_split': min_samples_split,\n",
    "               'min_samples_leaf': min_samples_leaf,\n",
    "               'bootstrap': bootstrap}\n",
    "print(random_grid)"
   ]
  },
  {
   "cell_type": "code",
   "execution_count": 86,
   "id": "5ad0b24e",
   "metadata": {},
   "outputs": [
    {
     "name": "stdout",
     "output_type": "stream",
     "text": [
      "Fitting 3 folds for each of 100 candidates, totalling 300 fits\n"
     ]
    },
    {
     "name": "stderr",
     "output_type": "stream",
     "text": [
      "C:\\Users\\HP\\anaconda3\\lib\\site-packages\\sklearn\\model_selection\\_search.py:880: DataConversionWarning: A column-vector y was passed when a 1d array was expected. Please change the shape of y to (n_samples,), for example using ravel().\n",
      "  self.best_estimator_.fit(X, y, **fit_params)\n"
     ]
    },
    {
     "data": {
      "text/plain": [
       "RandomizedSearchCV(cv=3, estimator=RandomForestRegressor(), n_iter=100,\n",
       "                   n_jobs=-1,\n",
       "                   param_distributions={'bootstrap': [True, False],\n",
       "                                        'max_depth': [10, 20, 30, 40, 50, 60,\n",
       "                                                      70, 80, 90, 100, 110],\n",
       "                                        'max_features': [0.2, 0.4,\n",
       "                                                         0.6000000000000001,\n",
       "                                                         0.8, 1.0],\n",
       "                                        'min_samples_leaf': [1, 2, 4, 6],\n",
       "                                        'min_samples_split': [2, 5, 7, 10],\n",
       "                                        'n_estimators': [200, 344, 488, 633,\n",
       "                                                         777, 922, 1066, 1211,\n",
       "                                                         1355, 1500]},\n",
       "                   random_state=42, verbose=2)"
      ]
     },
     "execution_count": 86,
     "metadata": {},
     "output_type": "execute_result"
    }
   ],
   "source": [
    "# Use the random grid to search for best hyperparameters\n",
    "rf = RandomForestRegressor()\n",
    "\n",
    "rf_random = RandomizedSearchCV(estimator = rf, param_distributions = random_grid, n_iter = 100, cv = 3, verbose=2, random_state=42, n_jobs = -1)\n",
    "\n",
    "rf_random.fit(X_train_imput_scale, y_train)"
   ]
  },
  {
   "cell_type": "code",
   "execution_count": 87,
   "id": "ff23c025",
   "metadata": {
    "scrolled": true
   },
   "outputs": [
    {
     "data": {
      "text/plain": [
       "{'n_estimators': 633,\n",
       " 'min_samples_split': 2,\n",
       " 'min_samples_leaf': 1,\n",
       " 'max_features': 0.4,\n",
       " 'max_depth': 40,\n",
       " 'bootstrap': False}"
      ]
     },
     "execution_count": 87,
     "metadata": {},
     "output_type": "execute_result"
    }
   ],
   "source": [
    "rf_random.best_params_"
   ]
  },
  {
   "cell_type": "code",
   "execution_count": 88,
   "id": "da1208f2-499f-4348-8da0-ee3f232ac39b",
   "metadata": {},
   "outputs": [],
   "source": [
    "rf_reg6 = rf_random.best_estimator_"
   ]
  },
  {
   "cell_type": "code",
   "execution_count": 89,
   "id": "8858ac91",
   "metadata": {},
   "outputs": [
    {
     "name": "stdout",
     "output_type": "stream",
     "text": [
      "MAE: 1.321580965013024\n",
      "MSE: 4.255165247826477\n",
      "RMSE: 2.0628051890148225\n",
      "R2 Square 0.9524343511465012\n",
      "__________________________________\n",
      "MAE: 4.3029400139787997e-13\n",
      "MSE: 3.0055249644548697e-25\n",
      "RMSE: 5.482266834489972e-13\n",
      "R2 Square 1.0\n",
      "__________________________________\n"
     ]
    }
   ],
   "source": [
    "predicted_train = rf_reg6.predict(X_train_imput_scale)\n",
    "predicted_test = rf_reg6.predict(X_test_imput_scale)\n",
    "model_eval(y_test, predicted_test)\n",
    "model_eval(y_train, predicted_train)"
   ]
  },
  {
   "cell_type": "code",
   "execution_count": 90,
   "id": "930f755a",
   "metadata": {},
   "outputs": [
    {
     "name": "stderr",
     "output_type": "stream",
     "text": [
      "C:\\Users\\HP\\anaconda3\\lib\\site-packages\\sklearn\\model_selection\\_validation.py:598: DataConversionWarning: A column-vector y was passed when a 1d array was expected. Please change the shape of y to (n_samples,), for example using ravel().\n",
      "  estimator.fit(X_train, y_train, **fit_params)\n",
      "C:\\Users\\HP\\anaconda3\\lib\\site-packages\\sklearn\\model_selection\\_validation.py:598: DataConversionWarning: A column-vector y was passed when a 1d array was expected. Please change the shape of y to (n_samples,), for example using ravel().\n",
      "  estimator.fit(X_train, y_train, **fit_params)\n",
      "C:\\Users\\HP\\anaconda3\\lib\\site-packages\\sklearn\\model_selection\\_validation.py:598: DataConversionWarning: A column-vector y was passed when a 1d array was expected. Please change the shape of y to (n_samples,), for example using ravel().\n",
      "  estimator.fit(X_train, y_train, **fit_params)\n",
      "C:\\Users\\HP\\anaconda3\\lib\\site-packages\\sklearn\\model_selection\\_validation.py:598: DataConversionWarning: A column-vector y was passed when a 1d array was expected. Please change the shape of y to (n_samples,), for example using ravel().\n",
      "  estimator.fit(X_train, y_train, **fit_params)\n",
      "C:\\Users\\HP\\anaconda3\\lib\\site-packages\\sklearn\\model_selection\\_validation.py:598: DataConversionWarning: A column-vector y was passed when a 1d array was expected. Please change the shape of y to (n_samples,), for example using ravel().\n",
      "  estimator.fit(X_train, y_train, **fit_params)\n"
     ]
    }
   ],
   "source": [
    "# Perform K-Fold CV\n",
    "rf_scores = cross_val_score(rf_random.best_estimator_, X_train_imput_scale, y_train, cv=5)"
   ]
  },
  {
   "cell_type": "code",
   "execution_count": 91,
   "id": "6e7648f6",
   "metadata": {},
   "outputs": [
    {
     "data": {
      "text/plain": [
       "(0.9615552322452239, 0.00525777010333581)"
      ]
     },
     "execution_count": 91,
     "metadata": {},
     "output_type": "execute_result"
    }
   ],
   "source": [
    " np.mean(rf_scores), np.std(rf_scores)"
   ]
  },
  {
   "cell_type": "markdown",
   "id": "3b8bd8f5-99f2-4b07-849b-b054da926eb8",
   "metadata": {},
   "source": [
    "##### 1st Gradien Boosting Model "
   ]
  },
  {
   "cell_type": "code",
   "execution_count": 92,
   "id": "e9505914-43a1-4b25-9539-4648410f8b73",
   "metadata": {},
   "outputs": [
    {
     "name": "stderr",
     "output_type": "stream",
     "text": [
      "C:\\Users\\HP\\anaconda3\\lib\\site-packages\\sklearn\\utils\\validation.py:63: DataConversionWarning: A column-vector y was passed when a 1d array was expected. Please change the shape of y to (n_samples, ), for example using ravel().\n",
      "  return f(*args, **kwargs)\n"
     ]
    },
    {
     "data": {
      "text/plain": [
       "GradientBoostingRegressor(n_estimators=150, random_state=1)"
      ]
     },
     "execution_count": 92,
     "metadata": {},
     "output_type": "execute_result"
    }
   ],
   "source": [
    "grdB = GradientBoostingRegressor(n_estimators = 150, max_depth = 3, random_state=1)\n",
    "grdB.fit(X_train_imput_scale, y_train)"
   ]
  },
  {
   "cell_type": "code",
   "execution_count": 93,
   "id": "a7d06e07-b660-4c33-b3d9-105172f1d0ec",
   "metadata": {},
   "outputs": [
    {
     "name": "stdout",
     "output_type": "stream",
     "text": [
      "MAE: 1.7741461770760325\n",
      "MSE: 6.3917435035429655\n",
      "RMSE: 2.5281897681034478\n",
      "R2 Square 0.9285509705630227\n",
      "__________________________________\n",
      "MAE: 1.1864815531020003\n",
      "MSE: 2.7504461713223574\n",
      "RMSE: 1.658446915436957\n",
      "R2 Square 0.9697529198570076\n",
      "__________________________________\n"
     ]
    }
   ],
   "source": [
    "predicted_train = grdB.predict(X_train_imput_scale)\n",
    "predicted_test = grdB.predict(X_test_imput_scale)\n",
    "model_eval(y_test, predicted_test)\n",
    "model_eval(y_train, predicted_train)"
   ]
  },
  {
   "cell_type": "markdown",
   "id": "b0938e0b-edb9-4c27-b109-d9b38206a0dd",
   "metadata": {},
   "source": [
    "#### 2nd Gradient Boost Model"
   ]
  },
  {
   "cell_type": "code",
   "execution_count": 94,
   "id": "6cb19e28-7191-4322-bb6f-4c41dc11e3ed",
   "metadata": {},
   "outputs": [
    {
     "name": "stdout",
     "output_type": "stream",
     "text": [
      "{'n_estimators': [25, 56, 87, 118, 150], 'max_features': [0.2, 0.4, 0.6000000000000001, 0.8, 1.0], 'max_depth': [1, 2, 3, 4, 5, 6, 7, 8, 9, 10], 'min_samples_split': [6, 8, 10, 12], 'min_samples_leaf': [4, 6, 8, 10], 'learning_rate': [0.01, 0.08249999999999999, 0.155, 0.22749999999999998, 0.3]}\n"
     ]
    }
   ],
   "source": [
    "n_estimators = [int(x) for x in np.linspace(start = 25, stop = 150, num = 5)]\n",
    "max_features =  [x for x in np.linspace(start = 0.2, stop = 1.0, num = 5)]\n",
    "max_depth = [int(x) for x in np.linspace(1, 10, num = 10)]\n",
    "min_samples_split = [6, 8, 10, 12]\n",
    "min_samples_leaf = [4, 6, 8, 10]\n",
    "learning_rate = [x for x in np.linspace(0.01, 0.3, num = 5)]\n",
    "criterion = ['mse',]\n",
    "\n",
    "\n",
    "grd_grid = {'n_estimators': n_estimators,\n",
    "               'max_features': max_features,\n",
    "               'max_depth': max_depth,\n",
    "               'min_samples_split': min_samples_split,\n",
    "               'min_samples_leaf': min_samples_leaf,\n",
    "              'learning_rate': learning_rate}\n",
    "print(grd_grid)"
   ]
  },
  {
   "cell_type": "code",
   "execution_count": 95,
   "id": "1ef8531c-6eb1-48ae-b6ae-adf6e70f0d44",
   "metadata": {},
   "outputs": [],
   "source": [
    "# with RandomizedSearchCV\n",
    "grd = GradientBoostingRegressor()\n",
    "\n",
    "grd_Boost = RandomizedSearchCV(estimator = grd, param_distributions= grd_grid,  cv = 5, verbose=1, random_state=1, n_jobs = -1)"
   ]
  },
  {
   "cell_type": "code",
   "execution_count": 96,
   "id": "0b44299d-7efa-4c36-81a6-839aa22b22f9",
   "metadata": {},
   "outputs": [],
   "source": [
    "# with GridSearchCV\n",
    "grd = GradientBoostingRegressor(random_state = 1)\n",
    "\n",
    "grd_Boost2 = GridSearchCV(estimator = grd, param_grid= grd_grid, scoring='neg_mean_squared_error', cv = 5, verbose=1, n_jobs = -1)"
   ]
  },
  {
   "cell_type": "code",
   "execution_count": 97,
   "id": "f61bde72-c4b9-45a2-b979-ae32457f7aaa",
   "metadata": {},
   "outputs": [
    {
     "name": "stdout",
     "output_type": "stream",
     "text": [
      "Fitting 5 folds for each of 10 candidates, totalling 50 fits\n"
     ]
    },
    {
     "name": "stderr",
     "output_type": "stream",
     "text": [
      "C:\\Users\\HP\\anaconda3\\lib\\site-packages\\sklearn\\utils\\validation.py:63: DataConversionWarning: A column-vector y was passed when a 1d array was expected. Please change the shape of y to (n_samples, ), for example using ravel().\n",
      "  return f(*args, **kwargs)\n"
     ]
    },
    {
     "data": {
      "text/plain": [
       "RandomizedSearchCV(cv=5, estimator=GradientBoostingRegressor(), n_jobs=-1,\n",
       "                   param_distributions={'learning_rate': [0.01,\n",
       "                                                          0.08249999999999999,\n",
       "                                                          0.155,\n",
       "                                                          0.22749999999999998,\n",
       "                                                          0.3],\n",
       "                                        'max_depth': [1, 2, 3, 4, 5, 6, 7, 8, 9,\n",
       "                                                      10],\n",
       "                                        'max_features': [0.2, 0.4,\n",
       "                                                         0.6000000000000001,\n",
       "                                                         0.8, 1.0],\n",
       "                                        'min_samples_leaf': [4, 6, 8, 10],\n",
       "                                        'min_samples_split': [6, 8, 10, 12],\n",
       "                                        'n_estimators': [25, 56, 87, 118, 150]},\n",
       "                   random_state=1, verbose=1)"
      ]
     },
     "execution_count": 97,
     "metadata": {},
     "output_type": "execute_result"
    }
   ],
   "source": [
    "grd_Boost.fit(X_train_imput_scale, y_train)"
   ]
  },
  {
   "cell_type": "code",
   "execution_count": 98,
   "id": "a68a7ef5-1873-4f5a-a6ea-13ef8dc6f4fe",
   "metadata": {},
   "outputs": [],
   "source": [
    "#grd_Boost2.fit(X_train_imput_scale, y_train)"
   ]
  },
  {
   "cell_type": "code",
   "execution_count": 99,
   "id": "d2798d19-f043-4a7f-b64c-0ffbc1e7a67a",
   "metadata": {},
   "outputs": [
    {
     "data": {
      "text/plain": [
       "{'n_estimators': 118,\n",
       " 'min_samples_split': 10,\n",
       " 'min_samples_leaf': 8,\n",
       " 'max_features': 0.6000000000000001,\n",
       " 'max_depth': 10,\n",
       " 'learning_rate': 0.08249999999999999}"
      ]
     },
     "execution_count": 99,
     "metadata": {},
     "output_type": "execute_result"
    }
   ],
   "source": [
    "grd_Boost.best_params_"
   ]
  },
  {
   "cell_type": "code",
   "execution_count": 131,
   "id": "f3209447-92e9-4fb3-bc7e-da9b1afc8c0b",
   "metadata": {},
   "outputs": [],
   "source": [
    "#grd_Boost2.best_params_"
   ]
  },
  {
   "cell_type": "code",
   "execution_count": 102,
   "id": "757f7309-6091-4133-ad84-e7df6091d307",
   "metadata": {},
   "outputs": [
    {
     "data": {
      "text/plain": [
       "GradientBoostingRegressor(learning_rate=0.08249999999999999, max_depth=10,\n",
       "                          max_features=0.6000000000000001, min_samples_leaf=8,\n",
       "                          min_samples_split=10, n_estimators=118)"
      ]
     },
     "execution_count": 102,
     "metadata": {},
     "output_type": "execute_result"
    }
   ],
   "source": [
    "grd_Boost.best_estimator_"
   ]
  },
  {
   "cell_type": "code",
   "execution_count": null,
   "id": "0b6be990-149c-47d6-bf04-459e49784baa",
   "metadata": {},
   "outputs": [],
   "source": [
    "#grd_Boost2.best_estimator_"
   ]
  },
  {
   "cell_type": "code",
   "execution_count": 103,
   "id": "a7a1f682-9605-4e8b-8cd7-7f4bfd5059c3",
   "metadata": {},
   "outputs": [],
   "source": [
    "GRD_Boost= grd_Boost.best_estimator_"
   ]
  },
  {
   "cell_type": "code",
   "execution_count": null,
   "id": "bbed36b7-5e9d-4a97-8d82-43cfd1f034d4",
   "metadata": {},
   "outputs": [],
   "source": [
    "#GRD_Boost2= grd_Boost2.best_estimator_"
   ]
  },
  {
   "cell_type": "code",
   "execution_count": 104,
   "id": "551ecd5d",
   "metadata": {},
   "outputs": [
    {
     "name": "stdout",
     "output_type": "stream",
     "text": [
      "MAE: 1.3668062018559635\n",
      "MSE: 4.334346416472876\n",
      "RMSE: 2.0819093199447654\n",
      "R2 Square 0.9515492377738611\n",
      "__________________________________\n",
      "MAE: 0.20911166631948802\n",
      "MSE: 0.13109565035591692\n",
      "RMSE: 0.3620713332423832\n",
      "R2 Square 0.9985583209429594\n",
      "__________________________________\n"
     ]
    }
   ],
   "source": [
    "predicted_train = GRD_Boost.predict(X_train_imput_scale)\n",
    "predicted_test = GRD_Boost.predict(X_test_imput_scale)\n",
    "model_eval(y_test, predicted_test)\n",
    "model_eval(y_train, predicted_train)"
   ]
  },
  {
   "cell_type": "code",
   "execution_count": null,
   "id": "f7780ee7-1ef1-47d6-bf2a-e5113a0844f9",
   "metadata": {},
   "outputs": [],
   "source": [
    "predicted_train = GRD_Boost2.predict(X_train_imput_scale)\n",
    "predicted_test = GRD_Boost2.predict(X_test_imput_scale)\n",
    "model_eval(y_test, predicted_test)\n",
    "model_eval(y_train, predicted_train)"
   ]
  },
  {
   "cell_type": "markdown",
   "id": "0edb2a8a-144b-4229-bc94-639246c8e528",
   "metadata": {},
   "source": [
    "#### XGBoost regression model"
   ]
  },
  {
   "cell_type": "code",
   "execution_count": 106,
   "id": "95dc3914",
   "metadata": {},
   "outputs": [
    {
     "data": {
      "text/plain": [
       "XGBRegressor(base_score=0.5, booster='gbtree', colsample_bylevel=1,\n",
       "             colsample_bynode=1, colsample_bytree=1, enable_categorical=False,\n",
       "             gamma=0, gpu_id=-1, importance_type=None,\n",
       "             interaction_constraints='', learning_rate=0.04, max_delta_step=0,\n",
       "             max_depth=5, min_child_weight=1, missing=nan,\n",
       "             monotone_constraints='()', n_estimators=200, n_jobs=-1,\n",
       "             num_parallel_tree=1, predictor='auto', random_state=0, reg_alpha=0,\n",
       "             reg_lambda=1, scale_pos_weight=1, subsample=1, tree_method='exact',\n",
       "             validate_parameters=1, verbosity=None)"
      ]
     },
     "execution_count": 106,
     "metadata": {},
     "output_type": "execute_result"
    }
   ],
   "source": [
    "xgbr = xgb.XGBRegressor(objective='reg:squarederror',  learning_rate= 0.04, max_depth=5,\n",
    "                       n_estimators= 200, n_jobs=-1 )\n",
    "xgbr.fit(X_train_imput_scale, y_train)"
   ]
  },
  {
   "cell_type": "code",
   "execution_count": null,
   "id": "f43bbd52-00ca-4562-b606-b2464233bae2",
   "metadata": {},
   "outputs": [],
   "source": [
    "predicted_train = xgbr.predict(X_train_imput_scale)\n",
    "predicted_test = xgbr.predict(X_test_imput_scale)\n",
    "model_eval(y_test, predicted_test)\n",
    "model_eval(y_train, predicted_train)"
   ]
  },
  {
   "cell_type": "code",
   "execution_count": null,
   "id": "4a68a527-b95e-4b48-9693-b455514f2130",
   "metadata": {},
   "outputs": [],
   "source": []
  },
  {
   "cell_type": "markdown",
   "id": "b2755d22",
   "metadata": {},
   "source": [
    "### 7. Mix of model, which model to select for ensemble model"
   ]
  },
  {
   "cell_type": "code",
   "execution_count": 107,
   "id": "ad6be2d6",
   "metadata": {},
   "outputs": [],
   "source": [
    "alg= [RandomForestRegressor(), AdaBoostRegressor(), GradientBoostingRegressor(), \n",
    "      DecisionTreeRegressor(), LinearRegression(), SVR(), LassoCV()]"
   ]
  },
  {
   "cell_type": "code",
   "execution_count": 108,
   "id": "a6a86612",
   "metadata": {
    "scrolled": true
   },
   "outputs": [
    {
     "name": "stderr",
     "output_type": "stream",
     "text": [
      "C:\\Users\\HP\\AppData\\Local\\Temp/ipykernel_49832/2741472670.py:3: DataConversionWarning: A column-vector y was passed when a 1d array was expected. Please change the shape of y to (n_samples,), for example using ravel().\n",
      "  model.fit(X_train_imput_scale, y_train)\n"
     ]
    },
    {
     "name": "stdout",
     "output_type": "stream",
     "text": [
      "MAE: 0.4397028181041849\n",
      "MSE: 0.5328801878736122\n",
      "RMSE: 0.7299864299242913\n",
      "R2 Square 0.9941398345049317\n",
      "__________________________________\n",
      "RandomForestRegressor() None\n",
      "**************************************************\n",
      "MAE: 1.4545392491467548\n",
      "MSE: 4.7223924197952085\n",
      "RMSE: 2.173106628721934\n",
      "R2 Square 0.9472115308087882\n",
      "__________________________________\n",
      "RandomForestRegressor() None\n",
      "======================================================================\n"
     ]
    },
    {
     "name": "stderr",
     "output_type": "stream",
     "text": [
      "C:\\Users\\HP\\anaconda3\\lib\\site-packages\\sklearn\\utils\\validation.py:63: DataConversionWarning: A column-vector y was passed when a 1d array was expected. Please change the shape of y to (n_samples, ), for example using ravel().\n",
      "  return f(*args, **kwargs)\n"
     ]
    },
    {
     "name": "stdout",
     "output_type": "stream",
     "text": [
      "MAE: 2.320000771075959\n",
      "MSE: 8.339383723024891\n",
      "RMSE: 2.8877991140356163\n",
      "R2 Square 0.9082905128471475\n",
      "__________________________________\n",
      "AdaBoostRegressor() None\n",
      "**************************************************\n",
      "MAE: 2.42969973996239\n",
      "MSE: 9.689600009351022\n",
      "RMSE: 3.1128122348370164\n",
      "R2 Square 0.8916864364289797\n",
      "__________________________________\n",
      "AdaBoostRegressor() None\n",
      "======================================================================\n"
     ]
    },
    {
     "name": "stderr",
     "output_type": "stream",
     "text": [
      "C:\\Users\\HP\\anaconda3\\lib\\site-packages\\sklearn\\utils\\validation.py:63: DataConversionWarning: A column-vector y was passed when a 1d array was expected. Please change the shape of y to (n_samples, ), for example using ravel().\n",
      "  return f(*args, **kwargs)\n"
     ]
    },
    {
     "name": "stdout",
     "output_type": "stream",
     "text": [
      "MAE: 1.3112293301651572\n",
      "MSE: 3.359337970305527\n",
      "RMSE: 1.8328496856822512\n",
      "R2 Square 0.9630568429679986\n",
      "__________________________________\n",
      "GradientBoostingRegressor() None\n",
      "**************************************************\n",
      "MAE: 1.786269291766966\n",
      "MSE: 6.538506501782163\n",
      "RMSE: 2.5570503518276997\n",
      "R2 Square 0.9269104050779341\n",
      "__________________________________\n",
      "GradientBoostingRegressor() None\n",
      "======================================================================\n",
      "MAE: 0.0\n",
      "MSE: 0.0\n",
      "RMSE: 0.0\n",
      "R2 Square 1.0\n",
      "__________________________________\n",
      "DecisionTreeRegressor() None\n",
      "**************************************************\n",
      "MAE: 2.1709897610921507\n",
      "MSE: 10.114812286689421\n",
      "RMSE: 3.1803792677429876\n",
      "R2 Square 0.8869332725225002\n",
      "__________________________________\n",
      "DecisionTreeRegressor() None\n",
      "======================================================================\n",
      "MAE: 2.42219185750846\n",
      "MSE: 10.749188467196358\n",
      "RMSE: 3.2785955022229194\n",
      "R2 Square 0.881789518940812\n",
      "__________________________________\n",
      "LinearRegression() None\n",
      "**************************************************\n",
      "MAE: 2.5268663256452206\n",
      "MSE: 12.29678872564284\n",
      "RMSE: 3.506677733360002\n",
      "R2 Square 0.8625424159852881\n",
      "__________________________________\n",
      "LinearRegression() None\n",
      "======================================================================\n"
     ]
    },
    {
     "name": "stderr",
     "output_type": "stream",
     "text": [
      "C:\\Users\\HP\\anaconda3\\lib\\site-packages\\sklearn\\utils\\validation.py:63: DataConversionWarning: A column-vector y was passed when a 1d array was expected. Please change the shape of y to (n_samples, ), for example using ravel().\n",
      "  return f(*args, **kwargs)\n"
     ]
    },
    {
     "name": "stdout",
     "output_type": "stream",
     "text": [
      "MAE: 2.1009407198120638\n",
      "MSE: 10.180935030726625\n",
      "RMSE: 3.190757751808593\n",
      "R2 Square 0.8880386894985354\n",
      "__________________________________\n",
      "SVR() None\n",
      "**************************************************\n",
      "MAE: 2.3843115506866788\n",
      "MSE: 11.871431754915484\n",
      "RMSE: 3.4454944137112578\n",
      "R2 Square 0.8672971973224736\n",
      "__________________________________\n",
      "SVR() None\n",
      "======================================================================\n"
     ]
    },
    {
     "name": "stderr",
     "output_type": "stream",
     "text": [
      "C:\\Users\\HP\\anaconda3\\lib\\site-packages\\sklearn\\utils\\validation.py:63: DataConversionWarning: A column-vector y was passed when a 1d array was expected. Please change the shape of y to (n_samples, ), for example using ravel().\n",
      "  return f(*args, **kwargs)\n"
     ]
    },
    {
     "name": "stdout",
     "output_type": "stream",
     "text": [
      "MAE: 2.434873450872242\n",
      "MSE: 10.798101969715463\n",
      "RMSE: 3.2860465562306724\n",
      "R2 Square 0.8812516096204276\n",
      "__________________________________\n",
      "LassoCV() None\n",
      "**************************************************\n",
      "MAE: 2.5459128414296908\n",
      "MSE: 12.355273751021125\n",
      "RMSE: 3.515006934704557\n",
      "R2 Square 0.8618886509683472\n",
      "__________________________________\n",
      "LassoCV() None\n",
      "======================================================================\n"
     ]
    }
   ],
   "source": [
    "for i in alg:\n",
    "    model= i\n",
    "    model.fit(X_train_imput_scale, y_train)\n",
    "    y_pred1= model.predict(X_test_imput_scale)\n",
    "    y_pred2= model.predict(X_train_imput_scale)\n",
    "    print(i, model_eval(y_train, y_pred2))\n",
    "    print(\"*\"*50)\n",
    "    print(i, model_eval(y_test, y_pred1))\n",
    "    print(\"=\"*70)"
   ]
  },
  {
   "cell_type": "code",
   "execution_count": null,
   "id": "482f280b",
   "metadata": {},
   "outputs": [],
   "source": []
  },
  {
   "cell_type": "markdown",
   "id": "179fee94",
   "metadata": {},
   "source": [
    "### 7. Ensemble learning model  "
   ]
  },
  {
   "cell_type": "code",
   "execution_count": 109,
   "id": "d1441757",
   "metadata": {
    "scrolled": true
   },
   "outputs": [
    {
     "name": "stderr",
     "output_type": "stream",
     "text": [
      "C:\\Users\\HP\\anaconda3\\lib\\site-packages\\sklearn\\utils\\validation.py:63: DataConversionWarning: A column-vector y was passed when a 1d array was expected. Please change the shape of y to (n_samples, ), for example using ravel().\n",
      "  return f(*args, **kwargs)\n",
      "C:\\Users\\HP\\AppData\\Local\\Temp/ipykernel_49832/3148182653.py:7: DataConversionWarning: A column-vector y was passed when a 1d array was expected. Please change the shape of y to (n_samples,), for example using ravel().\n",
      "  reg2.fit( X_train_imput_scale , y_train)\n",
      "C:\\Users\\HP\\anaconda3\\lib\\site-packages\\sklearn\\utils\\validation.py:63: DataConversionWarning: A column-vector y was passed when a 1d array was expected. Please change the shape of y to (n_samples, ), for example using ravel().\n",
      "  return f(*args, **kwargs)\n"
     ]
    },
    {
     "data": {
      "text/plain": [
       "VotingRegressor(estimators=[('gb', GradientBoostingRegressor(random_state=47)),\n",
       "                            ('rf', RandomForestRegressor(random_state=47)),\n",
       "                            ('lr', LinearRegression())])"
      ]
     },
     "execution_count": 109,
     "metadata": {},
     "output_type": "execute_result"
    }
   ],
   "source": [
    "# Train classifiers\n",
    "reg1 = GradientBoostingRegressor(random_state=47)\n",
    "reg2 = RandomForestRegressor(random_state=47)\n",
    "reg3 = LinearRegression()\n",
    "\n",
    "reg1.fit( X_train_imput_scale , y_train)\n",
    "reg2.fit( X_train_imput_scale , y_train)\n",
    "reg3.fit( X_train_imput_scale , y_train)\n",
    "\n",
    "voting = VotingRegressor([(\"gb\", reg1), (\"rf\", reg2), (\"lr\", reg3)])\n",
    "voting.fit( X_train_imput_scale , y_train)"
   ]
  },
  {
   "cell_type": "code",
   "execution_count": 111,
   "id": "f3954c78",
   "metadata": {},
   "outputs": [
    {
     "name": "stdout",
     "output_type": "stream",
     "text": [
      "MAE: 1.6994047124747513\n",
      "MSE: 6.26328437571216\n",
      "RMSE: 2.5026554648437247\n",
      "R2 Square 0.9299869293121096\n",
      "__________________________________\n",
      "MAE: 1.2570371988771734\n",
      "MSE: 3.1402730668491654\n",
      "RMSE: 1.7720815632608917\n",
      "R2 Square 0.9654659334495534\n",
      "__________________________________\n"
     ]
    }
   ],
   "source": [
    "predicted_train = voting.predict(X_train_imput_scale)\n",
    "predicted_test = voting.predict(X_test_imput_scale)\n",
    "model_eval(y_test, predicted_test)\n",
    "model_eval(y_train, predicted_train)"
   ]
  },
  {
   "cell_type": "code",
   "execution_count": null,
   "id": "dcf6fdbb-6ad4-4311-9150-e49fcbdd2fdd",
   "metadata": {},
   "outputs": [],
   "source": [
    "#voting.get_params()"
   ]
  },
  {
   "cell_type": "code",
   "execution_count": null,
   "id": "c883f09a",
   "metadata": {},
   "outputs": [],
   "source": []
  },
  {
   "cell_type": "markdown",
   "id": "2f8507f1-0627-4b10-a70c-e99bb63d7252",
   "metadata": {},
   "source": [
    "### Selection of the best model"
   ]
  },
  {
   "cell_type": "code",
   "execution_count": 113,
   "id": "87f1d272",
   "metadata": {},
   "outputs": [],
   "source": [
    "models_liste = [lin_reg, lin_reg2, ridge_reg, Elastic_net, model_dt, rf_reg1, rf_reg2, rf_reg3, rf_reg4,\n",
    "               grdB, GRD_Boost, xgbr, voting]"
   ]
  },
  {
   "cell_type": "code",
   "execution_count": null,
   "id": "be26b95d-6d0a-421a-ad6d-3e4dad39b342",
   "metadata": {},
   "outputs": [],
   "source": [
    "#GRD_Boost2"
   ]
  },
  {
   "cell_type": "code",
   "execution_count": 130,
   "id": "dc2dd55f",
   "metadata": {},
   "outputs": [
    {
     "name": "stdout",
     "output_type": "stream",
     "text": [
      "ElasticNet(alpha=0.0001, l1_ratio=0.4)\n",
      "EVALUATION FOR TRAINING DATA SET\n",
      "MAE: 2.422465123600006\n",
      "MSE: 10.74930620707784\n",
      "RMSE: 3.2786134580151165\n",
      "R2 Square 0.8817882241372021\n",
      "__________________________________\n",
      "None\n",
      "**************************************************\n",
      "EVALUATION FOR TESTING DATA SET\n",
      "MAE: 2.527914693963443\n",
      "MSE: 12.300043713472308\n",
      "RMSE: 3.5071418154206864\n",
      "R2 Square 0.8625060306514405\n",
      "__________________________________\n",
      "None\n",
      "======================================================================\n",
      "DecisionTreeRegressor(max_depth=4, max_features=0.2, min_samples_leaf=0.1,\n",
      "                      random_state=1)\n",
      "EVALUATION FOR TRAINING DATA SET\n",
      "MAE: 3.553711820842639\n",
      "MSE: 23.35047910088829\n",
      "RMSE: 4.832233345037085\n",
      "R2 Square 0.7432111851139154\n",
      "__________________________________\n",
      "None\n",
      "**************************************************\n",
      "EVALUATION FOR TESTING DATA SET\n",
      "MAE: 3.8712166019486913\n",
      "MSE: 28.4318375579228\n",
      "RMSE: 5.33215130673566\n",
      "R2 Square 0.682179487099669\n",
      "__________________________________\n",
      "None\n",
      "======================================================================\n",
      "RandomForestRegressor(max_depth=4, max_features=0.4, n_estimators=200,\n",
      "                      n_jobs=-1, random_state=1)\n",
      "EVALUATION FOR TRAINING DATA SET\n",
      "MAE: 1.955380700864789\n",
      "MSE: 7.327613677992685\n",
      "RMSE: 2.706956534189769\n",
      "R2 Square 0.9194171038553456\n",
      "__________________________________\n",
      "None\n",
      "**************************************************\n",
      "EVALUATION FOR TESTING DATA SET\n",
      "MAE: 2.101229272755366\n",
      "MSE: 8.956320005695064\n",
      "RMSE: 2.992711146384673\n",
      "R2 Square 0.8998832835862101\n",
      "__________________________________\n",
      "None\n",
      "======================================================================\n",
      "RandomForestRegressor(max_depth=10, max_features=0.4, n_estimators=200,\n",
      "                      n_jobs=-1, random_state=1)\n",
      "EVALUATION FOR TRAINING DATA SET\n",
      "MAE: 0.777499479811991\n",
      "MSE: 1.2670101926638015\n",
      "RMSE: 1.1256154728253347\n",
      "R2 Square 0.9860664937786929\n",
      "__________________________________\n",
      "None\n",
      "**************************************************\n",
      "EVALUATION FOR TESTING DATA SET\n",
      "MAE: 1.4623943547759197\n",
      "MSE: 4.929916106159911\n",
      "RMSE: 2.220341439094427\n",
      "R2 Square 0.944891762193586\n",
      "__________________________________\n",
      "None\n",
      "======================================================================\n",
      "RandomForestRegressor(max_depth=7, max_features=0.3, n_jobs=-1, random_state=1)\n",
      "EVALUATION FOR TRAINING DATA SET\n",
      "MAE: 1.3318307018113518\n",
      "MSE: 3.436163647142952\n",
      "RMSE: 1.8536891991763216\n",
      "R2 Square 0.9622119791678742\n",
      "__________________________________\n",
      "None\n",
      "**************************************************\n",
      "EVALUATION FOR TESTING DATA SET\n",
      "MAE: 1.6981721871584783\n",
      "MSE: 6.205929568166913\n",
      "RMSE: 2.4911703209870883\n",
      "R2 Square 0.9306280603791464\n",
      "__________________________________\n",
      "None\n",
      "======================================================================\n",
      "RandomForestRegressor(max_depth=8, max_features=0.6, n_estimators=200,\n",
      "                      random_state=1)\n",
      "EVALUATION FOR TRAINING DATA SET\n",
      "MAE: 1.0274587227469514\n",
      "MSE: 2.1669098126828152\n",
      "RMSE: 1.4720427346659524\n",
      "R2 Square 0.9761701590635594\n",
      "__________________________________\n",
      "None\n",
      "**************************************************\n",
      "EVALUATION FOR TESTING DATA SET\n",
      "MAE: 1.5166324754404246\n",
      "MSE: 5.2092688606991455\n",
      "RMSE: 2.2823822775116236\n",
      "R2 Square 0.941769064423985\n",
      "__________________________________\n",
      "None\n",
      "======================================================================\n",
      "GradientBoostingRegressor(n_estimators=150, random_state=1)\n",
      "EVALUATION FOR TRAINING DATA SET\n",
      "MAE: 1.1864815531020003\n",
      "MSE: 2.7504461713223574\n",
      "RMSE: 1.658446915436957\n",
      "R2 Square 0.9697529198570076\n",
      "__________________________________\n",
      "None\n",
      "**************************************************\n",
      "EVALUATION FOR TESTING DATA SET\n",
      "MAE: 1.7741461770760325\n",
      "MSE: 6.3917435035429655\n",
      "RMSE: 2.5281897681034478\n",
      "R2 Square 0.9285509705630227\n",
      "__________________________________\n",
      "None\n",
      "======================================================================\n",
      "GradientBoostingRegressor(learning_rate=0.08249999999999999, max_depth=10,\n",
      "                          max_features=0.6000000000000001, min_samples_leaf=8,\n",
      "                          min_samples_split=10, n_estimators=118)\n",
      "EVALUATION FOR TRAINING DATA SET\n",
      "MAE: 0.20221308221737733\n",
      "MSE: 0.12169918615582076\n",
      "RMSE: 0.3488541043987024\n",
      "R2 Square 0.9986616553069197\n",
      "__________________________________\n",
      "None\n",
      "**************************************************\n",
      "EVALUATION FOR TESTING DATA SET\n",
      "MAE: 1.392438970143837\n",
      "MSE: 4.427772309362154\n",
      "RMSE: 2.104227247557201\n",
      "R2 Square 0.9505048921477387\n",
      "__________________________________\n",
      "None\n",
      "======================================================================\n",
      "XGBRegressor(base_score=0.5, booster='gbtree', colsample_bylevel=1,\n",
      "             colsample_bynode=1, colsample_bytree=1, enable_categorical=False,\n",
      "             gamma=0, gpu_id=-1, importance_type=None,\n",
      "             interaction_constraints='', learning_rate=0.04, max_delta_step=0,\n",
      "             max_depth=5, min_child_weight=1, missing=nan,\n",
      "             monotone_constraints='()', n_estimators=200, n_jobs=-1,\n",
      "             num_parallel_tree=1, predictor='auto', random_state=0, reg_alpha=0,\n",
      "             reg_lambda=1, scale_pos_weight=1, subsample=1, tree_method='exact',\n",
      "             validate_parameters=1, verbosity=None)\n",
      "EVALUATION FOR TRAINING DATA SET\n",
      "MAE: 0.9048584349230758\n",
      "MSE: 1.6694693804189715\n",
      "RMSE: 1.2920794791416554\n",
      "R2 Square 0.9816405881081007\n",
      "__________________________________\n",
      "None\n",
      "**************************************************\n",
      "EVALUATION FOR TESTING DATA SET\n",
      "MAE: 1.550712274284493\n",
      "MSE: 5.302819178079341\n",
      "RMSE: 2.302785091596552\n",
      "R2 Square 0.9407233279396234\n",
      "__________________________________\n",
      "None\n",
      "======================================================================\n",
      "VotingRegressor(estimators=[('gb', GradientBoostingRegressor(random_state=47)),\n",
      "                            ('rf', RandomForestRegressor(random_state=47)),\n",
      "                            ('lr', LinearRegression())])\n",
      "EVALUATION FOR TRAINING DATA SET\n",
      "MAE: 1.2570371988771734\n",
      "MSE: 3.1402730668491654\n",
      "RMSE: 1.7720815632608917\n",
      "R2 Square 0.9654659334495534\n",
      "__________________________________\n",
      "None\n",
      "**************************************************\n",
      "EVALUATION FOR TESTING DATA SET\n",
      "MAE: 1.6994047124747513\n",
      "MSE: 6.26328437571216\n",
      "RMSE: 2.5026554648437247\n",
      "R2 Square 0.9299869293121096\n",
      "__________________________________\n",
      "None\n",
      "======================================================================\n"
     ]
    }
   ],
   "source": [
    "for model in models_liste[3:]:\n",
    "    model=model\n",
    "    y_pred1= model.predict(X_test_imput_scale)\n",
    "    y_pred2= model.predict(X_train_imput_scale)\n",
    "    print(model)\n",
    "    print('EVALUATION FOR TRAINING DATA SET')\n",
    "    print(model_eval(y_train, y_pred2))\n",
    "    print(\"*\"*50)\n",
    "    print('EVALUATION FOR TESTING DATA SET')    \n",
    "    print(model_eval(y_test, y_pred1))\n",
    "    print(\"=\"*70)"
   ]
  },
  {
   "cell_type": "code",
   "execution_count": null,
   "id": "b1bbdf7c",
   "metadata": {},
   "outputs": [],
   "source": []
  },
  {
   "cell_type": "code",
   "execution_count": null,
   "id": "2d2c264d",
   "metadata": {},
   "outputs": [],
   "source": []
  }
 ],
 "metadata": {
  "kernelspec": {
   "display_name": "Python 3 (ipykernel)",
   "language": "python",
   "name": "python3"
  },
  "language_info": {
   "codemirror_mode": {
    "name": "ipython",
    "version": 3
   },
   "file_extension": ".py",
   "mimetype": "text/x-python",
   "name": "python",
   "nbconvert_exporter": "python",
   "pygments_lexer": "ipython3",
   "version": "3.8.10"
  }
 },
 "nbformat": 4,
 "nbformat_minor": 5
}
