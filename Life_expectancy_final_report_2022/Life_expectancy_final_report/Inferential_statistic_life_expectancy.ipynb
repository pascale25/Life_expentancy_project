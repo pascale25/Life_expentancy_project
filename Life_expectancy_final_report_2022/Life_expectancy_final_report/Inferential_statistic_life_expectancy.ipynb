{
 "cells": [
  {
   "cell_type": "markdown",
   "id": "8a3264bb",
   "metadata": {},
   "source": [
    "### Factors Driving Life Expectancy : Do immunization matters?"
   ]
  },
  {
   "cell_type": "code",
   "execution_count": 1,
   "id": "f8f5375e",
   "metadata": {},
   "outputs": [],
   "source": [
    "import pandas as pd\n",
    "import numpy as np\n",
    "import matplotlib.pyplot as plt\n",
    "import seaborn as sns\n",
    "from numpy.random import seed\n",
    "import os\n",
    "from scipy.stats import t\n",
    "\n",
    "from library.sb_utils import save_file"
   ]
  },
  {
   "cell_type": "code",
   "execution_count": 2,
   "id": "20e277e6",
   "metadata": {},
   "outputs": [],
   "source": [
    "sns.set()\n",
    "sns.set_context(\"notebook\")"
   ]
  },
  {
   "cell_type": "markdown",
   "id": "8363150d",
   "metadata": {},
   "source": [
    "#### Importing Data"
   ]
  },
  {
   "cell_type": "code",
   "execution_count": 3,
   "id": "ab209b74",
   "metadata": {},
   "outputs": [],
   "source": [
    "df1 = pd.read_csv(\"../data/life_exp_clean.csv\")"
   ]
  },
  {
   "cell_type": "code",
   "execution_count": 4,
   "id": "d27d8e43",
   "metadata": {},
   "outputs": [
    {
     "data": {
      "text/html": [
       "<div>\n",
       "<style scoped>\n",
       "    .dataframe tbody tr th:only-of-type {\n",
       "        vertical-align: middle;\n",
       "    }\n",
       "\n",
       "    .dataframe tbody tr th {\n",
       "        vertical-align: top;\n",
       "    }\n",
       "\n",
       "    .dataframe thead th {\n",
       "        text-align: right;\n",
       "    }\n",
       "</style>\n",
       "<table border=\"1\" class=\"dataframe\">\n",
       "  <thead>\n",
       "    <tr style=\"text-align: right;\">\n",
       "      <th></th>\n",
       "      <th>Country</th>\n",
       "      <th>Year</th>\n",
       "      <th>Status</th>\n",
       "      <th>Life_expectancy</th>\n",
       "      <th>Adult_Mortality</th>\n",
       "      <th>infant_deaths</th>\n",
       "      <th>Alcohol</th>\n",
       "      <th>percentage_expenditure</th>\n",
       "      <th>Hepatitis_B</th>\n",
       "      <th>Measles</th>\n",
       "      <th>...</th>\n",
       "      <th>Total_expenditure</th>\n",
       "      <th>Diphtheria</th>\n",
       "      <th>HIV/AIDS</th>\n",
       "      <th>GDP</th>\n",
       "      <th>Population</th>\n",
       "      <th>thinness__1_19_years</th>\n",
       "      <th>thinness_5_9_years</th>\n",
       "      <th>Income_composition_of_resources</th>\n",
       "      <th>Schooling</th>\n",
       "      <th>population</th>\n",
       "    </tr>\n",
       "  </thead>\n",
       "  <tbody>\n",
       "    <tr>\n",
       "      <th>0</th>\n",
       "      <td>Afghanistan</td>\n",
       "      <td>2015</td>\n",
       "      <td>Developing</td>\n",
       "      <td>65.0</td>\n",
       "      <td>263.0</td>\n",
       "      <td>62.0</td>\n",
       "      <td>0.01</td>\n",
       "      <td>71.279624</td>\n",
       "      <td>65.0</td>\n",
       "      <td>1154.0</td>\n",
       "      <td>...</td>\n",
       "      <td>8.16</td>\n",
       "      <td>65.0</td>\n",
       "      <td>0.1</td>\n",
       "      <td>584.259210</td>\n",
       "      <td>33736494.0</td>\n",
       "      <td>17.2</td>\n",
       "      <td>17.3</td>\n",
       "      <td>0.479</td>\n",
       "      <td>10.1</td>\n",
       "      <td>17.334091</td>\n",
       "    </tr>\n",
       "    <tr>\n",
       "      <th>1</th>\n",
       "      <td>Afghanistan</td>\n",
       "      <td>2014</td>\n",
       "      <td>Developing</td>\n",
       "      <td>59.9</td>\n",
       "      <td>271.0</td>\n",
       "      <td>64.0</td>\n",
       "      <td>0.01</td>\n",
       "      <td>73.523582</td>\n",
       "      <td>62.0</td>\n",
       "      <td>492.0</td>\n",
       "      <td>...</td>\n",
       "      <td>8.18</td>\n",
       "      <td>62.0</td>\n",
       "      <td>0.1</td>\n",
       "      <td>612.696514</td>\n",
       "      <td>327582.0</td>\n",
       "      <td>17.5</td>\n",
       "      <td>17.5</td>\n",
       "      <td>0.476</td>\n",
       "      <td>10.0</td>\n",
       "      <td>12.699494</td>\n",
       "    </tr>\n",
       "  </tbody>\n",
       "</table>\n",
       "<p>2 rows × 23 columns</p>\n",
       "</div>"
      ],
      "text/plain": [
       "       Country  Year      Status  Life_expectancy  Adult_Mortality  \\\n",
       "0  Afghanistan  2015  Developing             65.0            263.0   \n",
       "1  Afghanistan  2014  Developing             59.9            271.0   \n",
       "\n",
       "   infant_deaths  Alcohol  percentage_expenditure  Hepatitis_B  Measles  ...  \\\n",
       "0           62.0     0.01               71.279624         65.0   1154.0  ...   \n",
       "1           64.0     0.01               73.523582         62.0    492.0  ...   \n",
       "\n",
       "   Total_expenditure  Diphtheria  HIV/AIDS         GDP  Population  \\\n",
       "0               8.16        65.0       0.1  584.259210  33736494.0   \n",
       "1               8.18        62.0       0.1  612.696514    327582.0   \n",
       "\n",
       "   thinness__1_19_years  thinness_5_9_years  Income_composition_of_resources  \\\n",
       "0                  17.2                17.3                            0.479   \n",
       "1                  17.5                17.5                            0.476   \n",
       "\n",
       "   Schooling  population  \n",
       "0       10.1   17.334091  \n",
       "1       10.0   12.699494  \n",
       "\n",
       "[2 rows x 23 columns]"
      ]
     },
     "execution_count": 4,
     "metadata": {},
     "output_type": "execute_result"
    }
   ],
   "source": [
    "df1.head(2)"
   ]
  },
  {
   "cell_type": "code",
   "execution_count": 5,
   "id": "1f7d9578",
   "metadata": {},
   "outputs": [
    {
     "data": {
      "text/plain": [
       "(2928, 23)"
      ]
     },
     "execution_count": 5,
     "metadata": {},
     "output_type": "execute_result"
    }
   ],
   "source": [
    "df1.shape"
   ]
  },
  {
   "cell_type": "code",
   "execution_count": 6,
   "id": "6ea22c22",
   "metadata": {},
   "outputs": [
    {
     "name": "stdout",
     "output_type": "stream",
     "text": [
      "<class 'pandas.core.frame.DataFrame'>\n",
      "RangeIndex: 2928 entries, 0 to 2927\n",
      "Data columns (total 23 columns):\n",
      " #   Column                           Non-Null Count  Dtype  \n",
      "---  ------                           --------------  -----  \n",
      " 0   Country                          2928 non-null   object \n",
      " 1   Year                             2928 non-null   int64  \n",
      " 2   Status                           2928 non-null   object \n",
      " 3   Life_expectancy                  2928 non-null   float64\n",
      " 4   Adult_Mortality                  2928 non-null   float64\n",
      " 5   infant_deaths                    2090 non-null   float64\n",
      " 6   Alcohol                          2735 non-null   float64\n",
      " 7   percentage_expenditure           2322 non-null   float64\n",
      " 8   Hepatitis_B                      2375 non-null   float64\n",
      " 9   Measles                          1955 non-null   float64\n",
      " 10  BMI                              2896 non-null   float64\n",
      " 11  under_five_deaths                2153 non-null   float64\n",
      " 12  Polio                            2909 non-null   float64\n",
      " 13  Total_expenditure                2702 non-null   float64\n",
      " 14  Diphtheria                       2909 non-null   float64\n",
      " 15  HIV/AIDS                         2928 non-null   float64\n",
      " 16  GDP                              2485 non-null   float64\n",
      " 17  Population                       2284 non-null   float64\n",
      " 18  thinness__1_19_years             2896 non-null   float64\n",
      " 19  thinness_5_9_years               2896 non-null   float64\n",
      " 20  Income_composition_of_resources  2638 non-null   float64\n",
      " 21  Schooling                        2742 non-null   float64\n",
      " 22  population                       2284 non-null   float64\n",
      "dtypes: float64(20), int64(1), object(2)\n",
      "memory usage: 526.2+ KB\n"
     ]
    }
   ],
   "source": [
    "df1.info()"
   ]
  },
  {
   "cell_type": "code",
   "execution_count": 9,
   "id": "fca424fe",
   "metadata": {
    "scrolled": true
   },
   "outputs": [],
   "source": [
    "# convert Year to datetime object \n",
    "#df1.Year = pd.to_datetime(df1.Year, format='%Y-%d-%m')"
   ]
  },
  {
   "cell_type": "markdown",
   "id": "efb452ea",
   "metadata": {},
   "source": [
    "Note:  there is "
   ]
  },
  {
   "cell_type": "markdown",
   "id": "9dfe0872",
   "metadata": {},
   "source": [
    "### Distribution of features"
   ]
  },
  {
   "cell_type": "code",
   "execution_count": 10,
   "id": "8ee23203",
   "metadata": {},
   "outputs": [
    {
     "data": {
      "image/png": "[encoded data removed]",
      "text/plain": [
       "<Figure size 1080x720 with 25 Axes>"
      ]
     },
     "metadata": {},
     "output_type": "display_data"
    }
   ],
   "source": [
    "#view the distribution of data \n",
    "df1.hist(figsize=(15, 10) )\n",
    "plt.subplots_adjust(hspace=0.5);"
   ]
  },
  {
   "cell_type": "markdown",
   "id": "91893982-371a-46eb-8d68-790e4297a5fc",
   "metadata": {},
   "source": [
    "#### is the Status of the country impact life expectancy?"
   ]
  },
  {
   "cell_type": "code",
   "execution_count": 11,
   "id": "75e955b3",
   "metadata": {},
   "outputs": [],
   "source": [
    "df_developing = df1[df1['Status']=='Developing']\n",
    "df_developed = df1[df1['Status']=='Developed']"
   ]
  },
  {
   "cell_type": "markdown",
   "id": "9625c097",
   "metadata": {},
   "source": [
    "1- we have to compare two independant group wiht inequal sample"
   ]
  },
  {
   "cell_type": "code",
   "execution_count": 12,
   "id": "e43aaffe",
   "metadata": {},
   "outputs": [],
   "source": [
    "developing = df1[df1['Status']=='Developing']['Life_expectancy']\n",
    "developed = df1[df1['Status']=='Developed']['Life_expectancy']"
   ]
  },
  {
   "cell_type": "code",
   "execution_count": 13,
   "id": "14d46fa0",
   "metadata": {},
   "outputs": [
    {
     "name": "stdout",
     "output_type": "stream",
     "text": [
      "developing is  2416 observations  developed is  512 observations\n"
     ]
    }
   ],
   "source": [
    "print('developing is ',len(developing),'observations',' developed is ', len(developed),'observations')"
   ]
  },
  {
   "cell_type": "markdown",
   "id": "f00cd031-275e-4f84-afae-c53971e65132",
   "metadata": {},
   "source": [
    "#### How does the distribution look like?"
   ]
  },
  {
   "cell_type": "code",
   "execution_count": 14,
   "id": "c401eb88",
   "metadata": {},
   "outputs": [
    {
     "data": {
      "image/png": "[encoded data removed]",
      "text/plain": [
       "<Figure size 432x288 with 1 Axes>"
      ]
     },
     "metadata": {},
     "output_type": "display_data"
    }
   ],
   "source": [
    "# histogram of life expectancy in developed and developing countries \n",
    "_ = plt.hist(developing, bins=20, density=True)\n",
    "_ = plt.axvline(np.mean(developing), color='r')\n",
    "_ = plt.xlabel('life_expectancy')\n",
    "_ = plt.ylabel('PDF')\n",
    "_ = plt.title('histogram of life expectancy in developing countries')\n",
    "_ = plt.show()"
   ]
  },
  {
   "cell_type": "code",
   "execution_count": 15,
   "id": "b5440a92",
   "metadata": {},
   "outputs": [
    {
     "data": {
      "image/png": "[encoded data removed]",
      "text/plain": [
       "<Figure size 432x288 with 1 Axes>"
      ]
     },
     "metadata": {},
     "output_type": "display_data"
    }
   ],
   "source": [
    "# histogram of life expectancy in developed and developing countries \n",
    "_ = plt.hist(developed, bins=20, density=True)\n",
    "_ = plt.axvline(np.mean(developed), color='r')\n",
    "_ = plt.xlabel('life_expectancy')\n",
    "_ = plt.ylabel('PDF')\n",
    "_ = plt.title('histogram of life expectancy in developed countries')\n",
    "_ = plt.show()"
   ]
  },
  {
   "cell_type": "code",
   "execution_count": 16,
   "id": "984e9e4c",
   "metadata": {},
   "outputs": [
    {
     "data": {
      "text/plain": [
       "<AxesSubplot:xlabel='Life_expectancy', ylabel='Density'>"
      ]
     },
     "execution_count": 16,
     "metadata": {},
     "output_type": "execute_result"
    },
    {
     "data": {
      "image/png": "[encoded data removed]",
      "text/plain": [
       "<Figure size 432x288 with 1 Axes>"
      ]
     },
     "metadata": {},
     "output_type": "display_data"
    }
   ],
   "source": [
    "sns.histplot(\n",
    "    data=df1, x=\"Life_expectancy\", hue=\"Status\",\n",
    "    log_scale=True, element=\"step\", fill=False,\n",
    "    cumulative=True, stat=\"density\", common_norm=False,\n",
    ")"
   ]
  },
  {
   "cell_type": "code",
   "execution_count": 17,
   "id": "69d28325",
   "metadata": {},
   "outputs": [],
   "source": [
    "def ecdf(data):\n",
    "    \"\"\"Compute ECDF for a one-dimensional array of measurements.\"\"\"\n",
    "    # Number of data points: n\n",
    "    n = len(data)\n",
    "\n",
    "    # x-data for the ECDF: x\n",
    "    x = np.sort(data)\n",
    "\n",
    "    # y-data for the ECDF: y\n",
    "    y = np.arange(1, n+1) / n  # or y = np.arange(1, len(x)+1)/len(x)\n",
    "\n",
    "    return x, y"
   ]
  },
  {
   "cell_type": "markdown",
   "id": "477e4e64-7a05-4f79-a356-6e96dd5f5930",
   "metadata": {},
   "source": [
    "#### plot the distribution of the two populations"
   ]
  },
  {
   "cell_type": "code",
   "execution_count": 18,
   "id": "5c556a77",
   "metadata": {},
   "outputs": [
    {
     "data": {
      "image/png": "[encoded data removed]",
      "text/plain": [
       "<Figure size 720x504 with 1 Axes>"
      ]
     },
     "metadata": {},
     "output_type": "display_data"
    }
   ],
   "source": [
    "#Sample out of a normal distribution with this mu and sigma: developing_norm\n",
    "mu = np.mean(developing)\n",
    "sigma = np.std(developing)\n",
    "developing_norm = np.random.normal(mu, sigma, size=10000)\n",
    "#Sample out of a normal distribution with this mu and sigma: developed_norm\n",
    "mu = np.mean(developed)\n",
    "sigma = np.std(developed)\n",
    "developed_norm = np.random.normal(mu, sigma, size=10000)\n",
    "# Compute ECDFs\n",
    "x,y = ecdf(developing_norm)\n",
    "x_dp,y_dp = ecdf(developing)\n",
    "xx, yy = ecdf(developed_norm)\n",
    "x_dd, y_dd = ecdf(developed)\n",
    "\n",
    "plt.figure(figsize=(10, 7))\n",
    "# Plot all ECDFs on the same plot\n",
    "_=plt.plot(x,y, marker='.', linestyle='none' )\n",
    "_=plt.plot(x_dp, y_dp,marker='.', linestyle='none')\n",
    "_=plt.plot(xx,yy, marker='.', linestyle='none' )\n",
    "_=plt.plot(x_dd, y_dd,marker='.', linestyle='none')\n",
    "\n",
    "# Annotate the plot\n",
    "_ = plt.legend(('developing_normal_distribution', 'developing', 'developed_normal_distribution','developed'), loc='lower right')\n",
    "_ = plt.xlabel('life_expectancy')\n",
    "_ = plt.ylabel('Empirical cumulative distribution function (ECDF)')\n",
    "_ = plt.title('Distribution of life_expectancy of Developing and Developed Countries')\n",
    "_ = plt.show()"
   ]
  },
  {
   "cell_type": "code",
   "execution_count": 19,
   "id": "86f3c756",
   "metadata": {},
   "outputs": [],
   "source": [
    "from scipy import stats\n",
    "# Using the stats.normaltest() method, get an indication of whether the data are normally distributed"
   ]
  },
  {
   "cell_type": "code",
   "execution_count": 20,
   "id": "eac877f2",
   "metadata": {},
   "outputs": [
    {
     "name": "stdout",
     "output_type": "stream",
     "text": [
      "p = 3.4988e-34\n",
      "The null hypothesis can be rejected\n"
     ]
    }
   ],
   "source": [
    "k, p = stats.normaltest(developing)\n",
    "alpha = 0.05 # alpha = 1e-3\n",
    "print(\"p = {:g}\".format(p))\n",
    "if p < alpha:  # null hypothesis: the population has a normal distribution\n",
    "    print(\"The null hypothesis can be rejected\") #  The data do not follow a normal distribution (Reject H0)\n",
    "else:\n",
    "    print(\"The null hypothesis cannot be rejected\")"
   ]
  },
  {
   "cell_type": "code",
   "execution_count": 21,
   "id": "e15ac84f",
   "metadata": {
    "tags": []
   },
   "outputs": [
    {
     "name": "stdout",
     "output_type": "stream",
     "text": [
      "p = 0.599307\n",
      "The null hypothesis cannot be rejected\n"
     ]
    }
   ],
   "source": [
    "k, p = stats.normaltest(developed)\n",
    "alpha = 0.05 # alpha = 1e-3\n",
    "print(\"p = {:g}\".format(p))\n",
    "if p < alpha:  # null hypothesis: the population has a normal distribution\n",
    "    print(\"The null hypothesis can be rejected\")\n",
    "else:\n",
    "    print(\"The null hypothesis cannot be rejected\")"
   ]
  },
  {
   "cell_type": "markdown",
   "id": "e08aeca4-c8fb-40d6-8dd1-9463cc067826",
   "metadata": {},
   "source": [
    "Note: The result above confirm what we see in the figure. Data from developing are not normaly distributed , and one form developed is normaly distributed. "
   ]
  },
  {
   "cell_type": "markdown",
   "id": "2bdb4265",
   "metadata": {},
   "source": [
    "#### Get some statistic : we applied the central limit theorem and , find how spred is the life_expectency in the population?"
   ]
  },
  {
   "cell_type": "code",
   "execution_count": 22,
   "id": "c65e4a58",
   "metadata": {},
   "outputs": [],
   "source": [
    "def std_dev_sample(arr):\n",
    "    n = len(arr)-1\n",
    "    mean = np.mean(arr) \n",
    "    var =  sum((x - mean)**2 for x in arr) / n\n",
    "    std_dev = np.sqrt(var) #var ** 0.5\n",
    "    return std_dev"
   ]
  },
  {
   "cell_type": "code",
   "execution_count": 23,
   "id": "ce0c5ec2",
   "metadata": {},
   "outputs": [
    {
     "name": "stdout",
     "output_type": "stream",
     "text": [
      "standard deviation of developing countries is 9.004228045064881\n",
      "standard deviation of developed countries is 3.9271012579848645\n",
      "average life_expectancy of developing countries is 67.11146523178817\n",
      "average life_expectancy of developed countries is 79.19785156249996\n"
     ]
    }
   ],
   "source": [
    "std_dp = np.std(developing)\n",
    "std_dd = np.std(developed)\n",
    "mean_dp = np.mean(developing)\n",
    "mean_dd = np.mean(developed)\n",
    "print('standard deviation of developing countries is' , std_dp)\n",
    "print('standard deviation of developed countries is' , std_dd)\n",
    "print('average life_expectancy of developing countries is',  mean_dp)\n",
    "print('average life_expectancy of developed countries is', mean_dd)"
   ]
  },
  {
   "cell_type": "code",
   "execution_count": 24,
   "id": "07851171",
   "metadata": {},
   "outputs": [],
   "source": [
    "def sampling(population, n):\n",
    "    return np.random.choice(population, n)"
   ]
  },
  {
   "cell_type": "code",
   "execution_count": 25,
   "id": "54f7763e",
   "metadata": {},
   "outputs": [],
   "source": [
    "def boostrap_one_sample(arr, func):\n",
    "    bs_sample = np.random.choice(arr, len(arr)) # one boostrap sample\n",
    "    return func(bs_sample) # one boostrap replicate \n",
    "\n",
    "def boostrap_rep_many(arr, func, size=1):\n",
    "    \n",
    "    bs_sample_rep = np.empty(size) # fill all the mean  from all boostrap_one_sample\n",
    "    \n",
    "    for i in range(size):  # number of replicate to compute as the mean \n",
    "        bs_sample_rep[i] = boostrap_one_sample(arr, func) # cumpute one replicate or one mean\n",
    "    return bs_sample_rep "
   ]
  },
  {
   "cell_type": "code",
   "execution_count": 26,
   "id": "36698885",
   "metadata": {},
   "outputs": [],
   "source": [
    "np.random.seed(47)\n",
    "developing_s = sampling(developing, 100)\n",
    "developed_s = sampling(developed, 100)"
   ]
  },
  {
   "cell_type": "code",
   "execution_count": 27,
   "id": "0654ec18",
   "metadata": {
    "scrolled": true
   },
   "outputs": [
    {
     "data": {
      "image/png": "[encoded data removed]",
      "text/plain": [
       "<Figure size 432x288 with 1 Axes>"
      ]
     },
     "metadata": {},
     "output_type": "display_data"
    }
   ],
   "source": [
    "_ = plt.hist(developing_s, bins=10, density = True)\n",
    "_ = plt.axvline(np.mean(developing_s), color='r')\n",
    "_ = plt.title('histogram of the sample(n=100) of life expectancy in developing countries')\n",
    "_ = plt.show()"
   ]
  },
  {
   "cell_type": "code",
   "execution_count": 28,
   "id": "1ddeeaca",
   "metadata": {},
   "outputs": [
    {
     "data": {
      "image/png": "[encoded data removed]",
      "text/plain": [
       "<Figure size 432x288 with 1 Axes>"
      ]
     },
     "metadata": {},
     "output_type": "display_data"
    }
   ],
   "source": [
    "_ = plt.hist(developed_s, bins=10, density = True)\n",
    "_ = plt.axvline(np.mean(developed_s), color='r')\n",
    "_ = plt.title('histogram of the sample (n=100) of life expectancy in developed countries')\n",
    "_ = plt.show()"
   ]
  },
  {
   "cell_type": "code",
   "execution_count": 29,
   "id": "8f1ca2bc",
   "metadata": {},
   "outputs": [],
   "source": [
    "np.random.seed(47)\n",
    "bs_sample_dp= boostrap_rep_many(developing_s, np.mean, 5000)\n",
    "bs_sample_dd = boostrap_rep_many(developed_s, np.mean, 5000)"
   ]
  },
  {
   "cell_type": "markdown",
   "id": "d119a3b3-8b05-43a1-9e7c-6d6b13674aa5",
   "metadata": {},
   "source": [
    "### Developing Countries life_expectancy - boostrap mean"
   ]
  },
  {
   "cell_type": "code",
   "execution_count": 30,
   "id": "e16a0d4d",
   "metadata": {},
   "outputs": [
    {
     "data": {
      "image/png": "[encoded data removed]",
      "text/plain": [
       "<Figure size 432x288 with 1 Axes>"
      ]
     },
     "metadata": {},
     "output_type": "display_data"
    }
   ],
   "source": [
    "#  histogram of bs_sample_dp\n",
    "_ = plt.hist(bs_sample_dp, bins=50, density=True)\n",
    "_ = plt.axvline(np.mean(developing), color='r')\n",
    "_ = plt.axvline(np.mean(bs_sample_dp), color='g', linestyle='--')\n",
    "_ = plt.xlabel('life_expectancy')\n",
    "_ = plt.ylabel('PDF')\n",
    "_ = plt.show()"
   ]
  },
  {
   "cell_type": "code",
   "execution_count": 31,
   "id": "8ae128e6",
   "metadata": {},
   "outputs": [
    {
     "name": "stdout",
     "output_type": "stream",
     "text": [
      "p = 0.059395\n",
      "The null hypothesis cannot be rejected\n"
     ]
    }
   ],
   "source": [
    "k, p = stats.normaltest(bs_sample_dp)\n",
    "alpha = 0.05 # alpha = 1e-3\n",
    "print(\"p = {:g}\".format(p))\n",
    "if p < alpha:  # null hypothesis: the population has a normal distribution\n",
    "    print(\"The null hypothesis can be rejected\")\n",
    "else:\n",
    "    print(\"The null hypothesis cannot be rejected\")"
   ]
  },
  {
   "cell_type": "markdown",
   "id": "498e31cf-2aab-40f4-8899-bdc9fe749c76",
   "metadata": {},
   "source": [
    "Note: the aggregated measure of mean is normaly distributed  in developing countries"
   ]
  },
  {
   "cell_type": "markdown",
   "id": "55a143d6-346d-4716-90f8-42def24f0eb9",
   "metadata": {},
   "source": [
    "### Developed Countries life_expectancy - boostrap mean"
   ]
  },
  {
   "cell_type": "code",
   "execution_count": 32,
   "id": "e531971a",
   "metadata": {},
   "outputs": [
    {
     "data": {
      "image/png": "[encoded data removed]",
      "text/plain": [
       "<Figure size 432x288 with 1 Axes>"
      ]
     },
     "metadata": {},
     "output_type": "display_data"
    }
   ],
   "source": [
    "#  histogram of bs_sample_dd\n",
    "_ = plt.hist(bs_sample_dd, bins=50, density=True)\n",
    "_ = plt.axvline(np.mean(developed), color='r')\n",
    "_ = plt.axvline(np.mean(bs_sample_dd), color='g', linestyle='--')\n",
    "_ = plt.xlabel('life_expectancy')\n",
    "_ = plt.ylabel('PDF')"
   ]
  },
  {
   "cell_type": "markdown",
   "id": "bc1c36e8-afba-4798-b45c-9f6c04475cce",
   "metadata": {},
   "source": [
    "### What is the confidence Interval of life_expectancy in both countries (developed and developing) at 95%"
   ]
  },
  {
   "cell_type": "code",
   "execution_count": 33,
   "id": "137e3d98",
   "metadata": {},
   "outputs": [
    {
     "data": {
      "text/plain": [
       "(0.9004228045064882, 0.39271012579848646)"
      ]
     },
     "execution_count": 33,
     "metadata": {},
     "output_type": "execute_result"
    }
   ],
   "source": [
    "#standard error of the mean  (std_population/np.sqrt(n))\n",
    "SEM_dp =  np.std(developing)/np.sqrt(len(developing_s))\n",
    "SEM_dd =  np.std(developed)/np.sqrt(len(developed_s))\n",
    "mean_dp = np.mean(developing_s)\n",
    "mean_dd = np.mean(developed_s)\n",
    "SEM_dp, SEM_dd"
   ]
  },
  {
   "cell_type": "code",
   "execution_count": 34,
   "id": "204ac6cf",
   "metadata": {},
   "outputs": [
    {
     "name": "stdout",
     "output_type": "stream",
     "text": [
      "1.959963984540054\n"
     ]
    }
   ],
   "source": [
    "#critical Z value for the selected confidence interval (95%).\n",
    "alpha = 1 - 0.95\n",
    "prob = 0.95\n",
    "critical_value = stats.norm.ppf(1 - 0.05/2)\n",
    "print(critical_value)"
   ]
  },
  {
   "cell_type": "code",
   "execution_count": 35,
   "id": "b52de6fd",
   "metadata": {},
   "outputs": [
    {
     "data": {
      "text/plain": [
       "(1.7647962676912667, 0.7696977029292275)"
      ]
     },
     "execution_count": 35,
     "metadata": {},
     "output_type": "execute_result"
    }
   ],
   "source": [
    "# compte the margin error \n",
    "margin_error_dp = critical_value * SEM_dp # developing countrie\n",
    "margin_error_dd = critical_value * SEM_dd # developed countries\n",
    "margin_error_dp, margin_error_dd"
   ]
  },
  {
   "cell_type": "code",
   "execution_count": 36,
   "id": "59549cd8",
   "metadata": {},
   "outputs": [
    {
     "name": "stdout",
     "output_type": "stream",
     "text": [
      "confidence interval of life_expectancy in developing countries is [64.83420373230872, 68.36379626769126]\n",
      "confidence interval of life_expectancy in developed countries is [77.91130229707078, 79.45069770292922]\n"
     ]
    }
   ],
   "source": [
    "# compte the the 95% confidence interval  it is the (mean +/- 1.6 std)\n",
    "CI_dp = [mean_dp - margin_error_dp, mean_dp + margin_error_dp]\n",
    "CI_dd =  [mean_dd - margin_error_dd, mean_dd + margin_error_dd]\n",
    "print('confidence interval of life_expectancy in developing countries is', CI_dp)\n",
    "print('confidence interval of life_expectancy in developed countries is', CI_dd)"
   ]
  },
  {
   "cell_type": "code",
   "execution_count": 37,
   "id": "f4873812",
   "metadata": {},
   "outputs": [
    {
     "name": "stdout",
     "output_type": "stream",
     "text": [
      "confidence interval of life_expectancy in developing countries is [64.9899 68.135 ]\n",
      "confidence interval of life_expectancy in developed countries is [77.979   79.40405]\n"
     ]
    }
   ],
   "source": [
    "print('confidence interval of life_expectancy in developing countries is', np.percentile(bs_sample_dp, [2.5, 97.5]))\n",
    "print('confidence interval of life_expectancy in developed countries is', np.percentile(bs_sample_dd, [2.5, 97.5]))"
   ]
  },
  {
   "cell_type": "code",
   "execution_count": 38,
   "id": "7e70d364",
   "metadata": {},
   "outputs": [],
   "source": [
    "from scipy import stats"
   ]
  },
  {
   "cell_type": "markdown",
   "id": "bd62bbbc",
   "metadata": {},
   "source": [
    "#### 1- state the hypothesis\n",
    "\n",
    "the average mean of life expectancy from developed countries is the same the one of developing Countries\n",
    "\n",
    "ho: mean_developed = mean_developing\n",
    "\n",
    "h1: mean_developed =! mean_developing\n",
    "\n",
    "#### 2- state the significance level  (here we set the threshold for the test)\n",
    "\n",
    "alpha = 0.05 or 5%  for two tail\n",
    "\n",
    "#### 3- identify the test statistic\n",
    "\n",
    "we are going to conduct a Z test for 2 independants  samples,  one tail test "
   ]
  },
  {
   "cell_type": "code",
   "execution_count": 39,
   "id": "4d49707e",
   "metadata": {},
   "outputs": [],
   "source": [
    "from scipy.stats import ttest_ind\n",
    "import numpy as np"
   ]
  },
  {
   "cell_type": "markdown",
   "id": "d35f008e-765b-4162-9e05-5437b1f7bb2f",
   "metadata": {},
   "source": [
    "##### T Test with the boostrap mean of life expectancy in both country"
   ]
  },
  {
   "cell_type": "code",
   "execution_count": 61,
   "id": "83947937",
   "metadata": {
    "scrolled": false
   },
   "outputs": [
    {
     "name": "stdout",
     "output_type": "stream",
     "text": [
      "p-value 0.0\n",
      "we reject null hypothesis\n"
     ]
    }
   ],
   "source": [
    "ttest,pval = ttest_ind( bs_sample_dp, bs_sample_dd)\n",
    "print(\"p-value\",pval)\n",
    "if pval < 0.05/2:\n",
    "  print(\"we reject null hypothesis\")\n",
    "else:\n",
    "  print(\"we accept null hypothesis\")"
   ]
  },
  {
   "cell_type": "code",
   "execution_count": 52,
   "id": "7f91b905",
   "metadata": {},
   "outputs": [
    {
     "data": {
      "text/plain": [
       "array([78.39 , 77.961, 78.845, ..., 78.406, 79.049, 79.181])"
      ]
     },
     "execution_count": 52,
     "metadata": {},
     "output_type": "execute_result"
    }
   ],
   "source": [
    "bs_sample_dd"
   ]
  },
  {
   "cell_type": "code",
   "execution_count": null,
   "id": "208c396b",
   "metadata": {},
   "outputs": [],
   "source": []
  },
  {
   "cell_type": "code",
   "execution_count": null,
   "id": "db7536b9",
   "metadata": {},
   "outputs": [],
   "source": []
  },
  {
   "cell_type": "code",
   "execution_count": 53,
   "id": "eb12c87c",
   "metadata": {},
   "outputs": [],
   "source": [
    "alpha = 0.5\n",
    "female_errors = bs_sample_dd\n",
    "male_errors = bs_sample_dp"
   ]
  },
  {
   "cell_type": "code",
   "execution_count": 56,
   "id": "81bb1779",
   "metadata": {},
   "outputs": [
    {
     "name": "stdout",
     "output_type": "stream",
     "text": [
      "Basic Statistics from sample data\n",
      "Number of female sample: 5000 Number of male sample: 5000\n",
      "Female pointing error mean: 78.68173600000001 Male pointing error mean: 66.60929119999999\n",
      "Female pointing error std: 0.36317299573201434 Male pointing error std: 0.8021702543886586\n",
      "\n",
      "----------------------------TEST STATISTICS---------------------------------------------\n",
      "F-score is: 4.878721311504499  and critical value is: 1.0330776878218566\n",
      "Null Hypothesis is rejected.\n"
     ]
    }
   ],
   "source": [
    "import numpy as np\n",
    "import scipy.stats as stats\n",
    "\n",
    "import math\n",
    "\n",
    "# possible types \"right-tailed, left-tailed, two-tailed\"\n",
    "tail_hypothesis_type = \"right-tailed\"\n",
    "\n",
    "\n",
    "# possible types \"right-tailed, left-tailed, two-tailed\"\n",
    "tail_hypothesis_type = \"two-tailed\"\n",
    "\n",
    "if tail_hypothesis_type == \"two-tailed\":\n",
    "    alpha /= 2\n",
    "\n",
    "# calculate number of sample for both female and male\n",
    "n1 = len(female_errors)\n",
    "n2 = len(male_errors)\n",
    "\n",
    "# calculate sample mean\n",
    "x1_bar = np.mean(female_errors)\n",
    "x2_bar = np.mean(male_errors)\n",
    "\n",
    "# calculate sample standard deviation => ddof = 1, population std => ddof = 0\n",
    "s1 = np.std(female_errors, ddof=1)\n",
    "s2 = np.std(male_errors, ddof=1)\n",
    "print(\"Basic Statistics from sample data\")\n",
    "print(\"Number of female sample:\", n1, \"Number of male sample:\", n2)\n",
    "print(\"Female pointing error mean:\", x1_bar, \"Male pointing error mean:\", x2_bar)\n",
    "print(\"Female pointing error std:\", s1, \"Male pointing error std:\", s2)\n",
    "\n",
    "# Test statistics, on upper critical value\n",
    "if s1 > s2:\n",
    "    F_score = s1**2 / s2**2\n",
    "    critical_value = stats.f.ppf(1-alpha, n1-1, n2-1)\n",
    "else:\n",
    "    F_score = s2**2 / s1**2\n",
    "    critical_value = stats.f.ppf(1-alpha, n2-1, n1-1)\n",
    "\n",
    "print(\"\\n----------------------------TEST STATISTICS---------------------------------------------\")\n",
    "print(\"F-score is:\", F_score, \" and critical value is:\", critical_value)\n",
    "conclusion = \"Failed to reject the null hypothesis.\"\n",
    "t_test_type = \"pooled_variance t test\"\n",
    "if F_score > critical_value:\n",
    "    conclusion = \"Null Hypothesis is rejected.\"\n",
    "    t_test_type = \"separate-variances t test\"\n",
    "print(conclusion)\n",
    "\n",
    "\n"
   ]
  },
  {
   "cell_type": "code",
   "execution_count": 57,
   "id": "c315fa8b",
   "metadata": {},
   "outputs": [
    {
     "name": "stdout",
     "output_type": "stream",
     "text": [
      "Two-Sample two-tailed t-test for comparing two indepent populations\n",
      "t test type: separate-variances t test\n",
      "--------------------------------------------------------------------------------------\n",
      "Approach 1: The p-value approach to hypothesis testing in the decision rule\n",
      "Since n1 >= 30 and n2 >= 30, by CLT \n",
      "t-score is: 969.4496224693706  and p value is: 0.0\n",
      "Null Hypothesis is rejected.\n",
      "\n",
      "--------------------------------------------------------------------------------------\n",
      "Approach 2: The critical value approach to hypothesis testing in the decision rule\n",
      "Since n1 >= 30 and n2 >= 30, by CLT \n",
      "t-score is: 969.4496224693706  and critical value is: 1.1504453091787457\n",
      "Null Hypothesis is rejected.\n"
     ]
    }
   ],
   "source": [
    "\n",
    "\n",
    "print(\"Two-Sample\", tail_hypothesis_type, \"t-test for comparing two indepent populations\")\n",
    "print(\"t test type:\", t_test_type)\n",
    "print(\"--------------------------------------------------------------------------------------\")\n",
    "# The p-value approach\n",
    "print(\"Approach 1: The p-value approach to hypothesis testing in the decision rule\")\n",
    "if (n1 >= 30 and n2 >= 30):\n",
    "    print(\"Since n1 >= 30 and n2 >= 30, by CLT \")\n",
    "    \n",
    "    if t_test_type == \"pooled_variance t test\":\n",
    "        sp2 = ((n1-1)*s1**2+(n2-1)*s2**2)/(n1+n2-2)\n",
    "        # u1-u2 = 0, under H0: u1 = u2 \n",
    "        t_score = (x1_bar-x2_bar)/math.sqrt(sp2*(1/n1+1/n2))\n",
    "\n",
    "        if tail_hypothesis_type == \"left-tailed\":\n",
    "            p_value = stats.t.cdf(t_score, n1+n2-2)\n",
    "        elif tail_hypothesis_type == \"right-tailed\":\n",
    "            p_value = 1 - stats.t.cdf(t_score, n1+n2-2) # or stats.norm.sf(t_score, n-1)\n",
    "        else:\n",
    "            t_score = abs(t_score)\n",
    "            p_value = 1 - stats.t.cdf(t_score, n1+n2-2)\n",
    "\n",
    "        conclusion = \"Failed to reject the null hypothesis.\"\n",
    "        if p_value <= alpha:\n",
    "            conclusion = \"Null Hypothesis is rejected.\"\n",
    "    else:\n",
    "        # u1-u2 = 0, under H0: u1 = u2 \n",
    "        t_score = (x1_bar-x2_bar)/math.sqrt((s1**2/n1+s2**2/n2))\n",
    "        df = (s1**2/n1+s2**2/n2)**2/((s1**2/n1)**2/(n1-1)+(s2**2/n2)**2/(n2-1))\n",
    "\n",
    "        if tail_hypothesis_type == \"left-tailed\":\n",
    "            p_value = stats.t.cdf(t_score, df)\n",
    "        elif tail_hypothesis_type == \"right-tailed\":\n",
    "            p_value = 1 - stats.t.cdf(t_score, df) # or stats.norm.sf(t_score, n-1)\n",
    "        else:\n",
    "            t_score = abs(t_score)\n",
    "            p_value = 1 - stats.t.cdf(t_score, df)\n",
    "\n",
    "        conclusion = \"Failed to reject the null hypothesis.\"\n",
    "        if p_value <= alpha:\n",
    "            conclusion = \"Null Hypothesis is rejected.\"\n",
    "\n",
    "    print(\"t-score is:\", t_score, \" and p value is:\", p_value)\n",
    "    print(conclusion)\n",
    "else:\n",
    "    print(\"CLT is not satisfied\")\n",
    "\n",
    "# The critical value approach\n",
    "print(\"\\n--------------------------------------------------------------------------------------\")\n",
    "print(\"Approach 2: The critical value approach to hypothesis testing in the decision rule\")\n",
    "if (n1 >= 30 and n2 >= 30):\n",
    "    print(\"Since n1 >= 30 and n2 >= 30, by CLT \")\n",
    "    \n",
    "    if t_test_type == \"pooled_variance t test\":\n",
    "        sp2 = ((n1-1)*s1**2+(n2-1)*s2**2)/(n1+n2-2)\n",
    "        # u1-u2 = 0, under H0: u1 = u2 \n",
    "        t_score = (x1_bar-x2_bar)/math.sqrt(sp2*(1/n1+1/n2))\n",
    "        critical_value = stats.t.ppf(abs(alpha), n1+n2-2)\n",
    "        \n",
    "        conclusion = \"Failed to reject the null hypothesis.\"\n",
    "        if tail_hypothesis_type == \"left-tailed\":\n",
    "            if t_score < critical_value:\n",
    "                conclusion = \"Null Hypothesis is rejected.\"\n",
    "        elif tail_hypothesis_type == \"right-tailed\":\n",
    "            critical_value = abs(critical_value)\n",
    "            if t_score > critical_value:\n",
    "                conclusion = \"Null Hypothesis is rejected.\"\n",
    "        else:\n",
    "            t_score = abs(t_score) \n",
    "            critical_value = abs(critical_value)\n",
    "            if t_score > critical_value:\n",
    "                conclusion = \"Null Hypothesis is rejected.\"\n",
    "    else:\n",
    "        # u1-u2 = 0, under H0: u1 = u2 \n",
    "        t_score = (x1_bar-x2_bar)/math.sqrt((s1**2/n1+s2**2/n2))\n",
    "        df = (s1**2/n1+s2**2/n2)**2/((s1**2/n1)**2/(n1-1)+(s2**2/n2)**2/(n2-1))\n",
    "        critical_value = stats.t.ppf(abs(alpha), df)\n",
    "\n",
    "        conclusion = \"Failed to reject the null hypothesis.\"\n",
    "        if tail_hypothesis_type == \"left-tailed\":\n",
    "            if t_score < critical_value:\n",
    "                conclusion = \"Null Hypothesis is rejected.\"\n",
    "        elif tail_hypothesis_type == \"right-tailed\":\n",
    "            critical_value = abs(critical_value)\n",
    "            if t_score > critical_value:\n",
    "                conclusion = \"Null Hypothesis is rejected.\"\n",
    "        else:\n",
    "            t_score = abs(t_score) \n",
    "            critical_value = abs(critical_value)\n",
    "            if t_score > critical_value:\n",
    "                conclusion = \"Null Hypothesis is rejected.\"\n",
    "    print(\"t-score is:\", t_score, \" and critical value is:\", critical_value)\n",
    "    print(conclusion)\n",
    "else:\n",
    "    print(\"CLT is not satisfied\")"
   ]
  },
  {
   "cell_type": "code",
   "execution_count": null,
   "id": "7e4a448a",
   "metadata": {},
   "outputs": [],
   "source": []
  },
  {
   "cell_type": "code",
   "execution_count": null,
   "id": "f1eb159e",
   "metadata": {},
   "outputs": [],
   "source": []
  },
  {
   "cell_type": "code",
   "execution_count": null,
   "id": "8c85d407",
   "metadata": {},
   "outputs": [],
   "source": []
  },
  {
   "cell_type": "code",
   "execution_count": null,
   "id": "d39b3219",
   "metadata": {},
   "outputs": [],
   "source": []
  },
  {
   "cell_type": "code",
   "execution_count": null,
   "id": "0df1cbec",
   "metadata": {},
   "outputs": [],
   "source": []
  },
  {
   "cell_type": "code",
   "execution_count": null,
   "id": "db22cf5b",
   "metadata": {},
   "outputs": [],
   "source": []
  },
  {
   "cell_type": "code",
   "execution_count": null,
   "id": "f50bdc78",
   "metadata": {},
   "outputs": [],
   "source": []
  },
  {
   "cell_type": "markdown",
   "id": "649f9fc9-2ed5-44ef-a34c-c5ced75fbf89",
   "metadata": {},
   "source": [
    "##### Z Test with the boostrap mean of life expectancy in both country"
   ]
  },
  {
   "cell_type": "code",
   "execution_count": 41,
   "id": "71a725f6-93c2-4370-a201-fc4e680b100c",
   "metadata": {},
   "outputs": [],
   "source": [
    "from statsmodels.stats.weightstats import ztest as ztest"
   ]
  },
  {
   "cell_type": "code",
   "execution_count": 42,
   "id": "4ac1b86c-9c18-4e32-a993-7eb4f481c1e5",
   "metadata": {},
   "outputs": [
    {
     "data": {
      "text/plain": [
       "(-1939.6665530677956, 0.0)"
      ]
     },
     "execution_count": 42,
     "metadata": {},
     "output_type": "execute_result"
    }
   ],
   "source": [
    "#perform two sample z-test\n",
    "#statsmodels.stats.weightstats.ztest(x1, x2=None, value=0)\n",
    "#x1: values for the first sample\n",
    "#x2: values for the second sample (if performing a two sample z-test)\n",
    "#value: mean under the null (in one sample case) or mean difference (in two sample case)\n",
    "\n",
    "ztest(bs_sample_dp, bs_sample_dd, value= mean_dd - mean_dp) "
   ]
  },
  {
   "cell_type": "markdown",
   "id": "d02e2355-8c79-468a-8230-d7cf259baaca",
   "metadata": {},
   "source": [
    "From This result, we reject the null hypothesis, we found that there is significant difference between the mean of life expectancy of developed countries to the developing countries. "
   ]
  }
 ],
 "metadata": {
  "kernelspec": {
   "display_name": "Python 3 (ipykernel)",
   "language": "python",
   "name": "python3"
  },
  "language_info": {
   "codemirror_mode": {
    "name": "ipython",
    "version": 3
   },
   "file_extension": ".py",
   "mimetype": "text/x-python",
   "name": "python",
   "nbconvert_exporter": "python",
   "pygments_lexer": "ipython3",
   "version": "3.9.7"
  }
 },
 "nbformat": 4,
 "nbformat_minor": 5
}
