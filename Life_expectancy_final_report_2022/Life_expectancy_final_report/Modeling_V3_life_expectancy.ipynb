{
 "cells": [
  {
   "cell_type": "markdown",
   "id": "8a3264bb",
   "metadata": {},
   "source": [
    "### Factors Driving Life Expectancy : Do immunization matters?"
   ]
  },
  {
   "cell_type": "code",
   "execution_count": null,
   "id": "bb2397b6",
   "metadata": {},
   "outputs": [],
   "source": []
  },
  {
   "cell_type": "code",
   "execution_count": 159,
   "id": "f8f5375e",
   "metadata": {},
   "outputs": [],
   "source": [
    "import pandas as pd\n",
    "import numpy as np\n",
    "import matplotlib.pyplot as plt\n",
    "import seaborn as sns\n",
    "\n",
    "from sklearn.decomposition import PCA\n",
    "from sklearn.preprocessing import StandardScaler\n",
    "from sklearn.impute import SimpleImputer\n",
    "from fancyimpute import IterativeImputer\n",
    "from sklearn.pipeline import make_pipeline\n",
    "from sklearn.feature_selection import SelectKBest,  f_regression\n",
    "from sklearn.model_selection import cross_val_score\n",
    "from sklearn.model_selection import train_test_split, cross_validate, GridSearchCV, learning_curve\n",
    "from sklearn.linear_model import LinearRegression\n",
    "from sklearn.linear_model import Lasso\n",
    "from sklearn.linear_model import Ridge\n",
    "from sklearn.linear_model import ElasticNet\n",
    "from sklearn.linear_model import LassoCV\n",
    "from sklearn.model_selection import GridSearchCV\n",
    "from sklearn.model_selection import RandomizedSearchCV\n",
    "from sklearn import metrics\n",
    "from sklearn.metrics import mean_squared_error\n",
    "from sklearn.tree import DecisionTreeRegressor\n",
    "from sklearn.ensemble import GradientBoostingRegressor\n",
    "from sklearn.ensemble import RandomForestRegressor \n",
    "from sklearn.ensemble import AdaBoostRegressor\n",
    "from sklearn.ensemble import VotingRegressor\n",
    "from sklearn.svm import SVR\n",
    "import xgboost as xgb\n",
    "from xgboost import plot_importance\n",
    "\n",
    "import os\n",
    "\n",
    "from library.sb_utils import save_file"
   ]
  },
  {
   "cell_type": "code",
   "execution_count": 40,
   "id": "20e277e6",
   "metadata": {},
   "outputs": [],
   "source": [
    "sns.set()\n",
    "sns.set_context(\"notebook\")"
   ]
  },
  {
   "cell_type": "markdown",
   "id": "c6f5c500",
   "metadata": {
    "tags": []
   },
   "source": [
    "### Import dataset "
   ]
  },
  {
   "cell_type": "code",
   "execution_count": 41,
   "id": "dc057299",
   "metadata": {},
   "outputs": [],
   "source": [
    "df = pd.read_csv(\"../data/life_exp_clean_encod.csv\")"
   ]
  },
  {
   "cell_type": "code",
   "execution_count": 42,
   "id": "24498745-d6cf-4bc9-befe-81c2dd7604e9",
   "metadata": {},
   "outputs": [
    {
     "data": {
      "text/html": [
       "<div>\n",
       "<style scoped>\n",
       "    .dataframe tbody tr th:only-of-type {\n",
       "        vertical-align: middle;\n",
       "    }\n",
       "\n",
       "    .dataframe tbody tr th {\n",
       "        vertical-align: top;\n",
       "    }\n",
       "\n",
       "    .dataframe thead th {\n",
       "        text-align: right;\n",
       "    }\n",
       "</style>\n",
       "<table border=\"1\" class=\"dataframe\">\n",
       "  <thead>\n",
       "    <tr style=\"text-align: right;\">\n",
       "      <th></th>\n",
       "      <th>Country</th>\n",
       "      <th>Year</th>\n",
       "      <th>Life_expectancy</th>\n",
       "      <th>Adult_Mortality</th>\n",
       "      <th>infant_deaths</th>\n",
       "      <th>Alcohol</th>\n",
       "      <th>percentage_expenditure</th>\n",
       "      <th>Hepatitis_B</th>\n",
       "      <th>Measles</th>\n",
       "      <th>BMI</th>\n",
       "      <th>...</th>\n",
       "      <th>HIV/AIDS</th>\n",
       "      <th>GDP</th>\n",
       "      <th>Population</th>\n",
       "      <th>thinness__1_19_years</th>\n",
       "      <th>thinness_5_9_years</th>\n",
       "      <th>Income_composition_of_resources</th>\n",
       "      <th>Schooling</th>\n",
       "      <th>population</th>\n",
       "      <th>Status_Developed</th>\n",
       "      <th>Status_Developing</th>\n",
       "    </tr>\n",
       "  </thead>\n",
       "  <tbody>\n",
       "    <tr>\n",
       "      <th>0</th>\n",
       "      <td>Afghanistan</td>\n",
       "      <td>2015</td>\n",
       "      <td>65.0</td>\n",
       "      <td>263.0</td>\n",
       "      <td>62.0</td>\n",
       "      <td>0.01</td>\n",
       "      <td>71.279624</td>\n",
       "      <td>65.0</td>\n",
       "      <td>1154.0</td>\n",
       "      <td>19.1</td>\n",
       "      <td>...</td>\n",
       "      <td>0.1</td>\n",
       "      <td>584.259210</td>\n",
       "      <td>33736494.0</td>\n",
       "      <td>17.2</td>\n",
       "      <td>17.3</td>\n",
       "      <td>0.479</td>\n",
       "      <td>10.1</td>\n",
       "      <td>17.334091</td>\n",
       "      <td>0</td>\n",
       "      <td>1</td>\n",
       "    </tr>\n",
       "    <tr>\n",
       "      <th>1</th>\n",
       "      <td>Afghanistan</td>\n",
       "      <td>2014</td>\n",
       "      <td>59.9</td>\n",
       "      <td>271.0</td>\n",
       "      <td>64.0</td>\n",
       "      <td>0.01</td>\n",
       "      <td>73.523582</td>\n",
       "      <td>62.0</td>\n",
       "      <td>492.0</td>\n",
       "      <td>18.6</td>\n",
       "      <td>...</td>\n",
       "      <td>0.1</td>\n",
       "      <td>612.696514</td>\n",
       "      <td>327582.0</td>\n",
       "      <td>17.5</td>\n",
       "      <td>17.5</td>\n",
       "      <td>0.476</td>\n",
       "      <td>10.0</td>\n",
       "      <td>12.699494</td>\n",
       "      <td>0</td>\n",
       "      <td>1</td>\n",
       "    </tr>\n",
       "  </tbody>\n",
       "</table>\n",
       "<p>2 rows × 24 columns</p>\n",
       "</div>"
      ],
      "text/plain": [
       "       Country  Year  Life_expectancy  Adult_Mortality  infant_deaths  \\\n",
       "0  Afghanistan  2015             65.0            263.0           62.0   \n",
       "1  Afghanistan  2014             59.9            271.0           64.0   \n",
       "\n",
       "   Alcohol  percentage_expenditure  Hepatitis_B  Measles   BMI  ...  HIV/AIDS  \\\n",
       "0     0.01               71.279624         65.0   1154.0  19.1  ...       0.1   \n",
       "1     0.01               73.523582         62.0    492.0  18.6  ...       0.1   \n",
       "\n",
       "          GDP  Population  thinness__1_19_years  thinness_5_9_years  \\\n",
       "0  584.259210  33736494.0                  17.2                17.3   \n",
       "1  612.696514    327582.0                  17.5                17.5   \n",
       "\n",
       "   Income_composition_of_resources  Schooling  population  Status_Developed  \\\n",
       "0                            0.479       10.1   17.334091                 0   \n",
       "1                            0.476       10.0   12.699494                 0   \n",
       "\n",
       "   Status_Developing  \n",
       "0                  1  \n",
       "1                  1  \n",
       "\n",
       "[2 rows x 24 columns]"
      ]
     },
     "execution_count": 42,
     "metadata": {},
     "output_type": "execute_result"
    }
   ],
   "source": [
    "df.head(2)"
   ]
  },
  {
   "cell_type": "code",
   "execution_count": 43,
   "id": "9b4a054a-3a04-41d1-9162-55a098d4f072",
   "metadata": {},
   "outputs": [
    {
     "name": "stdout",
     "output_type": "stream",
     "text": [
      "<class 'pandas.core.frame.DataFrame'>\n",
      "RangeIndex: 2928 entries, 0 to 2927\n",
      "Data columns (total 24 columns):\n",
      " #   Column                           Non-Null Count  Dtype  \n",
      "---  ------                           --------------  -----  \n",
      " 0   Country                          2928 non-null   object \n",
      " 1   Year                             2928 non-null   int64  \n",
      " 2   Life_expectancy                  2928 non-null   float64\n",
      " 3   Adult_Mortality                  2928 non-null   float64\n",
      " 4   infant_deaths                    2090 non-null   float64\n",
      " 5   Alcohol                          2735 non-null   float64\n",
      " 6   percentage_expenditure           2322 non-null   float64\n",
      " 7   Hepatitis_B                      2375 non-null   float64\n",
      " 8   Measles                          1955 non-null   float64\n",
      " 9   BMI                              2896 non-null   float64\n",
      " 10  under_five_deaths                2153 non-null   float64\n",
      " 11  Polio                            2909 non-null   float64\n",
      " 12  Total_expenditure                2702 non-null   float64\n",
      " 13  Diphtheria                       2909 non-null   float64\n",
      " 14  HIV/AIDS                         2928 non-null   float64\n",
      " 15  GDP                              2485 non-null   float64\n",
      " 16  Population                       2284 non-null   float64\n",
      " 17  thinness__1_19_years             2896 non-null   float64\n",
      " 18  thinness_5_9_years               2896 non-null   float64\n",
      " 19  Income_composition_of_resources  2638 non-null   float64\n",
      " 20  Schooling                        2742 non-null   float64\n",
      " 21  population                       2284 non-null   float64\n",
      " 22  Status_Developed                 2928 non-null   int64  \n",
      " 23  Status_Developing                2928 non-null   int64  \n",
      "dtypes: float64(20), int64(3), object(1)\n",
      "memory usage: 549.1+ KB\n"
     ]
    }
   ],
   "source": [
    "df.info()"
   ]
  },
  {
   "cell_type": "code",
   "execution_count": 44,
   "id": "ca1c9871",
   "metadata": {},
   "outputs": [],
   "source": [
    "df = df.drop(columns='Country')"
   ]
  },
  {
   "cell_type": "code",
   "execution_count": 45,
   "id": "f2485243",
   "metadata": {},
   "outputs": [],
   "source": [
    "# define X and y\n",
    "X = df.drop(columns='Life_expectancy')\n",
    "y = df.Life_expectancy"
   ]
  },
  {
   "cell_type": "code",
   "execution_count": 46,
   "id": "b70945d7",
   "metadata": {},
   "outputs": [],
   "source": [
    "# split the dataset     \n",
    "X_train, X_test, y_train, y_test = train_test_split(X, y, test_size=0.3, random_state=47)"
   ]
  },
  {
   "cell_type": "code",
   "execution_count": 47,
   "id": "4598d8d4",
   "metadata": {},
   "outputs": [
    {
     "data": {
      "text/plain": [
       "((2049, 22), (879, 22))"
      ]
     },
     "execution_count": 47,
     "metadata": {},
     "output_type": "execute_result"
    }
   ],
   "source": [
    "X_train.shape, X_test.shape"
   ]
  },
  {
   "cell_type": "code",
   "execution_count": 48,
   "id": "d3f221b2",
   "metadata": {},
   "outputs": [],
   "source": [
    "# traitement of missing data with MICE Imputation\n",
    "mice_imputer = IterativeImputer()\n",
    "X_train_imput = mice_imputer.fit_transform(X_train)\n",
    "X_test_imput = mice_imputer.transform(X_test)"
   ]
  },
  {
   "cell_type": "code",
   "execution_count": 49,
   "id": "f2a9aca0",
   "metadata": {},
   "outputs": [],
   "source": [
    "# scale the date\n",
    "scaler = StandardScaler()\n",
    "X_train_imput_scale = scaler.fit_transform(X_train_imput)\n",
    "X_test_imput_scale = scaler.transform(X_test_imput)"
   ]
  },
  {
   "cell_type": "markdown",
   "id": "1a10ed64",
   "metadata": {},
   "source": [
    "###  Modeling\n"
   ]
  },
  {
   "cell_type": "markdown",
   "id": "bcc460c6-6ed1-496c-943b-3e75051fb5f8",
   "metadata": {},
   "source": [
    "##### Function to evaluate the model"
   ]
  },
  {
   "cell_type": "code",
   "execution_count": 50,
   "id": "992a4677",
   "metadata": {},
   "outputs": [],
   "source": [
    "def model_eval(true, predicted):  \n",
    "    mae = metrics.mean_absolute_error(true, predicted)\n",
    "    mse = metrics.mean_squared_error(true, predicted)\n",
    "    rmse = np.sqrt(metrics.mean_squared_error(true, predicted))\n",
    "    r2_square = metrics.r2_score(true, predicted)\n",
    "    print('MAE:', mae)\n",
    "    print('MSE:', mse)\n",
    "    print('RMSE:', rmse)\n",
    "    print('R2 Square', r2_square)\n",
    "    print('__________________________________')"
   ]
  },
  {
   "cell_type": "markdown",
   "id": "a45d6a01",
   "metadata": {},
   "source": [
    "### 1. Model     Simple linear_regression "
   ]
  },
  {
   "cell_type": "code",
   "execution_count": 51,
   "id": "7ea801c0",
   "metadata": {},
   "outputs": [],
   "source": [
    "pipe = make_pipeline(\n",
    "    IterativeImputer(), \n",
    "    StandardScaler(),\n",
    "    SelectKBest(f_regression),\n",
    "    LinearRegression()\n",
    ")"
   ]
  },
  {
   "cell_type": "code",
   "execution_count": 52,
   "id": "9bc09f2e",
   "metadata": {},
   "outputs": [],
   "source": [
    "# define the k range to investigate\n",
    "k = [k+1 for k in range(len(X_train.columns))]\n",
    "grid_params = {'selectkbest__k': k}"
   ]
  },
  {
   "cell_type": "code",
   "execution_count": 53,
   "id": "c14162b6",
   "metadata": {},
   "outputs": [],
   "source": [
    "reg_grid_cv = GridSearchCV(pipe, param_grid=grid_params, cv=10, n_jobs=-1)"
   ]
  },
  {
   "cell_type": "code",
   "execution_count": 54,
   "id": "f83a019e",
   "metadata": {},
   "outputs": [
    {
     "data": {
      "text/plain": [
       "GridSearchCV(cv=10,\n",
       "             estimator=Pipeline(steps=[('iterativeimputer', IterativeImputer()),\n",
       "                                       ('standardscaler', StandardScaler()),\n",
       "                                       ('selectkbest',\n",
       "                                        SelectKBest(score_func=<function f_regression at 0x000002477C893670>)),\n",
       "                                       ('linearregression',\n",
       "                                        LinearRegression())]),\n",
       "             n_jobs=-1,\n",
       "             param_grid={'selectkbest__k': [1, 2, 3, 4, 5, 6, 7, 8, 9, 10, 11,\n",
       "                                            12, 13, 14, 15, 16, 17, 18, 19, 20,\n",
       "                                            21, 22]})"
      ]
     },
     "execution_count": 54,
     "metadata": {},
     "output_type": "execute_result"
    }
   ],
   "source": [
    "reg_grid_cv.fit(X_train, y_train)"
   ]
  },
  {
   "cell_type": "code",
   "execution_count": 55,
   "id": "35c0531f",
   "metadata": {},
   "outputs": [
    {
     "data": {
      "text/plain": [
       "{'selectkbest__k': 22}"
      ]
     },
     "execution_count": 55,
     "metadata": {},
     "output_type": "execute_result"
    }
   ],
   "source": [
    "#Print the `best_params_` attribute of 'red_grid_cv`\n",
    "reg_grid_cv.best_params_"
   ]
  },
  {
   "cell_type": "code",
   "execution_count": 56,
   "id": "863aa4eb",
   "metadata": {},
   "outputs": [],
   "source": [
    "score_mean = reg_grid_cv.cv_results_['mean_test_score']\n",
    "score_std = reg_grid_cv.cv_results_['std_test_score']\n",
    "cv_k = [k for k in reg_grid_cv.cv_results_['param_selectkbest__k']]\n",
    "best_k = reg_grid_cv.best_params_['selectkbest__k']"
   ]
  },
  {
   "cell_type": "code",
   "execution_count": 57,
   "id": "fde74549",
   "metadata": {
    "scrolled": true
   },
   "outputs": [
    {
     "data": {
      "image/png": "[encoded data removed]",
      "text/plain": [
       "<Figure size 720x360 with 1 Axes>"
      ]
     },
     "metadata": {},
     "output_type": "display_data"
    }
   ],
   "source": [
    "best_k = reg_grid_cv.best_params_['selectkbest__k']\n",
    "plt.subplots(figsize=(10, 5))\n",
    "plt.errorbar(cv_k, score_mean, yerr=score_std)\n",
    "plt.axvline(x=best_k, c='r', ls='--', alpha=.5)\n",
    "plt.xlabel('k')\n",
    "plt.ylabel('CV score (r-squared)')\n",
    "plt.title('Pipeline mean CV score (error bars +/- 1sd)');"
   ]
  },
  {
   "cell_type": "markdown",
   "id": "348ae2e3",
   "metadata": {},
   "source": [
    "The above suggests a good value for k is 20"
   ]
  },
  {
   "cell_type": "code",
   "execution_count": 58,
   "id": "e5aaf2b1",
   "metadata": {},
   "outputs": [
    {
     "data": {
      "text/plain": [
       "array([ True,  True,  True,  True,  True,  True,  True,  True,  True,\n",
       "        True,  True,  True,  True,  True,  True,  True,  True,  True,\n",
       "        True,  True,  True,  True])"
      ]
     },
     "execution_count": 58,
     "metadata": {},
     "output_type": "execute_result"
    }
   ],
   "source": [
    "# mask to select the most useful features \n",
    "selected_features= reg_grid_cv.best_estimator_.named_steps.selectkbest.get_support()\n",
    "selected_features"
   ]
  },
  {
   "cell_type": "code",
   "execution_count": 59,
   "id": "52877e38",
   "metadata": {
    "scrolled": false
   },
   "outputs": [
    {
     "data": {
      "text/plain": [
       "Income_composition_of_resources    7.426575\n",
       "infant_deaths                      7.162289\n",
       "percentage_expenditure             1.161047\n",
       "Total_expenditure                  0.532864\n",
       "Diphtheria                         0.316596\n",
       "Polio                              0.278216\n",
       "Status_Developed                   0.094546\n",
       "Hepatitis_B                        0.081086\n",
       "Year                               0.051593\n",
       "thinness__1_19_years               0.044172\n",
       "population                         0.019159\n",
       "thinness_5_9_years                -0.072158\n",
       "Measles                           -0.073517\n",
       "BMI                               -0.093686\n",
       "Status_Developing                 -0.094546\n",
       "Population                        -0.097318\n",
       "Alcohol                           -0.531740\n",
       "Schooling                         -1.049590\n",
       "GDP                               -1.097731\n",
       "Adult_Mortality                   -1.619040\n",
       "HIV/AIDS                          -1.869034\n",
       "under_five_deaths                 -7.305617\n",
       "dtype: float64"
      ]
     },
     "execution_count": 59,
     "metadata": {},
     "output_type": "execute_result"
    }
   ],
   "source": [
    "coefs = reg_grid_cv.best_estimator_.named_steps.linearregression.coef_\n",
    "features = X_train.columns[selected_features]\n",
    "pd.Series(coefs, index=features).sort_values(ascending=False)"
   ]
  },
  {
   "cell_type": "code",
   "execution_count": 158,
   "id": "605129d0",
   "metadata": {
    "scrolled": false
   },
   "outputs": [
    {
     "data": {
      "text/plain": [
       "Text(0.5, 1.0, 'Feature importance')"
      ]
     },
     "execution_count": 158,
     "metadata": {},
     "output_type": "execute_result"
    },
    {
     "data": {
      "image/png": "[encoded data removed]",
      "text/plain": [
       "<Figure size 432x432 with 1 Axes>"
      ]
     },
     "metadata": {},
     "output_type": "display_data"
    }
   ],
   "source": [
    "coef_features=pd.Series(coefs, index=features).sort_values(ascending=True)\n",
    "coef_features = pd.DataFrame(coef_features)\n",
    "plt.figure(figsize=(6, 6))\n",
    "coef_features[0].plot(kind='barh')\n",
    "plt.title('Feature importance')"
   ]
  },
  {
   "cell_type": "markdown",
   "id": "9a603f78",
   "metadata": {},
   "source": [
    "#### Note:\n",
    "From this result, the best positive features here are Income_composition_of_resources , followed by infant_deaths. \n",
    "\n",
    "Features which negatively influence life expectancy are under_five_deaths of children (the most important) , next it is HIV/AIDS and Adult_Mortality.\n",
    "\n",
    "We realise that immunization factors are also present among the positive features (come in 6th , 7th and 8th positions) even if their strength is not high as compared to the first features. \n",
    "\n",
    "It is also important to highlight the fact that the feature: status of the country (either developed or developing) has an impact on the model. \n",
    "May, it would be great to expect if a dataset with only developing countries would highlight the importance of immunization as we explore in the EDA.\n"
   ]
  },
  {
   "cell_type": "code",
   "execution_count": 61,
   "id": "f486bf48",
   "metadata": {},
   "outputs": [
    {
     "data": {
      "text/plain": [
       "Pipeline(steps=[('iterativeimputer', IterativeImputer()),\n",
       "                ('standardscaler', StandardScaler()),\n",
       "                ('selectkbest',\n",
       "                 SelectKBest(k=22,\n",
       "                             score_func=<function f_regression at 0x000002477C893670>)),\n",
       "                ('linearregression', LinearRegression())])"
      ]
     },
     "execution_count": 61,
     "metadata": {},
     "output_type": "execute_result"
    }
   ],
   "source": [
    "reg_grid_cv.best_estimator_"
   ]
  },
  {
   "cell_type": "code",
   "execution_count": 62,
   "id": "54955d13-35d4-48d8-b90e-70ac78e2b56c",
   "metadata": {},
   "outputs": [],
   "source": [
    "lin_reg = reg_grid_cv.best_estimator_"
   ]
  },
  {
   "cell_type": "markdown",
   "id": "a41a65e6",
   "metadata": {},
   "source": [
    "#### Assess performance on train and test data"
   ]
  },
  {
   "cell_type": "code",
   "execution_count": 63,
   "id": "25535729",
   "metadata": {},
   "outputs": [
    {
     "name": "stdout",
     "output_type": "stream",
     "text": [
      "MAE: 2.4208078215853304\n",
      "MSE: 11.0915178488907\n",
      "RMSE: 3.3303930472078966\n",
      "R2 Square 0.8761225419581659\n",
      "__________________________________\n",
      "MAE: 2.434775909873193\n",
      "MSE: 10.828904218566597\n",
      "RMSE: 3.2907300434047455\n",
      "R2 Square 0.8811477237735879\n",
      "__________________________________\n"
     ]
    }
   ],
   "source": [
    "predicted_train = lin_reg.predict(X_train)\n",
    "predicted_test = lin_reg.predict(X_test)\n",
    "model_eval(y_test, predicted_test)\n",
    "model_eval(y_train, predicted_train)"
   ]
  },
  {
   "cell_type": "markdown",
   "id": "d990dd98",
   "metadata": {},
   "source": [
    "#### Assessing performance using cross-validation"
   ]
  },
  {
   "cell_type": "code",
   "execution_count": 64,
   "id": "f36165f9",
   "metadata": {},
   "outputs": [],
   "source": [
    "cv_results = cross_validate(reg_grid_cv.best_estimator_, X_train, y_train, cv=5)"
   ]
  },
  {
   "cell_type": "code",
   "execution_count": 65,
   "id": "7a9aaafe",
   "metadata": {},
   "outputs": [
    {
     "data": {
      "text/plain": [
       "(0.8794806258417486, 0.013053091581342203)"
      ]
     },
     "execution_count": 65,
     "metadata": {},
     "output_type": "execute_result"
    }
   ],
   "source": [
    "cv_scores = cv_results['test_score']\n",
    "np.mean(cv_scores), np.std(cv_scores)"
   ]
  },
  {
   "cell_type": "markdown",
   "id": "28dec8ae",
   "metadata": {},
   "source": [
    "### 2. Model linear regression with PCA"
   ]
  },
  {
   "cell_type": "code",
   "execution_count": 66,
   "id": "21ec9d8b",
   "metadata": {},
   "outputs": [],
   "source": [
    "pipe3 = make_pipeline(\n",
    "    IterativeImputer(), \n",
    "    StandardScaler(),\n",
    "    PCA(n_components=19),\n",
    "    LinearRegression())"
   ]
  },
  {
   "cell_type": "code",
   "execution_count": 67,
   "id": "526910d2",
   "metadata": {},
   "outputs": [],
   "source": [
    "lin_reg2 = pipe3.fit(X_train, y_train)"
   ]
  },
  {
   "cell_type": "markdown",
   "id": "91d8a408",
   "metadata": {},
   "source": [
    "#### Model Evaluation"
   ]
  },
  {
   "cell_type": "code",
   "execution_count": 68,
   "id": "042c5241",
   "metadata": {},
   "outputs": [
    {
     "name": "stdout",
     "output_type": "stream",
     "text": [
      "MAE: 2.6752494795915207\n",
      "MSE: 12.880212033304321\n",
      "RMSE: 3.5889012292489078\n",
      "R2 Square 0.856145214075893\n",
      "__________________________________\n",
      "MAE: 2.7194090026788427\n",
      "MSE: 12.856261215405254\n",
      "RMSE: 3.585562886828964\n",
      "R2 Square 0.8588965348319876\n",
      "__________________________________\n"
     ]
    }
   ],
   "source": [
    "predicted_train = lin_reg2.predict(X_train)\n",
    "predicted_test = lin_reg2.predict(X_test)\n",
    "model_eval(y_test, predicted_test)\n",
    "model_eval(y_train, predicted_train)"
   ]
  },
  {
   "cell_type": "markdown",
   "id": "9ffba60c",
   "metadata": {},
   "source": [
    "### 3. Model: Ridge regression "
   ]
  },
  {
   "cell_type": "code",
   "execution_count": 69,
   "id": "b8ece706",
   "metadata": {
    "scrolled": true
   },
   "outputs": [
    {
     "name": "stdout",
     "output_type": "stream",
     "text": [
      "cross-validated scores of ridge regression for alpha 1e-05 is : 0.8760049691829186\n",
      "cross-validated scores of ridge regression for alpha 0.0001 is : 0.8760049691829186\n",
      "cross-validated scores of ridge regression for alpha 0.001 is : 0.8760049691829186\n",
      "cross-validated scores of ridge regression for alpha 0.01 is : 0.8760049691829186\n",
      "cross-validated scores of ridge regression for alpha 0.1 is : 0.8760049691829186\n",
      "cross-validated scores of ridge regression for alpha 0.0 is : 0.8760049691829186\n",
      "cross-validated scores of ridge regression for alpha 1.0 is : 0.8760049691829186\n",
      "cross-validated scores of ridge regression for alpha 10.0 is : 0.8760049691829186\n",
      "cross-validated scores of ridge regression for alpha 20.0 is : 0.8760049691829186\n",
      "cross-validated scores of ridge regression for alpha 40.0 is : 0.8760049691829186\n",
      "cross-validated scores of ridge regression for alpha 60.0 is : 0.8760049691829186\n",
      "cross-validated scores of ridge regression for alpha 80.0 is : 0.8760049691829186\n",
      "cross-validated scores of ridge regression for alpha 100.0 is : 0.8760049691829186\n"
     ]
    }
   ],
   "source": [
    "# Perform 5-fold cross-validation: ridge_cv\n",
    "alpha = [1e-5, 1e-4, 1e-3, 1e-2, 1e-1, 0.0, 1.0, 10.0, 20.0, 40.0, 60.0, 80.0 ,100.0]\n",
    "for x in alpha:\n",
    "    ridge = Ridge(alpha=10)\n",
    "    ridge_cv = cross_val_score(ridge, X_train_imput_scale, y_train, cv=10, n_jobs=-1)\n",
    "    print( 'cross-validated scores of ridge regression for alpha', x ,'is :', np.mean(ridge_cv))"
   ]
  },
  {
   "cell_type": "code",
   "execution_count": 70,
   "id": "f16111ce",
   "metadata": {},
   "outputs": [],
   "source": [
    "grid = dict()\n",
    "grid['alpha'] = [1e-5, 1e-4, 1e-3, 1e-2, 1e-1, 0.0, 1.0, 10.0, 20.0, 40.0, 60.0, 80.0 ,100.0]"
   ]
  },
  {
   "cell_type": "code",
   "execution_count": 71,
   "id": "3d93d037",
   "metadata": {},
   "outputs": [],
   "source": [
    "pipe4 = make_pipeline(\n",
    "    IterativeImputer(), \n",
    "    StandardScaler(),\n",
    "    Ridge())"
   ]
  },
  {
   "cell_type": "code",
   "execution_count": 72,
   "id": "4a16a794",
   "metadata": {},
   "outputs": [],
   "source": [
    "ridge_grid_cv = GridSearchCV(pipe4, grid, cv=10, n_jobs=-1)"
   ]
  },
  {
   "cell_type": "markdown",
   "id": "a6d00724",
   "metadata": {},
   "source": [
    "#####  Model: Ridge regression "
   ]
  },
  {
   "cell_type": "code",
   "execution_count": 73,
   "id": "45b04970",
   "metadata": {},
   "outputs": [],
   "source": [
    "pipe5 = make_pipeline(\n",
    "    IterativeImputer(), \n",
    "    StandardScaler(),\n",
    "    Ridge(alpha=0.5))"
   ]
  },
  {
   "cell_type": "code",
   "execution_count": 74,
   "id": "b52b5767",
   "metadata": {},
   "outputs": [],
   "source": [
    "ridge_reg = pipe5.fit(X_train, y_train)"
   ]
  },
  {
   "cell_type": "code",
   "execution_count": 75,
   "id": "b5aaeac2",
   "metadata": {},
   "outputs": [
    {
     "name": "stdout",
     "output_type": "stream",
     "text": [
      "MAE: 2.419506794922075\n",
      "MSE: 11.080545923968375\n",
      "RMSE: 3.328745397889177\n",
      "R2 Square 0.8762450837227576\n",
      "__________________________________\n",
      "MAE: 2.4361589115692093\n",
      "MSE: 10.830899453949987\n",
      "RMSE: 3.291033189433067\n",
      "R2 Square 0.8811258251343408\n",
      "__________________________________\n"
     ]
    }
   ],
   "source": [
    "predicted_train = ridge_reg.predict(X_train)\n",
    "predicted_test = ridge_reg.predict(X_test)\n",
    "model_eval(y_test, predicted_test)\n",
    "model_eval(y_train, predicted_train)"
   ]
  },
  {
   "cell_type": "markdown",
   "id": "4f10137e",
   "metadata": {},
   "source": [
    "### 4.ElasticNet regression"
   ]
  },
  {
   "cell_type": "code",
   "execution_count": 76,
   "id": "c0ca17ba",
   "metadata": {},
   "outputs": [],
   "source": [
    "#  hyperparameter grid\n",
    "grid = dict()\n",
    "grid['alpha'] = [1e-5, 1e-4, 1e-3, 1e-2, 1e-1, 0.0, 1.0, 10.0, 100.0]\n",
    "grid['l1_ratio'] = np.arange(0, 1.1, 0.1)"
   ]
  },
  {
   "cell_type": "code",
   "execution_count": 77,
   "id": "d1ff073a",
   "metadata": {},
   "outputs": [
    {
     "data": {
      "text/plain": [
       "{'alpha': [1e-05, 0.0001, 0.001, 0.01, 0.1, 0.0, 1.0, 10.0, 100.0],\n",
       " 'l1_ratio': array([0. , 0.1, 0.2, 0.3, 0.4, 0.5, 0.6, 0.7, 0.8, 0.9, 1. ])}"
      ]
     },
     "execution_count": 77,
     "metadata": {},
     "output_type": "execute_result"
    }
   ],
   "source": [
    "grid"
   ]
  },
  {
   "cell_type": "markdown",
   "id": "7428fefc",
   "metadata": {},
   "source": [
    "###### identify the best parameters"
   ]
  },
  {
   "cell_type": "code",
   "execution_count": 78,
   "id": "573be7f2",
   "metadata": {},
   "outputs": [
    {
     "name": "stderr",
     "output_type": "stream",
     "text": [
      "C:\\Users\\mirei\\anaconda3\\lib\\site-packages\\sklearn\\model_selection\\_search.py:880: UserWarning: With alpha=0, this algorithm does not converge well. You are advised to use the LinearRegression estimator\n",
      "  self.best_estimator_.fit(X, y, **fit_params)\n",
      "C:\\Users\\mirei\\anaconda3\\lib\\site-packages\\sklearn\\linear_model\\_coordinate_descent.py:530: UserWarning: Coordinate descent with no regularization may lead to unexpected results and is discouraged.\n",
      "  model = cd_fast.enet_coordinate_descent(\n",
      "C:\\Users\\mirei\\anaconda3\\lib\\site-packages\\sklearn\\linear_model\\_coordinate_descent.py:530: ConvergenceWarning: Objective did not converge. You might want to increase the number of iterations. Duality gap: 11094.221605042218, tolerance: 18.668910220595414\n",
      "  model = cd_fast.enet_coordinate_descent(\n"
     ]
    },
    {
     "data": {
      "text/plain": [
       "GridSearchCV(cv=5, estimator=ElasticNet(), n_jobs=-1,\n",
       "             param_grid={'alpha': [1e-05, 0.0001, 0.001, 0.01, 0.1, 0.0, 1.0,\n",
       "                                   10.0, 100.0],\n",
       "                         'l1_ratio': array([0. , 0.1, 0.2, 0.3, 0.4, 0.5, 0.6, 0.7, 0.8, 0.9, 1. ])})"
      ]
     },
     "execution_count": 78,
     "metadata": {},
     "output_type": "execute_result"
    }
   ],
   "source": [
    "elastic_net = ElasticNet()\n",
    "\n",
    "EL_grid_cv0 = GridSearchCV(elastic_net, grid, cv=5, n_jobs=-1)\n",
    "\n",
    "EL_grid_cv0 .fit(X_train_imput_scale, y_train)"
   ]
  },
  {
   "cell_type": "code",
   "execution_count": 79,
   "id": "7ed6a4bc",
   "metadata": {},
   "outputs": [
    {
     "name": "stdout",
     "output_type": "stream",
     "text": [
      "Tuned ElasticNet l1 ratio: {'alpha': 0.0, 'l1_ratio': 0.0}\n"
     ]
    }
   ],
   "source": [
    "print(\"Tuned ElasticNet l1 ratio: {}\".format(EL_grid_cv0.best_params_))"
   ]
  },
  {
   "cell_type": "markdown",
   "id": "c5ea22ad",
   "metadata": {},
   "source": [
    "##### Run the model with the best paramters and assessing the performance"
   ]
  },
  {
   "cell_type": "code",
   "execution_count": 80,
   "id": "83a698c4",
   "metadata": {},
   "outputs": [
    {
     "name": "stdout",
     "output_type": "stream",
     "text": [
      "cross-validation scores of elastic_net regression is  0.8777380250763078\n"
     ]
    }
   ],
   "source": [
    "elastic_net = ElasticNet(alpha = 0.0, l1_ratio = 0.0)\n",
    "\n",
    "elastic_net_CV = cross_val_score(elastic_net, X_train_imput_scale, y_train, cv=10, n_jobs=-1)\n",
    "\n",
    "print( 'cross-validation scores of elastic_net regression is ', np.mean(elastic_net_CV))"
   ]
  },
  {
   "cell_type": "code",
   "execution_count": 81,
   "id": "1073e6f3",
   "metadata": {},
   "outputs": [
    {
     "name": "stderr",
     "output_type": "stream",
     "text": [
      "C:\\Users\\mirei\\AppData\\Local\\Temp/ipykernel_124856/2293483320.py:1: UserWarning: With alpha=0, this algorithm does not converge well. You are advised to use the LinearRegression estimator\n",
      "  Elastic_net = elastic_net.fit( X_train_imput_scale, y_train)\n",
      "C:\\Users\\mirei\\anaconda3\\lib\\site-packages\\sklearn\\linear_model\\_coordinate_descent.py:530: UserWarning: Coordinate descent with no regularization may lead to unexpected results and is discouraged.\n",
      "  model = cd_fast.enet_coordinate_descent(\n",
      "C:\\Users\\mirei\\anaconda3\\lib\\site-packages\\sklearn\\linear_model\\_coordinate_descent.py:530: ConvergenceWarning: Objective did not converge. You might want to increase the number of iterations. Duality gap: 11094.221605042218, tolerance: 18.668910220595414\n",
      "  model = cd_fast.enet_coordinate_descent(\n"
     ]
    }
   ],
   "source": [
    "Elastic_net = elastic_net.fit( X_train_imput_scale, y_train)"
   ]
  },
  {
   "cell_type": "code",
   "execution_count": 82,
   "id": "9b9d64db",
   "metadata": {
    "scrolled": true
   },
   "outputs": [
    {
     "name": "stdout",
     "output_type": "stream",
     "text": [
      "MAE: 2.4206974867823945\n",
      "MSE: 11.09084192780402\n",
      "RMSE: 3.330291567986806\n",
      "R2 Square 0.8761300910950104\n",
      "__________________________________\n",
      "MAE: 2.4348646539514602\n",
      "MSE: 10.828913230885519\n",
      "RMSE: 3.2907314127539364\n",
      "R2 Square 0.8811476248591827\n",
      "__________________________________\n"
     ]
    }
   ],
   "source": [
    "predicted_train = Elastic_net.predict(X_train_imput_scale)\n",
    "predicted_test = Elastic_net.predict(X_test_imput_scale)\n",
    "model_eval(y_test, predicted_test)\n",
    "model_eval(y_train, predicted_train)"
   ]
  },
  {
   "cell_type": "markdown",
   "id": "42dbea67",
   "metadata": {},
   "source": [
    "### 5.  Decision tree for regression"
   ]
  },
  {
   "cell_type": "code",
   "execution_count": 83,
   "id": "fdf40d96",
   "metadata": {},
   "outputs": [],
   "source": [
    "param_rf={'max_depth':[4,6,8, 10, 12, 14, 16], 'min_samples_leaf': [0.1, 0.2, 0.5, 1, 1.5, 2], \n",
    "          'max_features': [0.2,0.4, 0.6, 0.8, 1.0]}"
   ]
  },
  {
   "cell_type": "code",
   "execution_count": 84,
   "id": "146d962f",
   "metadata": {},
   "outputs": [
    {
     "name": "stderr",
     "output_type": "stream",
     "text": [
      "C:\\Users\\mirei\\anaconda3\\lib\\site-packages\\sklearn\\model_selection\\_search.py:922: UserWarning: One or more of the test scores are non-finite: [nan nan nan nan nan nan nan nan nan nan nan nan nan nan nan nan nan nan\n",
      " nan nan nan nan nan nan nan nan nan nan nan nan nan nan nan nan nan nan\n",
      " nan nan nan nan nan nan nan nan nan nan nan nan nan nan nan nan nan nan\n",
      " nan nan nan nan nan nan nan nan nan nan nan nan nan nan nan nan nan nan\n",
      " nan nan nan nan nan nan nan nan nan nan nan nan nan nan nan nan nan nan\n",
      " nan nan nan nan nan nan nan nan nan nan nan nan nan nan nan nan nan nan\n",
      " nan nan nan nan nan nan nan nan nan nan nan nan nan nan nan nan nan nan\n",
      " nan nan nan nan nan nan nan nan nan nan nan nan nan nan nan nan nan nan\n",
      " nan nan nan nan nan nan nan nan nan nan nan nan nan nan nan nan nan nan\n",
      " nan nan nan nan nan nan nan nan nan nan nan nan nan nan nan nan nan nan\n",
      " nan nan nan nan nan nan nan nan nan nan nan nan nan nan nan nan nan nan\n",
      " nan nan nan nan nan nan nan nan nan nan nan nan]\n",
      "  warnings.warn(\n"
     ]
    }
   ],
   "source": [
    "dt = DecisionTreeRegressor(random_state=1)\n",
    "dt_grid_CV= GridSearchCV(estimator= dt ,param_grid=param_rf, cv=10,\n",
    "                          scoring='accuracy',  n_jobs=-1)\n",
    "# Fit dt to the training set\n",
    "dt_grid_CV=dt_grid_CV.fit(X_train_imput_scale, y_train)"
   ]
  },
  {
   "cell_type": "code",
   "execution_count": 85,
   "id": "8aa0e60b",
   "metadata": {},
   "outputs": [
    {
     "data": {
      "text/plain": [
       "{'max_depth': 4, 'max_features': 0.2, 'min_samples_leaf': 0.1}"
      ]
     },
     "execution_count": 85,
     "metadata": {},
     "output_type": "execute_result"
    }
   ],
   "source": [
    "best_dt_param = dt_grid_CV.best_params_\n",
    "best_dt_param"
   ]
  },
  {
   "cell_type": "code",
   "execution_count": 86,
   "id": "33aec9c9",
   "metadata": {},
   "outputs": [],
   "source": [
    "model_dt = dt_grid_CV.best_estimator_"
   ]
  },
  {
   "cell_type": "code",
   "execution_count": 87,
   "id": "860c96f9",
   "metadata": {},
   "outputs": [
    {
     "name": "stdout",
     "output_type": "stream",
     "text": [
      "MAE: 3.863532769202153\n",
      "MSE: 27.570816497385476\n",
      "RMSE: 5.250791987632482\n",
      "R2 Square 0.6920707598035769\n",
      "__________________________________\n",
      "MAE: 3.8674476846519696\n",
      "MSE: 27.097628249072212\n",
      "RMSE: 5.205538228566976\n",
      "R2 Square 0.7025908870615473\n",
      "__________________________________\n"
     ]
    }
   ],
   "source": [
    "predicted_train = dt_grid_CV.predict(X_train_imput_scale)\n",
    "predicted_test = dt_grid_CV.predict(X_test_imput_scale)\n",
    "model_eval(y_test, predicted_test)\n",
    "model_eval(y_train, predicted_train)"
   ]
  },
  {
   "cell_type": "markdown",
   "id": "c59261e5",
   "metadata": {},
   "source": [
    "### 6.Random Forest Model"
   ]
  },
  {
   "cell_type": "markdown",
   "id": "fc5966ba",
   "metadata": {},
   "source": [
    "https://medium.datadriveninvestor.com/random-forest-regression-9871bc9a25eb"
   ]
  },
  {
   "cell_type": "markdown",
   "id": "caa5b59b-e9f9-49e4-8122-39d70ac2744d",
   "metadata": {},
   "source": [
    "#### Simple model of random forest "
   ]
  },
  {
   "cell_type": "code",
   "execution_count": 88,
   "id": "ae0ab9a5",
   "metadata": {},
   "outputs": [
    {
     "data": {
      "text/plain": [
       "RandomForestRegressor(max_depth=4, max_features=0.4, n_estimators=200,\n",
       "                      n_jobs=-1, random_state=1)"
      ]
     },
     "execution_count": 88,
     "metadata": {},
     "output_type": "execute_result"
    }
   ],
   "source": [
    "rf_reg1 = RandomForestRegressor(n_estimators = 200, max_depth= 4, max_features=0.4, n_jobs=-1, random_state=1)\n",
    "rf_reg1.fit(X_train_imput_scale, y_train)"
   ]
  },
  {
   "cell_type": "markdown",
   "id": "26168332",
   "metadata": {},
   "source": [
    "##### evaluate the model"
   ]
  },
  {
   "cell_type": "code",
   "execution_count": 89,
   "id": "1754dd43",
   "metadata": {
    "scrolled": true
   },
   "outputs": [
    {
     "name": "stdout",
     "output_type": "stream",
     "text": [
      "MAE: 2.0700118418698006\n",
      "MSE: 8.310518575927087\n",
      "RMSE: 2.8827970056747123\n",
      "R2 Square 0.9071825939225934\n",
      "__________________________________\n",
      "MAE: 1.965666683326224\n",
      "MSE: 7.371327708600075\n",
      "RMSE: 2.715018914961749\n",
      "R2 Square 0.9190962391674096\n",
      "__________________________________\n"
     ]
    }
   ],
   "source": [
    "predicted_train = rf_reg1.predict(X_train_imput_scale)\n",
    "predicted_test = rf_reg1.predict(X_test_imput_scale)\n",
    "model_eval(y_test, predicted_test)\n",
    "model_eval(y_train, predicted_train)"
   ]
  },
  {
   "cell_type": "markdown",
   "id": "b518e84d-9303-4804-8463-41a0c8726006",
   "metadata": {},
   "source": [
    "#### 2nd model of random forest "
   ]
  },
  {
   "cell_type": "code",
   "execution_count": 90,
   "id": "e3cc4be9",
   "metadata": {},
   "outputs": [
    {
     "data": {
      "text/plain": [
       "RandomForestRegressor(max_depth=10, max_features=0.4, n_estimators=200,\n",
       "                      n_jobs=-1, random_state=1)"
      ]
     },
     "execution_count": 90,
     "metadata": {},
     "output_type": "execute_result"
    }
   ],
   "source": [
    "rf_reg2 = RandomForestRegressor(n_estimators = 200, max_depth= 10, max_features=0.4, n_jobs=-1, random_state=1)\n",
    "rf_reg2.fit(X_train_imput_scale, y_train)"
   ]
  },
  {
   "cell_type": "code",
   "execution_count": 91,
   "id": "ee92c5ad",
   "metadata": {},
   "outputs": [
    {
     "name": "stdout",
     "output_type": "stream",
     "text": [
      "MAE: 1.3513974668413375\n",
      "MSE: 4.041975871124836\n",
      "RMSE: 2.010466580454606\n",
      "R2 Square 0.9548565216048\n",
      "__________________________________\n",
      "MAE: 0.7672918255836191\n",
      "MSE: 1.2450402530416385\n",
      "RMSE: 1.115813717894541\n",
      "R2 Square 0.9863351023260695\n",
      "__________________________________\n"
     ]
    }
   ],
   "source": [
    "# evaluate the model\n",
    "predicted_train = rf_reg2.predict(X_train_imput_scale)\n",
    "predicted_test = rf_reg2.predict(X_test_imput_scale)\n",
    "model_eval(y_test, predicted_test)\n",
    "model_eval(y_train, predicted_train)"
   ]
  },
  {
   "cell_type": "markdown",
   "id": "cd1b0efe",
   "metadata": {},
   "source": [
    "#### 3 random forest model"
   ]
  },
  {
   "cell_type": "code",
   "execution_count": 92,
   "id": "9e23fa7c-0e22-457e-9b3e-501744e1b481",
   "metadata": {},
   "outputs": [
    {
     "data": {
      "text/plain": [
       "RandomForestRegressor(max_depth=7, max_features=0.3, n_jobs=-1, random_state=1)"
      ]
     },
     "execution_count": 92,
     "metadata": {},
     "output_type": "execute_result"
    }
   ],
   "source": [
    "rf_reg3 = RandomForestRegressor(n_estimators = 100, max_depth=7, max_features=0.3, n_jobs=-1, random_state=1)\n",
    "rf_reg3.fit(X_train_imput_scale, y_train)"
   ]
  },
  {
   "cell_type": "code",
   "execution_count": 93,
   "id": "9b5c6117-6c00-43a7-9dfa-6dea6777b70c",
   "metadata": {},
   "outputs": [
    {
     "name": "stdout",
     "output_type": "stream",
     "text": [
      "MAE: 1.612885197542225\n",
      "MSE: 5.335150864676197\n",
      "RMSE: 2.3097945503174513\n",
      "R2 Square 0.9404134820508917\n",
      "__________________________________\n",
      "MAE: 1.3030944899636046\n",
      "MSE: 3.2951183990677504\n",
      "RMSE: 1.8152460987611985\n",
      "R2 Square 0.9638345381711602\n",
      "__________________________________\n"
     ]
    }
   ],
   "source": [
    "# evaluate the model\n",
    "predicted_train = rf_reg3.predict(X_train_imput_scale)\n",
    "predicted_test = rf_reg3.predict(X_test_imput_scale)\n",
    "model_eval(y_test, predicted_test)\n",
    "model_eval(y_train, predicted_train)"
   ]
  },
  {
   "cell_type": "markdown",
   "id": "9107668e-ca95-4898-b0e6-da2f5a78521b",
   "metadata": {},
   "source": [
    "#### 4th model of random forest with GridSearchCV"
   ]
  },
  {
   "cell_type": "code",
   "execution_count": 94,
   "id": "e9b4c675",
   "metadata": {},
   "outputs": [],
   "source": [
    "param_rf={'max_depth':[4, 5, 6, 7, 8],'n_estimators':[50, 75, 100, 150, 175, 200], \n",
    "          'min_samples_leaf': [0.1, 0.2, 0.5, 0.7, 0.9, 1], 'max_features': [0.3, 0.4, 0.5, 0.6]},"
   ]
  },
  {
   "cell_type": "code",
   "execution_count": 95,
   "id": "eff2a34d",
   "metadata": {},
   "outputs": [],
   "source": [
    "# Perform Grid-Search\n",
    "RF_grid_CV= GridSearchCV(estimator= RandomForestRegressor(random_state=1) ,param_grid=param_rf, cv=5, \n",
    "                          scoring='neg_mean_squared_error', verbose=1, n_jobs=-1)"
   ]
  },
  {
   "cell_type": "code",
   "execution_count": 96,
   "id": "7d6742f6",
   "metadata": {
    "scrolled": true
   },
   "outputs": [
    {
     "name": "stdout",
     "output_type": "stream",
     "text": [
      "Fitting 5 folds for each of 720 candidates, totalling 3600 fits\n"
     ]
    },
    {
     "name": "stderr",
     "output_type": "stream",
     "text": [
      "C:\\Users\\mirei\\anaconda3\\lib\\site-packages\\sklearn\\model_selection\\_search.py:922: UserWarning: One or more of the test scores are non-finite: [-16.58236921 -16.55921532 -16.7002158  -16.35878103 -16.37413278\n",
      " -16.44962042 -25.92406931 -25.71796348 -25.76196886 -25.45517732\n",
      " -25.41245263 -25.55134703 -91.12647702 -91.12889565 -91.12945785\n",
      " -91.13285487 -91.13255861 -91.13252833          nan          nan\n",
      "          nan          nan          nan          nan          nan\n",
      "          nan          nan          nan          nan          nan\n",
      "  -9.24268813  -9.27774694  -9.2038039   -9.08749338  -9.09125255\n",
      "  -9.08105114 -15.99693078 -15.78755285 -15.81188881 -15.7081208\n",
      " -15.63604638 -15.69971656 -24.68246488 -24.69641626 -24.80918861\n",
      " -24.38481714 -24.30437233 -24.41154178 -91.12647702 -91.12889565\n",
      " -91.12945785 -91.13285487 -91.13255861 -91.13252833          nan\n",
      "          nan          nan          nan          nan          nan\n",
      "          nan          nan          nan          nan          nan\n",
      "          nan  -8.44600168  -8.33155504  -8.39444242  -8.36837994\n",
      "  -8.38151388  -8.39429797 -15.7378391  -15.54495403 -15.55376608\n",
      " -15.35395308 -15.33903145 -15.31452645 -24.46707849 -24.70644406\n",
      " -24.7670715  -24.21576593 -24.13399949 -23.9216906  -91.12647702\n",
      " -91.12889565 -91.12945785 -91.13285487 -91.13255861 -91.13252833\n",
      "          nan          nan          nan          nan          nan\n",
      "          nan          nan          nan          nan          nan\n",
      "          nan          nan  -8.30787055  -8.22834541  -8.17580636\n",
      "  -8.1167927   -8.13193659  -8.13627939 -15.49329547 -15.51167722\n",
      " -15.63484105 -15.3095764  -15.25187753 -15.30049124 -24.40671019\n",
      " -24.75322244 -24.78923488 -24.23291868 -24.1174276  -23.94097502\n",
      " -91.12647702 -91.12889565 -91.12945785 -91.13285487 -91.13255861\n",
      " -91.13252833          nan          nan          nan          nan\n",
      "          nan          nan          nan          nan          nan\n",
      "          nan          nan          nan  -8.13584488  -7.99333227\n",
      "  -7.99408894  -7.953194    -7.93539591  -7.93642937 -16.58236921\n",
      " -16.55921532 -16.7002158  -16.35878103 -16.37413278 -16.44962042\n",
      " -25.92406931 -25.71796348 -25.76196886 -25.45517732 -25.41245263\n",
      " -25.55134703 -91.12647702 -91.12889565 -91.12945785 -91.13285487\n",
      " -91.13255861 -91.13252833          nan          nan          nan\n",
      "          nan          nan          nan          nan          nan\n",
      "          nan          nan          nan          nan  -7.59066591\n",
      "  -7.55151867  -7.47644659  -7.41153869  -7.42314355  -7.41907608\n",
      " -15.99693078 -15.78755285 -15.81188881 -15.7081208  -15.63604638\n",
      " -15.69971656 -24.68246488 -24.69641626 -24.80918861 -24.38481714\n",
      " -24.30437233 -24.41154178 -91.12647702 -91.12889565 -91.12945785\n",
      " -91.13285487 -91.13255861 -91.13252833          nan          nan\n",
      "          nan          nan          nan          nan          nan\n",
      "          nan          nan          nan          nan          nan\n",
      "  -6.87155323  -6.8638305   -6.84868851  -6.91753525  -6.90947295\n",
      "  -6.9237198  -15.7378391  -15.54495403 -15.55376608 -15.35395308\n",
      " -15.33903145 -15.31452645 -24.46707849 -24.70644406 -24.7670715\n",
      " -24.21576593 -24.13399949 -23.9216906  -91.12647702 -91.12889565\n",
      " -91.12945785 -91.13285487 -91.13255861 -91.13252833          nan\n",
      "          nan          nan          nan          nan          nan\n",
      "          nan          nan          nan          nan          nan\n",
      "          nan  -6.71781055  -6.70692431  -6.65990836  -6.63354181\n",
      "  -6.63795144  -6.63575344 -15.49329547 -15.51167722 -15.63484105\n",
      " -15.3095764  -15.25187753 -15.30049124 -24.40671019 -24.75322244\n",
      " -24.78923488 -24.23291868 -24.1174276  -23.94097502 -91.12647702\n",
      " -91.12889565 -91.12945785 -91.13285487 -91.13255861 -91.13252833\n",
      "          nan          nan          nan          nan          nan\n",
      "          nan          nan          nan          nan          nan\n",
      "          nan          nan  -6.62460322  -6.58405344  -6.58859966\n",
      "  -6.57909338  -6.54887583  -6.54311116 -16.58236921 -16.55921532\n",
      " -16.7002158  -16.35878103 -16.37413278 -16.44962042 -25.92406931\n",
      " -25.71796348 -25.76196886 -25.45517732 -25.41245263 -25.55134703\n",
      " -91.12647702 -91.12889565 -91.12945785 -91.13285487 -91.13255861\n",
      " -91.13252833          nan          nan          nan          nan\n",
      "          nan          nan          nan          nan          nan\n",
      "          nan          nan          nan  -6.52420042  -6.51624461\n",
      "  -6.45842405  -6.41271524  -6.41016676  -6.40495064 -15.99693078\n",
      " -15.78755285 -15.81188881 -15.7081208  -15.63604638 -15.69971656\n",
      " -24.68246488 -24.69641626 -24.80918861 -24.38481714 -24.30437233\n",
      " -24.41154178 -91.12647702 -91.12889565 -91.12945785 -91.13285487\n",
      " -91.13255861 -91.13252833          nan          nan          nan\n",
      "          nan          nan          nan          nan          nan\n",
      "          nan          nan          nan          nan  -6.00000504\n",
      "  -5.9150269   -5.90985648  -5.92982379  -5.92259409  -5.92844634\n",
      " -15.7378391  -15.54495403 -15.55376608 -15.35395308 -15.33903145\n",
      " -15.31452645 -24.46707849 -24.70644406 -24.7670715  -24.21576593\n",
      " -24.13399949 -23.9216906  -91.12647702 -91.12889565 -91.12945785\n",
      " -91.13285487 -91.13255861 -91.13252833          nan          nan\n",
      "          nan          nan          nan          nan          nan\n",
      "          nan          nan          nan          nan          nan\n",
      "  -5.77696089  -5.74913537  -5.7289631   -5.69816428  -5.68562556\n",
      "  -5.67796776 -15.49329547 -15.51167722 -15.63484105 -15.3095764\n",
      " -15.25187753 -15.30049124 -24.40671019 -24.75322244 -24.78923488\n",
      " -24.23291868 -24.1174276  -23.94097502 -91.12647702 -91.12889565\n",
      " -91.12945785 -91.13285487 -91.13255861 -91.13252833          nan\n",
      "          nan          nan          nan          nan          nan\n",
      "          nan          nan          nan          nan          nan\n",
      "          nan  -5.72974833  -5.67938736  -5.65124913  -5.63079821\n",
      "  -5.61221181  -5.60020559 -16.58236921 -16.55921532 -16.7002158\n",
      " -16.35878103 -16.37413278 -16.44962042 -25.92406931 -25.71796348\n",
      " -25.76196886 -25.45517732 -25.41245263 -25.55134703 -91.12647702\n",
      " -91.12889565 -91.12945785 -91.13285487 -91.13255861 -91.13252833\n",
      "          nan          nan          nan          nan          nan\n",
      "          nan          nan          nan          nan          nan\n",
      "          nan          nan  -5.70994369  -5.63929951  -5.61861666\n",
      "  -5.58727824  -5.58459197  -5.58306439 -15.99693078 -15.78755285\n",
      " -15.81188881 -15.7081208  -15.63604638 -15.69971656 -24.68246488\n",
      " -24.69641626 -24.80918861 -24.38481714 -24.30437233 -24.41154178\n",
      " -91.12647702 -91.12889565 -91.12945785 -91.13285487 -91.13255861\n",
      " -91.13252833          nan          nan          nan          nan\n",
      "          nan          nan          nan          nan          nan\n",
      "          nan          nan          nan  -5.45184441  -5.33973278\n",
      "  -5.31401419  -5.28718931  -5.28213038  -5.272086   -15.7378391\n",
      " -15.54495403 -15.55376608 -15.35395308 -15.33903145 -15.31452645\n",
      " -24.46707849 -24.70644406 -24.7670715  -24.21576593 -24.13399949\n",
      " -23.9216906  -91.12647702 -91.12889565 -91.12945785 -91.13285487\n",
      " -91.13255861 -91.13252833          nan          nan          nan\n",
      "          nan          nan          nan          nan          nan\n",
      "          nan          nan          nan          nan  -5.11255673\n",
      "  -5.11515674  -5.0800803   -5.04805999  -5.05022444  -5.04661565\n",
      " -15.49329547 -15.51167722 -15.63484105 -15.3095764  -15.25187753\n",
      " -15.30049124 -24.40671019 -24.75322244 -24.78923488 -24.23291868\n",
      " -24.1174276  -23.94097502 -91.12647702 -91.12889565 -91.12945785\n",
      " -91.13285487 -91.13255861 -91.13252833          nan          nan\n",
      "          nan          nan          nan          nan          nan\n",
      "          nan          nan          nan          nan          nan\n",
      "  -5.06136648  -4.99908865  -4.99215237  -4.96050945  -4.95302326\n",
      "  -4.95840273 -16.58236921 -16.55921532 -16.7002158  -16.35878103\n",
      " -16.37413278 -16.44962042 -25.92406931 -25.71796348 -25.76196886\n",
      " -25.45517732 -25.41245263 -25.55134703 -91.12647702 -91.12889565\n",
      " -91.12945785 -91.13285487 -91.13255861 -91.13252833          nan\n",
      "          nan          nan          nan          nan          nan\n",
      "          nan          nan          nan          nan          nan\n",
      "          nan  -5.21058471  -5.2139699   -5.16168217  -5.12169736\n",
      "  -5.12233907  -5.12434101 -15.99693078 -15.78755285 -15.81188881\n",
      " -15.7081208  -15.63604638 -15.69971656 -24.68246488 -24.69641626\n",
      " -24.80918861 -24.38481714 -24.30437233 -24.41154178 -91.12647702\n",
      " -91.12889565 -91.12945785 -91.13285487 -91.13255861 -91.13252833\n",
      "          nan          nan          nan          nan          nan\n",
      "          nan          nan          nan          nan          nan\n",
      "          nan          nan  -4.9272274   -4.83210603  -4.80577333\n",
      "  -4.76104993  -4.75736314  -4.75889953 -15.7378391  -15.54495403\n",
      " -15.55376608 -15.35395308 -15.33903145 -15.31452645 -24.46707849\n",
      " -24.70644406 -24.7670715  -24.21576593 -24.13399949 -23.9216906\n",
      " -91.12647702 -91.12889565 -91.12945785 -91.13285487 -91.13255861\n",
      " -91.13252833          nan          nan          nan          nan\n",
      "          nan          nan          nan          nan          nan\n",
      "          nan          nan          nan  -4.66356587  -4.66602783\n",
      "  -4.62658847  -4.61369847  -4.59888443  -4.58685185 -15.49329547\n",
      " -15.51167722 -15.63484105 -15.3095764  -15.25187753 -15.30049124\n",
      " -24.40671019 -24.75322244 -24.78923488 -24.23291868 -24.1174276\n",
      " -23.94097502 -91.12647702 -91.12889565 -91.12945785 -91.13285487\n",
      " -91.13255861 -91.13252833          nan          nan          nan\n",
      "          nan          nan          nan          nan          nan\n",
      "          nan          nan          nan          nan  -4.65278846\n",
      "  -4.64159685  -4.58645044  -4.57681534  -4.57489808  -4.57157978]\n",
      "  warnings.warn(\n"
     ]
    },
    {
     "data": {
      "text/plain": [
       "GridSearchCV(cv=5, estimator=RandomForestRegressor(random_state=1), n_jobs=-1,\n",
       "             param_grid=({'max_depth': [4, 5, 6, 7, 8],\n",
       "                          'max_features': [0.3, 0.4, 0.5, 0.6],\n",
       "                          'min_samples_leaf': [0.1, 0.2, 0.5, 0.7, 0.9, 1],\n",
       "                          'n_estimators': [50, 75, 100, 150, 175, 200]},),\n",
       "             scoring='neg_mean_squared_error', verbose=1)"
      ]
     },
     "execution_count": 96,
     "metadata": {},
     "output_type": "execute_result"
    }
   ],
   "source": [
    "RF_grid_CV.fit(X_train_imput_scale, y_train)"
   ]
  },
  {
   "cell_type": "code",
   "execution_count": 97,
   "id": "163f9773",
   "metadata": {},
   "outputs": [
    {
     "data": {
      "text/plain": [
       "{'max_depth': 8,\n",
       " 'max_features': 0.6,\n",
       " 'min_samples_leaf': 1,\n",
       " 'n_estimators': 200}"
      ]
     },
     "execution_count": 97,
     "metadata": {},
     "output_type": "execute_result"
    }
   ],
   "source": [
    "best_rf_param = RF_grid_CV.best_params_\n",
    "best_rf_param"
   ]
  },
  {
   "cell_type": "code",
   "execution_count": 98,
   "id": "43005e9b",
   "metadata": {},
   "outputs": [],
   "source": [
    "rf_reg4 = RF_grid_CV.best_estimator_"
   ]
  },
  {
   "cell_type": "code",
   "execution_count": 99,
   "id": "08b60dc2",
   "metadata": {},
   "outputs": [
    {
     "name": "stdout",
     "output_type": "stream",
     "text": [
      "MAE: 1.44459017879459\n",
      "MSE: 4.469747130368998\n",
      "RMSE: 2.1141776487251485\n",
      "R2 Square 0.9500788872953694\n",
      "__________________________________\n",
      "MAE: 0.9958535025438301\n",
      "MSE: 2.03063826173892\n",
      "RMSE: 1.425004653234129\n",
      "R2 Square 0.9777127976451839\n",
      "__________________________________\n"
     ]
    }
   ],
   "source": [
    "predicted_train = rf_reg4.predict(X_train_imput_scale)\n",
    "predicted_test = rf_reg4.predict(X_test_imput_scale)\n",
    "model_eval(y_test, predicted_test)\n",
    "model_eval(y_train, predicted_train)"
   ]
  },
  {
   "cell_type": "code",
   "execution_count": 100,
   "id": "d6f923ac",
   "metadata": {},
   "outputs": [
    {
     "data": {
      "image/png": "[encoded data removed]",
      "text/plain": [
       "<Figure size 720x504 with 1 Axes>"
      ]
     },
     "metadata": {},
     "output_type": "display_data"
    }
   ],
   "source": [
    "Important_features =  pd.Series(rf_reg4.feature_importances_, index = X_train.columns).sort_values()\n",
    "Important_features.plot(kind='barh', figsize=(10,7) , fontsize=10)\n",
    "plt.title('Random Forest regressor Features of importance')\n",
    "plt.show()"
   ]
  },
  {
   "cell_type": "code",
   "execution_count": 101,
   "id": "332da37e",
   "metadata": {},
   "outputs": [],
   "source": [
    "# Perform K-Fold CV for Random forest regressor \n",
    "scores = cross_val_score(rf_reg4, X_train_imput_scale, y_train, cv= 5)"
   ]
  },
  {
   "cell_type": "code",
   "execution_count": 102,
   "id": "df4cc1a9",
   "metadata": {},
   "outputs": [
    {
     "data": {
      "text/plain": [
       "0.9500902625279759"
      ]
     },
     "execution_count": 102,
     "metadata": {},
     "output_type": "execute_result"
    }
   ],
   "source": [
    "np.mean(scores)"
   ]
  },
  {
   "cell_type": "code",
   "execution_count": 103,
   "id": "84c35cd4",
   "metadata": {},
   "outputs": [],
   "source": [
    "scores2 = cross_validate(rf_reg4, X_train_imput_scale, y_train, cv=5)"
   ]
  },
  {
   "cell_type": "code",
   "execution_count": 104,
   "id": "942d3537",
   "metadata": {},
   "outputs": [
    {
     "data": {
      "text/plain": [
       "(0.8794806258417486, 0.013053091581342203)"
      ]
     },
     "execution_count": 104,
     "metadata": {},
     "output_type": "execute_result"
    }
   ],
   "source": [
    "scores2 = cv_results['test_score']\n",
    "np.mean(scores2), np.std(scores2)"
   ]
  },
  {
   "cell_type": "code",
   "execution_count": null,
   "id": "c507c43e",
   "metadata": {},
   "outputs": [],
   "source": []
  },
  {
   "cell_type": "code",
   "execution_count": 105,
   "id": "35fcaf55",
   "metadata": {
    "scrolled": true
   },
   "outputs": [
    {
     "name": "stdout",
     "output_type": "stream",
     "text": [
      "{'n_estimators': [200, 344, 488, 633, 777, 922, 1066, 1211, 1355, 1500], 'max_features': [0.2, 0.4, 0.6000000000000001, 0.8, 1.0], 'max_depth': [10, 20, 30, 40, 50, 60, 70, 80, 90, 100, 110], 'min_samples_split': [2, 5, 7, 10], 'min_samples_leaf': [1, 2, 4, 6], 'bootstrap': [True, False]}\n"
     ]
    }
   ],
   "source": [
    "n_estimators = [int(x) for x in np.linspace(start = 200, stop = 1500, num = 10)]\n",
    "max_features =  [x for x in np.linspace(start = 0.2, stop = 1.0, num = 5)]\n",
    "max_depth = [int(x) for x in np.linspace(10, 110, num = 11)]\n",
    "min_samples_split = [2, 5, 7, 10]\n",
    "min_samples_leaf = [1, 2, 4, 6]\n",
    "bootstrap = [True, False]\n",
    "# Create the random grid\n",
    "random_grid = {'n_estimators': n_estimators,\n",
    "               'max_features': max_features,\n",
    "               'max_depth': max_depth,\n",
    "               'min_samples_split': min_samples_split,\n",
    "               'min_samples_leaf': min_samples_leaf,\n",
    "               'bootstrap': bootstrap}\n",
    "print(random_grid)"
   ]
  },
  {
   "cell_type": "code",
   "execution_count": 106,
   "id": "5ad0b24e",
   "metadata": {},
   "outputs": [
    {
     "name": "stdout",
     "output_type": "stream",
     "text": [
      "Fitting 3 folds for each of 100 candidates, totalling 300 fits\n"
     ]
    },
    {
     "data": {
      "text/plain": [
       "RandomizedSearchCV(cv=3, estimator=RandomForestRegressor(), n_iter=100,\n",
       "                   n_jobs=-1,\n",
       "                   param_distributions={'bootstrap': [True, False],\n",
       "                                        'max_depth': [10, 20, 30, 40, 50, 60,\n",
       "                                                      70, 80, 90, 100, 110],\n",
       "                                        'max_features': [0.2, 0.4,\n",
       "                                                         0.6000000000000001,\n",
       "                                                         0.8, 1.0],\n",
       "                                        'min_samples_leaf': [1, 2, 4, 6],\n",
       "                                        'min_samples_split': [2, 5, 7, 10],\n",
       "                                        'n_estimators': [200, 344, 488, 633,\n",
       "                                                         777, 922, 1066, 1211,\n",
       "                                                         1355, 1500]},\n",
       "                   random_state=42, verbose=2)"
      ]
     },
     "execution_count": 106,
     "metadata": {},
     "output_type": "execute_result"
    }
   ],
   "source": [
    "# Use the random grid to search for best hyperparameters\n",
    "rf = RandomForestRegressor()\n",
    "\n",
    "rf_random = RandomizedSearchCV(estimator = rf, param_distributions = random_grid, n_iter = 100, cv = 3, verbose=2, random_state=42, n_jobs = -1)\n",
    "\n",
    "rf_random.fit(X_train_imput_scale, y_train)"
   ]
  },
  {
   "cell_type": "code",
   "execution_count": 107,
   "id": "ff23c025",
   "metadata": {
    "scrolled": true
   },
   "outputs": [
    {
     "data": {
      "text/plain": [
       "{'n_estimators': 488,\n",
       " 'min_samples_split': 2,\n",
       " 'min_samples_leaf': 1,\n",
       " 'max_features': 0.4,\n",
       " 'max_depth': 20,\n",
       " 'bootstrap': False}"
      ]
     },
     "execution_count": 107,
     "metadata": {},
     "output_type": "execute_result"
    }
   ],
   "source": [
    "rf_random.best_params_"
   ]
  },
  {
   "cell_type": "code",
   "execution_count": 108,
   "id": "da1208f2-499f-4348-8da0-ee3f232ac39b",
   "metadata": {},
   "outputs": [],
   "source": [
    "rf_reg6 = rf_random.best_estimator_"
   ]
  },
  {
   "cell_type": "code",
   "execution_count": 109,
   "id": "8858ac91",
   "metadata": {},
   "outputs": [
    {
     "name": "stdout",
     "output_type": "stream",
     "text": [
      "MAE: 1.1091016387224406\n",
      "MSE: 3.2272588913448503\n",
      "RMSE: 1.7964573168725302\n",
      "R2 Square 0.963955823418461\n",
      "__________________________________\n",
      "MAE: 0.005905252257301221\n",
      "MSE: 0.0002084371422870615\n",
      "RMSE: 0.01443735232953264\n",
      "R2 Square 0.9999977123051131\n",
      "__________________________________\n"
     ]
    }
   ],
   "source": [
    "predicted_train = rf_reg6.predict(X_train_imput_scale)\n",
    "predicted_test = rf_reg6.predict(X_test_imput_scale)\n",
    "model_eval(y_test, predicted_test)\n",
    "model_eval(y_train, predicted_train)"
   ]
  },
  {
   "cell_type": "code",
   "execution_count": 110,
   "id": "930f755a",
   "metadata": {},
   "outputs": [],
   "source": [
    "# Perform K-Fold CV\n",
    "rf_scores = cross_val_score(rf_random.best_estimator_, X_train_imput_scale, y_train, cv=5)"
   ]
  },
  {
   "cell_type": "code",
   "execution_count": 111,
   "id": "6e7648f6",
   "metadata": {},
   "outputs": [
    {
     "data": {
      "text/plain": [
       "(0.9606393823264326, 0.007604582714427789)"
      ]
     },
     "execution_count": 111,
     "metadata": {},
     "output_type": "execute_result"
    }
   ],
   "source": [
    " np.mean(rf_scores), np.std(rf_scores)"
   ]
  },
  {
   "cell_type": "markdown",
   "id": "3b8bd8f5-99f2-4b07-849b-b054da926eb8",
   "metadata": {},
   "source": [
    "##### 1st Gradien Boosting Model "
   ]
  },
  {
   "cell_type": "code",
   "execution_count": 112,
   "id": "e9505914-43a1-4b25-9539-4648410f8b73",
   "metadata": {},
   "outputs": [
    {
     "data": {
      "text/plain": [
       "GradientBoostingRegressor(n_estimators=150, random_state=1)"
      ]
     },
     "execution_count": 112,
     "metadata": {},
     "output_type": "execute_result"
    }
   ],
   "source": [
    "grdB = GradientBoostingRegressor(n_estimators = 150, max_depth = 3, random_state=1)\n",
    "grdB.fit(X_train_imput_scale, y_train)"
   ]
  },
  {
   "cell_type": "code",
   "execution_count": 113,
   "id": "a7d06e07-b660-4c33-b3d9-105172f1d0ec",
   "metadata": {},
   "outputs": [
    {
     "name": "stdout",
     "output_type": "stream",
     "text": [
      "MAE: 1.5439771100187263\n",
      "MSE: 4.979547887326709\n",
      "RMSE: 2.2314900598762946\n",
      "R2 Square 0.9443850929256439\n",
      "__________________________________\n",
      "MAE: 1.1459256178294823\n",
      "MSE: 2.581168057259521\n",
      "RMSE: 1.6066013996195574\n",
      "R2 Square 0.9716704762793804\n",
      "__________________________________\n"
     ]
    }
   ],
   "source": [
    "predicted_train = grdB.predict(X_train_imput_scale)\n",
    "predicted_test = grdB.predict(X_test_imput_scale)\n",
    "model_eval(y_test, predicted_test)\n",
    "model_eval(y_train, predicted_train)"
   ]
  },
  {
   "cell_type": "markdown",
   "id": "b0938e0b-edb9-4c27-b109-d9b38206a0dd",
   "metadata": {},
   "source": [
    "#### 2nd Gradient Boost Model"
   ]
  },
  {
   "cell_type": "code",
   "execution_count": 114,
   "id": "6cb19e28-7191-4322-bb6f-4c41dc11e3ed",
   "metadata": {},
   "outputs": [
    {
     "name": "stdout",
     "output_type": "stream",
     "text": [
      "{'n_estimators': [25, 56, 87, 118, 150], 'max_features': [0.2, 0.4, 0.6000000000000001, 0.8, 1.0], 'max_depth': [1, 2, 3, 4, 5, 6, 7, 8, 9, 10], 'min_samples_split': [6, 8, 10, 12], 'min_samples_leaf': [4, 6, 8, 10], 'learning_rate': [0.01, 0.08249999999999999, 0.155, 0.22749999999999998, 0.3]}\n"
     ]
    }
   ],
   "source": [
    "n_estimators = [int(x) for x in np.linspace(start = 25, stop = 150, num = 5)]\n",
    "max_features =  [x for x in np.linspace(start = 0.2, stop = 1.0, num = 5)]\n",
    "max_depth = [int(x) for x in np.linspace(1, 10, num = 10)]\n",
    "min_samples_split = [6, 8, 10, 12]\n",
    "min_samples_leaf = [4, 6, 8, 10]\n",
    "learning_rate = [x for x in np.linspace(0.01, 0.3, num = 5)]\n",
    "criterion = ['mse',]\n",
    "\n",
    "\n",
    "grd_grid = {'n_estimators': n_estimators,\n",
    "               'max_features': max_features,\n",
    "               'max_depth': max_depth,\n",
    "               'min_samples_split': min_samples_split,\n",
    "               'min_samples_leaf': min_samples_leaf,\n",
    "              'learning_rate': learning_rate}\n",
    "print(grd_grid)"
   ]
  },
  {
   "cell_type": "code",
   "execution_count": 115,
   "id": "1ef8531c-6eb1-48ae-b6ae-adf6e70f0d44",
   "metadata": {},
   "outputs": [],
   "source": [
    "# with RandomizedSearchCV\n",
    "grd = GradientBoostingRegressor()\n",
    "\n",
    "grd_Boost = RandomizedSearchCV(estimator = grd, param_distributions= grd_grid,  cv = 5, verbose=1, random_state=1, n_jobs = -1)"
   ]
  },
  {
   "cell_type": "code",
   "execution_count": 116,
   "id": "0b44299d-7efa-4c36-81a6-839aa22b22f9",
   "metadata": {},
   "outputs": [],
   "source": [
    "# with GridSearchCV\n",
    "grd = GradientBoostingRegressor(random_state = 1)\n",
    "\n",
    "grd_Boost2 = GridSearchCV(estimator = grd, param_grid= grd_grid, scoring='neg_mean_squared_error', cv = 5, verbose=1, n_jobs = -1)"
   ]
  },
  {
   "cell_type": "code",
   "execution_count": 117,
   "id": "f61bde72-c4b9-45a2-b979-ae32457f7aaa",
   "metadata": {},
   "outputs": [
    {
     "name": "stdout",
     "output_type": "stream",
     "text": [
      "Fitting 5 folds for each of 10 candidates, totalling 50 fits\n"
     ]
    },
    {
     "data": {
      "text/plain": [
       "RandomizedSearchCV(cv=5, estimator=GradientBoostingRegressor(), n_jobs=-1,\n",
       "                   param_distributions={'learning_rate': [0.01,\n",
       "                                                          0.08249999999999999,\n",
       "                                                          0.155,\n",
       "                                                          0.22749999999999998,\n",
       "                                                          0.3],\n",
       "                                        'max_depth': [1, 2, 3, 4, 5, 6, 7, 8, 9,\n",
       "                                                      10],\n",
       "                                        'max_features': [0.2, 0.4,\n",
       "                                                         0.6000000000000001,\n",
       "                                                         0.8, 1.0],\n",
       "                                        'min_samples_leaf': [4, 6, 8, 10],\n",
       "                                        'min_samples_split': [6, 8, 10, 12],\n",
       "                                        'n_estimators': [25, 56, 87, 118, 150]},\n",
       "                   random_state=1, verbose=1)"
      ]
     },
     "execution_count": 117,
     "metadata": {},
     "output_type": "execute_result"
    }
   ],
   "source": [
    "grd_Boost.fit(X_train_imput_scale, y_train)"
   ]
  },
  {
   "cell_type": "code",
   "execution_count": 118,
   "id": "a68a7ef5-1873-4f5a-a6ea-13ef8dc6f4fe",
   "metadata": {},
   "outputs": [
    {
     "name": "stdout",
     "output_type": "stream",
     "text": [
      "Fitting 5 folds for each of 20000 candidates, totalling 100000 fits\n"
     ]
    },
    {
     "data": {
      "text/plain": [
       "GridSearchCV(cv=5, estimator=GradientBoostingRegressor(random_state=1),\n",
       "             n_jobs=-1,\n",
       "             param_grid={'learning_rate': [0.01, 0.08249999999999999, 0.155,\n",
       "                                           0.22749999999999998, 0.3],\n",
       "                         'max_depth': [1, 2, 3, 4, 5, 6, 7, 8, 9, 10],\n",
       "                         'max_features': [0.2, 0.4, 0.6000000000000001, 0.8,\n",
       "                                          1.0],\n",
       "                         'min_samples_leaf': [4, 6, 8, 10],\n",
       "                         'min_samples_split': [6, 8, 10, 12],\n",
       "                         'n_estimators': [25, 56, 87, 118, 150]},\n",
       "             scoring='neg_mean_squared_error', verbose=1)"
      ]
     },
     "execution_count": 118,
     "metadata": {},
     "output_type": "execute_result"
    }
   ],
   "source": [
    "grd_Boost2.fit(X_train_imput_scale, y_train)"
   ]
  },
  {
   "cell_type": "code",
   "execution_count": 119,
   "id": "d2798d19-f043-4a7f-b64c-0ffbc1e7a67a",
   "metadata": {},
   "outputs": [
    {
     "data": {
      "text/plain": [
       "{'n_estimators': 118,\n",
       " 'min_samples_split': 10,\n",
       " 'min_samples_leaf': 8,\n",
       " 'max_features': 0.6000000000000001,\n",
       " 'max_depth': 10,\n",
       " 'learning_rate': 0.08249999999999999}"
      ]
     },
     "execution_count": 119,
     "metadata": {},
     "output_type": "execute_result"
    }
   ],
   "source": [
    "grd_Boost.best_params_"
   ]
  },
  {
   "cell_type": "markdown",
   "id": "2b8d11db-001c-4664-a765-dd91fd58d72d",
   "metadata": {},
   "source": [
    "#grd_Boost.best_params_ = {'n_estimators': 118,\n",
    " 'min_samples_split': 10,\n",
    " 'min_samples_leaf': 8,\n",
    " 'max_features': 0.6000000000000001,\n",
    " 'max_depth': 10,\n",
    " 'learning_rate': 0.08249999999999999}"
   ]
  },
  {
   "cell_type": "code",
   "execution_count": 120,
   "id": "f3209447-92e9-4fb3-bc7e-da9b1afc8c0b",
   "metadata": {},
   "outputs": [
    {
     "data": {
      "text/plain": [
       "{'learning_rate': 0.08249999999999999,\n",
       " 'max_depth': 10,\n",
       " 'max_features': 0.6000000000000001,\n",
       " 'min_samples_leaf': 8,\n",
       " 'min_samples_split': 6,\n",
       " 'n_estimators': 150}"
      ]
     },
     "execution_count": 120,
     "metadata": {},
     "output_type": "execute_result"
    }
   ],
   "source": [
    "grd_Boost2.best_params_"
   ]
  },
  {
   "cell_type": "markdown",
   "id": "6799ac4f-9ded-491d-b605-ba27d24140a9",
   "metadata": {},
   "source": [
    "#grd_Boost2.best_params_ = {'learning_rate': 0.08249999999999999,\n",
    " 'max_depth': 7,\n",
    " 'max_features': 0.8,\n",
    " 'min_samples_leaf': 4,\n",
    " 'min_samples_split': 12,\n",
    " 'n_estimators': 150}"
   ]
  },
  {
   "cell_type": "code",
   "execution_count": 121,
   "id": "757f7309-6091-4133-ad84-e7df6091d307",
   "metadata": {},
   "outputs": [
    {
     "data": {
      "text/plain": [
       "GradientBoostingRegressor(learning_rate=0.08249999999999999, max_depth=10,\n",
       "                          max_features=0.6000000000000001, min_samples_leaf=8,\n",
       "                          min_samples_split=10, n_estimators=118)"
      ]
     },
     "execution_count": 121,
     "metadata": {},
     "output_type": "execute_result"
    }
   ],
   "source": [
    "grd_Boost.best_estimator_"
   ]
  },
  {
   "cell_type": "code",
   "execution_count": 122,
   "id": "0b6be990-149c-47d6-bf04-459e49784baa",
   "metadata": {},
   "outputs": [
    {
     "data": {
      "text/plain": [
       "GradientBoostingRegressor(learning_rate=0.08249999999999999, max_depth=10,\n",
       "                          max_features=0.6000000000000001, min_samples_leaf=8,\n",
       "                          min_samples_split=6, n_estimators=150,\n",
       "                          random_state=1)"
      ]
     },
     "execution_count": 122,
     "metadata": {},
     "output_type": "execute_result"
    }
   ],
   "source": [
    "grd_Boost2.best_estimator_"
   ]
  },
  {
   "cell_type": "code",
   "execution_count": 123,
   "id": "a7a1f682-9605-4e8b-8cd7-7f4bfd5059c3",
   "metadata": {},
   "outputs": [],
   "source": [
    "GRD_Boost= grd_Boost.best_estimator_"
   ]
  },
  {
   "cell_type": "code",
   "execution_count": 124,
   "id": "bbed36b7-5e9d-4a97-8d82-43cfd1f034d4",
   "metadata": {},
   "outputs": [],
   "source": [
    "GRD_Boost2= grd_Boost2.best_estimator_"
   ]
  },
  {
   "cell_type": "code",
   "execution_count": 125,
   "id": "551ecd5d",
   "metadata": {},
   "outputs": [
    {
     "name": "stdout",
     "output_type": "stream",
     "text": [
      "MAE: 1.1519766729096745\n",
      "MSE: 3.260905880476566\n",
      "RMSE: 1.805797851498491\n",
      "R2 Square 0.9635800314356879\n",
      "__________________________________\n",
      "MAE: 0.1844318202979674\n",
      "MSE: 0.10333125400065835\n",
      "RMSE: 0.32145179109884947\n",
      "R2 Square 0.9988658912762151\n",
      "__________________________________\n"
     ]
    }
   ],
   "source": [
    "predicted_train = GRD_Boost.predict(X_train_imput_scale)\n",
    "predicted_test = GRD_Boost.predict(X_test_imput_scale)\n",
    "model_eval(y_test, predicted_test)\n",
    "model_eval(y_train, predicted_train)"
   ]
  },
  {
   "cell_type": "code",
   "execution_count": 126,
   "id": "f7780ee7-1ef1-47d6-bf2a-e5113a0844f9",
   "metadata": {},
   "outputs": [
    {
     "name": "stdout",
     "output_type": "stream",
     "text": [
      "MAE: 1.1706820830302334\n",
      "MSE: 3.462588091881295\n",
      "RMSE: 1.8608030771366686\n",
      "R2 Square 0.9613275101828305\n",
      "__________________________________\n",
      "MAE: 0.14416879991134438\n",
      "MSE: 0.05967600363504632\n",
      "RMSE: 0.24428672423004555\n",
      "R2 Square 0.9993450280171506\n",
      "__________________________________\n"
     ]
    }
   ],
   "source": [
    "predicted_train = GRD_Boost2.predict(X_train_imput_scale)\n",
    "predicted_test = GRD_Boost2.predict(X_test_imput_scale)\n",
    "model_eval(y_test, predicted_test)\n",
    "model_eval(y_train, predicted_train)"
   ]
  },
  {
   "cell_type": "code",
   "execution_count": 164,
   "id": "ea75987f",
   "metadata": {},
   "outputs": [
    {
     "data": {
      "text/plain": [
       "array([0.00463862, 0.15025896, 0.00362304, 0.00519675, 0.0032392 ,\n",
       "       0.00328907, 0.00203342, 0.00582728, 0.00447337, 0.00407784,\n",
       "       0.004617  , 0.00399472, 0.10100628, 0.00261785, 0.0017947 ,\n",
       "       0.00681784, 0.00682902, 0.54656548, 0.13461015, 0.00216925,\n",
       "       0.00159325, 0.00072692])"
      ]
     },
     "execution_count": 164,
     "metadata": {},
     "output_type": "execute_result"
    }
   ],
   "source": [
    "feature_importance = GRD_Boost.feature_importances_\n",
    "feature_importance"
   ]
  },
  {
   "cell_type": "code",
   "execution_count": 165,
   "id": "ac302ec1",
   "metadata": {},
   "outputs": [
    {
     "data": {
      "image/png": "[encoded data removed]",
      "text/plain": [
       "<Figure size 720x504 with 1 Axes>"
      ]
     },
     "metadata": {},
     "output_type": "display_data"
    }
   ],
   "source": [
    "Important_features =  pd.Series(GRD_Boost.feature_importances_, index = X_train.columns).sort_values()\n",
    "Important_features.plot(kind='barh', figsize=(10,7) , fontsize=10)\n",
    "plt.title('Gradient Boosting regressor Features importance')\n",
    "plt.show()"
   ]
  },
  {
   "cell_type": "markdown",
   "id": "0edb2a8a-144b-4229-bc94-639246c8e528",
   "metadata": {},
   "source": [
    "#### XGBoost regression model"
   ]
  },
  {
   "cell_type": "code",
   "execution_count": 127,
   "id": "95dc3914",
   "metadata": {
    "scrolled": true
   },
   "outputs": [
    {
     "data": {
      "text/plain": [
       "XGBRegressor(base_score=0.5, booster='gbtree', colsample_bylevel=1,\n",
       "             colsample_bynode=1, colsample_bytree=1, enable_categorical=False,\n",
       "             gamma=0, gpu_id=-1, importance_type=None,\n",
       "             interaction_constraints='', learning_rate=0.04, max_delta_step=0,\n",
       "             max_depth=5, min_child_weight=1, missing=nan,\n",
       "             monotone_constraints='()', n_estimators=200, n_jobs=-1,\n",
       "             num_parallel_tree=1, predictor='auto', random_state=0, reg_alpha=0,\n",
       "             reg_lambda=1, scale_pos_weight=1, subsample=1, tree_method='exact',\n",
       "             validate_parameters=1, verbosity=None)"
      ]
     },
     "execution_count": 127,
     "metadata": {},
     "output_type": "execute_result"
    }
   ],
   "source": [
    "xgbr = xgb.XGBRegressor(objective='reg:squarederror',  learning_rate= 0.04, max_depth=5,\n",
    "                       n_estimators= 200, n_jobs=-1 )\n",
    "xgbr.fit(X_train_imput_scale, y_train)"
   ]
  },
  {
   "cell_type": "code",
   "execution_count": 128,
   "id": "f43bbd52-00ca-4562-b606-b2464233bae2",
   "metadata": {
    "scrolled": true
   },
   "outputs": [
    {
     "name": "stdout",
     "output_type": "stream",
     "text": [
      "MAE: 1.375659246520649\n",
      "MSE: 4.097322079660356\n",
      "RMSE: 2.0241842998255755\n",
      "R2 Square 0.9542383782885252\n",
      "__________________________________\n",
      "MAE: 0.8634313863565307\n",
      "MSE: 1.4860088169722818\n",
      "RMSE: 1.2190196130383963\n",
      "R2 Square 0.9836903599085437\n",
      "__________________________________\n"
     ]
    }
   ],
   "source": [
    "predicted_train = xgbr.predict(X_train_imput_scale)\n",
    "predicted_test = xgbr.predict(X_test_imput_scale)\n",
    "model_eval(y_test, predicted_test)\n",
    "model_eval(y_train, predicted_train)"
   ]
  },
  {
   "cell_type": "markdown",
   "id": "b2755d22",
   "metadata": {},
   "source": [
    "### 7. Mix of model, which model to select for ensemble model"
   ]
  },
  {
   "cell_type": "code",
   "execution_count": 129,
   "id": "ad6be2d6",
   "metadata": {},
   "outputs": [],
   "source": [
    "alg= [RandomForestRegressor(), AdaBoostRegressor(), GradientBoostingRegressor(), \n",
    "      DecisionTreeRegressor(), LinearRegression(), SVR(), LassoCV()]"
   ]
  },
  {
   "cell_type": "code",
   "execution_count": 130,
   "id": "a6a86612",
   "metadata": {
    "scrolled": true
   },
   "outputs": [
    {
     "name": "stdout",
     "output_type": "stream",
     "text": [
      "MAE: 0.45084577842850304\n",
      "MSE: 0.5300682562225492\n",
      "RMSE: 0.7280578659849429\n",
      "R2 Square 0.9941822535747061\n",
      "__________________________________\n",
      "RandomForestRegressor() None\n",
      "**************************************************\n",
      "MAE: 1.2304664391353806\n",
      "MSE: 3.662692309442542\n",
      "RMSE: 1.913816163962083\n",
      "R2 Square 0.959092613016126\n",
      "__________________________________\n",
      "RandomForestRegressor() None\n",
      "======================================================================\n",
      "MAE: 2.2953535651939294\n",
      "MSE: 8.16917965622423\n",
      "RMSE: 2.8581776810100927\n",
      "R2 Square 0.9103394417894972\n",
      "__________________________________\n",
      "AdaBoostRegressor() None\n",
      "**************************************************\n",
      "MAE: 2.4280898387301253\n",
      "MSE: 9.421705937239107\n",
      "RMSE: 3.069479750257217\n",
      "R2 Square 0.8947721134452696\n",
      "__________________________________\n",
      "AdaBoostRegressor() None\n",
      "======================================================================\n",
      "MAE: 1.26884771695024\n",
      "MSE: 3.1386302221411175\n",
      "RMSE: 1.7716179673228418\n",
      "R2 Square 0.9655520689254135\n",
      "__________________________________\n",
      "GradientBoostingRegressor() None\n",
      "**************************************************\n",
      "MAE: 1.5880482137773986\n",
      "MSE: 5.237719215614022\n",
      "RMSE: 2.288606391587252\n",
      "R2 Square 0.94150166359494\n",
      "__________________________________\n",
      "GradientBoostingRegressor() None\n",
      "======================================================================\n",
      "MAE: 0.0\n",
      "MSE: 0.0\n",
      "RMSE: 0.0\n",
      "R2 Square 1.0\n",
      "__________________________________\n",
      "DecisionTreeRegressor() None\n",
      "**************************************************\n",
      "MAE: 1.5852104664391355\n",
      "MSE: 6.8959726962457335\n",
      "RMSE: 2.626018411254143\n",
      "R2 Square 0.9229811843631256\n",
      "__________________________________\n",
      "DecisionTreeRegressor() None\n",
      "======================================================================\n",
      "MAE: 2.434775909873193\n",
      "MSE: 10.828904218566597\n",
      "RMSE: 3.2907300434047455\n",
      "R2 Square 0.8811477237735879\n",
      "__________________________________\n",
      "LinearRegression() None\n",
      "**************************************************\n",
      "MAE: 2.4208078215853304\n",
      "MSE: 11.0915178488907\n",
      "RMSE: 3.3303930472078966\n",
      "R2 Square 0.8761225419581659\n",
      "__________________________________\n",
      "LinearRegression() None\n",
      "======================================================================\n",
      "MAE: 2.158590482279968\n",
      "MSE: 10.733458653747597\n",
      "RMSE: 3.276195759375132\n",
      "R2 Square 0.8821952833793884\n",
      "__________________________________\n",
      "SVR() None\n",
      "**************************************************\n",
      "MAE: 2.3039182382193797\n",
      "MSE: 11.612237962510285\n",
      "RMSE: 3.4076733943425808\n",
      "R2 Square 0.8703067929411906\n",
      "__________________________________\n",
      "SVR() None\n",
      "======================================================================\n",
      "MAE: 2.447908621288557\n",
      "MSE: 10.887326579325086\n",
      "RMSE: 3.299594911398229\n",
      "R2 Square 0.8805065111062191\n",
      "__________________________________\n",
      "LassoCV() None\n",
      "**************************************************\n",
      "MAE: 2.4238303743586593\n",
      "MSE: 11.06469163165277\n",
      "RMSE: 3.3263631238415283\n",
      "R2 Square 0.8764221550179461\n",
      "__________________________________\n",
      "LassoCV() None\n",
      "======================================================================\n"
     ]
    }
   ],
   "source": [
    "for i in alg:\n",
    "    model= i\n",
    "    model.fit(X_train_imput_scale, y_train)\n",
    "    y_pred1= model.predict(X_test_imput_scale)\n",
    "    y_pred2= model.predict(X_train_imput_scale)\n",
    "    print(i, model_eval(y_train, y_pred2))\n",
    "    print(\"*\"*50)\n",
    "    print(i, model_eval(y_test, y_pred1))\n",
    "    print(\"=\"*70)"
   ]
  },
  {
   "cell_type": "code",
   "execution_count": null,
   "id": "482f280b",
   "metadata": {},
   "outputs": [],
   "source": []
  },
  {
   "cell_type": "markdown",
   "id": "179fee94",
   "metadata": {},
   "source": [
    "### 7. Ensemble learning model  "
   ]
  },
  {
   "cell_type": "code",
   "execution_count": 131,
   "id": "d1441757",
   "metadata": {
    "scrolled": true
   },
   "outputs": [
    {
     "data": {
      "text/plain": [
       "VotingRegressor(estimators=[('gb', GradientBoostingRegressor(random_state=47)),\n",
       "                            ('rf', RandomForestRegressor(random_state=47)),\n",
       "                            ('lr', LinearRegression())])"
      ]
     },
     "execution_count": 131,
     "metadata": {},
     "output_type": "execute_result"
    }
   ],
   "source": [
    "# Train classifiers\n",
    "reg1 = GradientBoostingRegressor(random_state=47)\n",
    "reg2 = RandomForestRegressor(random_state=47)\n",
    "reg3 = LinearRegression()\n",
    "\n",
    "reg1.fit( X_train_imput_scale , y_train)\n",
    "reg2.fit( X_train_imput_scale , y_train)\n",
    "reg3.fit( X_train_imput_scale , y_train)\n",
    "\n",
    "voting = VotingRegressor([(\"gb\", reg1), (\"rf\", reg2), (\"lr\", reg3)])\n",
    "voting.fit( X_train_imput_scale , y_train)"
   ]
  },
  {
   "cell_type": "code",
   "execution_count": 132,
   "id": "f3954c78",
   "metadata": {},
   "outputs": [
    {
     "name": "stdout",
     "output_type": "stream",
     "text": [
      "MAE: 1.5808207595054748\n",
      "MSE: 5.260257234321089\n",
      "RMSE: 2.293525067297301\n",
      "R2 Square 0.9412499439921979\n",
      "__________________________________\n",
      "MAE: 1.2560820940355506\n",
      "MSE: 3.1279214995658315\n",
      "RMSE: 1.7685930847896674\n",
      "R2 Square 0.9656696021520319\n",
      "__________________________________\n"
     ]
    }
   ],
   "source": [
    "predicted_train = voting.predict(X_train_imput_scale)\n",
    "predicted_test = voting.predict(X_test_imput_scale)\n",
    "model_eval(y_test, predicted_test)\n",
    "model_eval(y_train, predicted_train)"
   ]
  },
  {
   "cell_type": "code",
   "execution_count": 133,
   "id": "dcf6fdbb-6ad4-4311-9150-e49fcbdd2fdd",
   "metadata": {},
   "outputs": [],
   "source": [
    "#voting.get_params()"
   ]
  },
  {
   "cell_type": "code",
   "execution_count": null,
   "id": "c883f09a",
   "metadata": {},
   "outputs": [],
   "source": []
  },
  {
   "cell_type": "markdown",
   "id": "2f8507f1-0627-4b10-a70c-e99bb63d7252",
   "metadata": {},
   "source": [
    "### Selection of the best model"
   ]
  },
  {
   "cell_type": "code",
   "execution_count": 134,
   "id": "87f1d272",
   "metadata": {},
   "outputs": [],
   "source": [
    "models_liste = [lin_reg, lin_reg2, ridge_reg, Elastic_net, model_dt, rf_reg1, rf_reg2, rf_reg3, rf_reg4,\n",
    "               grdB, GRD_Boost,GRD_Boost2, xgbr, voting]"
   ]
  },
  {
   "cell_type": "code",
   "execution_count": 135,
   "id": "be26b95d-6d0a-421a-ad6d-3e4dad39b342",
   "metadata": {},
   "outputs": [],
   "source": [
    "#GRD_Boost2"
   ]
  },
  {
   "cell_type": "code",
   "execution_count": 136,
   "id": "b1bbdf7c",
   "metadata": {},
   "outputs": [
    {
     "name": "stdout",
     "output_type": "stream",
     "text": [
      "Pipeline(steps=[('iterativeimputer', IterativeImputer()),\n",
      "                ('standardscaler', StandardScaler()),\n",
      "                ('selectkbest',\n",
      "                 SelectKBest(k=22,\n",
      "                             score_func=<function f_regression at 0x000002477C893670>)),\n",
      "                ('linearregression', LinearRegression())])\n",
      "EVALUATION FOR TRAINING DATA SET\n",
      "MAE: 2.434775909873193\n",
      "MSE: 10.828904218566597\n",
      "RMSE: 3.2907300434047455\n",
      "R2 Square 0.8811477237735879\n",
      "__________________________________\n",
      "None\n",
      "**************************************************\n",
      "EVALUATION FOR TESTING DATA SET\n",
      "MAE: 2.4208078215853304\n",
      "MSE: 11.0915178488907\n",
      "RMSE: 3.3303930472078966\n",
      "R2 Square 0.8761225419581659\n",
      "__________________________________\n",
      "None\n",
      "======================================================================\n",
      "Pipeline(steps=[('iterativeimputer', IterativeImputer()),\n",
      "                ('standardscaler', StandardScaler()),\n",
      "                ('pca', PCA(n_components=19)),\n",
      "                ('linearregression', LinearRegression())])\n",
      "EVALUATION FOR TRAINING DATA SET\n",
      "MAE: 2.7194090026788427\n",
      "MSE: 12.856261215405254\n",
      "RMSE: 3.585562886828964\n",
      "R2 Square 0.8588965348319876\n",
      "__________________________________\n",
      "None\n",
      "**************************************************\n",
      "EVALUATION FOR TESTING DATA SET\n",
      "MAE: 2.6752494795915207\n",
      "MSE: 12.880212033304321\n",
      "RMSE: 3.5889012292489078\n",
      "R2 Square 0.856145214075893\n",
      "__________________________________\n",
      "None\n",
      "======================================================================\n",
      "Pipeline(steps=[('iterativeimputer', IterativeImputer()),\n",
      "                ('standardscaler', StandardScaler()),\n",
      "                ('ridge', Ridge(alpha=0.5))])\n",
      "EVALUATION FOR TRAINING DATA SET\n",
      "MAE: 2.4361589115692093\n",
      "MSE: 10.830899453949987\n",
      "RMSE: 3.291033189433067\n",
      "R2 Square 0.8811258251343408\n",
      "__________________________________\n",
      "None\n",
      "**************************************************\n",
      "EVALUATION FOR TESTING DATA SET\n",
      "MAE: 2.419506794922075\n",
      "MSE: 11.080545923968375\n",
      "RMSE: 3.328745397889177\n",
      "R2 Square 0.8762450837227576\n",
      "__________________________________\n",
      "None\n",
      "======================================================================\n",
      "ElasticNet(alpha=0.0, l1_ratio=0.0)\n",
      "EVALUATION FOR TRAINING DATA SET\n",
      "MAE: 2.4348646539514602\n",
      "MSE: 10.828913230885519\n",
      "RMSE: 3.2907314127539364\n",
      "R2 Square 0.8811476248591827\n",
      "__________________________________\n",
      "None\n",
      "**************************************************\n",
      "EVALUATION FOR TESTING DATA SET\n",
      "MAE: 2.4206974867823945\n",
      "MSE: 11.09084192780402\n",
      "RMSE: 3.330291567986806\n",
      "R2 Square 0.8761300910950104\n",
      "__________________________________\n",
      "None\n",
      "======================================================================\n",
      "DecisionTreeRegressor(max_depth=4, max_features=0.2, min_samples_leaf=0.1,\n",
      "                      random_state=1)\n",
      "EVALUATION FOR TRAINING DATA SET\n",
      "MAE: 3.8674476846519696\n",
      "MSE: 27.097628249072212\n",
      "RMSE: 5.205538228566976\n",
      "R2 Square 0.7025908870615473\n",
      "__________________________________\n",
      "None\n",
      "**************************************************\n",
      "EVALUATION FOR TESTING DATA SET\n",
      "MAE: 3.863532769202153\n",
      "MSE: 27.570816497385476\n",
      "RMSE: 5.250791987632482\n",
      "R2 Square 0.6920707598035769\n",
      "__________________________________\n",
      "None\n",
      "======================================================================\n",
      "RandomForestRegressor(max_depth=4, max_features=0.4, n_estimators=200,\n",
      "                      n_jobs=-1, random_state=1)\n",
      "EVALUATION FOR TRAINING DATA SET\n",
      "MAE: 1.9656666833262237\n",
      "MSE: 7.371327708600071\n",
      "RMSE: 2.7150189149617487\n",
      "R2 Square 0.9190962391674096\n",
      "__________________________________\n",
      "None\n",
      "**************************************************\n",
      "EVALUATION FOR TESTING DATA SET\n",
      "MAE: 2.0700118418697997\n",
      "MSE: 8.310518575927086\n",
      "RMSE: 2.882797005674712\n",
      "R2 Square 0.9071825939225935\n",
      "__________________________________\n",
      "None\n",
      "======================================================================\n",
      "RandomForestRegressor(max_depth=10, max_features=0.4, n_estimators=200,\n",
      "                      n_jobs=-1, random_state=1)\n",
      "EVALUATION FOR TRAINING DATA SET\n",
      "MAE: 0.7672918255836191\n",
      "MSE: 1.2450402530416385\n",
      "RMSE: 1.115813717894541\n",
      "R2 Square 0.9863351023260695\n",
      "__________________________________\n",
      "None\n",
      "**************************************************\n",
      "EVALUATION FOR TESTING DATA SET\n",
      "MAE: 1.351397466841338\n",
      "MSE: 4.041975871124837\n",
      "RMSE: 2.0104665804546062\n",
      "R2 Square 0.9548565216048\n",
      "__________________________________\n",
      "None\n",
      "======================================================================\n",
      "RandomForestRegressor(max_depth=7, max_features=0.3, n_jobs=-1, random_state=1)\n",
      "EVALUATION FOR TRAINING DATA SET\n",
      "MAE: 1.3030944899636039\n",
      "MSE: 3.295118399067748\n",
      "RMSE: 1.8152460987611978\n",
      "R2 Square 0.9638345381711602\n",
      "__________________________________\n",
      "None\n",
      "**************************************************\n",
      "EVALUATION FOR TESTING DATA SET\n",
      "MAE: 1.6128851975422245\n",
      "MSE: 5.335150864676195\n",
      "RMSE: 2.309794550317451\n",
      "R2 Square 0.9404134820508917\n",
      "__________________________________\n",
      "None\n",
      "======================================================================\n",
      "RandomForestRegressor(max_depth=8, max_features=0.6, n_estimators=200,\n",
      "                      random_state=1)\n",
      "EVALUATION FOR TRAINING DATA SET\n",
      "MAE: 0.9958535025438301\n",
      "MSE: 2.03063826173892\n",
      "RMSE: 1.425004653234129\n",
      "R2 Square 0.9777127976451839\n",
      "__________________________________\n",
      "None\n",
      "**************************************************\n",
      "EVALUATION FOR TESTING DATA SET\n",
      "MAE: 1.44459017879459\n",
      "MSE: 4.469747130368998\n",
      "RMSE: 2.1141776487251485\n",
      "R2 Square 0.9500788872953694\n",
      "__________________________________\n",
      "None\n",
      "======================================================================\n",
      "GradientBoostingRegressor(n_estimators=150, random_state=1)\n",
      "EVALUATION FOR TRAINING DATA SET\n",
      "MAE: 1.1459256178294823\n",
      "MSE: 2.581168057259521\n",
      "RMSE: 1.6066013996195574\n",
      "R2 Square 0.9716704762793804\n",
      "__________________________________\n",
      "None\n",
      "**************************************************\n",
      "EVALUATION FOR TESTING DATA SET\n",
      "MAE: 1.5439771100187263\n",
      "MSE: 4.979547887326709\n",
      "RMSE: 2.2314900598762946\n",
      "R2 Square 0.9443850929256439\n",
      "__________________________________\n",
      "None\n",
      "======================================================================\n",
      "GradientBoostingRegressor(learning_rate=0.08249999999999999, max_depth=10,\n",
      "                          max_features=0.6000000000000001, min_samples_leaf=8,\n",
      "                          min_samples_split=10, n_estimators=118)\n",
      "EVALUATION FOR TRAINING DATA SET\n",
      "MAE: 0.1844318202979674\n",
      "MSE: 0.10333125400065835\n",
      "RMSE: 0.32145179109884947\n",
      "R2 Square 0.9988658912762151\n",
      "__________________________________\n",
      "None\n",
      "**************************************************\n",
      "EVALUATION FOR TESTING DATA SET\n",
      "MAE: 1.1519766729096745\n",
      "MSE: 3.260905880476566\n",
      "RMSE: 1.805797851498491\n",
      "R2 Square 0.9635800314356879\n",
      "__________________________________\n",
      "None\n",
      "======================================================================\n",
      "GradientBoostingRegressor(learning_rate=0.08249999999999999, max_depth=10,\n",
      "                          max_features=0.6000000000000001, min_samples_leaf=8,\n",
      "                          min_samples_split=6, n_estimators=150,\n",
      "                          random_state=1)\n",
      "EVALUATION FOR TRAINING DATA SET\n",
      "MAE: 0.14416879991134438\n",
      "MSE: 0.05967600363504632\n",
      "RMSE: 0.24428672423004555\n",
      "R2 Square 0.9993450280171506\n",
      "__________________________________\n",
      "None\n",
      "**************************************************\n",
      "EVALUATION FOR TESTING DATA SET\n",
      "MAE: 1.1706820830302334\n",
      "MSE: 3.462588091881295\n",
      "RMSE: 1.8608030771366686\n",
      "R2 Square 0.9613275101828305\n",
      "__________________________________\n",
      "None\n",
      "======================================================================\n",
      "XGBRegressor(base_score=0.5, booster='gbtree', colsample_bylevel=1,\n",
      "             colsample_bynode=1, colsample_bytree=1, enable_categorical=False,\n",
      "             gamma=0, gpu_id=-1, importance_type=None,\n",
      "             interaction_constraints='', learning_rate=0.04, max_delta_step=0,\n",
      "             max_depth=5, min_child_weight=1, missing=nan,\n",
      "             monotone_constraints='()', n_estimators=200, n_jobs=-1,\n",
      "             num_parallel_tree=1, predictor='auto', random_state=0, reg_alpha=0,\n",
      "             reg_lambda=1, scale_pos_weight=1, subsample=1, tree_method='exact',\n",
      "             validate_parameters=1, verbosity=None)\n",
      "EVALUATION FOR TRAINING DATA SET\n",
      "MAE: 0.8634313863565307\n",
      "MSE: 1.4860088169722818\n",
      "RMSE: 1.2190196130383963\n",
      "R2 Square 0.9836903599085437\n",
      "__________________________________\n",
      "None\n",
      "**************************************************\n",
      "EVALUATION FOR TESTING DATA SET\n",
      "MAE: 1.375659246520649\n",
      "MSE: 4.097322079660356\n",
      "RMSE: 2.0241842998255755\n",
      "R2 Square 0.9542383782885252\n",
      "__________________________________\n",
      "None\n",
      "======================================================================\n"
     ]
    },
    {
     "name": "stdout",
     "output_type": "stream",
     "text": [
      "VotingRegressor(estimators=[('gb', GradientBoostingRegressor(random_state=47)),\n",
      "                            ('rf', RandomForestRegressor(random_state=47)),\n",
      "                            ('lr', LinearRegression())])\n",
      "EVALUATION FOR TRAINING DATA SET\n",
      "MAE: 1.2560820940355506\n",
      "MSE: 3.1279214995658315\n",
      "RMSE: 1.7685930847896674\n",
      "R2 Square 0.9656696021520319\n",
      "__________________________________\n",
      "None\n",
      "**************************************************\n",
      "EVALUATION FOR TESTING DATA SET\n",
      "MAE: 1.5808207595054748\n",
      "MSE: 5.260257234321089\n",
      "RMSE: 2.293525067297301\n",
      "R2 Square 0.9412499439921979\n",
      "__________________________________\n",
      "None\n",
      "======================================================================\n"
     ]
    }
   ],
   "source": [
    "for model in models_liste[0:3]:\n",
    "    model=model\n",
    "    y_pred1= model.predict(X_test)\n",
    "    y_pred2= model.predict(X_train)\n",
    "    print(model)\n",
    "    print('EVALUATION FOR TRAINING DATA SET')\n",
    "    print(model_eval(y_train, y_pred2))\n",
    "    print(\"*\"*50)\n",
    "    print('EVALUATION FOR TESTING DATA SET')    \n",
    "    print(model_eval(y_test, y_pred1))\n",
    "    print(\"=\"*70)\n",
    "for model in models_liste[3:]:\n",
    "    model=model\n",
    "    y_pred1= model.predict(X_test_imput_scale)\n",
    "    y_pred2= model.predict(X_train_imput_scale)\n",
    "    print(model)\n",
    "    print('EVALUATION FOR TRAINING DATA SET')\n",
    "    print(model_eval(y_train, y_pred2))\n",
    "    print(\"*\"*50)\n",
    "    print('EVALUATION FOR TESTING DATA SET')    \n",
    "    print(model_eval(y_test, y_pred1))\n",
    "    print(\"=\"*70)"
   ]
  },
  {
   "cell_type": "code",
   "execution_count": null,
   "id": "2d2c264d",
   "metadata": {},
   "outputs": [],
   "source": []
  },
  {
   "cell_type": "code",
   "execution_count": 137,
   "id": "a3c12171-90b8-43a3-b965-ffcae07b9e4c",
   "metadata": {},
   "outputs": [],
   "source": [
    "def model_eval_dict(true, predicted, model_list, MAE, MSE, RMSE, R2):  \n",
    "    mae = metrics.mean_absolute_error(true, predicted)\n",
    "    mse = metrics.mean_squared_error(true, predicted)\n",
    "    rmse = np.sqrt(metrics.mean_squared_error(true, predicted))\n",
    "    r2_square = metrics.r2_score(true, predicted)\n",
    "    MAE.append(mae)\n",
    "    MSE.append(mse)\n",
    "    RMSE.append(rmse)\n",
    "    R2.append(r2_square)\n",
    "    return MAE, MSE, RMSE, R2"
   ]
  },
  {
   "cell_type": "code",
   "execution_count": 138,
   "id": "ce474242-a942-480d-88be-17bd137a9345",
   "metadata": {},
   "outputs": [],
   "source": [
    "# evaluation  on train dataset"
   ]
  },
  {
   "cell_type": "code",
   "execution_count": 139,
   "id": "5ea93387-1be3-444b-948e-0e9487e6c377",
   "metadata": {},
   "outputs": [],
   "source": [
    "models_liste = [lin_reg, lin_reg2, ridge_reg, Elastic_net, model_dt, rf_reg1, rf_reg2, rf_reg3, rf_reg4,\n",
    "               grdB, GRD_Boost,GRD_Boost2, xgbr, voting]\n",
    "\n",
    "MAE = []\n",
    "MSE = []\n",
    "RMSE = []\n",
    "R2 = []\n",
    "\n",
    "for model in models_liste:\n",
    "    if model in  models_liste[0:3]:\n",
    "        y_pred2= model.predict(X_train)\n",
    "        model_eval_dict(y_train, y_pred2, models_liste, MAE, MSE, RMSE, R2)   \n",
    "    if model in models_liste[3:]:\n",
    "        y_pred2= model.predict(X_train_imput_scale)\n",
    "        model_eval_dict(y_train, y_pred2, models_liste, MAE, MSE, RMSE, R2)"
   ]
  },
  {
   "cell_type": "code",
   "execution_count": 140,
   "id": "a4f18525-a1cf-4b19-b765-594f3e971457",
   "metadata": {},
   "outputs": [],
   "source": [
    "# compute the dataframe with the value\n",
    "models = ['linear_reg', 'linear_reg2', 'ridge_reg', 'Elastic_net', 'decision_tree', 'random_forest_reg1','random_forest_reg2', 'random_forest_reg3', 'random_forest_reg4',\n",
    "               'gradien_boost_1','gradien_boost_2', 'gradien_boost_3', 'XGBRegressor', 'voting']\n",
    "zipped = list(zip(models,models_liste,MAE, MSE, RMSE, R2))\n",
    "df_r1 = pd.DataFrame(zipped, columns=['model','model_definition','MAE_tr', 'MSE_tr', 'RMSE_tr', 'R2_tr'])"
   ]
  },
  {
   "cell_type": "code",
   "execution_count": 141,
   "id": "2292c7ba-4a21-4f9b-b9aa-a46f5f01e568",
   "metadata": {},
   "outputs": [
    {
     "data": {
      "text/html": [
       "<div>\n",
       "<style scoped>\n",
       "    .dataframe tbody tr th:only-of-type {\n",
       "        vertical-align: middle;\n",
       "    }\n",
       "\n",
       "    .dataframe tbody tr th {\n",
       "        vertical-align: top;\n",
       "    }\n",
       "\n",
       "    .dataframe thead th {\n",
       "        text-align: right;\n",
       "    }\n",
       "</style>\n",
       "<table border=\"1\" class=\"dataframe\">\n",
       "  <thead>\n",
       "    <tr style=\"text-align: right;\">\n",
       "      <th></th>\n",
       "      <th>model</th>\n",
       "      <th>model_definition</th>\n",
       "      <th>MAE_tr</th>\n",
       "      <th>MSE_tr</th>\n",
       "      <th>RMSE_tr</th>\n",
       "      <th>R2_tr</th>\n",
       "    </tr>\n",
       "  </thead>\n",
       "  <tbody>\n",
       "    <tr>\n",
       "      <th>0</th>\n",
       "      <td>linear_reg</td>\n",
       "      <td>(IterativeImputer(), StandardScaler(), SelectK...</td>\n",
       "      <td>2.434776</td>\n",
       "      <td>10.828904</td>\n",
       "      <td>3.290730</td>\n",
       "      <td>0.881148</td>\n",
       "    </tr>\n",
       "    <tr>\n",
       "      <th>1</th>\n",
       "      <td>linear_reg2</td>\n",
       "      <td>(IterativeImputer(), StandardScaler(), PCA(n_c...</td>\n",
       "      <td>2.719409</td>\n",
       "      <td>12.856261</td>\n",
       "      <td>3.585563</td>\n",
       "      <td>0.858897</td>\n",
       "    </tr>\n",
       "    <tr>\n",
       "      <th>2</th>\n",
       "      <td>ridge_reg</td>\n",
       "      <td>(IterativeImputer(), StandardScaler(), Ridge(a...</td>\n",
       "      <td>2.436159</td>\n",
       "      <td>10.830899</td>\n",
       "      <td>3.291033</td>\n",
       "      <td>0.881126</td>\n",
       "    </tr>\n",
       "    <tr>\n",
       "      <th>3</th>\n",
       "      <td>Elastic_net</td>\n",
       "      <td>ElasticNet(alpha=0.0, l1_ratio=0.0)</td>\n",
       "      <td>2.434865</td>\n",
       "      <td>10.828913</td>\n",
       "      <td>3.290731</td>\n",
       "      <td>0.881148</td>\n",
       "    </tr>\n",
       "    <tr>\n",
       "      <th>4</th>\n",
       "      <td>decision_tree</td>\n",
       "      <td>DecisionTreeRegressor(max_depth=4, max_feature...</td>\n",
       "      <td>3.867448</td>\n",
       "      <td>27.097628</td>\n",
       "      <td>5.205538</td>\n",
       "      <td>0.702591</td>\n",
       "    </tr>\n",
       "    <tr>\n",
       "      <th>5</th>\n",
       "      <td>random_forest_reg1</td>\n",
       "      <td>(DecisionTreeRegressor(max_depth=4, max_featur...</td>\n",
       "      <td>1.965667</td>\n",
       "      <td>7.371328</td>\n",
       "      <td>2.715019</td>\n",
       "      <td>0.919096</td>\n",
       "    </tr>\n",
       "    <tr>\n",
       "      <th>6</th>\n",
       "      <td>random_forest_reg2</td>\n",
       "      <td>(DecisionTreeRegressor(max_depth=10, max_featu...</td>\n",
       "      <td>0.767292</td>\n",
       "      <td>1.245040</td>\n",
       "      <td>1.115814</td>\n",
       "      <td>0.986335</td>\n",
       "    </tr>\n",
       "    <tr>\n",
       "      <th>7</th>\n",
       "      <td>random_forest_reg3</td>\n",
       "      <td>(DecisionTreeRegressor(max_depth=7, max_featur...</td>\n",
       "      <td>1.303094</td>\n",
       "      <td>3.295118</td>\n",
       "      <td>1.815246</td>\n",
       "      <td>0.963835</td>\n",
       "    </tr>\n",
       "    <tr>\n",
       "      <th>8</th>\n",
       "      <td>random_forest_reg4</td>\n",
       "      <td>(DecisionTreeRegressor(max_depth=8, max_featur...</td>\n",
       "      <td>0.995854</td>\n",
       "      <td>2.030638</td>\n",
       "      <td>1.425005</td>\n",
       "      <td>0.977713</td>\n",
       "    </tr>\n",
       "    <tr>\n",
       "      <th>9</th>\n",
       "      <td>gradien_boost_1</td>\n",
       "      <td>([DecisionTreeRegressor(criterion='friedman_ms...</td>\n",
       "      <td>1.145926</td>\n",
       "      <td>2.581168</td>\n",
       "      <td>1.606601</td>\n",
       "      <td>0.971670</td>\n",
       "    </tr>\n",
       "    <tr>\n",
       "      <th>10</th>\n",
       "      <td>gradien_boost_2</td>\n",
       "      <td>([DecisionTreeRegressor(criterion='friedman_ms...</td>\n",
       "      <td>0.184432</td>\n",
       "      <td>0.103331</td>\n",
       "      <td>0.321452</td>\n",
       "      <td>0.998866</td>\n",
       "    </tr>\n",
       "    <tr>\n",
       "      <th>11</th>\n",
       "      <td>gradien_boost_3</td>\n",
       "      <td>([DecisionTreeRegressor(criterion='friedman_ms...</td>\n",
       "      <td>0.144169</td>\n",
       "      <td>0.059676</td>\n",
       "      <td>0.244287</td>\n",
       "      <td>0.999345</td>\n",
       "    </tr>\n",
       "    <tr>\n",
       "      <th>12</th>\n",
       "      <td>XGBRegressor</td>\n",
       "      <td>XGBRegressor(base_score=0.5, booster='gbtree',...</td>\n",
       "      <td>0.863431</td>\n",
       "      <td>1.486009</td>\n",
       "      <td>1.219020</td>\n",
       "      <td>0.983690</td>\n",
       "    </tr>\n",
       "    <tr>\n",
       "      <th>13</th>\n",
       "      <td>voting</td>\n",
       "      <td>VotingRegressor(estimators=[('gb', GradientBoo...</td>\n",
       "      <td>1.256082</td>\n",
       "      <td>3.127921</td>\n",
       "      <td>1.768593</td>\n",
       "      <td>0.965670</td>\n",
       "    </tr>\n",
       "  </tbody>\n",
       "</table>\n",
       "</div>"
      ],
      "text/plain": [
       "                 model                                   model_definition  \\\n",
       "0           linear_reg  (IterativeImputer(), StandardScaler(), SelectK...   \n",
       "1          linear_reg2  (IterativeImputer(), StandardScaler(), PCA(n_c...   \n",
       "2            ridge_reg  (IterativeImputer(), StandardScaler(), Ridge(a...   \n",
       "3          Elastic_net                ElasticNet(alpha=0.0, l1_ratio=0.0)   \n",
       "4        decision_tree  DecisionTreeRegressor(max_depth=4, max_feature...   \n",
       "5   random_forest_reg1  (DecisionTreeRegressor(max_depth=4, max_featur...   \n",
       "6   random_forest_reg2  (DecisionTreeRegressor(max_depth=10, max_featu...   \n",
       "7   random_forest_reg3  (DecisionTreeRegressor(max_depth=7, max_featur...   \n",
       "8   random_forest_reg4  (DecisionTreeRegressor(max_depth=8, max_featur...   \n",
       "9      gradien_boost_1  ([DecisionTreeRegressor(criterion='friedman_ms...   \n",
       "10     gradien_boost_2  ([DecisionTreeRegressor(criterion='friedman_ms...   \n",
       "11     gradien_boost_3  ([DecisionTreeRegressor(criterion='friedman_ms...   \n",
       "12        XGBRegressor  XGBRegressor(base_score=0.5, booster='gbtree',...   \n",
       "13              voting  VotingRegressor(estimators=[('gb', GradientBoo...   \n",
       "\n",
       "      MAE_tr     MSE_tr   RMSE_tr     R2_tr  \n",
       "0   2.434776  10.828904  3.290730  0.881148  \n",
       "1   2.719409  12.856261  3.585563  0.858897  \n",
       "2   2.436159  10.830899  3.291033  0.881126  \n",
       "3   2.434865  10.828913  3.290731  0.881148  \n",
       "4   3.867448  27.097628  5.205538  0.702591  \n",
       "5   1.965667   7.371328  2.715019  0.919096  \n",
       "6   0.767292   1.245040  1.115814  0.986335  \n",
       "7   1.303094   3.295118  1.815246  0.963835  \n",
       "8   0.995854   2.030638  1.425005  0.977713  \n",
       "9   1.145926   2.581168  1.606601  0.971670  \n",
       "10  0.184432   0.103331  0.321452  0.998866  \n",
       "11  0.144169   0.059676  0.244287  0.999345  \n",
       "12  0.863431   1.486009  1.219020  0.983690  \n",
       "13  1.256082   3.127921  1.768593  0.965670  "
      ]
     },
     "execution_count": 141,
     "metadata": {},
     "output_type": "execute_result"
    }
   ],
   "source": [
    "df_r1"
   ]
  },
  {
   "cell_type": "code",
   "execution_count": 142,
   "id": "400b99b2-ad9b-42f7-abb1-b0e260b8d730",
   "metadata": {},
   "outputs": [],
   "source": [
    "# evaluation  on test dataset"
   ]
  },
  {
   "cell_type": "code",
   "execution_count": 143,
   "id": "6f113c03-3f69-434a-a336-332364062eca",
   "metadata": {},
   "outputs": [],
   "source": [
    "models_liste = [lin_reg, lin_reg2, ridge_reg, Elastic_net, model_dt, rf_reg1, rf_reg2, rf_reg3, rf_reg4,\n",
    "               grdB, GRD_Boost,GRD_Boost2, xgbr, voting]\n",
    "\n",
    "MAE = []\n",
    "MSE = []\n",
    "RMSE = []\n",
    "R2 = []\n",
    "\n",
    "for model in models_liste:\n",
    "    if model in  models_liste[0:3]:\n",
    "        y_pred1= model.predict(X_test)\n",
    "        model_eval_dict(y_test, y_pred1, models_liste, MAE, MSE, RMSE, R2)\n",
    "    \n",
    "    if model in models_liste[3:]:\n",
    "        y_pred1= model.predict(X_test_imput_scale)\n",
    "        model_eval_dict(y_test, y_pred1, models_liste, MAE, MSE, RMSE, R2)"
   ]
  },
  {
   "cell_type": "code",
   "execution_count": 144,
   "id": "449226e4-19f0-4175-a825-e8b8db649a30",
   "metadata": {},
   "outputs": [],
   "source": [
    "zipped = list(zip(MAE, MSE, RMSE, R2))\n",
    "df_r2 = pd.DataFrame(zipped, columns=['MAE_tt', 'MSE_tt', 'RMSE_tt', 'R2_tt'])"
   ]
  },
  {
   "cell_type": "code",
   "execution_count": 145,
   "id": "c90c410f-f7ff-44f9-adf4-3a3c6fffc5de",
   "metadata": {},
   "outputs": [
    {
     "data": {
      "text/html": [
       "<div>\n",
       "<style scoped>\n",
       "    .dataframe tbody tr th:only-of-type {\n",
       "        vertical-align: middle;\n",
       "    }\n",
       "\n",
       "    .dataframe tbody tr th {\n",
       "        vertical-align: top;\n",
       "    }\n",
       "\n",
       "    .dataframe thead th {\n",
       "        text-align: right;\n",
       "    }\n",
       "</style>\n",
       "<table border=\"1\" class=\"dataframe\">\n",
       "  <thead>\n",
       "    <tr style=\"text-align: right;\">\n",
       "      <th></th>\n",
       "      <th>MAE_tt</th>\n",
       "      <th>MSE_tt</th>\n",
       "      <th>RMSE_tt</th>\n",
       "      <th>R2_tt</th>\n",
       "    </tr>\n",
       "  </thead>\n",
       "  <tbody>\n",
       "    <tr>\n",
       "      <th>0</th>\n",
       "      <td>2.420808</td>\n",
       "      <td>11.091518</td>\n",
       "      <td>3.330393</td>\n",
       "      <td>0.876123</td>\n",
       "    </tr>\n",
       "    <tr>\n",
       "      <th>1</th>\n",
       "      <td>2.675249</td>\n",
       "      <td>12.880212</td>\n",
       "      <td>3.588901</td>\n",
       "      <td>0.856145</td>\n",
       "    </tr>\n",
       "    <tr>\n",
       "      <th>2</th>\n",
       "      <td>2.419507</td>\n",
       "      <td>11.080546</td>\n",
       "      <td>3.328745</td>\n",
       "      <td>0.876245</td>\n",
       "    </tr>\n",
       "    <tr>\n",
       "      <th>3</th>\n",
       "      <td>2.420697</td>\n",
       "      <td>11.090842</td>\n",
       "      <td>3.330292</td>\n",
       "      <td>0.876130</td>\n",
       "    </tr>\n",
       "    <tr>\n",
       "      <th>4</th>\n",
       "      <td>3.863533</td>\n",
       "      <td>27.570816</td>\n",
       "      <td>5.250792</td>\n",
       "      <td>0.692071</td>\n",
       "    </tr>\n",
       "    <tr>\n",
       "      <th>5</th>\n",
       "      <td>2.070012</td>\n",
       "      <td>8.310519</td>\n",
       "      <td>2.882797</td>\n",
       "      <td>0.907183</td>\n",
       "    </tr>\n",
       "    <tr>\n",
       "      <th>6</th>\n",
       "      <td>1.351397</td>\n",
       "      <td>4.041976</td>\n",
       "      <td>2.010467</td>\n",
       "      <td>0.954857</td>\n",
       "    </tr>\n",
       "    <tr>\n",
       "      <th>7</th>\n",
       "      <td>1.612885</td>\n",
       "      <td>5.335151</td>\n",
       "      <td>2.309795</td>\n",
       "      <td>0.940413</td>\n",
       "    </tr>\n",
       "    <tr>\n",
       "      <th>8</th>\n",
       "      <td>1.444590</td>\n",
       "      <td>4.469747</td>\n",
       "      <td>2.114178</td>\n",
       "      <td>0.950079</td>\n",
       "    </tr>\n",
       "    <tr>\n",
       "      <th>9</th>\n",
       "      <td>1.543977</td>\n",
       "      <td>4.979548</td>\n",
       "      <td>2.231490</td>\n",
       "      <td>0.944385</td>\n",
       "    </tr>\n",
       "    <tr>\n",
       "      <th>10</th>\n",
       "      <td>1.151977</td>\n",
       "      <td>3.260906</td>\n",
       "      <td>1.805798</td>\n",
       "      <td>0.963580</td>\n",
       "    </tr>\n",
       "    <tr>\n",
       "      <th>11</th>\n",
       "      <td>1.170682</td>\n",
       "      <td>3.462588</td>\n",
       "      <td>1.860803</td>\n",
       "      <td>0.961328</td>\n",
       "    </tr>\n",
       "    <tr>\n",
       "      <th>12</th>\n",
       "      <td>1.375659</td>\n",
       "      <td>4.097322</td>\n",
       "      <td>2.024184</td>\n",
       "      <td>0.954238</td>\n",
       "    </tr>\n",
       "    <tr>\n",
       "      <th>13</th>\n",
       "      <td>1.580821</td>\n",
       "      <td>5.260257</td>\n",
       "      <td>2.293525</td>\n",
       "      <td>0.941250</td>\n",
       "    </tr>\n",
       "  </tbody>\n",
       "</table>\n",
       "</div>"
      ],
      "text/plain": [
       "      MAE_tt     MSE_tt   RMSE_tt     R2_tt\n",
       "0   2.420808  11.091518  3.330393  0.876123\n",
       "1   2.675249  12.880212  3.588901  0.856145\n",
       "2   2.419507  11.080546  3.328745  0.876245\n",
       "3   2.420697  11.090842  3.330292  0.876130\n",
       "4   3.863533  27.570816  5.250792  0.692071\n",
       "5   2.070012   8.310519  2.882797  0.907183\n",
       "6   1.351397   4.041976  2.010467  0.954857\n",
       "7   1.612885   5.335151  2.309795  0.940413\n",
       "8   1.444590   4.469747  2.114178  0.950079\n",
       "9   1.543977   4.979548  2.231490  0.944385\n",
       "10  1.151977   3.260906  1.805798  0.963580\n",
       "11  1.170682   3.462588  1.860803  0.961328\n",
       "12  1.375659   4.097322  2.024184  0.954238\n",
       "13  1.580821   5.260257  2.293525  0.941250"
      ]
     },
     "execution_count": 145,
     "metadata": {},
     "output_type": "execute_result"
    }
   ],
   "source": [
    "df_r2"
   ]
  },
  {
   "cell_type": "code",
   "execution_count": 146,
   "id": "d3e6edc0-c9a1-4397-98c6-9f0b93931a3e",
   "metadata": {
    "scrolled": false,
    "tags": []
   },
   "outputs": [
    {
     "data": {
      "text/html": [
       "<div>\n",
       "<style scoped>\n",
       "    .dataframe tbody tr th:only-of-type {\n",
       "        vertical-align: middle;\n",
       "    }\n",
       "\n",
       "    .dataframe tbody tr th {\n",
       "        vertical-align: top;\n",
       "    }\n",
       "\n",
       "    .dataframe thead th {\n",
       "        text-align: right;\n",
       "    }\n",
       "</style>\n",
       "<table border=\"1\" class=\"dataframe\">\n",
       "  <thead>\n",
       "    <tr style=\"text-align: right;\">\n",
       "      <th></th>\n",
       "      <th>model</th>\n",
       "      <th>model_definition</th>\n",
       "      <th>MAE_tr</th>\n",
       "      <th>MSE_tr</th>\n",
       "      <th>RMSE_tr</th>\n",
       "      <th>R2_tr</th>\n",
       "      <th>MAE_tt</th>\n",
       "      <th>MSE_tt</th>\n",
       "      <th>RMSE_tt</th>\n",
       "      <th>R2_tt</th>\n",
       "    </tr>\n",
       "  </thead>\n",
       "  <tbody>\n",
       "    <tr>\n",
       "      <th>0</th>\n",
       "      <td>linear_reg</td>\n",
       "      <td>(IterativeImputer(), StandardScaler(), SelectK...</td>\n",
       "      <td>2.434776</td>\n",
       "      <td>10.828904</td>\n",
       "      <td>3.290730</td>\n",
       "      <td>0.881148</td>\n",
       "      <td>2.420808</td>\n",
       "      <td>11.091518</td>\n",
       "      <td>3.330393</td>\n",
       "      <td>0.876123</td>\n",
       "    </tr>\n",
       "    <tr>\n",
       "      <th>1</th>\n",
       "      <td>linear_reg2</td>\n",
       "      <td>(IterativeImputer(), StandardScaler(), PCA(n_c...</td>\n",
       "      <td>2.719409</td>\n",
       "      <td>12.856261</td>\n",
       "      <td>3.585563</td>\n",
       "      <td>0.858897</td>\n",
       "      <td>2.675249</td>\n",
       "      <td>12.880212</td>\n",
       "      <td>3.588901</td>\n",
       "      <td>0.856145</td>\n",
       "    </tr>\n",
       "    <tr>\n",
       "      <th>2</th>\n",
       "      <td>ridge_reg</td>\n",
       "      <td>(IterativeImputer(), StandardScaler(), Ridge(a...</td>\n",
       "      <td>2.436159</td>\n",
       "      <td>10.830899</td>\n",
       "      <td>3.291033</td>\n",
       "      <td>0.881126</td>\n",
       "      <td>2.419507</td>\n",
       "      <td>11.080546</td>\n",
       "      <td>3.328745</td>\n",
       "      <td>0.876245</td>\n",
       "    </tr>\n",
       "    <tr>\n",
       "      <th>3</th>\n",
       "      <td>Elastic_net</td>\n",
       "      <td>ElasticNet(alpha=0.0, l1_ratio=0.0)</td>\n",
       "      <td>2.434865</td>\n",
       "      <td>10.828913</td>\n",
       "      <td>3.290731</td>\n",
       "      <td>0.881148</td>\n",
       "      <td>2.420697</td>\n",
       "      <td>11.090842</td>\n",
       "      <td>3.330292</td>\n",
       "      <td>0.876130</td>\n",
       "    </tr>\n",
       "    <tr>\n",
       "      <th>4</th>\n",
       "      <td>decision_tree</td>\n",
       "      <td>DecisionTreeRegressor(max_depth=4, max_feature...</td>\n",
       "      <td>3.867448</td>\n",
       "      <td>27.097628</td>\n",
       "      <td>5.205538</td>\n",
       "      <td>0.702591</td>\n",
       "      <td>3.863533</td>\n",
       "      <td>27.570816</td>\n",
       "      <td>5.250792</td>\n",
       "      <td>0.692071</td>\n",
       "    </tr>\n",
       "    <tr>\n",
       "      <th>5</th>\n",
       "      <td>random_forest_reg1</td>\n",
       "      <td>(DecisionTreeRegressor(max_depth=4, max_featur...</td>\n",
       "      <td>1.965667</td>\n",
       "      <td>7.371328</td>\n",
       "      <td>2.715019</td>\n",
       "      <td>0.919096</td>\n",
       "      <td>2.070012</td>\n",
       "      <td>8.310519</td>\n",
       "      <td>2.882797</td>\n",
       "      <td>0.907183</td>\n",
       "    </tr>\n",
       "    <tr>\n",
       "      <th>6</th>\n",
       "      <td>random_forest_reg2</td>\n",
       "      <td>(DecisionTreeRegressor(max_depth=10, max_featu...</td>\n",
       "      <td>0.767292</td>\n",
       "      <td>1.245040</td>\n",
       "      <td>1.115814</td>\n",
       "      <td>0.986335</td>\n",
       "      <td>1.351397</td>\n",
       "      <td>4.041976</td>\n",
       "      <td>2.010467</td>\n",
       "      <td>0.954857</td>\n",
       "    </tr>\n",
       "    <tr>\n",
       "      <th>7</th>\n",
       "      <td>random_forest_reg3</td>\n",
       "      <td>(DecisionTreeRegressor(max_depth=7, max_featur...</td>\n",
       "      <td>1.303094</td>\n",
       "      <td>3.295118</td>\n",
       "      <td>1.815246</td>\n",
       "      <td>0.963835</td>\n",
       "      <td>1.612885</td>\n",
       "      <td>5.335151</td>\n",
       "      <td>2.309795</td>\n",
       "      <td>0.940413</td>\n",
       "    </tr>\n",
       "    <tr>\n",
       "      <th>8</th>\n",
       "      <td>random_forest_reg4</td>\n",
       "      <td>(DecisionTreeRegressor(max_depth=8, max_featur...</td>\n",
       "      <td>0.995854</td>\n",
       "      <td>2.030638</td>\n",
       "      <td>1.425005</td>\n",
       "      <td>0.977713</td>\n",
       "      <td>1.444590</td>\n",
       "      <td>4.469747</td>\n",
       "      <td>2.114178</td>\n",
       "      <td>0.950079</td>\n",
       "    </tr>\n",
       "    <tr>\n",
       "      <th>9</th>\n",
       "      <td>gradien_boost_1</td>\n",
       "      <td>([DecisionTreeRegressor(criterion='friedman_ms...</td>\n",
       "      <td>1.145926</td>\n",
       "      <td>2.581168</td>\n",
       "      <td>1.606601</td>\n",
       "      <td>0.971670</td>\n",
       "      <td>1.543977</td>\n",
       "      <td>4.979548</td>\n",
       "      <td>2.231490</td>\n",
       "      <td>0.944385</td>\n",
       "    </tr>\n",
       "    <tr>\n",
       "      <th>10</th>\n",
       "      <td>gradien_boost_2</td>\n",
       "      <td>([DecisionTreeRegressor(criterion='friedman_ms...</td>\n",
       "      <td>0.184432</td>\n",
       "      <td>0.103331</td>\n",
       "      <td>0.321452</td>\n",
       "      <td>0.998866</td>\n",
       "      <td>1.151977</td>\n",
       "      <td>3.260906</td>\n",
       "      <td>1.805798</td>\n",
       "      <td>0.963580</td>\n",
       "    </tr>\n",
       "    <tr>\n",
       "      <th>11</th>\n",
       "      <td>gradien_boost_3</td>\n",
       "      <td>([DecisionTreeRegressor(criterion='friedman_ms...</td>\n",
       "      <td>0.144169</td>\n",
       "      <td>0.059676</td>\n",
       "      <td>0.244287</td>\n",
       "      <td>0.999345</td>\n",
       "      <td>1.170682</td>\n",
       "      <td>3.462588</td>\n",
       "      <td>1.860803</td>\n",
       "      <td>0.961328</td>\n",
       "    </tr>\n",
       "    <tr>\n",
       "      <th>12</th>\n",
       "      <td>XGBRegressor</td>\n",
       "      <td>XGBRegressor(base_score=0.5, booster='gbtree',...</td>\n",
       "      <td>0.863431</td>\n",
       "      <td>1.486009</td>\n",
       "      <td>1.219020</td>\n",
       "      <td>0.983690</td>\n",
       "      <td>1.375659</td>\n",
       "      <td>4.097322</td>\n",
       "      <td>2.024184</td>\n",
       "      <td>0.954238</td>\n",
       "    </tr>\n",
       "    <tr>\n",
       "      <th>13</th>\n",
       "      <td>voting</td>\n",
       "      <td>VotingRegressor(estimators=[('gb', GradientBoo...</td>\n",
       "      <td>1.256082</td>\n",
       "      <td>3.127921</td>\n",
       "      <td>1.768593</td>\n",
       "      <td>0.965670</td>\n",
       "      <td>1.580821</td>\n",
       "      <td>5.260257</td>\n",
       "      <td>2.293525</td>\n",
       "      <td>0.941250</td>\n",
       "    </tr>\n",
       "  </tbody>\n",
       "</table>\n",
       "</div>"
      ],
      "text/plain": [
       "                 model                                   model_definition  \\\n",
       "0           linear_reg  (IterativeImputer(), StandardScaler(), SelectK...   \n",
       "1          linear_reg2  (IterativeImputer(), StandardScaler(), PCA(n_c...   \n",
       "2            ridge_reg  (IterativeImputer(), StandardScaler(), Ridge(a...   \n",
       "3          Elastic_net                ElasticNet(alpha=0.0, l1_ratio=0.0)   \n",
       "4        decision_tree  DecisionTreeRegressor(max_depth=4, max_feature...   \n",
       "5   random_forest_reg1  (DecisionTreeRegressor(max_depth=4, max_featur...   \n",
       "6   random_forest_reg2  (DecisionTreeRegressor(max_depth=10, max_featu...   \n",
       "7   random_forest_reg3  (DecisionTreeRegressor(max_depth=7, max_featur...   \n",
       "8   random_forest_reg4  (DecisionTreeRegressor(max_depth=8, max_featur...   \n",
       "9      gradien_boost_1  ([DecisionTreeRegressor(criterion='friedman_ms...   \n",
       "10     gradien_boost_2  ([DecisionTreeRegressor(criterion='friedman_ms...   \n",
       "11     gradien_boost_3  ([DecisionTreeRegressor(criterion='friedman_ms...   \n",
       "12        XGBRegressor  XGBRegressor(base_score=0.5, booster='gbtree',...   \n",
       "13              voting  VotingRegressor(estimators=[('gb', GradientBoo...   \n",
       "\n",
       "      MAE_tr     MSE_tr   RMSE_tr     R2_tr    MAE_tt     MSE_tt   RMSE_tt  \\\n",
       "0   2.434776  10.828904  3.290730  0.881148  2.420808  11.091518  3.330393   \n",
       "1   2.719409  12.856261  3.585563  0.858897  2.675249  12.880212  3.588901   \n",
       "2   2.436159  10.830899  3.291033  0.881126  2.419507  11.080546  3.328745   \n",
       "3   2.434865  10.828913  3.290731  0.881148  2.420697  11.090842  3.330292   \n",
       "4   3.867448  27.097628  5.205538  0.702591  3.863533  27.570816  5.250792   \n",
       "5   1.965667   7.371328  2.715019  0.919096  2.070012   8.310519  2.882797   \n",
       "6   0.767292   1.245040  1.115814  0.986335  1.351397   4.041976  2.010467   \n",
       "7   1.303094   3.295118  1.815246  0.963835  1.612885   5.335151  2.309795   \n",
       "8   0.995854   2.030638  1.425005  0.977713  1.444590   4.469747  2.114178   \n",
       "9   1.145926   2.581168  1.606601  0.971670  1.543977   4.979548  2.231490   \n",
       "10  0.184432   0.103331  0.321452  0.998866  1.151977   3.260906  1.805798   \n",
       "11  0.144169   0.059676  0.244287  0.999345  1.170682   3.462588  1.860803   \n",
       "12  0.863431   1.486009  1.219020  0.983690  1.375659   4.097322  2.024184   \n",
       "13  1.256082   3.127921  1.768593  0.965670  1.580821   5.260257  2.293525   \n",
       "\n",
       "       R2_tt  \n",
       "0   0.876123  \n",
       "1   0.856145  \n",
       "2   0.876245  \n",
       "3   0.876130  \n",
       "4   0.692071  \n",
       "5   0.907183  \n",
       "6   0.954857  \n",
       "7   0.940413  \n",
       "8   0.950079  \n",
       "9   0.944385  \n",
       "10  0.963580  \n",
       "11  0.961328  \n",
       "12  0.954238  \n",
       "13  0.941250  "
      ]
     },
     "execution_count": 146,
     "metadata": {},
     "output_type": "execute_result"
    }
   ],
   "source": [
    "# concat the two dataframe (test and train score of all metric)\n",
    "results = pd.concat([df_r1, df_r2], axis=1)\n",
    "results"
   ]
  },
  {
   "cell_type": "code",
   "execution_count": 147,
   "id": "df3261b1-8ca6-4d55-9fa3-629ac98d3d8c",
   "metadata": {},
   "outputs": [
    {
     "name": "stdout",
     "output_type": "stream",
     "text": [
      "A file already exists with this name.\n",
      "\n",
      "Do you want to overwrite? (Y/N)n\n",
      "\n",
      "Please re-run this cell with a new filename.\n"
     ]
    }
   ],
   "source": [
    "#data_Zero_NAN # Raw data -- replace 0 with NaN---- delete 10 row \n",
    "datapath = '../data'\n",
    "save_file(results, 'metrics_results_models.csv', datapath)"
   ]
  },
  {
   "cell_type": "code",
   "execution_count": 148,
   "id": "43645a79-b1f7-455c-8fdc-3ba14fcc92dd",
   "metadata": {},
   "outputs": [
    {
     "name": "stdout",
     "output_type": "stream",
     "text": [
      "A file already exists with this name.\n",
      "\n",
      "Do you want to overwrite? (Y/N)n\n",
      "\n",
      "Please re-run this cell with a new filename.\n"
     ]
    }
   ],
   "source": [
    "datapath = '../data'\n",
    "save_file(coef_features, 'coef_features.csv', datapath)"
   ]
  },
  {
   "cell_type": "code",
   "execution_count": null,
   "id": "c9c7703d",
   "metadata": {},
   "outputs": [],
   "source": []
  }
 ],
 "metadata": {
  "kernelspec": {
   "display_name": "Python 3 (ipykernel)",
   "language": "python",
   "name": "python3"
  },
  "language_info": {
   "codemirror_mode": {
    "name": "ipython",
    "version": 3
   },
   "file_extension": ".py",
   "mimetype": "text/x-python",
   "name": "python",
   "nbconvert_exporter": "python",
   "pygments_lexer": "ipython3",
   "version": "3.9.7"
  }
 },
 "nbformat": 4,
 "nbformat_minor": 5
}
