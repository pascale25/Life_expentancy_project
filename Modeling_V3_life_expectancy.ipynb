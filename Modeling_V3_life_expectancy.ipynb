{
 "cells": [
  {
   "cell_type": "markdown",
   "id": "8a3264bb",
   "metadata": {},
   "source": [
    "### Factors Driving Life Expectancy : Do immunization matters?"
   ]
  },
  {
   "cell_type": "code",
   "execution_count": null,
   "id": "bb2397b6",
   "metadata": {},
   "outputs": [],
   "source": []
  },
  {
   "cell_type": "code",
   "execution_count": 1,
   "id": "f8f5375e",
   "metadata": {},
   "outputs": [],
   "source": [
    "import pandas as pd\n",
    "import numpy as np\n",
    "import matplotlib.pyplot as plt\n",
    "import seaborn as sns\n",
    "\n",
    "from sklearn.decomposition import PCA\n",
    "from sklearn.preprocessing import StandardScaler\n",
    "from sklearn.impute import SimpleImputer\n",
    "#MICE performe multiple regression for imputing / it is a very robost model for imputation\n",
    "from fancyimpute import IterativeImputer\n",
    "from sklearn.pipeline import make_pipeline\n",
    "from sklearn.feature_selection import SelectKBest,  f_regression\n",
    "from sklearn.model_selection import cross_val_score\n",
    "from sklearn.model_selection import train_test_split, cross_validate, GridSearchCV, learning_curve\n",
    "from sklearn.linear_model import LinearRegression\n",
    "from sklearn.linear_model import Lasso\n",
    "from sklearn.linear_model import Ridge\n",
    "from sklearn.linear_model import ElasticNet\n",
    "from sklearn.linear_model import LassoCV\n",
    "from sklearn.model_selection import GridSearchCV\n",
    "from sklearn.model_selection import RandomizedSearchCV\n",
    "from sklearn import metrics\n",
    "from sklearn.metrics import mean_squared_error\n",
    "from sklearn.tree import DecisionTreeRegressor\n",
    "from sklearn.ensemble import GradientBoostingRegressor\n",
    "from sklearn.ensemble import RandomForestRegressor\n",
    "from sklearn.ensemble import AdaBoostRegressor\n",
    "from sklearn.ensemble import VotingRegressor\n",
    "from sklearn.svm import SVR\n",
    "import xgboost as xgb\n",
    "\n",
    "import os\n",
    "\n",
    "from library.sb_utils import save_file"
   ]
  },
  {
   "cell_type": "code",
   "execution_count": 2,
   "id": "20e277e6",
   "metadata": {},
   "outputs": [],
   "source": [
    "sns.set()\n",
    "sns.set_context(\"notebook\")"
   ]
  },
  {
   "cell_type": "markdown",
   "id": "c6f5c500",
   "metadata": {
    "tags": []
   },
   "source": [
    "### Import dataset "
   ]
  },
  {
   "cell_type": "code",
   "execution_count": 3,
   "id": "dc057299",
   "metadata": {},
   "outputs": [],
   "source": [
    "df = pd.read_csv(\"../data/life_exp_clean.csv\")"
   ]
  },
  {
   "cell_type": "code",
   "execution_count": 4,
   "id": "24498745-d6cf-4bc9-befe-81c2dd7604e9",
   "metadata": {},
   "outputs": [
    {
     "data": {
      "text/html": [
       "<div>\n",
       "<style scoped>\n",
       "    .dataframe tbody tr th:only-of-type {\n",
       "        vertical-align: middle;\n",
       "    }\n",
       "\n",
       "    .dataframe tbody tr th {\n",
       "        vertical-align: top;\n",
       "    }\n",
       "\n",
       "    .dataframe thead th {\n",
       "        text-align: right;\n",
       "    }\n",
       "</style>\n",
       "<table border=\"1\" class=\"dataframe\">\n",
       "  <thead>\n",
       "    <tr style=\"text-align: right;\">\n",
       "      <th></th>\n",
       "      <th>Country</th>\n",
       "      <th>Year</th>\n",
       "      <th>Status</th>\n",
       "      <th>Life_expectancy</th>\n",
       "      <th>Adult_Mortality</th>\n",
       "      <th>infant_deaths</th>\n",
       "      <th>Alcohol</th>\n",
       "      <th>percentage_expenditure</th>\n",
       "      <th>Hepatitis_B</th>\n",
       "      <th>Measles</th>\n",
       "      <th>...</th>\n",
       "      <th>Diphtheria</th>\n",
       "      <th>HIV/AIDS</th>\n",
       "      <th>GDP</th>\n",
       "      <th>Population</th>\n",
       "      <th>thinness__1_19_years</th>\n",
       "      <th>thinness_5_9_years</th>\n",
       "      <th>Income_composition_of_resources</th>\n",
       "      <th>Schooling</th>\n",
       "      <th>year</th>\n",
       "      <th>population</th>\n",
       "    </tr>\n",
       "  </thead>\n",
       "  <tbody>\n",
       "    <tr>\n",
       "      <th>0</th>\n",
       "      <td>Afghanistan</td>\n",
       "      <td>2015-01-01</td>\n",
       "      <td>Developing</td>\n",
       "      <td>65.0</td>\n",
       "      <td>263.0</td>\n",
       "      <td>62.0</td>\n",
       "      <td>0.01</td>\n",
       "      <td>71.279624</td>\n",
       "      <td>65.0</td>\n",
       "      <td>1154.0</td>\n",
       "      <td>...</td>\n",
       "      <td>65.0</td>\n",
       "      <td>0.1</td>\n",
       "      <td>584.259210</td>\n",
       "      <td>33736494.0</td>\n",
       "      <td>17.2</td>\n",
       "      <td>17.3</td>\n",
       "      <td>0.479</td>\n",
       "      <td>10.1</td>\n",
       "      <td>2015</td>\n",
       "      <td>17.334091</td>\n",
       "    </tr>\n",
       "    <tr>\n",
       "      <th>1</th>\n",
       "      <td>Afghanistan</td>\n",
       "      <td>2014-01-01</td>\n",
       "      <td>Developing</td>\n",
       "      <td>59.9</td>\n",
       "      <td>271.0</td>\n",
       "      <td>64.0</td>\n",
       "      <td>0.01</td>\n",
       "      <td>73.523582</td>\n",
       "      <td>62.0</td>\n",
       "      <td>492.0</td>\n",
       "      <td>...</td>\n",
       "      <td>62.0</td>\n",
       "      <td>0.1</td>\n",
       "      <td>612.696514</td>\n",
       "      <td>327582.0</td>\n",
       "      <td>17.5</td>\n",
       "      <td>17.5</td>\n",
       "      <td>0.476</td>\n",
       "      <td>10.0</td>\n",
       "      <td>2014</td>\n",
       "      <td>12.699494</td>\n",
       "    </tr>\n",
       "  </tbody>\n",
       "</table>\n",
       "<p>2 rows × 24 columns</p>\n",
       "</div>"
      ],
      "text/plain": [
       "       Country        Year      Status  Life_expectancy  Adult_Mortality  \\\n",
       "0  Afghanistan  2015-01-01  Developing             65.0            263.0   \n",
       "1  Afghanistan  2014-01-01  Developing             59.9            271.0   \n",
       "\n",
       "   infant_deaths  Alcohol  percentage_expenditure  Hepatitis_B  Measles  ...  \\\n",
       "0           62.0     0.01               71.279624         65.0   1154.0  ...   \n",
       "1           64.0     0.01               73.523582         62.0    492.0  ...   \n",
       "\n",
       "   Diphtheria  HIV/AIDS         GDP  Population  thinness__1_19_years  \\\n",
       "0        65.0       0.1  584.259210  33736494.0                  17.2   \n",
       "1        62.0       0.1  612.696514    327582.0                  17.5   \n",
       "\n",
       "   thinness_5_9_years  Income_composition_of_resources  Schooling  year  \\\n",
       "0                17.3                            0.479       10.1  2015   \n",
       "1                17.5                            0.476       10.0  2014   \n",
       "\n",
       "   population  \n",
       "0   17.334091  \n",
       "1   12.699494  \n",
       "\n",
       "[2 rows x 24 columns]"
      ]
     },
     "execution_count": 4,
     "metadata": {},
     "output_type": "execute_result"
    }
   ],
   "source": [
    "df.head(2)"
   ]
  },
  {
   "cell_type": "code",
   "execution_count": 5,
   "id": "9b4a054a-3a04-41d1-9162-55a098d4f072",
   "metadata": {},
   "outputs": [
    {
     "name": "stdout",
     "output_type": "stream",
     "text": [
      "<class 'pandas.core.frame.DataFrame'>\n",
      "RangeIndex: 2928 entries, 0 to 2927\n",
      "Data columns (total 24 columns):\n",
      " #   Column                           Non-Null Count  Dtype  \n",
      "---  ------                           --------------  -----  \n",
      " 0   Country                          2928 non-null   object \n",
      " 1   Year                             2928 non-null   object \n",
      " 2   Status                           2928 non-null   object \n",
      " 3   Life_expectancy                  2928 non-null   float64\n",
      " 4   Adult_Mortality                  2928 non-null   float64\n",
      " 5   infant_deaths                    2090 non-null   float64\n",
      " 6   Alcohol                          2735 non-null   float64\n",
      " 7   percentage_expenditure           2322 non-null   float64\n",
      " 8   Hepatitis_B                      2375 non-null   float64\n",
      " 9   Measles                          1955 non-null   float64\n",
      " 10  BMI                              2896 non-null   float64\n",
      " 11  under_five_deaths                2153 non-null   float64\n",
      " 12  Polio                            2909 non-null   float64\n",
      " 13  Total_expenditure                2702 non-null   float64\n",
      " 14  Diphtheria                       2909 non-null   float64\n",
      " 15  HIV/AIDS                         2928 non-null   float64\n",
      " 16  GDP                              2485 non-null   float64\n",
      " 17  Population                       2284 non-null   float64\n",
      " 18  thinness__1_19_years             2896 non-null   float64\n",
      " 19  thinness_5_9_years               2896 non-null   float64\n",
      " 20  Income_composition_of_resources  2638 non-null   float64\n",
      " 21  Schooling                        2742 non-null   float64\n",
      " 22  year                             2928 non-null   int64  \n",
      " 23  population                       2284 non-null   float64\n",
      "dtypes: float64(20), int64(1), object(3)\n",
      "memory usage: 549.1+ KB\n"
     ]
    }
   ],
   "source": [
    "df.info()"
   ]
  },
  {
   "cell_type": "code",
   "execution_count": 6,
   "id": "0ffe5d6a",
   "metadata": {},
   "outputs": [],
   "source": [
    "# convert Year to datetime object \n",
    "#df1.Year = pd.to_datetime(df1.Year, format='%Y-%d-%m')\n",
    "#df1['year']=df1['Year'].dt.year"
   ]
  },
  {
   "cell_type": "markdown",
   "id": "65485e62",
   "metadata": {},
   "source": [
    "### Label Encoder categerical variable"
   ]
  },
  {
   "cell_type": "code",
   "execution_count": 7,
   "id": "a8af005d",
   "metadata": {},
   "outputs": [],
   "source": [
    "# copy the data\n",
    "#df = df1.copy(deep=True)"
   ]
  },
  {
   "cell_type": "code",
   "execution_count": 8,
   "id": "d45116e0",
   "metadata": {},
   "outputs": [],
   "source": [
    "df = df.drop(columns=['Country', 'Year'])"
   ]
  },
  {
   "cell_type": "code",
   "execution_count": 9,
   "id": "ca1c9871",
   "metadata": {},
   "outputs": [],
   "source": [
    "# one hot_encoder\n",
    "df = pd.get_dummies(df)\n",
    "#df.insert(0,'Country', df1['Country'], allow_duplicates=True)"
   ]
  },
  {
   "cell_type": "code",
   "execution_count": 10,
   "id": "19088c5c",
   "metadata": {},
   "outputs": [
    {
     "data": {
      "text/plain": [
       "Index(['Life_expectancy', 'Adult_Mortality', 'infant_deaths', 'Alcohol',\n",
       "       'percentage_expenditure', 'Hepatitis_B', 'Measles', 'BMI',\n",
       "       'under_five_deaths', 'Polio', 'Total_expenditure', 'Diphtheria',\n",
       "       'HIV/AIDS', 'GDP', 'Population', 'thinness__1_19_years',\n",
       "       'thinness_5_9_years', 'Income_composition_of_resources', 'Schooling',\n",
       "       'year', 'population', 'Status_Developed', 'Status_Developing'],\n",
       "      dtype='object')"
      ]
     },
     "execution_count": 10,
     "metadata": {},
     "output_type": "execute_result"
    }
   ],
   "source": [
    "df.columns"
   ]
  },
  {
   "cell_type": "code",
   "execution_count": 11,
   "id": "f2485243",
   "metadata": {},
   "outputs": [],
   "source": [
    "# define X and y\n",
    "X = df.drop(columns='Life_expectancy')\n",
    "y = df.Life_expectancy"
   ]
  },
  {
   "cell_type": "code",
   "execution_count": 12,
   "id": "b70945d7",
   "metadata": {},
   "outputs": [],
   "source": [
    "# split the dataset     \n",
    "X_train, X_test, y_train, y_test = train_test_split(X, y, test_size=0.3, random_state=47)"
   ]
  },
  {
   "cell_type": "code",
   "execution_count": 13,
   "id": "4598d8d4",
   "metadata": {},
   "outputs": [
    {
     "data": {
      "text/plain": [
       "((2049, 22), (879, 22))"
      ]
     },
     "execution_count": 13,
     "metadata": {},
     "output_type": "execute_result"
    }
   ],
   "source": [
    "X_train.shape, X_test.shape"
   ]
  },
  {
   "cell_type": "code",
   "execution_count": 14,
   "id": "d3f221b2",
   "metadata": {},
   "outputs": [],
   "source": [
    "# traitement of missing data with MICE Imputation\n",
    "mice_imputer = IterativeImputer()\n",
    "X_train_imput = mice_imputer.fit_transform(X_train)\n",
    "X_test_imput = mice_imputer.transform(X_test)"
   ]
  },
  {
   "cell_type": "code",
   "execution_count": 15,
   "id": "f2a9aca0",
   "metadata": {},
   "outputs": [],
   "source": [
    "# scale the date\n",
    "scaler = StandardScaler()\n",
    "X_train_imput_scale = scaler.fit_transform(X_train_imput)\n",
    "X_test_imput_scale = scaler.transform(X_test_imput)"
   ]
  },
  {
   "cell_type": "code",
   "execution_count": 16,
   "id": "d5595d77",
   "metadata": {},
   "outputs": [],
   "source": [
    "# dimentionnality reduction\n",
    "pca = PCA()\n",
    "X_train_pca = pca.fit(X_train_imput_scale)\n",
    "X_train_pcat = pca.transform(X_train_imput_scale)"
   ]
  },
  {
   "cell_type": "markdown",
   "id": "1a10ed64",
   "metadata": {},
   "source": [
    "###  Modeling\n"
   ]
  },
  {
   "cell_type": "markdown",
   "id": "bcc460c6-6ed1-496c-943b-3e75051fb5f8",
   "metadata": {},
   "source": [
    "##### Function to evaluate the model"
   ]
  },
  {
   "cell_type": "code",
   "execution_count": 17,
   "id": "992a4677",
   "metadata": {},
   "outputs": [],
   "source": [
    "def model_eval(true, predicted):  \n",
    "    mae = metrics.mean_absolute_error(true, predicted)\n",
    "    mse = metrics.mean_squared_error(true, predicted)\n",
    "    rmse = np.sqrt(metrics.mean_squared_error(true, predicted))\n",
    "    r2_square = metrics.r2_score(true, predicted)\n",
    "    print('MAE:', mae)\n",
    "    print('MSE:', mse)\n",
    "    print('RMSE:', rmse)\n",
    "    print('R2 Square', r2_square)\n",
    "    print('__________________________________')"
   ]
  },
  {
   "cell_type": "markdown",
   "id": "a45d6a01",
   "metadata": {},
   "source": [
    "### 1. Model linear_regression "
   ]
  },
  {
   "cell_type": "code",
   "execution_count": 18,
   "id": "7ea801c0",
   "metadata": {},
   "outputs": [],
   "source": [
    "pipe = make_pipeline(\n",
    "    IterativeImputer(), \n",
    "    StandardScaler(),\n",
    "    SelectKBest(f_regression),\n",
    "    LinearRegression()\n",
    ")"
   ]
  },
  {
   "cell_type": "code",
   "execution_count": 19,
   "id": "9bc09f2e",
   "metadata": {},
   "outputs": [],
   "source": [
    "# define the k range to investigate\n",
    "k = [k+1 for k in range(len(X_train.columns))]\n",
    "grid_params = {'selectkbest__k': k}"
   ]
  },
  {
   "cell_type": "code",
   "execution_count": 20,
   "id": "c14162b6",
   "metadata": {},
   "outputs": [],
   "source": [
    "reg_grid_cv = GridSearchCV(pipe, param_grid=grid_params, cv=10, n_jobs=-1)"
   ]
  },
  {
   "cell_type": "code",
   "execution_count": 21,
   "id": "f83a019e",
   "metadata": {},
   "outputs": [
    {
     "data": {
      "text/plain": [
       "GridSearchCV(cv=10,\n",
       "             estimator=Pipeline(steps=[('iterativeimputer', IterativeImputer()),\n",
       "                                       ('standardscaler', StandardScaler()),\n",
       "                                       ('selectkbest',\n",
       "                                        SelectKBest(score_func=<function f_regression at 0x00000264CF6FFC10>)),\n",
       "                                       ('linearregression',\n",
       "                                        LinearRegression())]),\n",
       "             n_jobs=-1,\n",
       "             param_grid={'selectkbest__k': [1, 2, 3, 4, 5, 6, 7, 8, 9, 10, 11,\n",
       "                                            12, 13, 14, 15, 16, 17, 18, 19, 20,\n",
       "                                            21, 22]})"
      ]
     },
     "execution_count": 21,
     "metadata": {},
     "output_type": "execute_result"
    }
   ],
   "source": [
    "reg_grid_cv.fit(X_train, y_train)"
   ]
  },
  {
   "cell_type": "code",
   "execution_count": 22,
   "id": "35c0531f",
   "metadata": {},
   "outputs": [
    {
     "data": {
      "text/plain": [
       "{'selectkbest__k': 20}"
      ]
     },
     "execution_count": 22,
     "metadata": {},
     "output_type": "execute_result"
    }
   ],
   "source": [
    "#Print the `best_params_` attribute of 'red_grid_cv`\n",
    "reg_grid_cv.best_params_"
   ]
  },
  {
   "cell_type": "code",
   "execution_count": 23,
   "id": "863aa4eb",
   "metadata": {},
   "outputs": [],
   "source": [
    "score_mean = reg_grid_cv.cv_results_['mean_test_score']\n",
    "score_std = reg_grid_cv.cv_results_['std_test_score']\n",
    "cv_k = [k for k in reg_grid_cv.cv_results_['param_selectkbest__k']]\n",
    "best_k = reg_grid_cv.best_params_['selectkbest__k']"
   ]
  },
  {
   "cell_type": "code",
   "execution_count": 24,
   "id": "fde74549",
   "metadata": {},
   "outputs": [
    {
     "data": {
      "image/png": "[encoded data removed]",
      "text/plain": [
       "<Figure size 720x360 with 1 Axes>"
      ]
     },
     "metadata": {},
     "output_type": "display_data"
    }
   ],
   "source": [
    "best_k = reg_grid_cv.best_params_['selectkbest__k']\n",
    "plt.subplots(figsize=(10, 5))\n",
    "plt.errorbar(cv_k, score_mean, yerr=score_std)\n",
    "plt.axvline(x=best_k, c='r', ls='--', alpha=.5)\n",
    "plt.xlabel('k')\n",
    "plt.ylabel('CV score (r-squared)')\n",
    "plt.title('Pipeline mean CV score (error bars +/- 1sd)');"
   ]
  },
  {
   "cell_type": "markdown",
   "id": "348ae2e3",
   "metadata": {},
   "source": [
    "The above suggests a good value for k is 20"
   ]
  },
  {
   "cell_type": "code",
   "execution_count": 25,
   "id": "e5aaf2b1",
   "metadata": {},
   "outputs": [
    {
     "data": {
      "text/plain": [
       "array([ True,  True,  True,  True,  True,  True,  True,  True,  True,\n",
       "        True,  True,  True,  True, False,  True,  True,  True,  True,\n",
       "        True, False,  True,  True])"
      ]
     },
     "execution_count": 25,
     "metadata": {},
     "output_type": "execute_result"
    }
   ],
   "source": [
    "# mask to select the most useful features \n",
    "selected_features= reg_grid_cv.best_estimator_.named_steps.selectkbest.get_support()\n",
    "selected_features"
   ]
  },
  {
   "cell_type": "code",
   "execution_count": 26,
   "id": "52877e38",
   "metadata": {},
   "outputs": [
    {
     "data": {
      "text/plain": [
       "Adult_Mortality                   -1.621094\n",
       "infant_deaths                     -1.621094\n",
       "Status_Developed                  -1.621094\n",
       "year                              -1.621094\n",
       "Schooling                         -1.621094\n",
       "Income_composition_of_resources   -1.621094\n",
       "thinness_5_9_years                -1.621094\n",
       "thinness__1_19_years              -1.621094\n",
       "GDP                               -1.621094\n",
       "HIV/AIDS                          -1.621094\n",
       "Diphtheria                        -1.621094\n",
       "Total_expenditure                 -1.621094\n",
       "Polio                             -1.621094\n",
       "under_five_deaths                 -1.621094\n",
       "BMI                               -1.621094\n",
       "Measles                           -1.621094\n",
       "Hepatitis_B                       -1.621094\n",
       "percentage_expenditure            -1.621094\n",
       "Alcohol                           -1.621094\n",
       "Status_Developing                 -1.621094\n",
       "dtype: float64"
      ]
     },
     "execution_count": 26,
     "metadata": {},
     "output_type": "execute_result"
    }
   ],
   "source": [
    "coefs = reg_grid_cv.best_estimator_.named_steps.linearregression.coef_[0]\n",
    "features = X_train.columns[selected_features]\n",
    "pd.Series(coefs, index=features).sort_values(ascending=False)"
   ]
  },
  {
   "cell_type": "markdown",
   "id": "9a603f78",
   "metadata": {},
   "source": [
    "#### Note:\n",
    "From this result, the best positive features here are Income_composition_of_resources , followed by infant_deaths. \n",
    "\n",
    "Features which negatively influence life expectancy are under_five_deaths of children (the most important) , next it is HIV/AIDS and Adult_Mortality.\n",
    "\n",
    "We realise that immunization factors are also present among the positive features (come in 6th , 7th and 8th positions) even if their strength is not high as compared to the first features. \n",
    "\n",
    "It is also important to highlight the fact that the feature: status of the country (either developed or developing) has an impact on the model. \n",
    "May, it would be great to expect if a dataset with only developing countries would highlight the importance of immunization as we explore in the EDA.\n"
   ]
  },
  {
   "cell_type": "code",
   "execution_count": 27,
   "id": "f486bf48",
   "metadata": {},
   "outputs": [
    {
     "data": {
      "text/plain": [
       "Pipeline(steps=[('iterativeimputer', IterativeImputer()),\n",
       "                ('standardscaler', StandardScaler()),\n",
       "                ('selectkbest',\n",
       "                 SelectKBest(k=20,\n",
       "                             score_func=<function f_regression at 0x00000264CF6FFC10>)),\n",
       "                ('linearregression', LinearRegression())])"
      ]
     },
     "execution_count": 27,
     "metadata": {},
     "output_type": "execute_result"
    }
   ],
   "source": [
    "reg_grid_cv.best_estimator_"
   ]
  },
  {
   "cell_type": "code",
   "execution_count": 28,
   "id": "54955d13-35d4-48d8-b90e-70ac78e2b56c",
   "metadata": {},
   "outputs": [],
   "source": [
    "lin_reg = reg_grid_cv.best_estimator_"
   ]
  },
  {
   "cell_type": "code",
   "execution_count": 29,
   "id": "10d64c80-096d-4949-be0c-12ebc8517684",
   "metadata": {},
   "outputs": [],
   "source": [
    "#lin_reg.get_params()"
   ]
  },
  {
   "cell_type": "markdown",
   "id": "a41a65e6",
   "metadata": {},
   "source": [
    "#### Assess performance on train and test data"
   ]
  },
  {
   "cell_type": "code",
   "execution_count": 30,
   "id": "25535729",
   "metadata": {},
   "outputs": [
    {
     "name": "stdout",
     "output_type": "stream",
     "text": [
      "MAE: 2.4212886814180403\n",
      "MSE: 11.085552730875424\n",
      "RMSE: 3.329497369104746\n",
      "R2 Square 0.876189164368797\n",
      "__________________________________\n",
      "MAE: 2.435270080792682\n",
      "MSE: 10.83356220569479\n",
      "RMSE: 3.291437711045857\n",
      "R2 Square 0.881096600191585\n",
      "__________________________________\n"
     ]
    }
   ],
   "source": [
    "predicted_train = lin_reg.predict(X_train)\n",
    "predicted_test = lin_reg.predict(X_test)\n",
    "model_eval(y_test, predicted_test)\n",
    "model_eval(y_train, predicted_train)"
   ]
  },
  {
   "cell_type": "markdown",
   "id": "d990dd98",
   "metadata": {},
   "source": [
    "#### Assessing performance using cross-validation"
   ]
  },
  {
   "cell_type": "code",
   "execution_count": 31,
   "id": "f36165f9",
   "metadata": {},
   "outputs": [],
   "source": [
    "cv_results = cross_validate(reg_grid_cv.best_estimator_, X_train, y_train, cv=5)"
   ]
  },
  {
   "cell_type": "code",
   "execution_count": 32,
   "id": "7a9aaafe",
   "metadata": {},
   "outputs": [
    {
     "data": {
      "text/plain": [
       "(0.8793952573076768, 0.013289807834014365)"
      ]
     },
     "execution_count": 32,
     "metadata": {},
     "output_type": "execute_result"
    }
   ],
   "source": [
    "cv_scores = cv_results['test_score']\n",
    "np.mean(cv_scores), np.std(cv_scores)"
   ]
  },
  {
   "cell_type": "markdown",
   "id": "28dec8ae",
   "metadata": {},
   "source": [
    "### 2. Model linear regression with PCA"
   ]
  },
  {
   "cell_type": "code",
   "execution_count": 33,
   "id": "21ec9d8b",
   "metadata": {},
   "outputs": [],
   "source": [
    "pipe3 = make_pipeline(\n",
    "    IterativeImputer(), \n",
    "    StandardScaler(),\n",
    "    PCA(n_components=19),\n",
    "    LinearRegression())"
   ]
  },
  {
   "cell_type": "code",
   "execution_count": 34,
   "id": "526910d2",
   "metadata": {},
   "outputs": [],
   "source": [
    "lin_reg2 = pipe3.fit(X_train, y_train)"
   ]
  },
  {
   "cell_type": "code",
   "execution_count": 35,
   "id": "5a9fb376-5636-4c4f-83d8-efd62591b8c3",
   "metadata": {},
   "outputs": [],
   "source": [
    "#lin_reg2.get_params()"
   ]
  },
  {
   "cell_type": "markdown",
   "id": "91d8a408",
   "metadata": {},
   "source": [
    "#### Model Evaluation"
   ]
  },
  {
   "cell_type": "code",
   "execution_count": 36,
   "id": "042c5241",
   "metadata": {},
   "outputs": [
    {
     "name": "stdout",
     "output_type": "stream",
     "text": [
      "MAE: 2.675249479702949\n",
      "MSE: 12.880212035486206\n",
      "RMSE: 3.5889012295528846\n",
      "R2 Square 0.8561452140515242\n",
      "__________________________________\n",
      "MAE: 2.7194090027919087\n",
      "MSE: 12.856261217066843\n",
      "RMSE: 3.5855628870606693\n",
      "R2 Square 0.8588965348137508\n",
      "__________________________________\n"
     ]
    }
   ],
   "source": [
    "predicted_train = lin_reg2.predict(X_train)\n",
    "predicted_test = lin_reg2.predict(X_test)\n",
    "model_eval(y_test, predicted_test)\n",
    "model_eval(y_train, predicted_train)"
   ]
  },
  {
   "cell_type": "markdown",
   "id": "9ffba60c",
   "metadata": {},
   "source": [
    "### 3. Model: Ridge regression "
   ]
  },
  {
   "cell_type": "code",
   "execution_count": 37,
   "id": "86a4d173",
   "metadata": {},
   "outputs": [],
   "source": [
    "###select the best value of alpha"
   ]
  },
  {
   "cell_type": "code",
   "execution_count": 38,
   "id": "b8ece706",
   "metadata": {
    "scrolled": true
   },
   "outputs": [
    {
     "name": "stdout",
     "output_type": "stream",
     "text": [
      "cross-validated scores of ridge regression for alpha 1e-05 is : 0.8760049691596301\n",
      "cross-validated scores of ridge regression for alpha 0.0001 is : 0.8760049691596301\n",
      "cross-validated scores of ridge regression for alpha 0.001 is : 0.8760049691596301\n",
      "cross-validated scores of ridge regression for alpha 0.01 is : 0.8760049691596301\n",
      "cross-validated scores of ridge regression for alpha 0.1 is : 0.8760049691596301\n",
      "cross-validated scores of ridge regression for alpha 0.0 is : 0.8760049691596301\n",
      "cross-validated scores of ridge regression for alpha 1.0 is : 0.8760049691596301\n",
      "cross-validated scores of ridge regression for alpha 10.0 is : 0.8760049691596301\n",
      "cross-validated scores of ridge regression for alpha 20.0 is : 0.8760049691596301\n",
      "cross-validated scores of ridge regression for alpha 40.0 is : 0.8760049691596301\n",
      "cross-validated scores of ridge regression for alpha 60.0 is : 0.8760049691596301\n",
      "cross-validated scores of ridge regression for alpha 80.0 is : 0.8760049691596301\n",
      "cross-validated scores of ridge regression for alpha 100.0 is : 0.8760049691596301\n"
     ]
    }
   ],
   "source": [
    "# Perform 5-fold cross-validation: ridge_cv\n",
    "alpha = [1e-5, 1e-4, 1e-3, 1e-2, 1e-1, 0.0, 1.0, 10.0, 20.0, 40.0, 60.0, 80.0 ,100.0]\n",
    "for x in alpha:\n",
    "    ridge = Ridge(alpha=10)\n",
    "    ridge_cv = cross_val_score(ridge, X_train_imput_scale, y_train, cv=10, n_jobs=-1)\n",
    "    print( 'cross-validated scores of ridge regression for alpha', x ,'is :', np.mean(ridge_cv))"
   ]
  },
  {
   "cell_type": "markdown",
   "id": "8f2e3f61",
   "metadata": {},
   "source": [
    "##### use of GridSearchCV (it doesn't work ????)"
   ]
  },
  {
   "cell_type": "code",
   "execution_count": 39,
   "id": "f16111ce",
   "metadata": {},
   "outputs": [
    {
     "data": {
      "text/plain": [
       "{'alpha': [1e-05,\n",
       "  0.0001,\n",
       "  0.001,\n",
       "  0.01,\n",
       "  0.1,\n",
       "  0.0,\n",
       "  1.0,\n",
       "  10.0,\n",
       "  20.0,\n",
       "  40.0,\n",
       "  60.0,\n",
       "  80.0,\n",
       "  100.0]}"
      ]
     },
     "execution_count": 39,
     "metadata": {},
     "output_type": "execute_result"
    }
   ],
   "source": [
    "grid = dict()\n",
    "grid['alpha'] = [1e-5, 1e-4, 1e-3, 1e-2, 1e-1, 0.0, 1.0, 10.0, 20.0, 40.0, 60.0, 80.0 ,100.0]\n",
    "grid"
   ]
  },
  {
   "cell_type": "code",
   "execution_count": 40,
   "id": "3d93d037",
   "metadata": {},
   "outputs": [],
   "source": [
    "pipe4 = make_pipeline(\n",
    "    IterativeImputer(), \n",
    "    StandardScaler(),\n",
    "    Ridge())"
   ]
  },
  {
   "cell_type": "code",
   "execution_count": 41,
   "id": "4a16a794",
   "metadata": {},
   "outputs": [],
   "source": [
    "ridge_grid_cv = GridSearchCV(pipe4, grid, cv=10, n_jobs=-1)"
   ]
  },
  {
   "cell_type": "markdown",
   "id": "a6d00724",
   "metadata": {},
   "source": [
    "#####  Model: Ridge regression "
   ]
  },
  {
   "cell_type": "code",
   "execution_count": 42,
   "id": "45b04970",
   "metadata": {},
   "outputs": [],
   "source": [
    "pipe5 = make_pipeline(\n",
    "    IterativeImputer(), \n",
    "    StandardScaler(),\n",
    "    Ridge(alpha=0.5))"
   ]
  },
  {
   "cell_type": "code",
   "execution_count": 43,
   "id": "b52b5767",
   "metadata": {},
   "outputs": [],
   "source": [
    "ridge_reg = pipe5.fit(X_train, y_train)"
   ]
  },
  {
   "cell_type": "code",
   "execution_count": 44,
   "id": "b5aaeac2",
   "metadata": {},
   "outputs": [
    {
     "name": "stdout",
     "output_type": "stream",
     "text": [
      "MAE: 2.419506794751066\n",
      "MSE: 11.080545925998873\n",
      "RMSE: 3.3287453981941715\n",
      "R2 Square 0.8762450837000796\n",
      "__________________________________\n",
      "MAE: 2.436158911517165\n",
      "MSE: 10.830899456128812\n",
      "RMSE: 3.2910331897640916\n",
      "R2 Square 0.8811258251104271\n",
      "__________________________________\n"
     ]
    }
   ],
   "source": [
    "predicted_train = ridge_reg.predict(X_train)\n",
    "predicted_test = ridge_reg.predict(X_test)\n",
    "model_eval(y_test, predicted_test)\n",
    "model_eval(y_train, predicted_train)"
   ]
  },
  {
   "cell_type": "code",
   "execution_count": 45,
   "id": "25a15563-5b6f-4a74-b9a1-a6357bc85d33",
   "metadata": {},
   "outputs": [],
   "source": [
    "#ridge_reg.get_params()"
   ]
  },
  {
   "cell_type": "markdown",
   "id": "4f10137e",
   "metadata": {},
   "source": [
    "### 4.ElasticNet regression"
   ]
  },
  {
   "cell_type": "code",
   "execution_count": 46,
   "id": "c0ca17ba",
   "metadata": {},
   "outputs": [],
   "source": [
    "#  hyperparameter grid\n",
    "grid = dict()\n",
    "grid['alpha'] = [1e-5, 1e-4, 1e-3, 1e-2, 1e-1, 0.0, 1.0, 10.0, 100.0]\n",
    "grid['l1_ratio'] = np.arange(0, 1.1, 0.1)"
   ]
  },
  {
   "cell_type": "code",
   "execution_count": 47,
   "id": "d1ff073a",
   "metadata": {},
   "outputs": [
    {
     "data": {
      "text/plain": [
       "{'alpha': [1e-05, 0.0001, 0.001, 0.01, 0.1, 0.0, 1.0, 10.0, 100.0],\n",
       " 'l1_ratio': array([0. , 0.1, 0.2, 0.3, 0.4, 0.5, 0.6, 0.7, 0.8, 0.9, 1. ])}"
      ]
     },
     "execution_count": 47,
     "metadata": {},
     "output_type": "execute_result"
    }
   ],
   "source": [
    "grid"
   ]
  },
  {
   "cell_type": "markdown",
   "id": "7428fefc",
   "metadata": {},
   "source": [
    "###### identify the best parameters"
   ]
  },
  {
   "cell_type": "code",
   "execution_count": 48,
   "id": "573be7f2",
   "metadata": {},
   "outputs": [
    {
     "name": "stderr",
     "output_type": "stream",
     "text": [
      "C:\\Users\\HP\\anaconda3\\lib\\site-packages\\sklearn\\model_selection\\_search.py:880: UserWarning: With alpha=0, this algorithm does not converge well. You are advised to use the LinearRegression estimator\n",
      "  self.best_estimator_.fit(X, y, **fit_params)\n",
      "C:\\Users\\HP\\anaconda3\\lib\\site-packages\\sklearn\\linear_model\\_coordinate_descent.py:530: UserWarning: Coordinate descent with no regularization may lead to unexpected results and is discouraged.\n",
      "  model = cd_fast.enet_coordinate_descent(\n",
      "C:\\Users\\HP\\anaconda3\\lib\\site-packages\\sklearn\\linear_model\\_coordinate_descent.py:530: ConvergenceWarning: Objective did not converge. You might want to increase the number of iterations. Duality gap: 11094.221607937608, tolerance: 18.668910220595414\n",
      "  model = cd_fast.enet_coordinate_descent(\n"
     ]
    },
    {
     "data": {
      "text/plain": [
       "GridSearchCV(cv=5, estimator=ElasticNet(), n_jobs=-1,\n",
       "             param_grid={'alpha': [1e-05, 0.0001, 0.001, 0.01, 0.1, 0.0, 1.0,\n",
       "                                   10.0, 100.0],\n",
       "                         'l1_ratio': array([0. , 0.1, 0.2, 0.3, 0.4, 0.5, 0.6, 0.7, 0.8, 0.9, 1. ])})"
      ]
     },
     "execution_count": 48,
     "metadata": {},
     "output_type": "execute_result"
    }
   ],
   "source": [
    "elastic_net = ElasticNet()\n",
    "\n",
    "EL_grid_cv0 = GridSearchCV(elastic_net, grid, cv=5, n_jobs=-1)\n",
    "\n",
    "EL_grid_cv0 .fit(X_train_imput_scale, y_train)"
   ]
  },
  {
   "cell_type": "code",
   "execution_count": 49,
   "id": "7ed6a4bc",
   "metadata": {},
   "outputs": [
    {
     "name": "stdout",
     "output_type": "stream",
     "text": [
      "Tuned ElasticNet l1 ratio: {'alpha': 0.0, 'l1_ratio': 0.0}\n"
     ]
    }
   ],
   "source": [
    "print(\"Tuned ElasticNet l1 ratio: {}\".format(EL_grid_cv0.best_params_))"
   ]
  },
  {
   "cell_type": "markdown",
   "id": "c5ea22ad",
   "metadata": {},
   "source": [
    "##### Run the model with the best paramters and assessing the performance"
   ]
  },
  {
   "cell_type": "code",
   "execution_count": 50,
   "id": "83a698c4",
   "metadata": {},
   "outputs": [
    {
     "name": "stdout",
     "output_type": "stream",
     "text": [
      "cross-validation scores of elastic_net regression is  0.8777323160141446\n"
     ]
    }
   ],
   "source": [
    "elastic_net = ElasticNet(alpha = 0.0001, l1_ratio = 0.4)\n",
    "\n",
    "elastic_net_CV = cross_val_score(elastic_net, X_train_imput_scale, y_train, cv=10, n_jobs=-1)\n",
    "\n",
    "print( 'cross-validation scores of elastic_net regression is ', np.mean(elastic_net_CV))"
   ]
  },
  {
   "cell_type": "code",
   "execution_count": 51,
   "id": "1073e6f3",
   "metadata": {},
   "outputs": [
    {
     "name": "stderr",
     "output_type": "stream",
     "text": [
      "C:\\Users\\HP\\anaconda3\\lib\\site-packages\\sklearn\\linear_model\\_coordinate_descent.py:530: ConvergenceWarning: Objective did not converge. You might want to increase the number of iterations. Duality gap: 7593.627533618658, tolerance: 18.668910220595414\n",
      "  model = cd_fast.enet_coordinate_descent(\n"
     ]
    }
   ],
   "source": [
    "Elastic_net = elastic_net.fit( X_train_imput_scale, y_train)"
   ]
  },
  {
   "cell_type": "code",
   "execution_count": 52,
   "id": "9b9d64db",
   "metadata": {
    "scrolled": true
   },
   "outputs": [
    {
     "name": "stdout",
     "output_type": "stream",
     "text": [
      "MAE: 2.420088282485302\n",
      "MSE: 11.087236463584864\n",
      "RMSE: 3.329750210388891\n",
      "R2 Square 0.8761703593205693\n",
      "__________________________________\n",
      "MAE: 2.435186839332167\n",
      "MSE: 10.829141305545864\n",
      "RMSE: 3.2907660666698666\n",
      "R2 Square 0.881145121633373\n",
      "__________________________________\n"
     ]
    }
   ],
   "source": [
    "predicted_train = Elastic_net.predict(X_train_imput_scale)\n",
    "predicted_test = Elastic_net.predict(X_test_imput_scale)\n",
    "model_eval(y_test, predicted_test)\n",
    "model_eval(y_train, predicted_train)"
   ]
  },
  {
   "cell_type": "code",
   "execution_count": null,
   "id": "27555ed1",
   "metadata": {},
   "outputs": [],
   "source": []
  },
  {
   "cell_type": "markdown",
   "id": "42dbea67",
   "metadata": {},
   "source": [
    "### 5.  Decision tree for regression"
   ]
  },
  {
   "cell_type": "code",
   "execution_count": 53,
   "id": "fdf40d96",
   "metadata": {},
   "outputs": [],
   "source": [
    "param_rf={'max_depth':[4,6,8, 10, 12, 14, 16], 'min_samples_leaf': [0.1, 0.2, 0.5, 1, 1.5, 2], \n",
    "          'max_features': [0.2,0.4, 0.6, 0.8, 1.0]}"
   ]
  },
  {
   "cell_type": "code",
   "execution_count": 54,
   "id": "146d962f",
   "metadata": {},
   "outputs": [
    {
     "name": "stderr",
     "output_type": "stream",
     "text": [
      "C:\\Users\\HP\\anaconda3\\lib\\site-packages\\sklearn\\model_selection\\_search.py:922: UserWarning: One or more of the test scores are non-finite: [nan nan nan nan nan nan nan nan nan nan nan nan nan nan nan nan nan nan\n",
      " nan nan nan nan nan nan nan nan nan nan nan nan nan nan nan nan nan nan\n",
      " nan nan nan nan nan nan nan nan nan nan nan nan nan nan nan nan nan nan\n",
      " nan nan nan nan nan nan nan nan nan nan nan nan nan nan nan nan nan nan\n",
      " nan nan nan nan nan nan nan nan nan nan nan nan nan nan nan nan nan nan\n",
      " nan nan nan nan nan nan nan nan nan nan nan nan nan nan nan nan nan nan\n",
      " nan nan nan nan nan nan nan nan nan nan nan nan nan nan nan nan nan nan\n",
      " nan nan nan nan nan nan nan nan nan nan nan nan nan nan nan nan nan nan\n",
      " nan nan nan nan nan nan nan nan nan nan nan nan nan nan nan nan nan nan\n",
      " nan nan nan nan nan nan nan nan nan nan nan nan nan nan nan nan nan nan\n",
      " nan nan nan nan nan nan nan nan nan nan nan nan nan nan nan nan nan nan\n",
      " nan nan nan nan nan nan nan nan nan nan nan nan]\n",
      "  warnings.warn(\n"
     ]
    }
   ],
   "source": [
    "dt = DecisionTreeRegressor(random_state=1)\n",
    "dt_grid_CV= GridSearchCV(estimator= dt ,param_grid=param_rf, cv=10,\n",
    "                          scoring='accuracy',  n_jobs=-1)\n",
    "# Fit dt to the training set\n",
    "dt_grid_CV=dt_grid_CV.fit(X_train_imput_scale, y_train)"
   ]
  },
  {
   "cell_type": "code",
   "execution_count": 55,
   "id": "8aa0e60b",
   "metadata": {},
   "outputs": [
    {
     "data": {
      "text/plain": [
       "{'max_depth': 4, 'max_features': 0.2, 'min_samples_leaf': 0.1}"
      ]
     },
     "execution_count": 55,
     "metadata": {},
     "output_type": "execute_result"
    }
   ],
   "source": [
    "best_dt_param = dt_grid_CV.best_params_\n",
    "best_dt_param"
   ]
  },
  {
   "cell_type": "code",
   "execution_count": 56,
   "id": "33aec9c9",
   "metadata": {},
   "outputs": [],
   "source": [
    "model_dt = dt_grid_CV.best_estimator_"
   ]
  },
  {
   "cell_type": "code",
   "execution_count": 57,
   "id": "860c96f9",
   "metadata": {},
   "outputs": [
    {
     "name": "stdout",
     "output_type": "stream",
     "text": [
      "MAE: 3.9071967857517733\n",
      "MSE: 27.131060903630484\n",
      "RMSE: 5.2087484968685605\n",
      "R2 Square 0.696982243142126\n",
      "__________________________________\n",
      "MAE: 3.6766344533719293\n",
      "MSE: 23.010452650562694\n",
      "RMSE: 4.796921163680167\n",
      "R2 Square 0.7474495462033497\n",
      "__________________________________\n"
     ]
    }
   ],
   "source": [
    "predicted_train = dt_grid_CV.predict(X_train_imput_scale)\n",
    "predicted_test = dt_grid_CV.predict(X_test_imput_scale)\n",
    "model_eval(y_test, predicted_test)\n",
    "model_eval(y_train, predicted_train)"
   ]
  },
  {
   "cell_type": "code",
   "execution_count": 58,
   "id": "239e5b6b",
   "metadata": {},
   "outputs": [],
   "source": [
    "#### experimentation, Use of X_train and X_test (just the missing data imputation, no_scaling)"
   ]
  },
  {
   "cell_type": "code",
   "execution_count": 59,
   "id": "ddf7a081",
   "metadata": {},
   "outputs": [],
   "source": [
    "#model_dt.fit(X_train_imput, y_train)"
   ]
  },
  {
   "cell_type": "code",
   "execution_count": 60,
   "id": "4afa7fde",
   "metadata": {
    "scrolled": true
   },
   "outputs": [],
   "source": [
    "#predicted_train = model_dt.predict(X_train_imput_scale)\n",
    "#predicted_test = model_dt.predict(X_test_imput_scale)\n",
    "#model_eval(y_test, predicted_test)\n",
    "#model_eval(y_train, predicted_train)"
   ]
  },
  {
   "cell_type": "code",
   "execution_count": null,
   "id": "cb432b13",
   "metadata": {},
   "outputs": [],
   "source": []
  },
  {
   "cell_type": "markdown",
   "id": "c59261e5",
   "metadata": {},
   "source": [
    "### 6.Random Forest Model"
   ]
  },
  {
   "cell_type": "markdown",
   "id": "fc5966ba",
   "metadata": {},
   "source": [
    "https://medium.datadriveninvestor.com/random-forest-regression-9871bc9a25eb"
   ]
  },
  {
   "cell_type": "markdown",
   "id": "caa5b59b-e9f9-49e4-8122-39d70ac2744d",
   "metadata": {},
   "source": [
    "#### Simple model of random forest "
   ]
  },
  {
   "cell_type": "code",
   "execution_count": 61,
   "id": "ae0ab9a5",
   "metadata": {},
   "outputs": [
    {
     "data": {
      "text/plain": [
       "RandomForestRegressor(max_depth=4, max_features=0.4, n_estimators=200,\n",
       "                      n_jobs=-1, random_state=1)"
      ]
     },
     "execution_count": 61,
     "metadata": {},
     "output_type": "execute_result"
    }
   ],
   "source": [
    "rf_reg1 = RandomForestRegressor(n_estimators = 200, max_depth= 4, max_features=0.4, n_jobs=-1, random_state=1)\n",
    "rf_reg1.fit(X_train_imput_scale, y_train)"
   ]
  },
  {
   "cell_type": "code",
   "execution_count": 62,
   "id": "ec41bc88",
   "metadata": {},
   "outputs": [],
   "source": [
    "#### evaluate the model"
   ]
  },
  {
   "cell_type": "code",
   "execution_count": 63,
   "id": "1754dd43",
   "metadata": {
    "scrolled": true
   },
   "outputs": [
    {
     "name": "stdout",
     "output_type": "stream",
     "text": [
      "MAE: 2.079883491429767\n",
      "MSE: 8.354804191402206\n",
      "RMSE: 2.890467815320248\n",
      "R2 Square 0.9066879826757275\n",
      "__________________________________\n",
      "MAE: 1.9806380039566067\n",
      "MSE: 7.391979562657916\n",
      "RMSE: 2.718819516381681\n",
      "R2 Square 0.9188695754336162\n",
      "__________________________________\n"
     ]
    }
   ],
   "source": [
    "predicted_train = rf_reg1.predict(X_train_imput_scale)\n",
    "predicted_test = rf_reg1.predict(X_test_imput_scale)\n",
    "model_eval(y_test, predicted_test)\n",
    "model_eval(y_train, predicted_train)"
   ]
  },
  {
   "cell_type": "code",
   "execution_count": null,
   "id": "0619b05c",
   "metadata": {},
   "outputs": [],
   "source": []
  },
  {
   "cell_type": "markdown",
   "id": "b518e84d-9303-4804-8463-41a0c8726006",
   "metadata": {},
   "source": [
    "#### 2nd model of random forest "
   ]
  },
  {
   "cell_type": "code",
   "execution_count": 64,
   "id": "e3cc4be9",
   "metadata": {},
   "outputs": [
    {
     "data": {
      "text/plain": [
       "RandomForestRegressor(max_depth=10, max_features=0.4, n_estimators=200,\n",
       "                      n_jobs=-1, random_state=1)"
      ]
     },
     "execution_count": 64,
     "metadata": {},
     "output_type": "execute_result"
    }
   ],
   "source": [
    "rf_reg2 = RandomForestRegressor(n_estimators = 200, max_depth= 10, max_features=0.4, n_jobs=-1, random_state=1)\n",
    "rf_reg2.fit(X_train_imput_scale, y_train)"
   ]
  },
  {
   "cell_type": "code",
   "execution_count": 65,
   "id": "ee92c5ad",
   "metadata": {},
   "outputs": [
    {
     "name": "stdout",
     "output_type": "stream",
     "text": [
      "MAE: 1.348903715319932\n",
      "MSE: 4.03797906285001\n",
      "RMSE: 2.0094723344326018\n",
      "R2 Square 0.9549011606213991\n",
      "__________________________________\n",
      "MAE: 0.7557958217192339\n",
      "MSE: 1.2251327362814532\n",
      "RMSE: 1.1068571435742975\n",
      "R2 Square 0.9865535966107365\n",
      "__________________________________\n"
     ]
    }
   ],
   "source": [
    "# evaluate the model\n",
    "predicted_train = rf_reg2.predict(X_train_imput_scale)\n",
    "predicted_test = rf_reg2.predict(X_test_imput_scale)\n",
    "model_eval(y_test, predicted_test)\n",
    "model_eval(y_train, predicted_train)"
   ]
  },
  {
   "cell_type": "code",
   "execution_count": 66,
   "id": "9b6c3726-96bc-42aa-a397-bc636fe50cb9",
   "metadata": {},
   "outputs": [],
   "source": [
    "##### random forest model"
   ]
  },
  {
   "cell_type": "code",
   "execution_count": 67,
   "id": "9e23fa7c-0e22-457e-9b3e-501744e1b481",
   "metadata": {},
   "outputs": [
    {
     "data": {
      "text/plain": [
       "RandomForestRegressor(max_depth=7, max_features=0.3, n_jobs=-1, random_state=1)"
      ]
     },
     "execution_count": 67,
     "metadata": {},
     "output_type": "execute_result"
    }
   ],
   "source": [
    "rf_reg3 = RandomForestRegressor(n_estimators = 100, max_depth=7, max_features=0.3, n_jobs=-1, random_state=1)\n",
    "rf_reg3.fit(X_train_imput_scale, y_train)"
   ]
  },
  {
   "cell_type": "code",
   "execution_count": 68,
   "id": "9b5c6117-6c00-43a7-9dfa-6dea6777b70c",
   "metadata": {},
   "outputs": [
    {
     "name": "stdout",
     "output_type": "stream",
     "text": [
      "MAE: 1.6356661799477743\n",
      "MSE: 5.450426307247203\n",
      "RMSE: 2.3346148091809926\n",
      "R2 Square 0.9391260091373651\n",
      "__________________________________\n",
      "MAE: 1.3116043430038709\n",
      "MSE: 3.320191214437195\n",
      "RMSE: 1.8221391863513596\n",
      "R2 Square 0.9635593523242899\n",
      "__________________________________\n"
     ]
    }
   ],
   "source": [
    "# evaluate the model\n",
    "predicted_train = rf_reg3.predict(X_train_imput_scale)\n",
    "predicted_test = rf_reg3.predict(X_test_imput_scale)\n",
    "model_eval(y_test, predicted_test)\n",
    "model_eval(y_train, predicted_train)"
   ]
  },
  {
   "cell_type": "code",
   "execution_count": null,
   "id": "d0fd1e2a",
   "metadata": {},
   "outputs": [],
   "source": []
  },
  {
   "cell_type": "markdown",
   "id": "9107668e-ca95-4898-b0e6-da2f5a78521b",
   "metadata": {},
   "source": [
    "#### 4th model of random forest with GridSearchCV"
   ]
  },
  {
   "cell_type": "code",
   "execution_count": 69,
   "id": "e9b4c675",
   "metadata": {},
   "outputs": [],
   "source": [
    "param_rf={'max_depth':[4, 5, 6, 7, 8],'n_estimators':[50, 75, 100, 150, 175, 200], \n",
    "          'min_samples_leaf': [0.1, 0.2, 0.5, 0.7, 0.9, 1], 'max_features': [0.3, 0.4, 0.5, 0.6]},"
   ]
  },
  {
   "cell_type": "code",
   "execution_count": 70,
   "id": "eff2a34d",
   "metadata": {},
   "outputs": [],
   "source": [
    "# Perform Grid-Search\n",
    "RF_grid_CV= GridSearchCV(estimator= RandomForestRegressor(random_state=1) ,param_grid=param_rf, cv=5, \n",
    "                          scoring='neg_mean_squared_error', verbose=1, n_jobs=-1)"
   ]
  },
  {
   "cell_type": "code",
   "execution_count": 71,
   "id": "7d6742f6",
   "metadata": {
    "scrolled": true
   },
   "outputs": [
    {
     "name": "stdout",
     "output_type": "stream",
     "text": [
      "Fitting 5 folds for each of 720 candidates, totalling 3600 fits\n"
     ]
    },
    {
     "name": "stderr",
     "output_type": "stream",
     "text": [
      "C:\\Users\\HP\\anaconda3\\lib\\site-packages\\sklearn\\model_selection\\_search.py:922: UserWarning: One or more of the test scores are non-finite: [-17.33351573 -16.96519845 -16.8866428  -16.98223729 -16.79765069\n",
      " -16.81141697 -28.36071026 -27.44499646 -27.23311193 -27.09267581\n",
      " -26.85588028 -26.73330195 -91.12647702 -91.12889565 -91.12945785\n",
      " -91.13285487 -91.13255861 -91.13252833          nan          nan\n",
      "          nan          nan          nan          nan          nan\n",
      "          nan          nan          nan          nan          nan\n",
      "  -9.12273586  -9.09423923  -9.10465821  -9.17214039  -9.08905544\n",
      "  -9.11274354 -15.92639105 -15.70711944 -15.58556038 -15.71511524\n",
      " -15.65801208 -15.71398972 -24.83535406 -24.71688427 -24.65624866\n",
      " -25.05022262 -24.75280321 -24.71299411 -91.12647702 -91.12889565\n",
      " -91.12945785 -91.13285487 -91.13255861 -91.13252833          nan\n",
      "          nan          nan          nan          nan          nan\n",
      "          nan          nan          nan          nan          nan\n",
      "          nan  -8.33293113  -8.29908101  -8.29829911  -8.41030953\n",
      "  -8.4235521   -8.40744622 -15.3226889  -15.07143071 -15.07991295\n",
      " -15.13462696 -15.06821444 -15.12856578 -23.65722877 -23.80903704\n",
      " -23.83944886 -23.83612032 -23.68189624 -23.60898621 -91.12647702\n",
      " -91.12889565 -91.12945785 -91.13285487 -91.13255861 -91.13252833\n",
      "          nan          nan          nan          nan          nan\n",
      "          nan          nan          nan          nan          nan\n",
      "          nan          nan  -8.09132934  -8.10491302  -8.09375003\n",
      "  -8.13349383  -8.08793416  -8.06226682 -14.95692762 -14.73531158\n",
      " -14.71940224 -14.8432697  -14.85136726 -14.90649953 -23.60400034\n",
      " -23.91177807 -23.80182727 -23.7954268  -23.73446401 -23.70266704\n",
      " -91.12647702 -91.12889565 -91.12945785 -91.13285487 -91.13255861\n",
      " -91.13252833          nan          nan          nan          nan\n",
      "          nan          nan          nan          nan          nan\n",
      "          nan          nan          nan  -8.0144811   -7.90629776\n",
      "  -7.91891268  -7.9319725   -7.93584534  -7.94452449 -17.33351573\n",
      " -16.96519845 -16.8866428  -16.98223729 -16.79765069 -16.81141697\n",
      " -28.36071026 -27.44499646 -27.23311193 -27.09267581 -26.85588028\n",
      " -26.73330195 -91.12647702 -91.12889565 -91.12945785 -91.13285487\n",
      " -91.13255861 -91.13252833          nan          nan          nan\n",
      "          nan          nan          nan          nan          nan\n",
      "          nan          nan          nan          nan  -7.85055391\n",
      "  -7.73347265  -7.65171085  -7.66177576  -7.62438628  -7.60729736\n",
      " -15.92639105 -15.70711944 -15.58556038 -15.71511524 -15.65801208\n",
      " -15.71398972 -24.83535406 -24.71688427 -24.65624866 -25.05022262\n",
      " -24.75280321 -24.71299411 -91.12647702 -91.12889565 -91.12945785\n",
      " -91.13285487 -91.13255861 -91.13252833          nan          nan\n",
      "          nan          nan          nan          nan          nan\n",
      "          nan          nan          nan          nan          nan\n",
      "  -7.00441841  -6.93356872  -6.8599089   -6.90999503  -6.89382821\n",
      "  -6.89555362 -15.3226889  -15.07143071 -15.07991295 -15.13462696\n",
      " -15.06821444 -15.12856578 -23.65722877 -23.80903704 -23.83944886\n",
      " -23.83612032 -23.68189624 -23.60898621 -91.12647702 -91.12889565\n",
      " -91.12945785 -91.13285487 -91.13255861 -91.13252833          nan\n",
      "          nan          nan          nan          nan          nan\n",
      "          nan          nan          nan          nan          nan\n",
      "          nan  -6.60272492  -6.59722826  -6.62079957  -6.67081231\n",
      "  -6.65487414  -6.64229051 -14.95692762 -14.73531158 -14.71940224\n",
      " -14.8432697  -14.85136726 -14.90649953 -23.60400034 -23.91177807\n",
      " -23.80182727 -23.7954268  -23.73446401 -23.70266704 -91.12647702\n",
      " -91.12889565 -91.12945785 -91.13285487 -91.13255861 -91.13252833\n",
      "          nan          nan          nan          nan          nan\n",
      "          nan          nan          nan          nan          nan\n",
      "          nan          nan  -6.57596783  -6.55454434  -6.48362277\n",
      "  -6.48294983  -6.47999314  -6.47080564 -17.33351573 -16.96519845\n",
      " -16.8866428  -16.98223729 -16.79765069 -16.81141697 -28.36071026\n",
      " -27.44499646 -27.23311193 -27.09267581 -26.85588028 -26.73330195\n",
      " -91.12647702 -91.12889565 -91.12945785 -91.13285487 -91.13255861\n",
      " -91.13252833          nan          nan          nan          nan\n",
      "          nan          nan          nan          nan          nan\n",
      "          nan          nan          nan  -6.54588027  -6.42736247\n",
      "  -6.4335781   -6.45557423  -6.43783781  -6.44334831 -15.92639105\n",
      " -15.70711944 -15.58556038 -15.71511524 -15.65801208 -15.71398972\n",
      " -24.83535406 -24.71688427 -24.65624866 -25.05022262 -24.75280321\n",
      " -24.71299411 -91.12647702 -91.12889565 -91.12945785 -91.13285487\n",
      " -91.13255861 -91.13252833          nan          nan          nan\n",
      "          nan          nan          nan          nan          nan\n",
      "          nan          nan          nan          nan  -6.04176083\n",
      "  -5.99665381  -5.99494957  -6.02086484  -5.99690156  -5.9723516\n",
      " -15.3226889  -15.07143071 -15.07991295 -15.13462696 -15.06821444\n",
      " -15.12856578 -23.65722877 -23.80903704 -23.83944886 -23.83612032\n",
      " -23.68189624 -23.60898621 -91.12647702 -91.12889565 -91.12945785\n",
      " -91.13285487 -91.13255861 -91.13252833          nan          nan\n",
      "          nan          nan          nan          nan          nan\n",
      "          nan          nan          nan          nan          nan\n",
      "  -5.72317865  -5.7167043   -5.71550631  -5.75300283  -5.73181622\n",
      "  -5.71185645 -14.95692762 -14.73531158 -14.71940224 -14.8432697\n",
      " -14.85136726 -14.90649953 -23.60400034 -23.91177807 -23.80182727\n",
      " -23.7954268  -23.73446401 -23.70266704 -91.12647702 -91.12889565\n",
      " -91.12945785 -91.13285487 -91.13255861 -91.13252833          nan\n",
      "          nan          nan          nan          nan          nan\n",
      "          nan          nan          nan          nan          nan\n",
      "          nan  -5.69073174  -5.64064096  -5.59412223  -5.589608\n",
      "  -5.59213766  -5.57793967 -17.33351573 -16.96519845 -16.8866428\n",
      " -16.98223729 -16.79765069 -16.81141697 -28.36071026 -27.44499646\n",
      " -27.23311193 -27.09267581 -26.85588028 -26.73330195 -91.12647702\n",
      " -91.12889565 -91.12945785 -91.13285487 -91.13255861 -91.13252833\n",
      "          nan          nan          nan          nan          nan\n",
      "          nan          nan          nan          nan          nan\n",
      "          nan          nan  -5.78254303  -5.69935289  -5.67871675\n",
      "  -5.64772492  -5.6243205   -5.64228227 -15.92639105 -15.70711944\n",
      " -15.58556038 -15.71511524 -15.65801208 -15.71398972 -24.83535406\n",
      " -24.71688427 -24.65624866 -25.05022262 -24.75280321 -24.71299411\n",
      " -91.12647702 -91.12889565 -91.12945785 -91.13285487 -91.13255861\n",
      " -91.13252833          nan          nan          nan          nan\n",
      "          nan          nan          nan          nan          nan\n",
      "          nan          nan          nan  -5.34845882  -5.27858612\n",
      "  -5.24794198  -5.25295934  -5.23890449  -5.2169542  -15.3226889\n",
      " -15.07143071 -15.07991295 -15.13462696 -15.06821444 -15.12856578\n",
      " -23.65722877 -23.80903704 -23.83944886 -23.83612032 -23.68189624\n",
      " -23.60898621 -91.12647702 -91.12889565 -91.12945785 -91.13285487\n",
      " -91.13255861 -91.13252833          nan          nan          nan\n",
      "          nan          nan          nan          nan          nan\n",
      "          nan          nan          nan          nan  -5.13878732\n",
      "  -5.12385135  -5.09842219  -5.11008276  -5.08535014  -5.05647912\n",
      " -14.95692762 -14.73531158 -14.71940224 -14.8432697  -14.85136726\n",
      " -14.90649953 -23.60400034 -23.91177807 -23.80182727 -23.7954268\n",
      " -23.73446401 -23.70266704 -91.12647702 -91.12889565 -91.12945785\n",
      " -91.13285487 -91.13255861 -91.13252833          nan          nan\n",
      "          nan          nan          nan          nan          nan\n",
      "          nan          nan          nan          nan          nan\n",
      "  -5.07188577  -5.00019188  -4.96904511  -4.97964155  -4.9815383\n",
      "  -4.96600801 -17.33351573 -16.96519845 -16.8866428  -16.98223729\n",
      " -16.79765069 -16.81141697 -28.36071026 -27.44499646 -27.23311193\n",
      " -27.09267581 -26.85588028 -26.73330195 -91.12647702 -91.12889565\n",
      " -91.12945785 -91.13285487 -91.13255861 -91.13252833          nan\n",
      "          nan          nan          nan          nan          nan\n",
      "          nan          nan          nan          nan          nan\n",
      "          nan  -5.2960461   -5.21175405  -5.15052227  -5.13858857\n",
      "  -5.1191332   -5.1149721  -15.92639105 -15.70711944 -15.58556038\n",
      " -15.71511524 -15.65801208 -15.71398972 -24.83535406 -24.71688427\n",
      " -24.65624866 -25.05022262 -24.75280321 -24.71299411 -91.12647702\n",
      " -91.12889565 -91.12945785 -91.13285487 -91.13255861 -91.13252833\n",
      "          nan          nan          nan          nan          nan\n",
      "          nan          nan          nan          nan          nan\n",
      "          nan          nan  -4.93443078  -4.85837686  -4.81268968\n",
      "  -4.82441259  -4.80822143  -4.79143134 -15.3226889  -15.07143071\n",
      " -15.07991295 -15.13462696 -15.06821444 -15.12856578 -23.65722877\n",
      " -23.80903704 -23.83944886 -23.83612032 -23.68189624 -23.60898621\n",
      " -91.12647702 -91.12889565 -91.12945785 -91.13285487 -91.13255861\n",
      " -91.13252833          nan          nan          nan          nan\n",
      "          nan          nan          nan          nan          nan\n",
      "          nan          nan          nan  -4.69483928  -4.68721038\n",
      "  -4.64784589  -4.63415988  -4.61694917  -4.59951977 -14.95692762\n",
      " -14.73531158 -14.71940224 -14.8432697  -14.85136726 -14.90649953\n",
      " -23.60400034 -23.91177807 -23.80182727 -23.7954268  -23.73446401\n",
      " -23.70266704 -91.12647702 -91.12889565 -91.12945785 -91.13285487\n",
      " -91.13255861 -91.13252833          nan          nan          nan\n",
      "          nan          nan          nan          nan          nan\n",
      "          nan          nan          nan          nan  -4.69071178\n",
      "  -4.63198248  -4.58210714  -4.57681838  -4.56317958  -4.54746368]\n",
      "  warnings.warn(\n"
     ]
    },
    {
     "data": {
      "text/plain": [
       "GridSearchCV(cv=5, estimator=RandomForestRegressor(random_state=1), n_jobs=-1,\n",
       "             param_grid=({'max_depth': [4, 5, 6, 7, 8],\n",
       "                          'max_features': [0.3, 0.4, 0.5, 0.6],\n",
       "                          'min_samples_leaf': [0.1, 0.2, 0.5, 0.7, 0.9, 1],\n",
       "                          'n_estimators': [50, 75, 100, 150, 175, 200]},),\n",
       "             scoring='neg_mean_squared_error', verbose=1)"
      ]
     },
     "execution_count": 71,
     "metadata": {},
     "output_type": "execute_result"
    }
   ],
   "source": [
    "RF_grid_CV.fit(X_train_imput_scale, y_train)"
   ]
  },
  {
   "cell_type": "code",
   "execution_count": 72,
   "id": "163f9773",
   "metadata": {},
   "outputs": [
    {
     "data": {
      "text/plain": [
       "{'max_depth': 8,\n",
       " 'max_features': 0.6,\n",
       " 'min_samples_leaf': 1,\n",
       " 'n_estimators': 200}"
      ]
     },
     "execution_count": 72,
     "metadata": {},
     "output_type": "execute_result"
    }
   ],
   "source": [
    "best_rf_param = RF_grid_CV.best_params_\n",
    "best_rf_param"
   ]
  },
  {
   "cell_type": "code",
   "execution_count": 73,
   "id": "43005e9b",
   "metadata": {},
   "outputs": [],
   "source": [
    "rf_reg4 = RF_grid_CV.best_estimator_"
   ]
  },
  {
   "cell_type": "code",
   "execution_count": 74,
   "id": "08b60dc2",
   "metadata": {},
   "outputs": [
    {
     "name": "stdout",
     "output_type": "stream",
     "text": [
      "MAE: 1.439830494690462\n",
      "MSE: 4.468102721716352\n",
      "RMSE: 2.113788712647589\n",
      "R2 Square 0.950097253146342\n",
      "__________________________________\n",
      "MAE: 0.9869440578810267\n",
      "MSE: 2.0130210826019947\n",
      "RMSE: 1.4188097415094085\n",
      "R2 Square 0.9779061544058358\n",
      "__________________________________\n"
     ]
    }
   ],
   "source": [
    "predicted_train = rf_reg4.predict(X_train_imput_scale)\n",
    "predicted_test = rf_reg4.predict(X_test_imput_scale)\n",
    "model_eval(y_test, predicted_test)\n",
    "model_eval(y_train, predicted_train)"
   ]
  },
  {
   "cell_type": "code",
   "execution_count": 75,
   "id": "d6f923ac",
   "metadata": {},
   "outputs": [
    {
     "data": {
      "image/png": "[encoded data removed]",
      "text/plain": [
       "<Figure size 720x504 with 1 Axes>"
      ]
     },
     "metadata": {},
     "output_type": "display_data"
    }
   ],
   "source": [
    "Important_features =  pd.Series(rf_reg4.feature_importances_, index = X_train.columns).sort_values()\n",
    "Important_features.plot(kind='barh', figsize=(10,7) , fontsize=10)\n",
    "plt.title('Random Forest regressor Features of importance')\n",
    "plt.show()"
   ]
  },
  {
   "cell_type": "code",
   "execution_count": 76,
   "id": "332da37e",
   "metadata": {},
   "outputs": [],
   "source": [
    "# Perform K-Fold CV for Random forest regressor \n",
    "scores = cross_val_score(rf_reg4, X_train_imput_scale, y_train, cv= 5)"
   ]
  },
  {
   "cell_type": "code",
   "execution_count": 77,
   "id": "df4cc1a9",
   "metadata": {},
   "outputs": [
    {
     "data": {
      "text/plain": [
       "0.9503539246037436"
      ]
     },
     "execution_count": 77,
     "metadata": {},
     "output_type": "execute_result"
    }
   ],
   "source": [
    "np.mean(scores)"
   ]
  },
  {
   "cell_type": "code",
   "execution_count": 78,
   "id": "84c35cd4",
   "metadata": {},
   "outputs": [],
   "source": [
    "scores2 = cross_validate(rf_reg4, X_train_imput_scale, y_train, cv=5)"
   ]
  },
  {
   "cell_type": "code",
   "execution_count": 79,
   "id": "942d3537",
   "metadata": {},
   "outputs": [
    {
     "data": {
      "text/plain": [
       "(0.8793952573076768, 0.013289807834014365)"
      ]
     },
     "execution_count": 79,
     "metadata": {},
     "output_type": "execute_result"
    }
   ],
   "source": [
    "scores2 = cv_results['test_score']\n",
    "np.mean(scores2), np.std(scores2)"
   ]
  },
  {
   "cell_type": "code",
   "execution_count": null,
   "id": "c507c43e",
   "metadata": {},
   "outputs": [],
   "source": []
  },
  {
   "cell_type": "code",
   "execution_count": 80,
   "id": "35fcaf55",
   "metadata": {
    "scrolled": true
   },
   "outputs": [
    {
     "name": "stdout",
     "output_type": "stream",
     "text": [
      "{'n_estimators': [200, 344, 488, 633, 777, 922, 1066, 1211, 1355, 1500], 'max_features': [0.2, 0.4, 0.6000000000000001, 0.8, 1.0], 'max_depth': [10, 20, 30, 40, 50, 60, 70, 80, 90, 100, 110], 'min_samples_split': [2, 5, 7, 10], 'min_samples_leaf': [1, 2, 4, 6], 'bootstrap': [True, False]}\n"
     ]
    }
   ],
   "source": [
    "n_estimators = [int(x) for x in np.linspace(start = 200, stop = 1500, num = 10)]\n",
    "max_features =  [x for x in np.linspace(start = 0.2, stop = 1.0, num = 5)]\n",
    "max_depth = [int(x) for x in np.linspace(10, 110, num = 11)]\n",
    "min_samples_split = [2, 5, 7, 10]\n",
    "min_samples_leaf = [1, 2, 4, 6]\n",
    "bootstrap = [True, False]\n",
    "# Create the random grid\n",
    "random_grid = {'n_estimators': n_estimators,\n",
    "               'max_features': max_features,\n",
    "               'max_depth': max_depth,\n",
    "               'min_samples_split': min_samples_split,\n",
    "               'min_samples_leaf': min_samples_leaf,\n",
    "               'bootstrap': bootstrap}\n",
    "print(random_grid)"
   ]
  },
  {
   "cell_type": "code",
   "execution_count": 81,
   "id": "5ad0b24e",
   "metadata": {},
   "outputs": [
    {
     "name": "stdout",
     "output_type": "stream",
     "text": [
      "Fitting 3 folds for each of 100 candidates, totalling 300 fits\n"
     ]
    },
    {
     "data": {
      "text/plain": [
       "RandomizedSearchCV(cv=3, estimator=RandomForestRegressor(), n_iter=100,\n",
       "                   n_jobs=-1,\n",
       "                   param_distributions={'bootstrap': [True, False],\n",
       "                                        'max_depth': [10, 20, 30, 40, 50, 60,\n",
       "                                                      70, 80, 90, 100, 110],\n",
       "                                        'max_features': [0.2, 0.4,\n",
       "                                                         0.6000000000000001,\n",
       "                                                         0.8, 1.0],\n",
       "                                        'min_samples_leaf': [1, 2, 4, 6],\n",
       "                                        'min_samples_split': [2, 5, 7, 10],\n",
       "                                        'n_estimators': [200, 344, 488, 633,\n",
       "                                                         777, 922, 1066, 1211,\n",
       "                                                         1355, 1500]},\n",
       "                   random_state=42, verbose=2)"
      ]
     },
     "execution_count": 81,
     "metadata": {},
     "output_type": "execute_result"
    }
   ],
   "source": [
    "# Use the random grid to search for best hyperparameters\n",
    "rf = RandomForestRegressor()\n",
    "\n",
    "rf_random = RandomizedSearchCV(estimator = rf, param_distributions = random_grid, n_iter = 100, cv = 3, verbose=2, random_state=42, n_jobs = -1)\n",
    "\n",
    "rf_random.fit(X_train_imput_scale, y_train)"
   ]
  },
  {
   "cell_type": "code",
   "execution_count": 82,
   "id": "ff23c025",
   "metadata": {
    "scrolled": true
   },
   "outputs": [
    {
     "data": {
      "text/plain": [
       "{'n_estimators': 633,\n",
       " 'min_samples_split': 2,\n",
       " 'min_samples_leaf': 1,\n",
       " 'max_features': 0.4,\n",
       " 'max_depth': 40,\n",
       " 'bootstrap': False}"
      ]
     },
     "execution_count": 82,
     "metadata": {},
     "output_type": "execute_result"
    }
   ],
   "source": [
    "rf_random.best_params_"
   ]
  },
  {
   "cell_type": "code",
   "execution_count": 83,
   "id": "da1208f2-499f-4348-8da0-ee3f232ac39b",
   "metadata": {},
   "outputs": [],
   "source": [
    "rf_reg6 = rf_random.best_estimator_"
   ]
  },
  {
   "cell_type": "code",
   "execution_count": 84,
   "id": "8858ac91",
   "metadata": {},
   "outputs": [
    {
     "name": "stdout",
     "output_type": "stream",
     "text": [
      "MAE: 1.0981932290571448\n",
      "MSE: 3.1907051007938194\n",
      "RMSE: 1.7862544893698153\n",
      "R2 Square 0.9643640804953505\n",
      "__________________________________\n",
      "MAE: 4.297309756020651e-13\n",
      "MSE: 3.0131734921725817e-25\n",
      "RMSE: 5.489238100294595e-13\n",
      "R2 Square 1.0\n",
      "__________________________________\n"
     ]
    }
   ],
   "source": [
    "predicted_train = rf_reg6.predict(X_train_imput_scale)\n",
    "predicted_test = rf_reg6.predict(X_test_imput_scale)\n",
    "model_eval(y_test, predicted_test)\n",
    "model_eval(y_train, predicted_train)"
   ]
  },
  {
   "cell_type": "code",
   "execution_count": 85,
   "id": "930f755a",
   "metadata": {},
   "outputs": [],
   "source": [
    "# Perform K-Fold CV\n",
    "rf_scores = cross_val_score(rf_random.best_estimator_, X_train_imput_scale, y_train, cv=5)"
   ]
  },
  {
   "cell_type": "code",
   "execution_count": 86,
   "id": "6e7648f6",
   "metadata": {},
   "outputs": [
    {
     "data": {
      "text/plain": [
       "(0.9610145660730247, 0.007460624123182943)"
      ]
     },
     "execution_count": 86,
     "metadata": {},
     "output_type": "execute_result"
    }
   ],
   "source": [
    " np.mean(rf_scores), np.std(rf_scores)"
   ]
  },
  {
   "cell_type": "markdown",
   "id": "3b8bd8f5-99f2-4b07-849b-b054da926eb8",
   "metadata": {},
   "source": [
    "##### 1st Gradien Boosting Model "
   ]
  },
  {
   "cell_type": "code",
   "execution_count": 87,
   "id": "e9505914-43a1-4b25-9539-4648410f8b73",
   "metadata": {},
   "outputs": [
    {
     "data": {
      "text/plain": [
       "GradientBoostingRegressor(n_estimators=150, random_state=1)"
      ]
     },
     "execution_count": 87,
     "metadata": {},
     "output_type": "execute_result"
    }
   ],
   "source": [
    "grdB = GradientBoostingRegressor(n_estimators = 150, max_depth = 3, random_state=1)\n",
    "grdB.fit(X_train_imput_scale, y_train)"
   ]
  },
  {
   "cell_type": "code",
   "execution_count": 88,
   "id": "a7d06e07-b660-4c33-b3d9-105172f1d0ec",
   "metadata": {},
   "outputs": [
    {
     "name": "stdout",
     "output_type": "stream",
     "text": [
      "MAE: 1.547262265790735\n",
      "MSE: 4.977193003181032\n",
      "RMSE: 2.2309623491177595\n",
      "R2 Square 0.9444113938400835\n",
      "__________________________________\n",
      "MAE: 1.1459256178294823\n",
      "MSE: 2.5811680572595215\n",
      "RMSE: 1.6066013996195576\n",
      "R2 Square 0.9716704762793804\n",
      "__________________________________\n"
     ]
    }
   ],
   "source": [
    "predicted_train = grdB.predict(X_train_imput_scale)\n",
    "predicted_test = grdB.predict(X_test_imput_scale)\n",
    "model_eval(y_test, predicted_test)\n",
    "model_eval(y_train, predicted_train)"
   ]
  },
  {
   "cell_type": "markdown",
   "id": "b0938e0b-edb9-4c27-b109-d9b38206a0dd",
   "metadata": {},
   "source": [
    "#### 2nd Gradient Boost Model"
   ]
  },
  {
   "cell_type": "code",
   "execution_count": 89,
   "id": "6cb19e28-7191-4322-bb6f-4c41dc11e3ed",
   "metadata": {},
   "outputs": [
    {
     "name": "stdout",
     "output_type": "stream",
     "text": [
      "{'n_estimators': [25, 56, 87, 118, 150], 'max_features': [0.2, 0.4, 0.6000000000000001, 0.8, 1.0], 'max_depth': [1, 2, 3, 4, 5, 6, 7, 8, 9, 10], 'min_samples_split': [6, 8, 10, 12], 'min_samples_leaf': [4, 6, 8, 10], 'learning_rate': [0.01, 0.08249999999999999, 0.155, 0.22749999999999998, 0.3]}\n"
     ]
    }
   ],
   "source": [
    "n_estimators = [int(x) for x in np.linspace(start = 25, stop = 150, num = 5)]\n",
    "max_features =  [x for x in np.linspace(start = 0.2, stop = 1.0, num = 5)]\n",
    "max_depth = [int(x) for x in np.linspace(1, 10, num = 10)]\n",
    "min_samples_split = [6, 8, 10, 12]\n",
    "min_samples_leaf = [4, 6, 8, 10]\n",
    "learning_rate = [x for x in np.linspace(0.01, 0.3, num = 5)]\n",
    "criterion = ['mse',]\n",
    "\n",
    "\n",
    "grd_grid = {'n_estimators': n_estimators,\n",
    "               'max_features': max_features,\n",
    "               'max_depth': max_depth,\n",
    "               'min_samples_split': min_samples_split,\n",
    "               'min_samples_leaf': min_samples_leaf,\n",
    "              'learning_rate': learning_rate}\n",
    "print(grd_grid)"
   ]
  },
  {
   "cell_type": "code",
   "execution_count": 90,
   "id": "1ef8531c-6eb1-48ae-b6ae-adf6e70f0d44",
   "metadata": {},
   "outputs": [],
   "source": [
    "# with RandomizedSearchCV\n",
    "grd = GradientBoostingRegressor()\n",
    "\n",
    "grd_Boost = RandomizedSearchCV(estimator = grd, param_distributions= grd_grid,  cv = 5, verbose=1, random_state=1, n_jobs = -1)"
   ]
  },
  {
   "cell_type": "code",
   "execution_count": 91,
   "id": "0b44299d-7efa-4c36-81a6-839aa22b22f9",
   "metadata": {},
   "outputs": [],
   "source": [
    "# with GridSearchCV\n",
    "grd = GradientBoostingRegressor(random_state = 1)\n",
    "\n",
    "grd_Boost2 = GridSearchCV(estimator = grd, param_grid= grd_grid, scoring='neg_mean_squared_error', cv = 5, verbose=1, n_jobs = -1)"
   ]
  },
  {
   "cell_type": "code",
   "execution_count": 92,
   "id": "f61bde72-c4b9-45a2-b979-ae32457f7aaa",
   "metadata": {},
   "outputs": [
    {
     "name": "stdout",
     "output_type": "stream",
     "text": [
      "Fitting 5 folds for each of 10 candidates, totalling 50 fits\n"
     ]
    },
    {
     "data": {
      "text/plain": [
       "RandomizedSearchCV(cv=5, estimator=GradientBoostingRegressor(), n_jobs=-1,\n",
       "                   param_distributions={'learning_rate': [0.01,\n",
       "                                                          0.08249999999999999,\n",
       "                                                          0.155,\n",
       "                                                          0.22749999999999998,\n",
       "                                                          0.3],\n",
       "                                        'max_depth': [1, 2, 3, 4, 5, 6, 7, 8, 9,\n",
       "                                                      10],\n",
       "                                        'max_features': [0.2, 0.4,\n",
       "                                                         0.6000000000000001,\n",
       "                                                         0.8, 1.0],\n",
       "                                        'min_samples_leaf': [4, 6, 8, 10],\n",
       "                                        'min_samples_split': [6, 8, 10, 12],\n",
       "                                        'n_estimators': [25, 56, 87, 118, 150]},\n",
       "                   random_state=1, verbose=1)"
      ]
     },
     "execution_count": 92,
     "metadata": {},
     "output_type": "execute_result"
    }
   ],
   "source": [
    "grd_Boost.fit(X_train_imput_scale, y_train)"
   ]
  },
  {
   "cell_type": "code",
   "execution_count": 93,
   "id": "a68a7ef5-1873-4f5a-a6ea-13ef8dc6f4fe",
   "metadata": {},
   "outputs": [
    {
     "name": "stdout",
     "output_type": "stream",
     "text": [
      "Fitting 5 folds for each of 20000 candidates, totalling 100000 fits\n"
     ]
    },
    {
     "data": {
      "text/plain": [
       "GridSearchCV(cv=5, estimator=GradientBoostingRegressor(random_state=1),\n",
       "             n_jobs=-1,\n",
       "             param_grid={'learning_rate': [0.01, 0.08249999999999999, 0.155,\n",
       "                                           0.22749999999999998, 0.3],\n",
       "                         'max_depth': [1, 2, 3, 4, 5, 6, 7, 8, 9, 10],\n",
       "                         'max_features': [0.2, 0.4, 0.6000000000000001, 0.8,\n",
       "                                          1.0],\n",
       "                         'min_samples_leaf': [4, 6, 8, 10],\n",
       "                         'min_samples_split': [6, 8, 10, 12],\n",
       "                         'n_estimators': [25, 56, 87, 118, 150]},\n",
       "             scoring='neg_mean_squared_error', verbose=1)"
      ]
     },
     "execution_count": 93,
     "metadata": {},
     "output_type": "execute_result"
    }
   ],
   "source": [
    "grd_Boost2.fit(X_train_imput_scale, y_train)"
   ]
  },
  {
   "cell_type": "code",
   "execution_count": 94,
   "id": "d2798d19-f043-4a7f-b64c-0ffbc1e7a67a",
   "metadata": {},
   "outputs": [
    {
     "data": {
      "text/plain": [
       "{'n_estimators': 118,\n",
       " 'min_samples_split': 10,\n",
       " 'min_samples_leaf': 8,\n",
       " 'max_features': 0.6000000000000001,\n",
       " 'max_depth': 10,\n",
       " 'learning_rate': 0.08249999999999999}"
      ]
     },
     "execution_count": 94,
     "metadata": {},
     "output_type": "execute_result"
    }
   ],
   "source": [
    "grd_Boost.best_params_"
   ]
  },
  {
   "cell_type": "markdown",
   "id": "2b8d11db-001c-4664-a765-dd91fd58d72d",
   "metadata": {},
   "source": [
    "#grd_Boost.best_params_ = {'n_estimators': 118,\n",
    " 'min_samples_split': 10,\n",
    " 'min_samples_leaf': 8,\n",
    " 'max_features': 0.6000000000000001,\n",
    " 'max_depth': 10,\n",
    " 'learning_rate': 0.08249999999999999}"
   ]
  },
  {
   "cell_type": "code",
   "execution_count": 95,
   "id": "f3209447-92e9-4fb3-bc7e-da9b1afc8c0b",
   "metadata": {},
   "outputs": [
    {
     "data": {
      "text/plain": [
       "{'learning_rate': 0.08249999999999999,\n",
       " 'max_depth': 10,\n",
       " 'max_features': 0.6000000000000001,\n",
       " 'min_samples_leaf': 8,\n",
       " 'min_samples_split': 6,\n",
       " 'n_estimators': 118}"
      ]
     },
     "execution_count": 95,
     "metadata": {},
     "output_type": "execute_result"
    }
   ],
   "source": [
    "grd_Boost2.best_params_"
   ]
  },
  {
   "cell_type": "markdown",
   "id": "6799ac4f-9ded-491d-b605-ba27d24140a9",
   "metadata": {},
   "source": [
    "#grd_Boost2.best_params_ = {'learning_rate': 0.08249999999999999,\n",
    " 'max_depth': 7,\n",
    " 'max_features': 0.8,\n",
    " 'min_samples_leaf': 4,\n",
    " 'min_samples_split': 12,\n",
    " 'n_estimators': 150}"
   ]
  },
  {
   "cell_type": "code",
   "execution_count": 96,
   "id": "757f7309-6091-4133-ad84-e7df6091d307",
   "metadata": {},
   "outputs": [
    {
     "data": {
      "text/plain": [
       "GradientBoostingRegressor(learning_rate=0.08249999999999999, max_depth=10,\n",
       "                          max_features=0.6000000000000001, min_samples_leaf=8,\n",
       "                          min_samples_split=10, n_estimators=118)"
      ]
     },
     "execution_count": 96,
     "metadata": {},
     "output_type": "execute_result"
    }
   ],
   "source": [
    "grd_Boost.best_estimator_"
   ]
  },
  {
   "cell_type": "code",
   "execution_count": 97,
   "id": "0b6be990-149c-47d6-bf04-459e49784baa",
   "metadata": {},
   "outputs": [
    {
     "data": {
      "text/plain": [
       "GradientBoostingRegressor(learning_rate=0.08249999999999999, max_depth=10,\n",
       "                          max_features=0.6000000000000001, min_samples_leaf=8,\n",
       "                          min_samples_split=6, n_estimators=118,\n",
       "                          random_state=1)"
      ]
     },
     "execution_count": 97,
     "metadata": {},
     "output_type": "execute_result"
    }
   ],
   "source": [
    "grd_Boost2.best_estimator_"
   ]
  },
  {
   "cell_type": "code",
   "execution_count": 98,
   "id": "a7a1f682-9605-4e8b-8cd7-7f4bfd5059c3",
   "metadata": {},
   "outputs": [],
   "source": [
    "GRD_Boost= grd_Boost.best_estimator_"
   ]
  },
  {
   "cell_type": "code",
   "execution_count": 99,
   "id": "bbed36b7-5e9d-4a97-8d82-43cfd1f034d4",
   "metadata": {},
   "outputs": [],
   "source": [
    "GRD_Boost2= grd_Boost2.best_estimator_"
   ]
  },
  {
   "cell_type": "code",
   "execution_count": 100,
   "id": "551ecd5d",
   "metadata": {},
   "outputs": [
    {
     "name": "stdout",
     "output_type": "stream",
     "text": [
      "MAE: 1.1519509741538532\n",
      "MSE: 3.322830358211789\n",
      "RMSE: 1.8228632308025166\n",
      "R2 Square 0.9628884176280091\n",
      "__________________________________\n",
      "MAE: 0.1853471175132328\n",
      "MSE: 0.10111564274350664\n",
      "RMSE: 0.317986859388099\n",
      "R2 Square 0.9988902086434972\n",
      "__________________________________\n"
     ]
    }
   ],
   "source": [
    "predicted_train = GRD_Boost.predict(X_train_imput_scale)\n",
    "predicted_test = GRD_Boost.predict(X_test_imput_scale)\n",
    "model_eval(y_test, predicted_test)\n",
    "model_eval(y_train, predicted_train)"
   ]
  },
  {
   "cell_type": "code",
   "execution_count": 101,
   "id": "f7780ee7-1ef1-47d6-bf2a-e5113a0844f9",
   "metadata": {},
   "outputs": [
    {
     "name": "stdout",
     "output_type": "stream",
     "text": [
      "MAE: 1.1524694564048448\n",
      "MSE: 3.42181058493487\n",
      "RMSE: 1.8498136622197572\n",
      "R2 Square 0.9617829405373253\n",
      "__________________________________\n",
      "MAE: 0.18419439450246006\n",
      "MSE: 0.09993145286042204\n",
      "RMSE: 0.3161193648931081\n",
      "R2 Square 0.9989032056799699\n",
      "__________________________________\n"
     ]
    }
   ],
   "source": [
    "predicted_train = GRD_Boost2.predict(X_train_imput_scale)\n",
    "predicted_test = GRD_Boost2.predict(X_test_imput_scale)\n",
    "model_eval(y_test, predicted_test)\n",
    "model_eval(y_train, predicted_train)"
   ]
  },
  {
   "cell_type": "markdown",
   "id": "0edb2a8a-144b-4229-bc94-639246c8e528",
   "metadata": {},
   "source": [
    "#### XGBoost regression model"
   ]
  },
  {
   "cell_type": "code",
   "execution_count": 102,
   "id": "95dc3914",
   "metadata": {},
   "outputs": [
    {
     "data": {
      "text/plain": [
       "XGBRegressor(base_score=0.5, booster='gbtree', colsample_bylevel=1,\n",
       "             colsample_bynode=1, colsample_bytree=1, enable_categorical=False,\n",
       "             gamma=0, gpu_id=-1, importance_type=None,\n",
       "             interaction_constraints='', learning_rate=0.04, max_delta_step=0,\n",
       "             max_depth=5, min_child_weight=1, missing=nan,\n",
       "             monotone_constraints='()', n_estimators=200, n_jobs=-1,\n",
       "             num_parallel_tree=1, predictor='auto', random_state=0, reg_alpha=0,\n",
       "             reg_lambda=1, scale_pos_weight=1, subsample=1, tree_method='exact',\n",
       "             validate_parameters=1, verbosity=None)"
      ]
     },
     "execution_count": 102,
     "metadata": {},
     "output_type": "execute_result"
    }
   ],
   "source": [
    "xgbr = xgb.XGBRegressor(objective='reg:squarederror',  learning_rate= 0.04, max_depth=5,\n",
    "                       n_estimators= 200, n_jobs=-1 )\n",
    "xgbr.fit(X_train_imput_scale, y_train)"
   ]
  },
  {
   "cell_type": "code",
   "execution_count": 103,
   "id": "f43bbd52-00ca-4562-b606-b2464233bae2",
   "metadata": {},
   "outputs": [
    {
     "name": "stdout",
     "output_type": "stream",
     "text": [
      "MAE: 1.3775824059669748\n",
      "MSE: 4.108904976811688\n",
      "RMSE: 2.0270434077275428\n",
      "R2 Square 0.954109012779186\n",
      "__________________________________\n",
      "MAE: 0.8634313863565307\n",
      "MSE: 1.4860088169722818\n",
      "RMSE: 1.2190196130383963\n",
      "R2 Square 0.9836903599085437\n",
      "__________________________________\n"
     ]
    }
   ],
   "source": [
    "predicted_train = xgbr.predict(X_train_imput_scale)\n",
    "predicted_test = xgbr.predict(X_test_imput_scale)\n",
    "model_eval(y_test, predicted_test)\n",
    "model_eval(y_train, predicted_train)"
   ]
  },
  {
   "cell_type": "code",
   "execution_count": null,
   "id": "4a68a527-b95e-4b48-9693-b455514f2130",
   "metadata": {},
   "outputs": [],
   "source": []
  },
  {
   "cell_type": "markdown",
   "id": "b2755d22",
   "metadata": {},
   "source": [
    "### 7. Mix of model, which model to select for ensemble model"
   ]
  },
  {
   "cell_type": "code",
   "execution_count": 104,
   "id": "ad6be2d6",
   "metadata": {},
   "outputs": [],
   "source": [
    "alg= [RandomForestRegressor(), AdaBoostRegressor(), GradientBoostingRegressor(), \n",
    "      DecisionTreeRegressor(), LinearRegression(), SVR(), LassoCV()]"
   ]
  },
  {
   "cell_type": "code",
   "execution_count": 105,
   "id": "a6a86612",
   "metadata": {
    "scrolled": true
   },
   "outputs": [
    {
     "name": "stdout",
     "output_type": "stream",
     "text": [
      "MAE: 0.447366520253783\n",
      "MSE: 0.5344969038555403\n",
      "RMSE: 0.7310929515838189\n",
      "R2 Square 0.9941336471006658\n",
      "__________________________________\n",
      "RandomForestRegressor() None\n",
      "**************************************************\n",
      "MAE: 1.2142571103526745\n",
      "MSE: 3.6069591171786106\n",
      "RMSE: 1.899199599088682\n",
      "R2 Square 0.9597150784244023\n",
      "__________________________________\n",
      "RandomForestRegressor() None\n",
      "======================================================================\n",
      "MAE: 2.2679967590507166\n",
      "MSE: 8.020393976693041\n",
      "RMSE: 2.832030009850362\n",
      "R2 Square 0.9119724340410915\n",
      "__________________________________\n",
      "AdaBoostRegressor() None\n",
      "**************************************************\n",
      "MAE: 2.3872598083970624\n",
      "MSE: 9.2487480626477\n",
      "RMSE: 3.041175440951689\n",
      "R2 Square 0.8967038221748233\n",
      "__________________________________\n",
      "AdaBoostRegressor() None\n",
      "======================================================================\n",
      "MAE: 1.2688477169502397\n",
      "MSE: 3.138630222141117\n",
      "RMSE: 1.7716179673228416\n",
      "R2 Square 0.9655520689254135\n",
      "__________________________________\n",
      "GradientBoostingRegressor() None\n",
      "**************************************************\n",
      "MAE: 1.5903169898478686\n",
      "MSE: 5.245889617735441\n",
      "RMSE: 2.290390712899317\n",
      "R2 Square 0.941410411102741\n",
      "__________________________________\n",
      "GradientBoostingRegressor() None\n",
      "======================================================================\n",
      "MAE: 0.0\n",
      "MSE: 0.0\n",
      "RMSE: 0.0\n",
      "R2 Square 1.0\n",
      "__________________________________\n",
      "DecisionTreeRegressor() None\n",
      "**************************************************\n",
      "MAE: 1.596473265073948\n",
      "MSE: 6.841831626848693\n",
      "RMSE: 2.6156895126999866\n",
      "R2 Square 0.9235858678829058\n",
      "__________________________________\n",
      "DecisionTreeRegressor() None\n",
      "======================================================================\n",
      "MAE: 2.434775909811917\n",
      "MSE: 10.828904220747127\n",
      "RMSE: 3.290730043736059\n",
      "R2 Square 0.8811477237496554\n",
      "__________________________________\n",
      "LinearRegression() None\n",
      "**************************************************\n",
      "MAE: 2.420807821357944\n",
      "MSE: 11.091517850918448\n",
      "RMSE: 3.3303930475123273\n",
      "R2 Square 0.8761225419355185\n",
      "__________________________________\n",
      "LinearRegression() None\n",
      "======================================================================\n",
      "MAE: 2.158588300556555\n",
      "MSE: 10.733379339936306\n",
      "RMSE: 3.2761836547935324\n",
      "R2 Square 0.8821961538854727\n",
      "__________________________________\n",
      "SVR() None\n",
      "**************************************************\n",
      "MAE: 2.303917601686381\n",
      "MSE: 11.612188136684752\n",
      "RMSE: 3.4076660835071197\n",
      "R2 Square 0.8703073494291931\n",
      "__________________________________\n",
      "SVR() None\n",
      "======================================================================\n",
      "MAE: 2.4479086565974533\n",
      "MSE: 10.887326734043809\n",
      "RMSE: 3.2995949348433373\n",
      "R2 Square 0.880506509408109\n",
      "__________________________________\n",
      "LassoCV() None\n",
      "**************************************************\n",
      "MAE: 2.423830408318667\n",
      "MSE: 11.064691762906973\n",
      "RMSE: 3.326363143570914\n",
      "R2 Square 0.8764221535520117\n",
      "__________________________________\n",
      "LassoCV() None\n",
      "======================================================================\n"
     ]
    }
   ],
   "source": [
    "for i in alg:\n",
    "    model= i\n",
    "    model.fit(X_train_imput_scale, y_train)\n",
    "    y_pred1= model.predict(X_test_imput_scale)\n",
    "    y_pred2= model.predict(X_train_imput_scale)\n",
    "    print(i, model_eval(y_train, y_pred2))\n",
    "    print(\"*\"*50)\n",
    "    print(i, model_eval(y_test, y_pred1))\n",
    "    print(\"=\"*70)"
   ]
  },
  {
   "cell_type": "code",
   "execution_count": null,
   "id": "482f280b",
   "metadata": {},
   "outputs": [],
   "source": []
  },
  {
   "cell_type": "markdown",
   "id": "179fee94",
   "metadata": {},
   "source": [
    "### 7. Ensemble learning model  "
   ]
  },
  {
   "cell_type": "code",
   "execution_count": 106,
   "id": "d1441757",
   "metadata": {
    "scrolled": true
   },
   "outputs": [
    {
     "data": {
      "text/plain": [
       "VotingRegressor(estimators=[('gb', GradientBoostingRegressor(random_state=47)),\n",
       "                            ('rf', RandomForestRegressor(random_state=47)),\n",
       "                            ('lr', LinearRegression())])"
      ]
     },
     "execution_count": 106,
     "metadata": {},
     "output_type": "execute_result"
    }
   ],
   "source": [
    "# Train classifiers\n",
    "reg1 = GradientBoostingRegressor(random_state=47)\n",
    "reg2 = RandomForestRegressor(random_state=47)\n",
    "reg3 = LinearRegression()\n",
    "\n",
    "reg1.fit( X_train_imput_scale , y_train)\n",
    "reg2.fit( X_train_imput_scale , y_train)\n",
    "reg3.fit( X_train_imput_scale , y_train)\n",
    "\n",
    "voting = VotingRegressor([(\"gb\", reg1), (\"rf\", reg2), (\"lr\", reg3)])\n",
    "voting.fit( X_train_imput_scale , y_train)"
   ]
  },
  {
   "cell_type": "code",
   "execution_count": 107,
   "id": "f3954c78",
   "metadata": {},
   "outputs": [
    {
     "name": "stdout",
     "output_type": "stream",
     "text": [
      "MAE: 1.5809302666019538\n",
      "MSE: 5.266566581949897\n",
      "RMSE: 2.294900124613247\n",
      "R2 Square 0.9411794769959935\n",
      "__________________________________\n",
      "MAE: 1.2555381272155004\n",
      "MSE: 3.1226055073896832\n",
      "RMSE: 1.7670895583952964\n",
      "R2 Square 0.9657279476464407\n",
      "__________________________________\n"
     ]
    }
   ],
   "source": [
    "predicted_train = voting.predict(X_train_imput_scale)\n",
    "predicted_test = voting.predict(X_test_imput_scale)\n",
    "model_eval(y_test, predicted_test)\n",
    "model_eval(y_train, predicted_train)"
   ]
  },
  {
   "cell_type": "code",
   "execution_count": 108,
   "id": "dcf6fdbb-6ad4-4311-9150-e49fcbdd2fdd",
   "metadata": {},
   "outputs": [],
   "source": [
    "#voting.get_params()"
   ]
  },
  {
   "cell_type": "code",
   "execution_count": null,
   "id": "c883f09a",
   "metadata": {},
   "outputs": [],
   "source": []
  },
  {
   "cell_type": "markdown",
   "id": "2f8507f1-0627-4b10-a70c-e99bb63d7252",
   "metadata": {},
   "source": [
    "### Selection of the best model"
   ]
  },
  {
   "cell_type": "code",
   "execution_count": 109,
   "id": "87f1d272",
   "metadata": {},
   "outputs": [],
   "source": [
    "models_liste = [lin_reg, lin_reg2, ridge_reg, Elastic_net, model_dt, rf_reg1, rf_reg2, rf_reg3, rf_reg4,\n",
    "               grdB, GRD_Boost,GRD_Boost2, xgbr, voting]"
   ]
  },
  {
   "cell_type": "code",
   "execution_count": 110,
   "id": "be26b95d-6d0a-421a-ad6d-3e4dad39b342",
   "metadata": {},
   "outputs": [],
   "source": [
    "#GRD_Boost2"
   ]
  },
  {
   "cell_type": "code",
   "execution_count": 111,
   "id": "b1bbdf7c",
   "metadata": {},
   "outputs": [
    {
     "name": "stdout",
     "output_type": "stream",
     "text": [
      "Pipeline(steps=[('iterativeimputer', IterativeImputer()),\n",
      "                ('standardscaler', StandardScaler()),\n",
      "                ('selectkbest',\n",
      "                 SelectKBest(k=20,\n",
      "                             score_func=<function f_regression at 0x00000264CF6FFC10>)),\n",
      "                ('linearregression', LinearRegression())])\n",
      "EVALUATION FOR TRAINING DATA SET\n",
      "MAE: 2.435270080792682\n",
      "MSE: 10.83356220569479\n",
      "RMSE: 3.291437711045857\n",
      "R2 Square 0.881096600191585\n",
      "__________________________________\n",
      "None\n",
      "**************************************************\n",
      "EVALUATION FOR TESTING DATA SET\n",
      "MAE: 2.4212886814180403\n",
      "MSE: 11.085552730875424\n",
      "RMSE: 3.329497369104746\n",
      "R2 Square 0.876189164368797\n",
      "__________________________________\n",
      "None\n",
      "======================================================================\n",
      "Pipeline(steps=[('iterativeimputer', IterativeImputer()),\n",
      "                ('standardscaler', StandardScaler()),\n",
      "                ('pca', PCA(n_components=19)),\n",
      "                ('linearregression', LinearRegression())])\n",
      "EVALUATION FOR TRAINING DATA SET\n",
      "MAE: 2.7194090027919087\n",
      "MSE: 12.856261217066843\n",
      "RMSE: 3.5855628870606693\n",
      "R2 Square 0.8588965348137508\n",
      "__________________________________\n",
      "None\n",
      "**************************************************\n",
      "EVALUATION FOR TESTING DATA SET\n",
      "MAE: 2.675249479702949\n",
      "MSE: 12.880212035486206\n",
      "RMSE: 3.5889012295528846\n",
      "R2 Square 0.8561452140515242\n",
      "__________________________________\n",
      "None\n",
      "======================================================================\n",
      "Pipeline(steps=[('iterativeimputer', IterativeImputer()),\n",
      "                ('standardscaler', StandardScaler()),\n",
      "                ('ridge', Ridge(alpha=0.5))])\n",
      "EVALUATION FOR TRAINING DATA SET\n",
      "MAE: 2.436158911517165\n",
      "MSE: 10.830899456128812\n",
      "RMSE: 3.2910331897640916\n",
      "R2 Square 0.8811258251104271\n",
      "__________________________________\n",
      "None\n",
      "**************************************************\n",
      "EVALUATION FOR TESTING DATA SET\n",
      "MAE: 2.419506794751066\n",
      "MSE: 11.080545925998873\n",
      "RMSE: 3.3287453981941715\n",
      "R2 Square 0.8762450837000796\n",
      "__________________________________\n",
      "None\n",
      "======================================================================\n",
      "ElasticNet(alpha=0.0001, l1_ratio=0.4)\n",
      "EVALUATION FOR TRAINING DATA SET\n",
      "MAE: 2.435186839332167\n",
      "MSE: 10.829141305545864\n",
      "RMSE: 3.2907660666698666\n",
      "R2 Square 0.881145121633373\n",
      "__________________________________\n",
      "None\n",
      "**************************************************\n",
      "EVALUATION FOR TESTING DATA SET\n",
      "MAE: 2.420088282485302\n",
      "MSE: 11.087236463584864\n",
      "RMSE: 3.329750210388891\n",
      "R2 Square 0.8761703593205693\n",
      "__________________________________\n",
      "None\n",
      "======================================================================\n",
      "DecisionTreeRegressor(max_depth=4, max_features=0.2, min_samples_leaf=0.1,\n",
      "                      random_state=1)\n",
      "EVALUATION FOR TRAINING DATA SET\n",
      "MAE: 3.6766344533719293\n",
      "MSE: 23.010452650562694\n",
      "RMSE: 4.796921163680167\n",
      "R2 Square 0.7474495462033497\n",
      "__________________________________\n",
      "None\n",
      "**************************************************\n",
      "EVALUATION FOR TESTING DATA SET\n",
      "MAE: 3.9071967857517733\n",
      "MSE: 27.131060903630484\n",
      "RMSE: 5.2087484968685605\n",
      "R2 Square 0.696982243142126\n",
      "__________________________________\n",
      "None\n",
      "======================================================================\n",
      "RandomForestRegressor(max_depth=4, max_features=0.4, n_estimators=200,\n",
      "                      n_jobs=-1, random_state=1)\n",
      "EVALUATION FOR TRAINING DATA SET\n",
      "MAE: 1.9806380039566067\n",
      "MSE: 7.391979562657917\n",
      "RMSE: 2.718819516381681\n",
      "R2 Square 0.9188695754336162\n",
      "__________________________________\n",
      "None\n",
      "**************************************************\n",
      "EVALUATION FOR TESTING DATA SET\n",
      "MAE: 2.0798834914297673\n",
      "MSE: 8.354804191402206\n",
      "RMSE: 2.890467815320248\n",
      "R2 Square 0.9066879826757275\n",
      "__________________________________\n",
      "None\n",
      "======================================================================\n",
      "RandomForestRegressor(max_depth=10, max_features=0.4, n_estimators=200,\n",
      "                      n_jobs=-1, random_state=1)\n",
      "EVALUATION FOR TRAINING DATA SET\n",
      "MAE: 0.755795821719234\n",
      "MSE: 1.2251327362814532\n",
      "RMSE: 1.1068571435742975\n",
      "R2 Square 0.9865535966107365\n",
      "__________________________________\n",
      "None\n",
      "**************************************************\n",
      "EVALUATION FOR TESTING DATA SET\n",
      "MAE: 1.348903715319932\n",
      "MSE: 4.03797906285001\n",
      "RMSE: 2.0094723344326018\n",
      "R2 Square 0.9549011606213991\n",
      "__________________________________\n",
      "None\n",
      "======================================================================\n",
      "RandomForestRegressor(max_depth=7, max_features=0.3, n_jobs=-1, random_state=1)\n",
      "EVALUATION FOR TRAINING DATA SET\n",
      "MAE: 1.3116043430038706\n",
      "MSE: 3.3201912144371932\n",
      "RMSE: 1.8221391863513592\n",
      "R2 Square 0.9635593523242899\n",
      "__________________________________\n",
      "None\n",
      "**************************************************\n",
      "EVALUATION FOR TESTING DATA SET\n",
      "MAE: 1.6356661799477747\n",
      "MSE: 5.450426307247206\n",
      "RMSE: 2.334614809180993\n",
      "R2 Square 0.9391260091373651\n",
      "__________________________________\n",
      "None\n",
      "======================================================================\n",
      "RandomForestRegressor(max_depth=8, max_features=0.6, n_estimators=200,\n",
      "                      random_state=1)\n",
      "EVALUATION FOR TRAINING DATA SET\n",
      "MAE: 0.9869440578810267\n",
      "MSE: 2.0130210826019947\n",
      "RMSE: 1.4188097415094085\n",
      "R2 Square 0.9779061544058358\n",
      "__________________________________\n",
      "None\n",
      "**************************************************\n",
      "EVALUATION FOR TESTING DATA SET\n",
      "MAE: 1.439830494690462\n",
      "MSE: 4.468102721716352\n",
      "RMSE: 2.113788712647589\n",
      "R2 Square 0.950097253146342\n",
      "__________________________________\n",
      "None\n",
      "======================================================================\n",
      "GradientBoostingRegressor(n_estimators=150, random_state=1)\n",
      "EVALUATION FOR TRAINING DATA SET\n",
      "MAE: 1.1459256178294823\n",
      "MSE: 2.5811680572595215\n",
      "RMSE: 1.6066013996195576\n",
      "R2 Square 0.9716704762793804\n",
      "__________________________________\n",
      "None\n",
      "**************************************************\n",
      "EVALUATION FOR TESTING DATA SET\n",
      "MAE: 1.547262265790735\n",
      "MSE: 4.977193003181032\n",
      "RMSE: 2.2309623491177595\n",
      "R2 Square 0.9444113938400835\n",
      "__________________________________\n",
      "None\n",
      "======================================================================\n",
      "GradientBoostingRegressor(learning_rate=0.08249999999999999, max_depth=10,\n",
      "                          max_features=0.6000000000000001, min_samples_leaf=8,\n",
      "                          min_samples_split=10, n_estimators=118)\n",
      "EVALUATION FOR TRAINING DATA SET\n",
      "MAE: 0.1853471175132328\n",
      "MSE: 0.10111564274350664\n",
      "RMSE: 0.317986859388099\n",
      "R2 Square 0.9988902086434972\n",
      "__________________________________\n",
      "None\n",
      "**************************************************\n",
      "EVALUATION FOR TESTING DATA SET\n",
      "MAE: 1.1519509741538532\n",
      "MSE: 3.322830358211789\n",
      "RMSE: 1.8228632308025166\n",
      "R2 Square 0.9628884176280091\n",
      "__________________________________\n",
      "None\n",
      "======================================================================\n",
      "GradientBoostingRegressor(learning_rate=0.08249999999999999, max_depth=10,\n",
      "                          max_features=0.6000000000000001, min_samples_leaf=8,\n",
      "                          min_samples_split=6, n_estimators=118,\n",
      "                          random_state=1)\n",
      "EVALUATION FOR TRAINING DATA SET\n",
      "MAE: 0.18419439450246006\n",
      "MSE: 0.09993145286042204\n",
      "RMSE: 0.3161193648931081\n",
      "R2 Square 0.9989032056799699\n",
      "__________________________________\n",
      "None\n",
      "**************************************************\n",
      "EVALUATION FOR TESTING DATA SET\n",
      "MAE: 1.1524694564048448\n",
      "MSE: 3.42181058493487\n",
      "RMSE: 1.8498136622197572\n",
      "R2 Square 0.9617829405373253\n",
      "__________________________________\n",
      "None\n",
      "======================================================================\n",
      "XGBRegressor(base_score=0.5, booster='gbtree', colsample_bylevel=1,\n",
      "             colsample_bynode=1, colsample_bytree=1, enable_categorical=False,\n",
      "             gamma=0, gpu_id=-1, importance_type=None,\n",
      "             interaction_constraints='', learning_rate=0.04, max_delta_step=0,\n",
      "             max_depth=5, min_child_weight=1, missing=nan,\n",
      "             monotone_constraints='()', n_estimators=200, n_jobs=-1,\n",
      "             num_parallel_tree=1, predictor='auto', random_state=0, reg_alpha=0,\n",
      "             reg_lambda=1, scale_pos_weight=1, subsample=1, tree_method='exact',\n",
      "             validate_parameters=1, verbosity=None)\n",
      "EVALUATION FOR TRAINING DATA SET\n",
      "MAE: 0.8634313863565307\n",
      "MSE: 1.4860088169722818\n",
      "RMSE: 1.2190196130383963\n",
      "R2 Square 0.9836903599085437\n",
      "__________________________________\n",
      "None\n",
      "**************************************************\n",
      "EVALUATION FOR TESTING DATA SET\n",
      "MAE: 1.3775824059669748\n",
      "MSE: 4.108904976811688\n",
      "RMSE: 2.0270434077275428\n",
      "R2 Square 0.954109012779186\n",
      "__________________________________\n",
      "None\n",
      "======================================================================\n",
      "VotingRegressor(estimators=[('gb', GradientBoostingRegressor(random_state=47)),\n",
      "                            ('rf', RandomForestRegressor(random_state=47)),\n",
      "                            ('lr', LinearRegression())])\n",
      "EVALUATION FOR TRAINING DATA SET\n",
      "MAE: 1.2555381272155004\n",
      "MSE: 3.1226055073896832\n",
      "RMSE: 1.7670895583952964\n",
      "R2 Square 0.9657279476464407\n",
      "__________________________________\n",
      "None\n",
      "**************************************************\n",
      "EVALUATION FOR TESTING DATA SET\n",
      "MAE: 1.5809302666019538\n",
      "MSE: 5.266566581949897\n",
      "RMSE: 2.294900124613247\n",
      "R2 Square 0.9411794769959935\n",
      "__________________________________\n",
      "None\n",
      "======================================================================\n"
     ]
    }
   ],
   "source": [
    "for model in models_liste[0:3]:\n",
    "    model=model\n",
    "    y_pred1= model.predict(X_test)\n",
    "    y_pred2= model.predict(X_train)\n",
    "    print(model)\n",
    "    print('EVALUATION FOR TRAINING DATA SET')\n",
    "    print(model_eval(y_train, y_pred2))\n",
    "    print(\"*\"*50)\n",
    "    print('EVALUATION FOR TESTING DATA SET')    \n",
    "    print(model_eval(y_test, y_pred1))\n",
    "    print(\"=\"*70)\n",
    "for model in models_liste[3:]:\n",
    "    model=model\n",
    "    y_pred1= model.predict(X_test_imput_scale)\n",
    "    y_pred2= model.predict(X_train_imput_scale)\n",
    "    print(model)\n",
    "    print('EVALUATION FOR TRAINING DATA SET')\n",
    "    print(model_eval(y_train, y_pred2))\n",
    "    print(\"*\"*50)\n",
    "    print('EVALUATION FOR TESTING DATA SET')    \n",
    "    print(model_eval(y_test, y_pred1))\n",
    "    print(\"=\"*70)"
   ]
  },
  {
   "cell_type": "code",
   "execution_count": null,
   "id": "2d2c264d",
   "metadata": {},
   "outputs": [],
   "source": []
  },
  {
   "cell_type": "code",
   "execution_count": 112,
   "id": "a3c12171-90b8-43a3-b965-ffcae07b9e4c",
   "metadata": {},
   "outputs": [],
   "source": [
    "def model_eval_dict(true, predicted, model_list, MAE, MSE, RMSE, R2):  \n",
    "    mae = metrics.mean_absolute_error(true, predicted)\n",
    "    mse = metrics.mean_squared_error(true, predicted)\n",
    "    rmse = np.sqrt(metrics.mean_squared_error(true, predicted))\n",
    "    r2_square = metrics.r2_score(true, predicted)\n",
    "    MAE.append(mae)\n",
    "    MSE.append(mse)\n",
    "    RMSE.append(rmse)\n",
    "    R2.append(r2_square)\n",
    "    return MAE, MSE, RMSE, R2"
   ]
  },
  {
   "cell_type": "code",
   "execution_count": 113,
   "id": "ce474242-a942-480d-88be-17bd137a9345",
   "metadata": {},
   "outputs": [],
   "source": [
    "# evaluation  on train dataset"
   ]
  },
  {
   "cell_type": "code",
   "execution_count": 114,
   "id": "5ea93387-1be3-444b-948e-0e9487e6c377",
   "metadata": {},
   "outputs": [],
   "source": [
    "models_liste = [lin_reg, lin_reg2, ridge_reg, Elastic_net, model_dt, rf_reg1, rf_reg2, rf_reg3, rf_reg4,\n",
    "               grdB, GRD_Boost,GRD_Boost2, xgbr, voting]\n",
    "\n",
    "MAE = []\n",
    "MSE = []\n",
    "RMSE = []\n",
    "R2 = []\n",
    "\n",
    "for model in models_liste:\n",
    "    if model in  models_liste[0:3]:\n",
    "        y_pred2= model.predict(X_train)\n",
    "        model_eval_dict(y_train, y_pred2, models_liste, MAE, MSE, RMSE, R2)   \n",
    "    if model in models_liste[3:]:\n",
    "        y_pred2= model.predict(X_train_imput_scale)\n",
    "        model_eval_dict(y_train, y_pred2, models_liste, MAE, MSE, RMSE, R2)"
   ]
  },
  {
   "cell_type": "code",
   "execution_count": 115,
   "id": "a4f18525-a1cf-4b19-b765-594f3e971457",
   "metadata": {},
   "outputs": [],
   "source": [
    "# compute the dataframe with the value\n",
    "models = ['linear_reg', 'linear_reg2', 'ridge_reg', 'Elastic_net', 'decision_tree', 'random_forest_reg1','random_forest_reg2', 'random_forest_reg3', 'random_forest_reg4',\n",
    "               'gradien_boost_1','gradien_boost_2', 'gradien_boost_3', 'XGBRegressor', 'voting']\n",
    "zipped = list(zip(models,models_liste,MAE, MSE, RMSE, R2))\n",
    "df_r1 = pd.DataFrame(zipped, columns=['model','model_definition','MAE_tr', 'MSE_tr', 'RMSE_tr', 'R2_tr'])"
   ]
  },
  {
   "cell_type": "code",
   "execution_count": 116,
   "id": "2292c7ba-4a21-4f9b-b9aa-a46f5f01e568",
   "metadata": {},
   "outputs": [
    {
     "data": {
      "text/html": [
       "<div>\n",
       "<style scoped>\n",
       "    .dataframe tbody tr th:only-of-type {\n",
       "        vertical-align: middle;\n",
       "    }\n",
       "\n",
       "    .dataframe tbody tr th {\n",
       "        vertical-align: top;\n",
       "    }\n",
       "\n",
       "    .dataframe thead th {\n",
       "        text-align: right;\n",
       "    }\n",
       "</style>\n",
       "<table border=\"1\" class=\"dataframe\">\n",
       "  <thead>\n",
       "    <tr style=\"text-align: right;\">\n",
       "      <th></th>\n",
       "      <th>model</th>\n",
       "      <th>model_definition</th>\n",
       "      <th>MAE_tr</th>\n",
       "      <th>MSE_tr</th>\n",
       "      <th>RMSE_tr</th>\n",
       "      <th>R2_tr</th>\n",
       "    </tr>\n",
       "  </thead>\n",
       "  <tbody>\n",
       "    <tr>\n",
       "      <th>0</th>\n",
       "      <td>linear_reg</td>\n",
       "      <td>(IterativeImputer(), StandardScaler(), SelectK...</td>\n",
       "      <td>2.435270</td>\n",
       "      <td>10.833562</td>\n",
       "      <td>3.291438</td>\n",
       "      <td>0.881097</td>\n",
       "    </tr>\n",
       "    <tr>\n",
       "      <th>1</th>\n",
       "      <td>linear_reg2</td>\n",
       "      <td>(IterativeImputer(), StandardScaler(), PCA(n_c...</td>\n",
       "      <td>2.719409</td>\n",
       "      <td>12.856261</td>\n",
       "      <td>3.585563</td>\n",
       "      <td>0.858897</td>\n",
       "    </tr>\n",
       "    <tr>\n",
       "      <th>2</th>\n",
       "      <td>ridge_reg</td>\n",
       "      <td>(IterativeImputer(), StandardScaler(), Ridge(a...</td>\n",
       "      <td>2.436159</td>\n",
       "      <td>10.830899</td>\n",
       "      <td>3.291033</td>\n",
       "      <td>0.881126</td>\n",
       "    </tr>\n",
       "    <tr>\n",
       "      <th>3</th>\n",
       "      <td>Elastic_net</td>\n",
       "      <td>ElasticNet(alpha=0.0001, l1_ratio=0.4)</td>\n",
       "      <td>2.435187</td>\n",
       "      <td>10.829141</td>\n",
       "      <td>3.290766</td>\n",
       "      <td>0.881145</td>\n",
       "    </tr>\n",
       "    <tr>\n",
       "      <th>4</th>\n",
       "      <td>decision_tree</td>\n",
       "      <td>DecisionTreeRegressor(max_depth=4, max_feature...</td>\n",
       "      <td>3.676634</td>\n",
       "      <td>23.010453</td>\n",
       "      <td>4.796921</td>\n",
       "      <td>0.747450</td>\n",
       "    </tr>\n",
       "    <tr>\n",
       "      <th>5</th>\n",
       "      <td>random_forest_reg1</td>\n",
       "      <td>(DecisionTreeRegressor(max_depth=4, max_featur...</td>\n",
       "      <td>1.980638</td>\n",
       "      <td>7.391980</td>\n",
       "      <td>2.718820</td>\n",
       "      <td>0.918870</td>\n",
       "    </tr>\n",
       "    <tr>\n",
       "      <th>6</th>\n",
       "      <td>random_forest_reg2</td>\n",
       "      <td>(DecisionTreeRegressor(max_depth=10, max_featu...</td>\n",
       "      <td>0.755796</td>\n",
       "      <td>1.225133</td>\n",
       "      <td>1.106857</td>\n",
       "      <td>0.986554</td>\n",
       "    </tr>\n",
       "    <tr>\n",
       "      <th>7</th>\n",
       "      <td>random_forest_reg3</td>\n",
       "      <td>(DecisionTreeRegressor(max_depth=7, max_featur...</td>\n",
       "      <td>1.311604</td>\n",
       "      <td>3.320191</td>\n",
       "      <td>1.822139</td>\n",
       "      <td>0.963559</td>\n",
       "    </tr>\n",
       "    <tr>\n",
       "      <th>8</th>\n",
       "      <td>random_forest_reg4</td>\n",
       "      <td>(DecisionTreeRegressor(max_depth=8, max_featur...</td>\n",
       "      <td>0.986944</td>\n",
       "      <td>2.013021</td>\n",
       "      <td>1.418810</td>\n",
       "      <td>0.977906</td>\n",
       "    </tr>\n",
       "    <tr>\n",
       "      <th>9</th>\n",
       "      <td>gradien_boost_1</td>\n",
       "      <td>([DecisionTreeRegressor(criterion='friedman_ms...</td>\n",
       "      <td>1.145926</td>\n",
       "      <td>2.581168</td>\n",
       "      <td>1.606601</td>\n",
       "      <td>0.971670</td>\n",
       "    </tr>\n",
       "    <tr>\n",
       "      <th>10</th>\n",
       "      <td>gradien_boost_2</td>\n",
       "      <td>([DecisionTreeRegressor(criterion='friedman_ms...</td>\n",
       "      <td>0.185347</td>\n",
       "      <td>0.101116</td>\n",
       "      <td>0.317987</td>\n",
       "      <td>0.998890</td>\n",
       "    </tr>\n",
       "    <tr>\n",
       "      <th>11</th>\n",
       "      <td>gradien_boost_3</td>\n",
       "      <td>([DecisionTreeRegressor(criterion='friedman_ms...</td>\n",
       "      <td>0.184194</td>\n",
       "      <td>0.099931</td>\n",
       "      <td>0.316119</td>\n",
       "      <td>0.998903</td>\n",
       "    </tr>\n",
       "    <tr>\n",
       "      <th>12</th>\n",
       "      <td>XGBRegressor</td>\n",
       "      <td>XGBRegressor(base_score=0.5, booster='gbtree',...</td>\n",
       "      <td>0.863431</td>\n",
       "      <td>1.486009</td>\n",
       "      <td>1.219020</td>\n",
       "      <td>0.983690</td>\n",
       "    </tr>\n",
       "    <tr>\n",
       "      <th>13</th>\n",
       "      <td>voting</td>\n",
       "      <td>VotingRegressor(estimators=[('gb', GradientBoo...</td>\n",
       "      <td>1.255538</td>\n",
       "      <td>3.122606</td>\n",
       "      <td>1.767090</td>\n",
       "      <td>0.965728</td>\n",
       "    </tr>\n",
       "  </tbody>\n",
       "</table>\n",
       "</div>"
      ],
      "text/plain": [
       "                 model                                   model_definition  \\\n",
       "0           linear_reg  (IterativeImputer(), StandardScaler(), SelectK...   \n",
       "1          linear_reg2  (IterativeImputer(), StandardScaler(), PCA(n_c...   \n",
       "2            ridge_reg  (IterativeImputer(), StandardScaler(), Ridge(a...   \n",
       "3          Elastic_net             ElasticNet(alpha=0.0001, l1_ratio=0.4)   \n",
       "4        decision_tree  DecisionTreeRegressor(max_depth=4, max_feature...   \n",
       "5   random_forest_reg1  (DecisionTreeRegressor(max_depth=4, max_featur...   \n",
       "6   random_forest_reg2  (DecisionTreeRegressor(max_depth=10, max_featu...   \n",
       "7   random_forest_reg3  (DecisionTreeRegressor(max_depth=7, max_featur...   \n",
       "8   random_forest_reg4  (DecisionTreeRegressor(max_depth=8, max_featur...   \n",
       "9      gradien_boost_1  ([DecisionTreeRegressor(criterion='friedman_ms...   \n",
       "10     gradien_boost_2  ([DecisionTreeRegressor(criterion='friedman_ms...   \n",
       "11     gradien_boost_3  ([DecisionTreeRegressor(criterion='friedman_ms...   \n",
       "12        XGBRegressor  XGBRegressor(base_score=0.5, booster='gbtree',...   \n",
       "13              voting  VotingRegressor(estimators=[('gb', GradientBoo...   \n",
       "\n",
       "      MAE_tr     MSE_tr   RMSE_tr     R2_tr  \n",
       "0   2.435270  10.833562  3.291438  0.881097  \n",
       "1   2.719409  12.856261  3.585563  0.858897  \n",
       "2   2.436159  10.830899  3.291033  0.881126  \n",
       "3   2.435187  10.829141  3.290766  0.881145  \n",
       "4   3.676634  23.010453  4.796921  0.747450  \n",
       "5   1.980638   7.391980  2.718820  0.918870  \n",
       "6   0.755796   1.225133  1.106857  0.986554  \n",
       "7   1.311604   3.320191  1.822139  0.963559  \n",
       "8   0.986944   2.013021  1.418810  0.977906  \n",
       "9   1.145926   2.581168  1.606601  0.971670  \n",
       "10  0.185347   0.101116  0.317987  0.998890  \n",
       "11  0.184194   0.099931  0.316119  0.998903  \n",
       "12  0.863431   1.486009  1.219020  0.983690  \n",
       "13  1.255538   3.122606  1.767090  0.965728  "
      ]
     },
     "execution_count": 116,
     "metadata": {},
     "output_type": "execute_result"
    }
   ],
   "source": [
    "df_r1"
   ]
  },
  {
   "cell_type": "code",
   "execution_count": 117,
   "id": "400b99b2-ad9b-42f7-abb1-b0e260b8d730",
   "metadata": {},
   "outputs": [],
   "source": [
    "# evaluation  on test dataset"
   ]
  },
  {
   "cell_type": "code",
   "execution_count": 118,
   "id": "6f113c03-3f69-434a-a336-332364062eca",
   "metadata": {},
   "outputs": [],
   "source": [
    "models_liste = [lin_reg, lin_reg2, ridge_reg, Elastic_net, model_dt, rf_reg1, rf_reg2, rf_reg3, rf_reg4,\n",
    "               grdB, GRD_Boost,GRD_Boost2, xgbr, voting]\n",
    "\n",
    "MAE = []\n",
    "MSE = []\n",
    "RMSE = []\n",
    "R2 = []\n",
    "\n",
    "for model in models_liste:\n",
    "    if model in  models_liste[0:3]:\n",
    "        y_pred1= model.predict(X_test)\n",
    "        model_eval_dict(y_test, y_pred1, models_liste, MAE, MSE, RMSE, R2)\n",
    "    \n",
    "    if model in models_liste[3:]:\n",
    "        y_pred1= model.predict(X_test_imput_scale)\n",
    "        model_eval_dict(y_test, y_pred1, models_liste, MAE, MSE, RMSE, R2)"
   ]
  },
  {
   "cell_type": "code",
   "execution_count": 119,
   "id": "449226e4-19f0-4175-a825-e8b8db649a30",
   "metadata": {},
   "outputs": [],
   "source": [
    "zipped = list(zip(MAE, MSE, RMSE, R2))\n",
    "df_r2 = pd.DataFrame(zipped, columns=['MAE_tt', 'MSE_tt', 'RMSE_tt', 'R2_tt'])"
   ]
  },
  {
   "cell_type": "code",
   "execution_count": 120,
   "id": "c90c410f-f7ff-44f9-adf4-3a3c6fffc5de",
   "metadata": {},
   "outputs": [
    {
     "data": {
      "text/html": [
       "<div>\n",
       "<style scoped>\n",
       "    .dataframe tbody tr th:only-of-type {\n",
       "        vertical-align: middle;\n",
       "    }\n",
       "\n",
       "    .dataframe tbody tr th {\n",
       "        vertical-align: top;\n",
       "    }\n",
       "\n",
       "    .dataframe thead th {\n",
       "        text-align: right;\n",
       "    }\n",
       "</style>\n",
       "<table border=\"1\" class=\"dataframe\">\n",
       "  <thead>\n",
       "    <tr style=\"text-align: right;\">\n",
       "      <th></th>\n",
       "      <th>MAE_tt</th>\n",
       "      <th>MSE_tt</th>\n",
       "      <th>RMSE_tt</th>\n",
       "      <th>R2_tt</th>\n",
       "    </tr>\n",
       "  </thead>\n",
       "  <tbody>\n",
       "    <tr>\n",
       "      <th>0</th>\n",
       "      <td>2.421289</td>\n",
       "      <td>11.085553</td>\n",
       "      <td>3.329497</td>\n",
       "      <td>0.876189</td>\n",
       "    </tr>\n",
       "    <tr>\n",
       "      <th>1</th>\n",
       "      <td>2.675249</td>\n",
       "      <td>12.880212</td>\n",
       "      <td>3.588901</td>\n",
       "      <td>0.856145</td>\n",
       "    </tr>\n",
       "    <tr>\n",
       "      <th>2</th>\n",
       "      <td>2.419507</td>\n",
       "      <td>11.080546</td>\n",
       "      <td>3.328745</td>\n",
       "      <td>0.876245</td>\n",
       "    </tr>\n",
       "    <tr>\n",
       "      <th>3</th>\n",
       "      <td>2.420088</td>\n",
       "      <td>11.087236</td>\n",
       "      <td>3.329750</td>\n",
       "      <td>0.876170</td>\n",
       "    </tr>\n",
       "    <tr>\n",
       "      <th>4</th>\n",
       "      <td>3.907197</td>\n",
       "      <td>27.131061</td>\n",
       "      <td>5.208748</td>\n",
       "      <td>0.696982</td>\n",
       "    </tr>\n",
       "    <tr>\n",
       "      <th>5</th>\n",
       "      <td>2.079883</td>\n",
       "      <td>8.354804</td>\n",
       "      <td>2.890468</td>\n",
       "      <td>0.906688</td>\n",
       "    </tr>\n",
       "    <tr>\n",
       "      <th>6</th>\n",
       "      <td>1.348904</td>\n",
       "      <td>4.037979</td>\n",
       "      <td>2.009472</td>\n",
       "      <td>0.954901</td>\n",
       "    </tr>\n",
       "    <tr>\n",
       "      <th>7</th>\n",
       "      <td>1.635666</td>\n",
       "      <td>5.450426</td>\n",
       "      <td>2.334615</td>\n",
       "      <td>0.939126</td>\n",
       "    </tr>\n",
       "    <tr>\n",
       "      <th>8</th>\n",
       "      <td>1.439830</td>\n",
       "      <td>4.468103</td>\n",
       "      <td>2.113789</td>\n",
       "      <td>0.950097</td>\n",
       "    </tr>\n",
       "    <tr>\n",
       "      <th>9</th>\n",
       "      <td>1.547262</td>\n",
       "      <td>4.977193</td>\n",
       "      <td>2.230962</td>\n",
       "      <td>0.944411</td>\n",
       "    </tr>\n",
       "    <tr>\n",
       "      <th>10</th>\n",
       "      <td>1.151951</td>\n",
       "      <td>3.322830</td>\n",
       "      <td>1.822863</td>\n",
       "      <td>0.962888</td>\n",
       "    </tr>\n",
       "    <tr>\n",
       "      <th>11</th>\n",
       "      <td>1.152469</td>\n",
       "      <td>3.421811</td>\n",
       "      <td>1.849814</td>\n",
       "      <td>0.961783</td>\n",
       "    </tr>\n",
       "    <tr>\n",
       "      <th>12</th>\n",
       "      <td>1.377582</td>\n",
       "      <td>4.108905</td>\n",
       "      <td>2.027043</td>\n",
       "      <td>0.954109</td>\n",
       "    </tr>\n",
       "    <tr>\n",
       "      <th>13</th>\n",
       "      <td>1.580930</td>\n",
       "      <td>5.266567</td>\n",
       "      <td>2.294900</td>\n",
       "      <td>0.941179</td>\n",
       "    </tr>\n",
       "  </tbody>\n",
       "</table>\n",
       "</div>"
      ],
      "text/plain": [
       "      MAE_tt     MSE_tt   RMSE_tt     R2_tt\n",
       "0   2.421289  11.085553  3.329497  0.876189\n",
       "1   2.675249  12.880212  3.588901  0.856145\n",
       "2   2.419507  11.080546  3.328745  0.876245\n",
       "3   2.420088  11.087236  3.329750  0.876170\n",
       "4   3.907197  27.131061  5.208748  0.696982\n",
       "5   2.079883   8.354804  2.890468  0.906688\n",
       "6   1.348904   4.037979  2.009472  0.954901\n",
       "7   1.635666   5.450426  2.334615  0.939126\n",
       "8   1.439830   4.468103  2.113789  0.950097\n",
       "9   1.547262   4.977193  2.230962  0.944411\n",
       "10  1.151951   3.322830  1.822863  0.962888\n",
       "11  1.152469   3.421811  1.849814  0.961783\n",
       "12  1.377582   4.108905  2.027043  0.954109\n",
       "13  1.580930   5.266567  2.294900  0.941179"
      ]
     },
     "execution_count": 120,
     "metadata": {},
     "output_type": "execute_result"
    }
   ],
   "source": [
    "df_r2"
   ]
  },
  {
   "cell_type": "code",
   "execution_count": 121,
   "id": "d3e6edc0-c9a1-4397-98c6-9f0b93931a3e",
   "metadata": {
    "tags": []
   },
   "outputs": [
    {
     "data": {
      "text/html": [
       "<div>\n",
       "<style scoped>\n",
       "    .dataframe tbody tr th:only-of-type {\n",
       "        vertical-align: middle;\n",
       "    }\n",
       "\n",
       "    .dataframe tbody tr th {\n",
       "        vertical-align: top;\n",
       "    }\n",
       "\n",
       "    .dataframe thead th {\n",
       "        text-align: right;\n",
       "    }\n",
       "</style>\n",
       "<table border=\"1\" class=\"dataframe\">\n",
       "  <thead>\n",
       "    <tr style=\"text-align: right;\">\n",
       "      <th></th>\n",
       "      <th>model</th>\n",
       "      <th>model_definition</th>\n",
       "      <th>MAE_tr</th>\n",
       "      <th>MSE_tr</th>\n",
       "      <th>RMSE_tr</th>\n",
       "      <th>R2_tr</th>\n",
       "      <th>MAE_tt</th>\n",
       "      <th>MSE_tt</th>\n",
       "      <th>RMSE_tt</th>\n",
       "      <th>R2_tt</th>\n",
       "    </tr>\n",
       "  </thead>\n",
       "  <tbody>\n",
       "    <tr>\n",
       "      <th>0</th>\n",
       "      <td>linear_reg</td>\n",
       "      <td>(IterativeImputer(), StandardScaler(), SelectK...</td>\n",
       "      <td>2.435270</td>\n",
       "      <td>10.833562</td>\n",
       "      <td>3.291438</td>\n",
       "      <td>0.881097</td>\n",
       "      <td>2.421289</td>\n",
       "      <td>11.085553</td>\n",
       "      <td>3.329497</td>\n",
       "      <td>0.876189</td>\n",
       "    </tr>\n",
       "    <tr>\n",
       "      <th>1</th>\n",
       "      <td>linear_reg2</td>\n",
       "      <td>(IterativeImputer(), StandardScaler(), PCA(n_c...</td>\n",
       "      <td>2.719409</td>\n",
       "      <td>12.856261</td>\n",
       "      <td>3.585563</td>\n",
       "      <td>0.858897</td>\n",
       "      <td>2.675249</td>\n",
       "      <td>12.880212</td>\n",
       "      <td>3.588901</td>\n",
       "      <td>0.856145</td>\n",
       "    </tr>\n",
       "    <tr>\n",
       "      <th>2</th>\n",
       "      <td>ridge_reg</td>\n",
       "      <td>(IterativeImputer(), StandardScaler(), Ridge(a...</td>\n",
       "      <td>2.436159</td>\n",
       "      <td>10.830899</td>\n",
       "      <td>3.291033</td>\n",
       "      <td>0.881126</td>\n",
       "      <td>2.419507</td>\n",
       "      <td>11.080546</td>\n",
       "      <td>3.328745</td>\n",
       "      <td>0.876245</td>\n",
       "    </tr>\n",
       "    <tr>\n",
       "      <th>3</th>\n",
       "      <td>Elastic_net</td>\n",
       "      <td>ElasticNet(alpha=0.0001, l1_ratio=0.4)</td>\n",
       "      <td>2.435187</td>\n",
       "      <td>10.829141</td>\n",
       "      <td>3.290766</td>\n",
       "      <td>0.881145</td>\n",
       "      <td>2.420088</td>\n",
       "      <td>11.087236</td>\n",
       "      <td>3.329750</td>\n",
       "      <td>0.876170</td>\n",
       "    </tr>\n",
       "    <tr>\n",
       "      <th>4</th>\n",
       "      <td>decision_tree</td>\n",
       "      <td>DecisionTreeRegressor(max_depth=4, max_feature...</td>\n",
       "      <td>3.676634</td>\n",
       "      <td>23.010453</td>\n",
       "      <td>4.796921</td>\n",
       "      <td>0.747450</td>\n",
       "      <td>3.907197</td>\n",
       "      <td>27.131061</td>\n",
       "      <td>5.208748</td>\n",
       "      <td>0.696982</td>\n",
       "    </tr>\n",
       "    <tr>\n",
       "      <th>5</th>\n",
       "      <td>random_forest_reg1</td>\n",
       "      <td>(DecisionTreeRegressor(max_depth=4, max_featur...</td>\n",
       "      <td>1.980638</td>\n",
       "      <td>7.391980</td>\n",
       "      <td>2.718820</td>\n",
       "      <td>0.918870</td>\n",
       "      <td>2.079883</td>\n",
       "      <td>8.354804</td>\n",
       "      <td>2.890468</td>\n",
       "      <td>0.906688</td>\n",
       "    </tr>\n",
       "    <tr>\n",
       "      <th>6</th>\n",
       "      <td>random_forest_reg2</td>\n",
       "      <td>(DecisionTreeRegressor(max_depth=10, max_featu...</td>\n",
       "      <td>0.755796</td>\n",
       "      <td>1.225133</td>\n",
       "      <td>1.106857</td>\n",
       "      <td>0.986554</td>\n",
       "      <td>1.348904</td>\n",
       "      <td>4.037979</td>\n",
       "      <td>2.009472</td>\n",
       "      <td>0.954901</td>\n",
       "    </tr>\n",
       "    <tr>\n",
       "      <th>7</th>\n",
       "      <td>random_forest_reg3</td>\n",
       "      <td>(DecisionTreeRegressor(max_depth=7, max_featur...</td>\n",
       "      <td>1.311604</td>\n",
       "      <td>3.320191</td>\n",
       "      <td>1.822139</td>\n",
       "      <td>0.963559</td>\n",
       "      <td>1.635666</td>\n",
       "      <td>5.450426</td>\n",
       "      <td>2.334615</td>\n",
       "      <td>0.939126</td>\n",
       "    </tr>\n",
       "    <tr>\n",
       "      <th>8</th>\n",
       "      <td>random_forest_reg4</td>\n",
       "      <td>(DecisionTreeRegressor(max_depth=8, max_featur...</td>\n",
       "      <td>0.986944</td>\n",
       "      <td>2.013021</td>\n",
       "      <td>1.418810</td>\n",
       "      <td>0.977906</td>\n",
       "      <td>1.439830</td>\n",
       "      <td>4.468103</td>\n",
       "      <td>2.113789</td>\n",
       "      <td>0.950097</td>\n",
       "    </tr>\n",
       "    <tr>\n",
       "      <th>9</th>\n",
       "      <td>gradien_boost_1</td>\n",
       "      <td>([DecisionTreeRegressor(criterion='friedman_ms...</td>\n",
       "      <td>1.145926</td>\n",
       "      <td>2.581168</td>\n",
       "      <td>1.606601</td>\n",
       "      <td>0.971670</td>\n",
       "      <td>1.547262</td>\n",
       "      <td>4.977193</td>\n",
       "      <td>2.230962</td>\n",
       "      <td>0.944411</td>\n",
       "    </tr>\n",
       "    <tr>\n",
       "      <th>10</th>\n",
       "      <td>gradien_boost_2</td>\n",
       "      <td>([DecisionTreeRegressor(criterion='friedman_ms...</td>\n",
       "      <td>0.185347</td>\n",
       "      <td>0.101116</td>\n",
       "      <td>0.317987</td>\n",
       "      <td>0.998890</td>\n",
       "      <td>1.151951</td>\n",
       "      <td>3.322830</td>\n",
       "      <td>1.822863</td>\n",
       "      <td>0.962888</td>\n",
       "    </tr>\n",
       "    <tr>\n",
       "      <th>11</th>\n",
       "      <td>gradien_boost_3</td>\n",
       "      <td>([DecisionTreeRegressor(criterion='friedman_ms...</td>\n",
       "      <td>0.184194</td>\n",
       "      <td>0.099931</td>\n",
       "      <td>0.316119</td>\n",
       "      <td>0.998903</td>\n",
       "      <td>1.152469</td>\n",
       "      <td>3.421811</td>\n",
       "      <td>1.849814</td>\n",
       "      <td>0.961783</td>\n",
       "    </tr>\n",
       "    <tr>\n",
       "      <th>12</th>\n",
       "      <td>XGBRegressor</td>\n",
       "      <td>XGBRegressor(base_score=0.5, booster='gbtree',...</td>\n",
       "      <td>0.863431</td>\n",
       "      <td>1.486009</td>\n",
       "      <td>1.219020</td>\n",
       "      <td>0.983690</td>\n",
       "      <td>1.377582</td>\n",
       "      <td>4.108905</td>\n",
       "      <td>2.027043</td>\n",
       "      <td>0.954109</td>\n",
       "    </tr>\n",
       "    <tr>\n",
       "      <th>13</th>\n",
       "      <td>voting</td>\n",
       "      <td>VotingRegressor(estimators=[('gb', GradientBoo...</td>\n",
       "      <td>1.255538</td>\n",
       "      <td>3.122606</td>\n",
       "      <td>1.767090</td>\n",
       "      <td>0.965728</td>\n",
       "      <td>1.580930</td>\n",
       "      <td>5.266567</td>\n",
       "      <td>2.294900</td>\n",
       "      <td>0.941179</td>\n",
       "    </tr>\n",
       "  </tbody>\n",
       "</table>\n",
       "</div>"
      ],
      "text/plain": [
       "                 model                                   model_definition  \\\n",
       "0           linear_reg  (IterativeImputer(), StandardScaler(), SelectK...   \n",
       "1          linear_reg2  (IterativeImputer(), StandardScaler(), PCA(n_c...   \n",
       "2            ridge_reg  (IterativeImputer(), StandardScaler(), Ridge(a...   \n",
       "3          Elastic_net             ElasticNet(alpha=0.0001, l1_ratio=0.4)   \n",
       "4        decision_tree  DecisionTreeRegressor(max_depth=4, max_feature...   \n",
       "5   random_forest_reg1  (DecisionTreeRegressor(max_depth=4, max_featur...   \n",
       "6   random_forest_reg2  (DecisionTreeRegressor(max_depth=10, max_featu...   \n",
       "7   random_forest_reg3  (DecisionTreeRegressor(max_depth=7, max_featur...   \n",
       "8   random_forest_reg4  (DecisionTreeRegressor(max_depth=8, max_featur...   \n",
       "9      gradien_boost_1  ([DecisionTreeRegressor(criterion='friedman_ms...   \n",
       "10     gradien_boost_2  ([DecisionTreeRegressor(criterion='friedman_ms...   \n",
       "11     gradien_boost_3  ([DecisionTreeRegressor(criterion='friedman_ms...   \n",
       "12        XGBRegressor  XGBRegressor(base_score=0.5, booster='gbtree',...   \n",
       "13              voting  VotingRegressor(estimators=[('gb', GradientBoo...   \n",
       "\n",
       "      MAE_tr     MSE_tr   RMSE_tr     R2_tr    MAE_tt     MSE_tt   RMSE_tt  \\\n",
       "0   2.435270  10.833562  3.291438  0.881097  2.421289  11.085553  3.329497   \n",
       "1   2.719409  12.856261  3.585563  0.858897  2.675249  12.880212  3.588901   \n",
       "2   2.436159  10.830899  3.291033  0.881126  2.419507  11.080546  3.328745   \n",
       "3   2.435187  10.829141  3.290766  0.881145  2.420088  11.087236  3.329750   \n",
       "4   3.676634  23.010453  4.796921  0.747450  3.907197  27.131061  5.208748   \n",
       "5   1.980638   7.391980  2.718820  0.918870  2.079883   8.354804  2.890468   \n",
       "6   0.755796   1.225133  1.106857  0.986554  1.348904   4.037979  2.009472   \n",
       "7   1.311604   3.320191  1.822139  0.963559  1.635666   5.450426  2.334615   \n",
       "8   0.986944   2.013021  1.418810  0.977906  1.439830   4.468103  2.113789   \n",
       "9   1.145926   2.581168  1.606601  0.971670  1.547262   4.977193  2.230962   \n",
       "10  0.185347   0.101116  0.317987  0.998890  1.151951   3.322830  1.822863   \n",
       "11  0.184194   0.099931  0.316119  0.998903  1.152469   3.421811  1.849814   \n",
       "12  0.863431   1.486009  1.219020  0.983690  1.377582   4.108905  2.027043   \n",
       "13  1.255538   3.122606  1.767090  0.965728  1.580930   5.266567  2.294900   \n",
       "\n",
       "       R2_tt  \n",
       "0   0.876189  \n",
       "1   0.856145  \n",
       "2   0.876245  \n",
       "3   0.876170  \n",
       "4   0.696982  \n",
       "5   0.906688  \n",
       "6   0.954901  \n",
       "7   0.939126  \n",
       "8   0.950097  \n",
       "9   0.944411  \n",
       "10  0.962888  \n",
       "11  0.961783  \n",
       "12  0.954109  \n",
       "13  0.941179  "
      ]
     },
     "execution_count": 121,
     "metadata": {},
     "output_type": "execute_result"
    }
   ],
   "source": [
    "# concat the two dataframe (test and train score of all metric)\n",
    "results = pd.concat([df_r1, df_r2], axis=1)\n",
    "results"
   ]
  },
  {
   "cell_type": "code",
   "execution_count": 122,
   "id": "df3261b1-8ca6-4d55-9fa3-629ac98d3d8c",
   "metadata": {},
   "outputs": [
    {
     "name": "stdout",
     "output_type": "stream",
     "text": [
      "A file already exists with this name.\n",
      "\n"
     ]
    },
    {
     "name": "stdin",
     "output_type": "stream",
     "text": [
      "Do you want to overwrite? (Y/N) n\n"
     ]
    },
    {
     "name": "stdout",
     "output_type": "stream",
     "text": [
      "\n",
      "Please re-run this cell with a new filename.\n"
     ]
    }
   ],
   "source": [
    "#data_Zero_NAN # Raw data -- replace 0 with NaN---- delete 10 row \n",
    "datapath = '../data'\n",
    "save_file(results, 'metrics_results_models.csv', datapath)"
   ]
  },
  {
   "cell_type": "code",
   "execution_count": null,
   "id": "43645a79-b1f7-455c-8fdc-3ba14fcc92dd",
   "metadata": {},
   "outputs": [],
   "source": []
  }
 ],
 "metadata": {
  "kernelspec": {
   "display_name": "Python 3 (ipykernel)",
   "language": "python",
   "name": "python3"
  },
  "language_info": {
   "codemirror_mode": {
    "name": "ipython",
    "version": 3
   },
   "file_extension": ".py",
   "mimetype": "text/x-python",
   "name": "python",
   "nbconvert_exporter": "python",
   "pygments_lexer": "ipython3",
   "version": "3.8.10"
  }
 },
 "nbformat": 4,
 "nbformat_minor": 5
}
